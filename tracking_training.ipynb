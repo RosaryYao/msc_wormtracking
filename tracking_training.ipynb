{
 "cells": [
  {
   "cell_type": "code",
   "execution_count": 1,
   "id": "4f8da6fd",
   "metadata": {},
   "outputs": [
    {
     "name": "stderr",
     "output_type": "stream",
     "text": [
      "/opt/conda/lib/python3.7/site-packages/tensorflow/python/keras/optimizer_v2/optimizer_v2.py:375: UserWarning: The `lr` argument is deprecated, use `learning_rate` instead.\n",
      "  \"The `lr` argument is deprecated, use `learning_rate` instead.\")\n"
     ]
    }
   ],
   "source": [
    "import os\n",
    "import datetime\n",
    "import errno\n",
    "\n",
    "import numpy as np\n",
    "\n",
    "import deepcell\n",
    "from deepcell.utils.tracking_utils import load_trks, trks_stats"
   ]
  },
  {
   "cell_type": "code",
   "execution_count": 2,
   "id": "2165c3af",
   "metadata": {},
   "outputs": [],
   "source": [
    "# The path to the data file is currently required for `train_model_()` functions\n",
    "\n",
    "# Change DATA_DIR if you are not using `deepcell.datasets`\n",
    "\n",
    "# DATA_FILE should be a trks file (contains 2 np arrays and a lineage dictionary)\n",
    "##DATA_FILE = \"../trks_141923_repeat.trks\"\n",
    "DATA_FILE = \"../train.npz\"\n",
    "TEST_FILE = '../test.npz'  ## Added\n",
    "\n",
    "DATA_DIR = '~'\n",
    "# confirm the data file is available\n",
    "assert os.path.isfile(DATA_FILE)\n",
    "#assert os.path.isfile(TEST_FILE)"
   ]
  },
  {
   "cell_type": "code",
   "execution_count": 8,
   "id": "c4afd151",
   "metadata": {},
   "outputs": [
    {
     "name": "stdout",
     "output_type": "stream",
     "text": [
      "Dataset Statistics: \n",
      "Image data shape:  (440, 100, 530, 530, 1)\n",
      "Number of lineages (should equal batch size):  440\n",
      "Total number of unique tracks (cells)      -  988\n",
      "Total number of divisions                  -  0\n",
      "Average cell density (cells/100 sq pixels) -  0.0004974271012006861\n",
      "Average number of frames per track         -  75\n",
      "Dataset Statistics: \n",
      "Image data shape:  (66, 100, 530, 530, 1)\n",
      "Number of lineages (should equal batch size):  66\n",
      "Total number of unique tracks (cells)      -  174\n",
      "Total number of divisions                  -  0\n",
      "Average cell density (cells/100 sq pixels) -  0.0004903071296805722\n",
      "Average number of frames per track         -  64\n"
     ]
    }
   ],
   "source": [
    "trks_stats('../train.trks')\n",
    "trks_stats('../test.trks')"
   ]
  },
  {
   "cell_type": "code",
   "execution_count": 3,
   "id": "0029a62e",
   "metadata": {},
   "outputs": [],
   "source": [
    "# Set up other required filepaths\n",
    "\n",
    "# If the data file is in a subdirectory, mirror it in MODEL_DIR and LOG_DIR\n",
    "PREFIX = 'test_0818'\n",
    "\n",
    "ROOT_DIR = '../train_0818'  # TODO: Change this! Usually a mounted volume\n",
    "MODEL_DIR = os.path.abspath(os.path.join(ROOT_DIR, 'models', PREFIX))\n",
    "LOG_DIR = os.path.abspath(os.path.join(ROOT_DIR, 'logs', PREFIX))\n",
    "\n",
    "# create directories if they do not exist\n",
    "for d in (MODEL_DIR, LOG_DIR):\n",
    "    try:\n",
    "        os.makedirs(d)\n",
    "    except OSError as exc:  # Guard against race condition\n",
    "        if exc.errno != errno.EEXIST:\n",
    "            raise"
   ]
  },
  {
   "cell_type": "code",
   "execution_count": 4,
   "id": "5cddc72b",
   "metadata": {},
   "outputs": [],
   "source": [
    "from tensorflow.keras.optimizers import SGD\n",
    "from deepcell.utils.train_utils import rate_scheduler\n",
    "\n",
    "n_epoch = 10    # Number of training epochs\n",
    "test_size = .1  # % of data saved as validation\n",
    "train_seed = 1   # Random seed for training/validation data split\n",
    "\n",
    "optimizer = SGD(lr=0.01, decay=1e-6, momentum=0.9, nesterov=True)\n",
    "lr_sched = rate_scheduler(lr=0.01, decay=0.99)\n",
    "\n",
    "# Tracking training settings\n",
    "features = {'appearance', 'distance', 'neighborhood', 'regionprop'}\n",
    "min_track_length = 9\n",
    "neighborhood_scale_size = 1  ## 30\n",
    "batch_size = 16  # changed  ## 128  \n",
    "crop_dim = 40  # changed  ## 32\n",
    "in_shape = (crop_dim, crop_dim, 1)\n",
    "\n",
    "model_name = 'tracking_model_seed{}_tl{}'.format(train_seed, min_track_length)"
   ]
  },
  {
   "cell_type": "code",
   "execution_count": null,
   "id": "4842f384",
   "metadata": {},
   "outputs": [],
   "source": []
  },
  {
   "cell_type": "code",
   "execution_count": 5,
   "id": "e5d712ba",
   "metadata": {},
   "outputs": [],
   "source": [
    "import deepcell.image_generators as generators\n",
    "from deepcell.utils.data_utils import get_data\n",
    "\n",
    "# Get the data\n",
    "#train_dict, test_dict = get_data(DATA_FILE, mode='siamese_daughters',\n",
    "#                                 seed=train_seed, test_size=test_size)\n",
    "train_dict, test_dict = get_data(DATA_FILE, mode='sample', seed=train_seed, test_size=test_size)"
   ]
  },
  {
   "cell_type": "code",
   "execution_count": 6,
   "id": "d972d099",
   "metadata": {},
   "outputs": [
    {
     "name": "stdout",
     "output_type": "stream",
     "text": [
      "(396, 100, 530, 530, 1)\n",
      "(44, 100, 530, 530, 1)\n"
     ]
    }
   ],
   "source": [
    "print(train_dict['X'].shape)\n",
    "print(test_dict['X'].shape)"
   ]
  },
  {
   "cell_type": "code",
   "execution_count": 7,
   "id": "229e874c",
   "metadata": {},
   "outputs": [],
   "source": [
    "# Build the generators and iterators\n",
    "datagen_train = generators.SiameseDataGenerator(\n",
    "    rotation_range=0, # randomly rotate images by 0 to rotation_range degrees\n",
    "    shear_range=0,      # randomly shear images in the range (radians , -shear_range to shear_range)\n",
    "    horizontal_flip=0,  # randomly flip images\n",
    "    vertical_flip=0)  # randomly flip images\n",
    " \n",
    "train_data = datagen_train.flow(\n",
    "    #test_dict,  # original\n",
    "    train_dict,\n",
    "    batch_size=batch_size,\n",
    "    seed=train_seed,\n",
    "    crop_dim=crop_dim,\n",
    "    neighborhood_scale_size=neighborhood_scale_size,\n",
    "    min_track_length=min_track_length,\n",
    "    features=features,\n",
    "    save_to_dir=ROOT_DIR)"
   ]
  },
  {
   "cell_type": "code",
   "execution_count": 8,
   "id": "164d0aea",
   "metadata": {},
   "outputs": [],
   "source": [
    "datagen_test = generators.SiameseDataGenerator(\n",
    "    rotation_range=0,  # randomly rotate images by 0 to rotation_range degrees\n",
    "    shear_range=0,     # randomly shear images in the range (radians , -shear_range to shear_range)\n",
    "    horizontal_flip=0, # randomly flip images\n",
    "    vertical_flip=0)   # randomly flip images\n",
    "\n",
    "test_data = datagen_test.flow(\n",
    "    test_dict,\n",
    "    batch_size=batch_size,\n",
    "    seed=train_seed,\n",
    "    crop_dim=crop_dim,\n",
    "    neighborhood_scale_size=neighborhood_scale_size,\n",
    "    min_track_length=min_track_length,\n",
    "    features=features)"
   ]
  },
  {
   "cell_type": "code",
   "execution_count": null,
   "id": "77c28fc2",
   "metadata": {},
   "outputs": [],
   "source": []
  },
  {
   "cell_type": "code",
   "execution_count": 9,
   "id": "8c583426",
   "metadata": {},
   "outputs": [],
   "source": [
    "from deepcell import model_zoo\n",
    "\n",
    "tracking_model = model_zoo.siamese_model(\n",
    "    input_shape=in_shape,\n",
    "    neighborhood_scale_size=neighborhood_scale_size,\n",
    "    features=features)"
   ]
  },
  {
   "cell_type": "code",
   "execution_count": 10,
   "id": "df737b48",
   "metadata": {},
   "outputs": [],
   "source": [
    "from deepcell import losses\n",
    "\n",
    "n_classes = tracking_model.layers[-1].output_shape[-1]\n",
    "\n",
    "def loss_function(y_true, y_pred):\n",
    "    return losses.weighted_categorical_crossentropy(y_true, y_pred,\n",
    "                                                    n_classes=n_classes,\n",
    "                                                    from_logits=False)"
   ]
  },
  {
   "cell_type": "code",
   "execution_count": null,
   "id": "c13fdf58",
   "metadata": {},
   "outputs": [],
   "source": []
  },
  {
   "cell_type": "code",
   "execution_count": 11,
   "id": "a9661b0a",
   "metadata": {},
   "outputs": [],
   "source": [
    "tracking_model.compile(loss=loss_function, optimizer=optimizer, metrics=['accuracy'])"
   ]
  },
  {
   "cell_type": "markdown",
   "id": "11947ee9",
   "metadata": {},
   "source": [
    "### Train the model\n",
    "\n",
    "Call `fit_generator` on the compiled model, along with a default set of callbacks."
   ]
  },
  {
   "cell_type": "code",
   "execution_count": 12,
   "id": "918b4fec",
   "metadata": {},
   "outputs": [
    {
     "name": "stdout",
     "output_type": "stream",
     "text": [
      "float32\n"
     ]
    }
   ],
   "source": [
    "steps_per_epoch= train_dict['y'].shape[0] // batch_size\n",
    "b = np.array(steps_per_epoch).astype(np.float32)\n",
    "print(b.dtype)"
   ]
  },
  {
   "cell_type": "code",
   "execution_count": 13,
   "id": "78f558cf",
   "metadata": {},
   "outputs": [
    {
     "name": "stdout",
     "output_type": "stream",
     "text": [
      "Training on 0 GPUs.\n"
     ]
    }
   ],
   "source": [
    "from deepcell.utils.train_utils import get_callbacks\n",
    "from deepcell.utils.train_utils import count_gpus\n",
    "from deepcell.utils import tracking_utils\n",
    "\n",
    "\n",
    "model_path = os.path.join(MODEL_DIR, '{}.h5'.format(model_name))\n",
    "loss_path = os.path.join(MODEL_DIR, '{}.npz'.format(model_name))\n",
    "\n",
    "num_gpus = count_gpus()\n",
    "\n",
    "print('Training on', num_gpus, 'GPUs.')\n",
    "\n",
    "train_callbacks = get_callbacks(\n",
    "    model_path,\n",
    "    lr_sched=lr_sched,\n",
    "    tensorboard_log_dir=LOG_DIR,\n",
    "    save_weights_only=num_gpus >= 2,\n",
    "    monitor='val_loss',\n",
    "    verbose=1)\n",
    "\n",
    "# rough estimate for steps_per_epoch\n",
    "#total_train_pairs = tracking_utils.count_pairs(train_dict['y'], same_probability=5.0)\n",
    "#total_test_pairs = tracking_utils.count_pairs(test_dict['y'], same_probability=5.0)\n",
    "steps_per_epoch= train_dict['y'].shape[0] // batch_size\n",
    "validation_steps = test_dict['y'].shape[0] // batch_size\n",
    "\n",
    "#print(steps_per_epoch.dtype)"
   ]
  },
  {
   "cell_type": "code",
   "execution_count": 14,
   "id": "646cf071",
   "metadata": {},
   "outputs": [
    {
     "name": "stderr",
     "output_type": "stream",
     "text": [
      "/opt/conda/lib/python3.7/site-packages/tensorflow/python/keras/engine/training.py:1935: UserWarning: `Model.fit_generator` is deprecated and will be removed in a future version. Please use `Model.fit`, which supports generators.\n",
      "  warnings.warn('`Model.fit_generator` is deprecated and '\n"
     ]
    },
    {
     "name": "stdout",
     "output_type": "stream",
     "text": [
      "Epoch 1/10\n",
      "24/24 [==============================] - 58s 2s/step - loss: 0.2356 - accuracy: 0.8802 - val_loss: 0.1942 - val_accuracy: 0.9688\n",
      "\n",
      "Epoch 00001: val_loss improved from inf to 0.19417, saving model to /home/jupyter/train_0818/models/test_0818/tracking_model_seed1_tl9.h5\n",
      "Epoch 2/10\n",
      "24/24 [==============================] - 47s 2s/step - loss: 0.0943 - accuracy: 0.9505 - val_loss: 0.2535 - val_accuracy: 0.8438\n",
      "\n",
      "Epoch 00002: val_loss did not improve from 0.19417\n",
      "Epoch 3/10\n",
      "24/24 [==============================] - 47s 2s/step - loss: 0.1026 - accuracy: 0.9505 - val_loss: 0.1292 - val_accuracy: 1.0000\n",
      "\n",
      "Epoch 00003: val_loss improved from 0.19417 to 0.12916, saving model to /home/jupyter/train_0818/models/test_0818/tracking_model_seed1_tl9.h5\n",
      "Epoch 4/10\n",
      "24/24 [==============================] - 45s 2s/step - loss: 0.1009 - accuracy: 0.9459 - val_loss: 0.0888 - val_accuracy: 0.9688\n",
      "\n",
      "Epoch 00004: val_loss improved from 0.12916 to 0.08879, saving model to /home/jupyter/train_0818/models/test_0818/tracking_model_seed1_tl9.h5\n",
      "Epoch 5/10\n",
      "24/24 [==============================] - 45s 2s/step - loss: 0.0791 - accuracy: 0.9649 - val_loss: 0.1068 - val_accuracy: 1.0000\n",
      "\n",
      "Epoch 00005: val_loss did not improve from 0.08879\n",
      "Epoch 6/10\n",
      "24/24 [==============================] - 45s 2s/step - loss: 0.0820 - accuracy: 0.9541 - val_loss: 0.0777 - val_accuracy: 1.0000\n",
      "\n",
      "Epoch 00006: val_loss improved from 0.08879 to 0.07774, saving model to /home/jupyter/train_0818/models/test_0818/tracking_model_seed1_tl9.h5\n",
      "Epoch 7/10\n",
      "24/24 [==============================] - 46s 2s/step - loss: 0.1159 - accuracy: 0.9323 - val_loss: 0.0224 - val_accuracy: 1.0000\n",
      "\n",
      "Epoch 00007: val_loss improved from 0.07774 to 0.02238, saving model to /home/jupyter/train_0818/models/test_0818/tracking_model_seed1_tl9.h5\n",
      "Epoch 8/10\n",
      "24/24 [==============================] - 46s 2s/step - loss: 0.0896 - accuracy: 0.9609 - val_loss: 0.0718 - val_accuracy: 0.9375\n",
      "\n",
      "Epoch 00008: val_loss did not improve from 0.02238\n",
      "Epoch 9/10\n",
      "24/24 [==============================] - 45s 2s/step - loss: 0.0715 - accuracy: 0.9514 - val_loss: 0.0529 - val_accuracy: 1.0000\n",
      "\n",
      "Epoch 00009: val_loss did not improve from 0.02238\n",
      "Epoch 10/10\n",
      "24/24 [==============================] - 45s 2s/step - loss: 0.0838 - accuracy: 0.9568 - val_loss: 0.2524 - val_accuracy: 0.8750\n",
      "\n",
      "Epoch 00010: val_loss did not improve from 0.02238\n"
     ]
    }
   ],
   "source": [
    "# fit the model on the batches generated by datagen.flow()\n",
    "loss_history = tracking_model.fit_generator(\n",
    "    train_data,\n",
    "    #steps_per_epoch=total_train_pairs // batch_size,\n",
    "    steps_per_epoch=np.array(steps_per_epoch).astype(np.float32),\n",
    "    validation_data=test_data,\n",
    "    #validation_steps=total_test_pairs // batch_size,\n",
    "    epochs=10,\n",
    "    validation_steps = np.array(validation_steps).astype(np.float32),\n",
    "    callbacks=train_callbacks)"
   ]
  },
  {
   "cell_type": "code",
   "execution_count": 15,
   "id": "41e12755",
   "metadata": {},
   "outputs": [
    {
     "data": {
      "text/plain": [
       "24"
      ]
     },
     "execution_count": 15,
     "metadata": {},
     "output_type": "execute_result"
    }
   ],
   "source": [
    "len(train_dict['y'])//batch_size"
   ]
  },
  {
   "cell_type": "markdown",
   "id": "39ba4197",
   "metadata": {},
   "source": [
    "## Evaluate Model Performance\n",
    "\n",
    "**Requires a Seed Value**"
   ]
  },
  {
   "cell_type": "code",
   "execution_count": 16,
   "id": "eae0596a",
   "metadata": {},
   "outputs": [],
   "source": [
    "# Rosary added\n",
    "## Redefine test_data\n",
    "\n",
    "train_dict, test_dict = get_data(TEST_FILE, mode='sample', seed=train_seed, test_size=0.95)"
   ]
  },
  {
   "cell_type": "code",
   "execution_count": 17,
   "id": "9a540f18",
   "metadata": {},
   "outputs": [],
   "source": [
    "test_data = datagen_test.flow(\n",
    "    test_dict,\n",
    "    batch_size=batch_size,\n",
    "    seed=train_seed,\n",
    "    crop_dim=crop_dim,\n",
    "    neighborhood_scale_size=neighborhood_scale_size,\n",
    "    min_track_length=min_track_length,\n",
    "    features=features)"
   ]
  },
  {
   "cell_type": "code",
   "execution_count": 18,
   "id": "b96fa3da",
   "metadata": {},
   "outputs": [
    {
     "data": {
      "text/plain": [
       "array([[7.0123322e-04, 9.9929881e-01, 4.3245038e-10],\n",
       "       [6.8697375e-03, 9.9312967e-01, 6.2089629e-07],\n",
       "       [1.1312308e-03, 9.9886876e-01, 8.8368968e-10],\n",
       "       [1.3791557e-01, 8.6208451e-01, 2.3772588e-09],\n",
       "       [9.4766560e-04, 9.9905235e-01, 5.4560540e-11],\n",
       "       [1.0024974e-02, 9.8997223e-01, 2.8130285e-06],\n",
       "       [1.7404053e-03, 9.9825960e-01, 1.4009937e-09],\n",
       "       [6.0133508e-04, 9.9939871e-01, 8.2486823e-11],\n",
       "       [1.3870829e-02, 9.8612785e-01, 1.2442246e-06],\n",
       "       [3.1541465e-04, 9.9968457e-01, 6.3187199e-11],\n",
       "       [8.1088324e-04, 9.9918908e-01, 8.7988172e-11],\n",
       "       [6.0824672e-04, 9.9939179e-01, 2.3000268e-10],\n",
       "       [2.9492928e-04, 9.9970502e-01, 1.1275653e-11],\n",
       "       [7.6412706e-04, 9.9923587e-01, 7.6230036e-11],\n",
       "       [3.1828679e-04, 9.9968171e-01, 3.9050334e-12],\n",
       "       [3.7461971e-03, 9.9625349e-01, 2.1083231e-07]], dtype=float32)"
      ]
     },
     "execution_count": 18,
     "metadata": {},
     "output_type": "execute_result"
    }
   ],
   "source": [
    "lst, y_true = next(test_data)\n",
    "tracking_model.predict(lst)"
   ]
  },
  {
   "cell_type": "code",
   "execution_count": 19,
   "id": "543a8bad",
   "metadata": {},
   "outputs": [
    {
     "name": "stdout",
     "output_type": "stream",
     "text": [
      ".........\n",
      "[[3844 1420]\n",
      " [   0 9095]]\n"
     ]
    }
   ],
   "source": [
    "from sklearn.metrics import confusion_matrix\n",
    "\n",
    "Y = []\n",
    "Y_pred = []\n",
    "\n",
    "for i in range(1,1000):\n",
    "    if i % 100 == 0:\n",
    "        print(\".\", end=\"\")\n",
    "    lst, y_true = next(test_data)\n",
    "    y_true = np.argmax(y_true['classification'], axis=-1)\n",
    "    y_pred = np.argmax(tracking_model.predict(lst), axis=-1)\n",
    "    Y.append(y_true)\n",
    "    Y_pred.append(y_pred)\n",
    "    \n",
    "Y = np.concatenate(Y, axis=0)\n",
    "Y_pred = np.concatenate(Y_pred, axis=0)\n",
    "\n",
    "print(\"\")\n",
    "cm = confusion_matrix(Y, Y_pred)\n",
    "print(cm)"
   ]
  },
  {
   "cell_type": "code",
   "execution_count": 20,
   "id": "80ea13e5",
   "metadata": {},
   "outputs": [
    {
     "name": "stdout",
     "output_type": "stream",
     "text": [
      "Accuracy across all three classes:  0.9011073194512152\n",
      "Accuracy for each individual class [Different, Same, Daughter]:  [0.73024316 1.        ]\n"
     ]
    }
   ],
   "source": [
    "test_acc = sum(np.array(Y) == np.array(Y_pred)) / len(Y)\n",
    "print('Accuracy across all three classes: ', test_acc)\n",
    "\n",
    "# Normalize the diagonal entries of the confusion matrix\n",
    "cm = cm.astype('float')/cm.sum(axis=1)[:, np.newaxis]\n",
    "# Diagonal entries are the accuracies of each class\n",
    "print('Accuracy for each individual class [Different, Same, Daughter]: ', cm.diagonal())"
   ]
  }
 ],
 "metadata": {
  "environment": {
   "name": "common-cu110.m76",
   "type": "gcloud",
   "uri": "gcr.io/deeplearning-platform-release/base-cu110:m76"
  },
  "kernelspec": {
   "display_name": "Python [conda env:root] *",
   "language": "python",
   "name": "conda-root-py"
  },
  "language_info": {
   "codemirror_mode": {
    "name": "ipython",
    "version": 3
   },
   "file_extension": ".py",
   "mimetype": "text/x-python",
   "name": "python",
   "nbconvert_exporter": "python",
   "pygments_lexer": "ipython3",
   "version": "3.7.10"
  }
 },
 "nbformat": 4,
 "nbformat_minor": 5
}

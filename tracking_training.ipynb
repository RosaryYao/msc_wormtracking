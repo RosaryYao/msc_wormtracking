{
 "cells": [
  {
   "cell_type": "code",
   "execution_count": 1,
   "id": "19c7af1a",
   "metadata": {},
   "outputs": [],
   "source": [
    "import os\n",
    "import datetime\n",
    "import errno\n",
    "\n",
    "import numpy as np\n",
    "\n",
    "import deepcell\n",
    "from deepcell.utils.tracking_utils import load_trks, trks_stats"
   ]
  },
  {
   "cell_type": "code",
   "execution_count": 2,
   "id": "c5944738",
   "metadata": {},
   "outputs": [],
   "source": [
    "# The path to the data file is currently required for `train_model_()` functions\n",
    "\n",
    "# Change DATA_DIR if you are not using `deepcell.datasets`\n",
    "\n",
    "# DATA_FILE should be a trks file (contains 2 np arrays and a lineage dictionary)\n",
    "##DATA_FILE = \"../trks_141923_repeat.trks\"\n",
    "DATA_FILE = \"../train.npz\"\n",
    "TEST_FILE = '../test.npz'  ## Added\n",
    "\n",
    "DATA_DIR = '~'\n",
    "# confirm the data file is available\n",
    "assert os.path.isfile(DATA_FILE)\n",
    "#assert os.path.isfile(TEST_FILE)"
   ]
  },
  {
   "cell_type": "code",
   "execution_count": 3,
   "id": "feb4d3ae",
   "metadata": {},
   "outputs": [],
   "source": [
    "#trks_stats('../train.trks')\n",
    "#trks_stats('../test.trks')"
   ]
  },
  {
   "cell_type": "code",
   "execution_count": 4,
   "id": "d1617261",
   "metadata": {},
   "outputs": [],
   "source": [
    "# Set up other required filepaths\n",
    "\n",
    "# If the data file is in a subdirectory, mirror it in MODEL_DIR and LOG_DIR\n",
    "PREFIX = 'attempt_1'\n",
    "\n",
    "ROOT_DIR = '../track_train'  # TODO: Change this! Usually a mounted volume\n",
    "MODEL_DIR = os.path.abspath(os.path.join(ROOT_DIR, 'models', PREFIX))\n",
    "LOG_DIR = os.path.abspath(os.path.join(ROOT_DIR, 'logs', PREFIX))\n",
    "\n",
    "# create directories if they do not exist\n",
    "for d in (MODEL_DIR, LOG_DIR):\n",
    "    try:\n",
    "        os.makedirs(d)\n",
    "    except OSError as exc:  # Guard against race condition\n",
    "        if exc.errno != errno.EEXIST:\n",
    "            raise"
   ]
  },
  {
   "cell_type": "code",
   "execution_count": null,
   "id": "5085d352",
   "metadata": {},
   "outputs": [],
   "source": []
  },
  {
   "cell_type": "code",
   "execution_count": 15,
   "id": "3f5eb225",
   "metadata": {},
   "outputs": [],
   "source": [
    "import deepcell.image_generators as generators\n",
    "from deepcell.utils.data_utils import get_data\n",
    "\n",
    "# Get the data\n",
    "#train_dict, test_dict = get_data(DATA_FILE, mode='siamese_daughters',\n",
    "#                                 seed=train_seed, test_size=test_size)\n",
    "train_dict, test_dict = get_data(DATA_FILE, mode='sample', seed=train_seed, test_size=test_size)"
   ]
  },
  {
   "cell_type": "code",
   "execution_count": 16,
   "id": "6c619796",
   "metadata": {},
   "outputs": [
    {
     "name": "stdout",
     "output_type": "stream",
     "text": [
      "(396, 100, 530, 530, 1)\n",
      "(44, 100, 530, 530, 1)\n"
     ]
    }
   ],
   "source": [
    "print(train_dict['X'].shape)\n",
    "print(test_dict['X'].shape)"
   ]
  },
  {
   "cell_type": "code",
   "execution_count": 17,
   "id": "d91459d0",
   "metadata": {},
   "outputs": [
    {
     "data": {
      "text/plain": [
       "dtype('int32')"
      ]
     },
     "execution_count": 17,
     "metadata": {},
     "output_type": "execute_result"
    }
   ],
   "source": [
    "train_dict['X'].dtype"
   ]
  },
  {
   "cell_type": "code",
   "execution_count": 18,
   "id": "70b4c963",
   "metadata": {},
   "outputs": [],
   "source": [
    "from tensorflow.keras.optimizers import SGD\n",
    "from deepcell.utils.train_utils import rate_scheduler\n",
    "\n",
    "n_epoch = 10    # Number of training epochs\n",
    "test_size = .1  # % of data saved as validation\n",
    "train_seed = 1   # Random seed for training/validation data split\n",
    "\n",
    "optimizer = SGD(lr=0.01, decay=1e-6, momentum=0.9, nesterov=True)\n",
    "lr_sched = rate_scheduler(lr=0.01, decay=0.99)\n",
    "\n",
    "# Tracking training settings\n",
    "features = {'appearance', 'distance', 'neighborhood', 'regionprop'}\n",
    "min_track_length = 30  ## 9\n",
    "neighborhood_scale_size = 10  ## 30\n",
    "batch_size = 16  # changed  ## 128  \n",
    "crop_dim = 40  # changed  ## 32\n",
    "in_shape = (crop_dim, crop_dim, 1)\n",
    "\n",
    "model_name = 'tracking_model_seed{}_tl{}'.format(train_seed, min_track_length)"
   ]
  },
  {
   "cell_type": "code",
   "execution_count": 19,
   "id": "1415af46",
   "metadata": {},
   "outputs": [],
   "source": [
    "# Build the generators and iterators\n",
    "datagen_train = generators.SiameseDataGenerator(\n",
    "    rotation_range=0, # randomly rotate images by 0 to rotation_range degrees\n",
    "    shear_range=0,      # randomly shear images in the range (radians , -shear_range to shear_range)\n",
    "    horizontal_flip=0,  # randomly flip images\n",
    "    vertical_flip=0)  # randomly flip images"
   ]
  },
  {
   "cell_type": "code",
   "execution_count": null,
   "id": "09ba7972",
   "metadata": {},
   "outputs": [],
   "source": [
    "train_data = datagen_train.flow(\n",
    "    #test_dict,  # original\n",
    "    train_dict,\n",
    "    batch_size=batch_size,\n",
    "    seed=train_seed,\n",
    "    crop_dim=crop_dim,\n",
    "    neighborhood_scale_size=neighborhood_scale_size,\n",
    "    min_track_length=min_track_length,\n",
    "    features=features)"
   ]
  },
  {
   "cell_type": "code",
   "execution_count": null,
   "id": "7f5bd52f",
   "metadata": {},
   "outputs": [],
   "source": [
    "datagen_test = generators.SiameseDataGenerator(\n",
    "    rotation_range=0,  # randomly rotate images by 0 to rotation_range degrees\n",
    "    shear_range=0,     # randomly shear images in the range (radians , -shear_range to shear_range)\n",
    "    horizontal_flip=0, # randomly flip images\n",
    "    vertical_flip=0)   # randomly flip images\n",
    "\n",
    "test_data = datagen_test.flow(\n",
    "    test_dict,\n",
    "    batch_size=batch_size,\n",
    "    seed=train_seed,\n",
    "    crop_dim=crop_dim,\n",
    "    neighborhood_scale_size=neighborhood_scale_size,\n",
    "    min_track_length=min_track_length,\n",
    "    features=features)"
   ]
  },
  {
   "cell_type": "code",
   "execution_count": null,
   "id": "caa7b7a5",
   "metadata": {},
   "outputs": [],
   "source": []
  },
  {
   "cell_type": "code",
   "execution_count": null,
   "id": "3aa90393",
   "metadata": {},
   "outputs": [],
   "source": [
    "from deepcell import model_zoo\n",
    "\n",
    "tracking_model = model_zoo.siamese_model(\n",
    "    input_shape=in_shape,\n",
    "    neighborhood_scale_size=neighborhood_scale_size,\n",
    "    features=features)"
   ]
  },
  {
   "cell_type": "code",
   "execution_count": null,
   "id": "9773a82f",
   "metadata": {},
   "outputs": [],
   "source": [
    "from deepcell import losses\n",
    "\n",
    "n_classes = tracking_model.layers[-1].output_shape[-1]\n",
    "\n",
    "def loss_function(y_true, y_pred):\n",
    "    return losses.weighted_categorical_crossentropy(y_true, y_pred,\n",
    "                                                    n_classes=n_classes,\n",
    "                                                    from_logits=False)"
   ]
  },
  {
   "cell_type": "code",
   "execution_count": null,
   "id": "40e4aaba",
   "metadata": {},
   "outputs": [],
   "source": []
  },
  {
   "cell_type": "code",
   "execution_count": null,
   "id": "8971b1f7",
   "metadata": {},
   "outputs": [],
   "source": [
    "tracking_model.compile(loss=loss_function, optimizer=optimizer, metrics=['accuracy'])"
   ]
  },
  {
   "cell_type": "markdown",
   "id": "6af4bfc5",
   "metadata": {},
   "source": [
    "### Train the model\n",
    "\n",
    "Call `fit_generator` on the compiled model, along with a default set of callbacks."
   ]
  },
  {
   "cell_type": "code",
   "execution_count": null,
   "id": "8f2e79b9",
   "metadata": {},
   "outputs": [],
   "source": [
    "steps_per_epoch= train_dict['y'].shape[0] // batch_size\n",
    "b = np.array(steps_per_epoch).astype(np.float32)\n",
    "print(b.dtype)"
   ]
  },
  {
   "cell_type": "code",
   "execution_count": null,
   "id": "fbc59351",
   "metadata": {},
   "outputs": [],
   "source": [
    "from deepcell.utils.train_utils import get_callbacks\n",
    "from deepcell.utils.train_utils import count_gpus\n",
    "from deepcell.utils import tracking_utils\n",
    "\n",
    "\n",
    "model_path = os.path.join(MODEL_DIR, '{}.h5'.format(model_name))\n",
    "loss_path = os.path.join(MODEL_DIR, '{}.npz'.format(model_name))\n",
    "\n",
    "num_gpus = count_gpus()\n",
    "\n",
    "print('Training on', num_gpus, 'GPUs.')\n",
    "\n",
    "train_callbacks = get_callbacks(\n",
    "    model_path,\n",
    "    lr_sched=lr_sched,\n",
    "    tensorboard_log_dir=LOG_DIR,\n",
    "    save_weights_only=num_gpus >= 2,\n",
    "    monitor='val_loss',\n",
    "    verbose=1)\n",
    "\n",
    "# rough estimate for steps_per_epoch\n",
    "#total_train_pairs = tracking_utils.count_pairs(train_dict['y'], same_probability=5.0)\n",
    "#total_test_pairs = tracking_utils.count_pairs(test_dict['y'], same_probability=5.0)\n",
    "steps_per_epoch= train_dict['y'].shape[0] // batch_size\n",
    "validation_steps = test_dict['y'].shape[0] // batch_size\n",
    "\n",
    "#print(steps_per_epoch.dtype)"
   ]
  },
  {
   "cell_type": "code",
   "execution_count": null,
   "id": "920055b6",
   "metadata": {},
   "outputs": [],
   "source": [
    "# fit the model on the batches generated by datagen.flow()\n",
    "loss_history = tracking_model.fit_generator(\n",
    "    train_data,\n",
    "    #steps_per_epoch=total_train_pairs // batch_size,\n",
    "    steps_per_epoch=np.array(steps_per_epoch).astype(np.float32),\n",
    "    validation_data=test_data,\n",
    "    #validation_steps=total_test_pairs // batch_size,\n",
    "    epochs=10,\n",
    "    validation_steps = np.array(validation_steps).astype(np.float32),\n",
    "    callbacks=train_callbacks)"
   ]
  },
  {
   "cell_type": "code",
   "execution_count": null,
   "id": "b599c799",
   "metadata": {},
   "outputs": [],
   "source": [
    "len(train_dict['y'])//batch_size"
   ]
  },
  {
   "cell_type": "markdown",
   "id": "932ec4cf",
   "metadata": {},
   "source": [
    "## Evaluate Model Performance\n",
    "\n",
    "**Requires a Seed Value**"
   ]
  },
  {
   "cell_type": "code",
   "execution_count": null,
   "id": "5cd6f87f",
   "metadata": {},
   "outputs": [],
   "source": [
    "# Rosary added\n",
    "## Redefine test_data\n",
    "\n",
    "train_dict, test_dict = get_data(TEST_FILE, mode='sample', seed=train_seed, test_size=0.95)"
   ]
  },
  {
   "cell_type": "code",
   "execution_count": null,
   "id": "c167e9fd",
   "metadata": {},
   "outputs": [],
   "source": [
    "test_data = datagen_test.flow(\n",
    "    test_dict,\n",
    "    batch_size=batch_size,\n",
    "    seed=train_seed,\n",
    "    crop_dim=crop_dim,\n",
    "    neighborhood_scale_size=neighborhood_scale_size,\n",
    "    min_track_length=min_track_length,\n",
    "    features=features)"
   ]
  },
  {
   "cell_type": "code",
   "execution_count": null,
   "id": "b140dfbf",
   "metadata": {},
   "outputs": [],
   "source": [
    "lst, y_true = next(test_data)\n",
    "tracking_model.predict(lst)"
   ]
  },
  {
   "cell_type": "code",
   "execution_count": null,
   "id": "9d895a83",
   "metadata": {},
   "outputs": [],
   "source": [
    "from sklearn.metrics import confusion_matrix\n",
    "\n",
    "Y = []\n",
    "Y_pred = []\n",
    "\n",
    "for i in range(1,1000):\n",
    "    if i % 100 == 0:\n",
    "        print(\".\", end=\"\")\n",
    "    lst, y_true = next(test_data)\n",
    "    y_true = np.argmax(y_true['classification'], axis=-1)\n",
    "    y_pred = np.argmax(tracking_model.predict(lst), axis=-1)\n",
    "    Y.append(y_true)\n",
    "    Y_pred.append(y_pred)\n",
    "    \n",
    "Y = np.concatenate(Y, axis=0)\n",
    "Y_pred = np.concatenate(Y_pred, axis=0)\n",
    "\n",
    "print(\"\")\n",
    "cm = confusion_matrix(Y, Y_pred)\n",
    "print(cm)"
   ]
  },
  {
   "cell_type": "code",
   "execution_count": null,
   "id": "494fdad9",
   "metadata": {},
   "outputs": [],
   "source": [
    "test_acc = sum(np.array(Y) == np.array(Y_pred)) / len(Y)\n",
    "print('Accuracy across all three classes: ', test_acc)\n",
    "\n",
    "# Normalize the diagonal entries of the confusion matrix\n",
    "cm = cm.astype('float')/cm.sum(axis=1)[:, np.newaxis]\n",
    "# Diagonal entries are the accuracies of each class\n",
    "print('Accuracy for each individual class [Different, Same, Daughter]: ', cm.diagonal())"
   ]
  }
 ],
 "metadata": {
  "environment": {
   "name": "tf2-gpu.2-3.m78",
   "type": "gcloud",
   "uri": "gcr.io/deeplearning-platform-release/tf2-gpu.2-3:m78"
  },
  "kernelspec": {
   "display_name": "Python [conda env:root] *",
   "language": "python",
   "name": "conda-root-py"
  },
  "language_info": {
   "codemirror_mode": {
    "name": "ipython",
    "version": 3
   },
   "file_extension": ".py",
   "mimetype": "text/x-python",
   "name": "python",
   "nbconvert_exporter": "python",
   "pygments_lexer": "ipython3",
   "version": "3.7.10"
  }
 },
 "nbformat": 4,
 "nbformat_minor": 5
}

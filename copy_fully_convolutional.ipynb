{
 "cells": [
  {
   "cell_type": "markdown",
   "metadata": {},
   "source": [
    "# Fully Convolutional Interior/Edge Segmentation for 2D Data\n",
    "\n",
    "---\n",
    "\n",
    "Classifies each pixel as either Cell Edge, Cell Interior, or Background.\n",
    "\n",
    "There are 2 different Cell Edge classes (Cell-Cell Boundary and Cell-Background Boundary)"
   ]
  },
  {
   "cell_type": "code",
   "execution_count": 1,
   "metadata": {},
   "outputs": [],
   "source": [
    "import os\n",
    "import errno\n",
    "\n",
    "import numpy as np\n",
    "\n",
    "import deepcell"
   ]
  },
  {
   "cell_type": "code",
   "execution_count": 2,
   "metadata": {},
   "outputs": [],
   "source": [
    "from deepcell.utils.data_utils import get_data\n",
    "from tensorflow.keras.utils import get_file\n",
    "\n",
    "def load_data(path, mode, test_size=0.2, seed=0):\n",
    "    \"\"\"Loads dataset.\n",
    "    Args:\n",
    "         test_size (float): fraction of data to reserve as test data\n",
    "        seed (int): the seed for randomly shuffling the dataset\n",
    "    Returns:\n",
    "           tuple: (x_train, y_train), (x_test, y_test).\n",
    "    \"\"\"\n",
    "    #basepath = os.path.expanduser(os.path.join('~', '.keras', 'datasets'))\n",
    "    #prefix = path.split(os.path.sep)[:-1]\n",
    "    #data_dir = os.path.join(basepath, *prefix) if prefix else basepath\n",
    "    #if not os.path.exists(data_dir):\n",
    "    #    os.makedirs(data_dir)\n",
    "    #elif not os.path.isdir(data_dir):\n",
    "    #    raise IOError('{} exists but is not a directory'.format(data_dir))\n",
    "\n",
    "    train_dict, test_dict = get_data(\n",
    "        path,\n",
    "        mode=mode,\n",
    "        test_size=test_size,\n",
    "        seed=seed)\n",
    "    x_train, y_train = train_dict['X'], train_dict['y']\n",
    "    x_test, y_test = test_dict['X'], test_dict['y']\n",
    "    return (x_train, y_train), (x_test, y_test)"
   ]
  },
  {
   "cell_type": "markdown",
   "metadata": {},
   "source": [
    "## Load the data\n",
    "\n",
    "### Download the data from `deepcell.datasets`\n",
    "\n",
    "`deepcell.datasets` provides access to a set of annotated live-cell imaging datasets which can be used for training cell segmentation and tracking models.\n",
    "All dataset objects share the `load_data()` method, which allows the user to specify the name of the file (`path`), the fraction of data reserved for testing (`test_size`) and a `seed` which is used to generate the random train-test split.\n",
    "Metadata associated with the dataset can be accessed through the `metadata` attribute."
   ]
  },
  {
   "cell_type": "code",
   "execution_count": 3,
   "metadata": {},
   "outputs": [],
   "source": [
    "# Download the data (saves to ~/.keras/datasets)\n",
    "#filename = 'HeLa_S3.npz'\n",
    "#test_size = 0.2 # % of data saved as test\n",
    "#seed = 0 # seed for random train-test split\n",
    "\n",
    "#(X_train, y_train), (X_test, y_test) = deepcell.datasets.hela_s3.load_data(filename, test_size=test_size, seed=seed)\n",
    "\n",
    "#print('X.shape: {}\\ny.shape: {}'.format(X_train.shape, y_train.shape))"
   ]
  },
  {
   "cell_type": "code",
   "execution_count": 4,
   "metadata": {},
   "outputs": [],
   "source": [
    "\n",
    "#file = np.load('../train.npz')\n",
    "#file['X'].shape\n",
    "#X = np.vstack(file['X'])\n",
    "#X = X[0:-1:250]\n",
    "#print(X.shape)\n",
    "\n",
    "#y = np.vstack(file['y'])[0:-1:250]\n",
    "#print(y.shape)\n",
    "\n",
    "#np.savez(\"../seg_train.npz\", X=X, y=y)"
   ]
  },
  {
   "cell_type": "code",
   "execution_count": null,
   "metadata": {},
   "outputs": [],
   "source": []
  },
  {
   "cell_type": "code",
   "execution_count": 5,
   "metadata": {},
   "outputs": [
    {
     "name": "stdout",
     "output_type": "stream",
     "text": [
      "X.shape: (140, 530, 530, 1)\n",
      "y.shape: (140, 530, 530, 1)\n"
     ]
    }
   ],
   "source": [
    "#data = np.load('../seg_train.npz')\n",
    "\n",
    "(X_train, y_train), (X_test, y_test) = load_data('../seg_train.npz', mode='sample')\n",
    "print('X.shape: {}\\ny.shape: {}'.format(X_train.shape, y_train.shape))"
   ]
  },
  {
   "cell_type": "code",
   "execution_count": null,
   "metadata": {},
   "outputs": [],
   "source": []
  },
  {
   "cell_type": "code",
   "execution_count": 6,
   "metadata": {},
   "outputs": [
    {
     "data": {
      "text/plain": [
       "dtype('int32')"
      ]
     },
     "execution_count": 6,
     "metadata": {},
     "output_type": "execute_result"
    }
   ],
   "source": [
    "X_train.dtype"
   ]
  },
  {
   "cell_type": "markdown",
   "metadata": {},
   "source": [
    "### Set up filepath constants"
   ]
  },
  {
   "cell_type": "code",
   "execution_count": 7,
   "metadata": {},
   "outputs": [],
   "source": [
    "# Set up other required filepaths\n",
    "\n",
    "PREFIX = 'test'\n",
    "\n",
    "ROOT_DIR = '../seg_training/attempt_3'  \n",
    "MODEL_DIR = os.path.abspath(os.path.join(ROOT_DIR, 'models', PREFIX))\n",
    "LOG_DIR = os.path.abspath(os.path.join(ROOT_DIR, 'logs', PREFIX))\n",
    "\n",
    "# create directories if they do not exist\n",
    "for d in (MODEL_DIR, LOG_DIR):\n",
    "    try:\n",
    "        os.makedirs(d)\n",
    "    except OSError as exc:  # Guard against race condition\n",
    "        if exc.errno != errno.EEXIST:\n",
    "            raise"
   ]
  },
  {
   "cell_type": "markdown",
   "metadata": {},
   "source": [
    "## Create the Foreground/Background FeatureNet Model\n",
    "\n",
    "Here we instantiate two `FeatureNet` models from `deepcell.model_zoo` for foreground/background separation as well as the interior/edge segmentation."
   ]
  },
  {
   "cell_type": "code",
   "execution_count": 8,
   "metadata": {},
   "outputs": [],
   "source": [
    "norm_method = 'std'  # data normalization\n",
    "receptive_field = 61  # should be adjusted for the scale of the data  ## 61\n",
    "n_skips = 1  # number of skip-connections (only for FC training)"
   ]
  },
  {
   "cell_type": "code",
   "execution_count": 9,
   "metadata": {},
   "outputs": [],
   "source": [
    "# pixelwise transform settings\n",
    "dilation_radius = 1  # change dilation radius for edge dilation\n",
    "separate_edge_classes = True  # break edges into cell-background edge, cell-cell edge\n",
    "pixelwise_kwargs = {\n",
    "    'dilation_radius': dilation_radius,\n",
    "    'separate_edge_classes': separate_edge_classes,\n",
    "}"
   ]
  },
  {
   "cell_type": "code",
   "execution_count": 10,
   "metadata": {},
   "outputs": [
    {
     "data": {
      "text/plain": [
       "(530, 530, 1)"
      ]
     },
     "execution_count": 10,
     "metadata": {},
     "output_type": "execute_result"
    }
   ],
   "source": [
    "X_train.shape[1:]"
   ]
  },
  {
   "cell_type": "code",
   "execution_count": 11,
   "metadata": {},
   "outputs": [],
   "source": [
    "X_train = X_train.astype(np.float32)\n",
    "X_test = X_test.astype(np.float32)"
   ]
  },
  {
   "cell_type": "code",
   "execution_count": 12,
   "metadata": {},
   "outputs": [
    {
     "name": "stderr",
     "output_type": "stream",
     "text": [
      "2021-08-27 00:17:16.628727: W tensorflow/python/util/util.cc:348] Sets are not currently considered sequences, but this may change in the future, so consider avoiding using them.\n",
      "2021-08-27 00:17:16.633762: I tensorflow/core/platform/cpu_feature_guard.cc:142] This TensorFlow binary is optimized with oneAPI Deep Neural Network Library (oneDNN)to use the following CPU instructions in performance-critical operations:  AVX512F\n",
      "To enable them in other operations, rebuild TensorFlow with the appropriate compiler flags.\n",
      "2021-08-27 00:17:16.661328: I tensorflow/core/platform/profile_utils/cpu_utils.cc:104] CPU Frequency: 2000170000 Hz\n",
      "2021-08-27 00:17:16.666578: I tensorflow/compiler/xla/service/service.cc:168] XLA service 0x55c696d5ae10 initialized for platform Host (this does not guarantee that XLA will be used). Devices:\n",
      "2021-08-27 00:17:16.666603: I tensorflow/compiler/xla/service/service.cc:176]   StreamExecutor device (0): Host, Default Version\n",
      "2021-08-27 00:17:16.668855: I tensorflow/core/common_runtime/process_util.cc:146] Creating new thread pool with default inter op setting: 2. Tune using inter_op_parallelism_threads for best performance.\n"
     ]
    }
   ],
   "source": [
    "from deepcell import model_zoo\n",
    "\n",
    "#fgbg_model = model_zoo.bn_feature_net_skip_2D(\n",
    "#    n_features=2,  # segmentation mask (is_cell, is_not_cell)\n",
    "#    receptive_field=receptive_field,\n",
    "#    norm_method=norm_method,\n",
    "#    n_skips=n_skips,\n",
    "#    n_conv_filters=32,\n",
    "#    n_dense_filters=128,\n",
    "#    input_shape=tuple(X_train.shape[1:]),\n",
    "#    last_only=False)\n",
    "\n",
    "from deepcell import model_zoo\n",
    "\n",
    "input_shape=(530, 530, 1)\n",
    "\n",
    "fgbg_model = model_zoo.bn_feature_net_skip_2D(\n",
    "    n_features=2,  # segmentation mask (is_cell, is_not_cell)\n",
    "    receptive_field=receptive_field,\n",
    "    norm_method=norm_method,\n",
    "    n_skips=n_skips,\n",
    "    n_conv_filters=32,\n",
    "    n_dense_filters=128,\n",
    "    input_shape=input_shape,\n",
    "    last_only=False)"
   ]
  },
  {
   "cell_type": "markdown",
   "metadata": {},
   "source": [
    "## Prepare for training\n",
    "\n",
    "### Set up training parameters.\n",
    "\n",
    "There are a number of tunable hyper parameters necessary for training deep learning models:\n",
    "\n",
    "**model_name**: Incorporated into any files generated during the training process.\n",
    "\n",
    "**n_epoch**: The number of complete passes through the training dataset.\n",
    "\n",
    "**lr**: The learning rate determines the speed at which the model learns. Specifically it controls the relative size of the updates to model values after each batch.\n",
    "\n",
    "**optimizer**: The TensorFlow module [tf.keras.optimizers](https://www.tensorflow.org/api_docs/python/tf/keras/optimizers) offers optimizers with a variety of algorithm implementations. DeepCell typically uses the Adam or the SGD optimizers.\n",
    "\n",
    "**lr_sched**: A learning rate scheduler allows the learning rate to adapt over the course of model training. Typically a larger learning rate is preferred during the start of the training process, while a small learning rate allows for fine-tuning during the end of training.\n",
    "\n",
    "**batch_size**: The batch size determines the number of samples that are processed before the model is updated. The value must be greater than one and less than or equal to the number of samples in the training dataset."
   ]
  },
  {
   "cell_type": "code",
   "execution_count": 13,
   "metadata": {},
   "outputs": [],
   "source": [
    "from tensorflow.keras.optimizers import SGD, Adam\n",
    "from deepcell.utils.train_utils import rate_scheduler\n",
    "\n",
    "fgbg_model_name = 'conv_fgbg_model'\n",
    "pixelwise_model_name = 'conv_edgeseg_model'\n",
    "\n",
    "n_epoch = 3  # Number of training epochs\n",
    "\n",
    "lr = 0.05\n",
    "fgbg_optimizer = SGD(lr=lr, decay=1e-6, momentum=0.9, nesterov=True)\n",
    "pixelwise_optimizer = SGD(lr=lr, decay=1e-6, momentum=0.9, nesterov=True)\n",
    "adam_optimizer = Adam(lr=lr)\n",
    "lr_sched = rate_scheduler(lr=lr, decay=0.99)\n",
    "\n",
    "batch_size = 32  # fully convolutional training uses 1 image per batch"
   ]
  },
  {
   "cell_type": "markdown",
   "metadata": {},
   "source": [
    "### Create the DataGenerators\n",
    "\n",
    "The `ImageFullyConvDataGenerator` outputs a raw image (`X`) with it's labeled annotation mask (`y`). Additionally, it can apply a transform to `y` to change the task the model learns. Below we generate 2 training and validation data sets for both the foreground/background model and the pixelwise model."
   ]
  },
  {
   "cell_type": "code",
   "execution_count": 14,
   "metadata": {},
   "outputs": [],
   "source": [
    "from deepcell.image_generators import ImageFullyConvDataGenerator\n",
    "\n",
    "test_size = 0.2\n",
    "seed = 0\n",
    "\n",
    "#datagen = ImageFullyConvDataGenerator(\n",
    "#    rotation_range=180,\n",
    "#    zoom_range=(.8, 1.2),\n",
    "#    horizontal_flip=True,\n",
    "#    vertical_flip=True)\n",
    "\n",
    "datagen = ImageFullyConvDataGenerator(\n",
    "    rotation_range=30,\n",
    "    zoom_range=(.9, 1.1),\n",
    "    horizontal_flip=False,\n",
    "    vertical_flip=False)\n",
    "\n",
    "datagen_val = ImageFullyConvDataGenerator()"
   ]
  },
  {
   "cell_type": "code",
   "execution_count": 15,
   "metadata": {},
   "outputs": [],
   "source": [
    "# Create the foreground/background data iterators\n",
    "\n",
    "fgbg_train_data = datagen.flow(\n",
    "    {'X': X_train, 'y': y_train},\n",
    "    seed=seed,\n",
    "    skip=n_skips,\n",
    "    transform='fgbg',\n",
    "    batch_size=batch_size)\n",
    "\n",
    "fgbg_val_data = datagen_val.flow(\n",
    "    {'X': X_test, 'y': y_test},\n",
    "    seed=seed,\n",
    "    skip=n_skips,\n",
    "    transform='fgbg',\n",
    "    batch_size=batch_size)\n",
    "\n",
    "# Skipping this step if fgbg trained"
   ]
  },
  {
   "cell_type": "code",
   "execution_count": 16,
   "metadata": {},
   "outputs": [],
   "source": [
    "# Create the pixelwise data iterators\n",
    "\n",
    "pixelwise_train_data = datagen.flow(\n",
    "    {'X': X_train, 'y': y_train},\n",
    "    seed=seed,\n",
    "    skip=n_skips,\n",
    "    transform='pixelwise',\n",
    "    transform_kwargs=pixelwise_kwargs,\n",
    "    batch_size=batch_size)\n",
    "\n",
    "pixelwise_val_data = datagen_val.flow(\n",
    "    {'X': X_test, 'y': y_test},\n",
    "    seed=seed,\n",
    "    skip=n_skips,\n",
    "    transform='pixelwise',\n",
    "    transform_kwargs=pixelwise_kwargs,\n",
    "    batch_size=batch_size)"
   ]
  },
  {
   "cell_type": "markdown",
   "metadata": {},
   "source": [
    "Visualize the data generator output."
   ]
  },
  {
   "cell_type": "code",
   "execution_count": 17,
   "metadata": {},
   "outputs": [
    {
     "data": {
      "image/png": "[encoded data removed]",
      "text/plain": [
       "<Figure size 1080x1080 with 3 Axes>"
      ]
     },
     "metadata": {
      "needs_background": "light"
     },
     "output_type": "display_data"
    }
   ],
   "source": [
    "from matplotlib import pyplot as plt\n",
    "\n",
    "# Different data generators but same data and same seed\n",
    "img, fgbg_output = fgbg_train_data.next()\n",
    "_, pixelwise_output = pixelwise_train_data.next()\n",
    "\n",
    "if n_skips:\n",
    "    fgbg_output = fgbg_output[0]\n",
    "    pixelwise_output = pixelwise_output[0]\n",
    "\n",
    "fig, axes = plt.subplots(1, 3, figsize=(15, 15))\n",
    "ax = axes.ravel()\n",
    "\n",
    "ax[0].imshow(img[0, ..., 0])\n",
    "ax[0].set_title('Source Image')\n",
    "\n",
    "ax[1].imshow(np.argmax(fgbg_output[0, ...], axis=-1))\n",
    "ax[1].set_title('Foreground/Background')\n",
    "\n",
    "ax[2].imshow(np.argmax(pixelwise_output[0, ...], axis=-1))\n",
    "ax[2].set_title('Pixelwise')\n",
    "\n",
    "plt.show()"
   ]
  },
  {
   "cell_type": "markdown",
   "metadata": {},
   "source": [
    "### Compile the model with a loss function\n",
    "\n",
    "Each model is trained with it's own loss function. `weighted_categorical_crossentropy` is often used for classification models, but `weighted_focal_loss` is also supported. The losses are passed to `model.compile` before training."
   ]
  },
  {
   "cell_type": "code",
   "execution_count": 18,
   "metadata": {},
   "outputs": [],
   "source": [
    "from deepcell import losses\n",
    "\n",
    "def loss_function(y_true, y_pred):\n",
    "    return losses.weighted_categorical_crossentropy(\n",
    "        y_true, y_pred,\n",
    "        n_classes=2,\n",
    "        from_logits=False)\n",
    "\n",
    "fgbg_model.compile(\n",
    "    loss=loss_function,\n",
    "    optimizer=adam_optimizer,\n",
    "    metrics=['accuracy','AUC'])"
   ]
  },
  {
   "cell_type": "code",
   "execution_count": 19,
   "metadata": {},
   "outputs": [],
   "source": [
    "import os\n",
    "import sys\n",
    "os.environ.pop('TF_CONFIG', None)\n",
    "if '.' not in sys.path:\n",
    "    sys.path.insert(0, '.')"
   ]
  },
  {
   "cell_type": "markdown",
   "metadata": {},
   "source": [
    "## Train the foreground/background model\n",
    "\n",
    "Call `fit()` on the compiled model, along with a default set of callbacks."
   ]
  },
  {
   "cell_type": "code",
   "execution_count": 20,
   "metadata": {},
   "outputs": [
    {
     "name": "stdout",
     "output_type": "stream",
     "text": [
      "Training on 0 GPUs.\n",
      "Epoch 1/20\n",
      "5/5 [==============================] - ETA: 0s - loss: 2.7698 - functional_1_loss: 1.3949 - functional_3_loss: 1.3406 - functional_1_accuracy: 0.4179 - functional_1_auc: 0.3878 - functional_3_accuracy: 0.4745 - functional_3_auc_1: 0.4030  WARNING:tensorflow:Can save best model only with val_auc available, skipping.\n",
      "5/5 [==============================] - 447s 89s/step - loss: 2.7698 - functional_1_loss: 1.3949 - functional_3_loss: 1.3406 - functional_1_accuracy: 0.4179 - functional_1_auc: 0.3878 - functional_3_accuracy: 0.4745 - functional_3_auc_1: 0.4030 - val_loss: 16.1817 - val_functional_1_loss: 8.0591 - val_functional_3_loss: 8.0591 - val_functional_1_accuracy: 0.7203 - val_functional_1_auc: 0.7203 - val_functional_3_accuracy: 0.7203 - val_functional_3_auc_1: 0.7203\n",
      "Epoch 2/20\n",
      "5/5 [==============================] - ETA: 0s - loss: 1.9392 - functional_1_loss: 0.9767 - functional_3_loss: 0.8793 - functional_1_accuracy: 0.8432 - functional_1_auc: 0.8323 - functional_3_accuracy: 0.7276 - functional_3_auc_1: 0.7627 WARNING:tensorflow:Can save best model only with val_auc available, skipping.\n",
      "5/5 [==============================] - 358s 72s/step - loss: 1.9392 - functional_1_loss: 0.9767 - functional_3_loss: 0.8793 - functional_1_accuracy: 0.8432 - functional_1_auc: 0.8323 - functional_3_accuracy: 0.7276 - functional_3_auc_1: 0.7627 - val_loss: 16.2315 - val_functional_1_loss: 8.0591 - val_functional_3_loss: 8.0575 - val_functional_1_accuracy: 0.2797 - val_functional_1_auc: 0.2797 - val_functional_3_accuracy: 0.2833 - val_functional_3_auc_1: 0.2833\n",
      "Epoch 3/20\n",
      "5/5 [==============================] - ETA: 0s - loss: 1.8137 - functional_1_loss: 0.8284 - functional_3_loss: 0.8550 - functional_1_accuracy: 0.3075 - functional_1_auc: 0.2052 - functional_3_accuracy: 0.4299 - functional_3_auc_1: 0.3807 WARNING:tensorflow:Can save best model only with val_auc available, skipping.\n",
      "5/5 [==============================] - 369s 74s/step - loss: 1.8137 - functional_1_loss: 0.8284 - functional_3_loss: 0.8550 - functional_1_accuracy: 0.3075 - functional_1_auc: 0.2052 - functional_3_accuracy: 0.4299 - functional_3_auc_1: 0.3807 - val_loss: 16.2717 - val_functional_1_loss: 8.0590 - val_functional_3_loss: 8.0591 - val_functional_1_accuracy: 0.7203 - val_functional_1_auc: 0.7203 - val_functional_3_accuracy: 0.2797 - val_functional_3_auc_1: 0.2797\n",
      "Epoch 4/20\n",
      "5/5 [==============================] - ETA: 0s - loss: 2.0163 - functional_1_loss: 0.7966 - functional_3_loss: 1.0540 - functional_1_accuracy: 0.2669 - functional_1_auc: 0.3268 - functional_3_accuracy: 0.7808 - functional_3_auc_1: 0.7236 WARNING:tensorflow:Can save best model only with val_auc available, skipping.\n",
      "5/5 [==============================] - 366s 73s/step - loss: 2.0163 - functional_1_loss: 0.7966 - functional_3_loss: 1.0540 - functional_1_accuracy: 0.2669 - functional_1_auc: 0.3268 - functional_3_accuracy: 0.7808 - functional_3_auc_1: 0.7236 - val_loss: 16.2973 - val_functional_1_loss: 8.0588 - val_functional_3_loss: 8.0591 - val_functional_1_accuracy: 0.7203 - val_functional_1_auc: 0.7203 - val_functional_3_accuracy: 0.2797 - val_functional_3_auc_1: 0.2797\n",
      "Epoch 5/20\n",
      "5/5 [==============================] - ETA: 0s - loss: 1.9877 - functional_1_loss: 0.8094 - functional_3_loss: 0.9919 - functional_1_accuracy: 0.2493 - functional_1_auc: 0.3001 - functional_3_accuracy: 0.8109 - functional_3_auc_1: 0.7597 WARNING:tensorflow:Can save best model only with val_auc available, skipping.\n",
      "5/5 [==============================] - 367s 73s/step - loss: 1.9877 - functional_1_loss: 0.8094 - functional_3_loss: 0.9919 - functional_1_accuracy: 0.2493 - functional_1_auc: 0.3001 - functional_3_accuracy: 0.8109 - functional_3_auc_1: 0.7597 - val_loss: 16.3136 - val_functional_1_loss: 8.0591 - val_functional_3_loss: 8.0590 - val_functional_1_accuracy: 0.7203 - val_functional_1_auc: 0.7203 - val_functional_3_accuracy: 0.2797 - val_functional_3_auc_1: 0.2797\n",
      "Epoch 6/20\n",
      "5/5 [==============================] - ETA: 0s - loss: 1.9714 - functional_1_loss: 0.8418 - functional_3_loss: 0.9304 - functional_1_accuracy: 0.2460 - functional_1_auc: 0.2838 - functional_3_accuracy: 0.8260 - functional_3_auc_1: 0.7777 WARNING:tensorflow:Can save best model only with val_auc available, skipping.\n",
      "5/5 [==============================] - 362s 72s/step - loss: 1.9714 - functional_1_loss: 0.8418 - functional_3_loss: 0.9304 - functional_1_accuracy: 0.2460 - functional_1_auc: 0.2838 - functional_3_accuracy: 0.8260 - functional_3_auc_1: 0.7777 - val_loss: 16.3226 - val_functional_1_loss: 8.0590 - val_functional_3_loss: 8.0590 - val_functional_1_accuracy: 0.7203 - val_functional_1_auc: 0.7203 - val_functional_3_accuracy: 0.2797 - val_functional_3_auc_1: 0.2797\n",
      "Epoch 7/20\n",
      "5/5 [==============================] - ETA: 0s - loss: 1.8739 - functional_1_loss: 0.7284 - functional_3_loss: 0.9390 - functional_1_accuracy: 0.5870 - functional_1_auc: 0.5739 - functional_3_accuracy: 0.7438 - functional_3_auc_1: 0.6893 WARNING:tensorflow:Can save best model only with val_auc available, skipping.\n",
      "5/5 [==============================] - 380s 76s/step - loss: 1.8739 - functional_1_loss: 0.7284 - functional_3_loss: 0.9390 - functional_1_accuracy: 0.5870 - functional_1_auc: 0.5739 - functional_3_accuracy: 0.7438 - functional_3_auc_1: 0.6893 - val_loss: 15.5565 - val_functional_1_loss: 8.0591 - val_functional_3_loss: 7.2890 - val_functional_1_accuracy: 0.2797 - val_functional_1_auc: 0.2797 - val_functional_3_accuracy: 0.2972 - val_functional_3_auc_1: 0.2828\n",
      "Epoch 8/20\n",
      "5/5 [==============================] - ETA: 0s - loss: 1.8974 - functional_1_loss: 0.7759 - functional_3_loss: 0.9125 - functional_1_accuracy: 0.4889 - functional_1_auc: 0.4094 - functional_3_accuracy: 0.7616 - functional_3_auc_1: 0.7183 WARNING:tensorflow:Can save best model only with val_auc available, skipping.\n",
      "5/5 [==============================] - 375s 75s/step - loss: 1.8974 - functional_1_loss: 0.7759 - functional_3_loss: 0.9125 - functional_1_accuracy: 0.4889 - functional_1_auc: 0.4094 - functional_3_accuracy: 0.7616 - functional_3_auc_1: 0.7183 - val_loss: 13.6545 - val_functional_1_loss: 8.0590 - val_functional_3_loss: 5.3862 - val_functional_1_accuracy: 0.2797 - val_functional_1_auc: 0.2797 - val_functional_3_accuracy: 0.3746 - val_functional_3_auc_1: 0.3191\n",
      "Epoch 9/20\n",
      "5/5 [==============================] - ETA: 0s - loss: 1.7435 - functional_1_loss: 0.7371 - functional_3_loss: 0.7975 - functional_1_accuracy: 0.4764 - functional_1_auc: 0.4008 - functional_3_accuracy: 0.7447 - functional_3_auc_1: 0.7181 WARNING:tensorflow:Can save best model only with val_auc available, skipping.\n",
      "5/5 [==============================] - 360s 72s/step - loss: 1.7435 - functional_1_loss: 0.7371 - functional_3_loss: 0.7975 - functional_1_accuracy: 0.4764 - functional_1_auc: 0.4008 - functional_3_accuracy: 0.7447 - functional_3_auc_1: 0.7181 - val_loss: 10.9617 - val_functional_1_loss: 8.0591 - val_functional_3_loss: 2.6946 - val_functional_1_accuracy: 0.2797 - val_functional_1_auc: 0.2797 - val_functional_3_accuracy: 0.6237 - val_functional_3_auc_1: 0.5712\n",
      "Epoch 10/20\n",
      "5/5 [==============================] - ETA: 0s - loss: 1.6483 - functional_1_loss: 0.6909 - functional_3_loss: 0.7503 - functional_1_accuracy: 0.6225 - functional_1_auc: 0.6140 - functional_3_accuracy: 0.6802 - functional_3_auc_1: 0.6795  WARNING:tensorflow:Can save best model only with val_auc available, skipping.\n",
      "5/5 [==============================] - 401s 80s/step - loss: 1.6483 - functional_1_loss: 0.6909 - functional_3_loss: 0.7503 - functional_1_accuracy: 0.6225 - functional_1_auc: 0.6140 - functional_3_accuracy: 0.6802 - functional_3_auc_1: 0.6795 - val_loss: 15.4513 - val_functional_1_loss: 7.2747 - val_functional_3_loss: 7.9710 - val_functional_1_accuracy: 0.5172 - val_functional_1_auc: 0.5187 - val_functional_3_accuracy: 0.3606 - val_functional_3_auc_1: 0.3587\n",
      "Epoch 11/20\n",
      "5/5 [==============================] - ETA: 0s - loss: 1.6405 - functional_1_loss: 0.6991 - functional_3_loss: 0.7373 - functional_1_accuracy: 0.7308 - functional_1_auc: 0.7482 - functional_3_accuracy: 0.4363 - functional_3_auc_1: 0.3081  WARNING:tensorflow:Can save best model only with val_auc available, skipping.\n",
      "5/5 [==============================] - 400s 80s/step - loss: 1.6405 - functional_1_loss: 0.6991 - functional_3_loss: 0.7373 - functional_1_accuracy: 0.7308 - functional_1_auc: 0.7482 - functional_3_accuracy: 0.4363 - functional_3_auc_1: 0.3081 - val_loss: 14.8759 - val_functional_1_loss: 6.8194 - val_functional_3_loss: 7.8545 - val_functional_1_accuracy: 0.7202 - val_functional_1_auc: 0.7202 - val_functional_3_accuracy: 0.7102 - val_functional_3_auc_1: 0.7104\n",
      "Epoch 12/20\n",
      "5/5 [==============================] - ETA: 0s - loss: 1.6194 - functional_1_loss: 0.6945 - functional_3_loss: 0.7243 - functional_1_accuracy: 0.6183 - functional_1_auc: 0.6152 - functional_3_accuracy: 0.7118 - functional_3_auc_1: 0.7303  WARNING:tensorflow:Can save best model only with val_auc available, skipping.\n",
      "5/5 [==============================] - 354s 71s/step - loss: 1.6194 - functional_1_loss: 0.6945 - functional_3_loss: 0.7243 - functional_1_accuracy: 0.6183 - functional_1_auc: 0.6152 - functional_3_accuracy: 0.7118 - functional_3_auc_1: 0.7303 - val_loss: 10.0544 - val_functional_1_loss: 5.0312 - val_functional_3_loss: 4.8253 - val_functional_1_accuracy: 0.3195 - val_functional_1_auc: 0.3008 - val_functional_3_accuracy: 0.6919 - val_functional_3_auc_1: 0.6938\n",
      "Epoch 13/20\n",
      "5/5 [==============================] - ETA: 0s - loss: 1.6025 - functional_1_loss: 0.6966 - functional_3_loss: 0.7102 - functional_1_accuracy: 0.4685 - functional_1_auc: 0.4118 - functional_3_accuracy: 0.7027 - functional_3_auc_1: 0.6597  WARNING:tensorflow:Can save best model only with val_auc available, skipping.\n",
      "5/5 [==============================] - 407s 81s/step - loss: 1.6025 - functional_1_loss: 0.6966 - functional_3_loss: 0.7102 - functional_1_accuracy: 0.4685 - functional_1_auc: 0.4118 - functional_3_accuracy: 0.7027 - functional_3_auc_1: 0.6597 - val_loss: 8.5853 - val_functional_1_loss: 7.2613 - val_functional_3_loss: 1.1309 - val_functional_1_accuracy: 0.2797 - val_functional_1_auc: 0.2797 - val_functional_3_accuracy: 0.6044 - val_functional_3_auc_1: 0.6198\n",
      "Epoch 14/20\n",
      "5/5 [==============================] - ETA: 0s - loss: 1.5864 - functional_1_loss: 0.6944 - functional_3_loss: 0.7012 - functional_1_accuracy: 0.6229 - functional_1_auc: 0.6084 - functional_3_accuracy: 0.6614 - functional_3_auc_1: 0.6337  WARNING:tensorflow:Can save best model only with val_auc available, skipping.\n",
      "5/5 [==============================] - 580s 116s/step - loss: 1.5864 - functional_1_loss: 0.6944 - functional_3_loss: 0.7012 - functional_1_accuracy: 0.6229 - functional_1_auc: 0.6084 - functional_3_accuracy: 0.6614 - functional_3_auc_1: 0.6337 - val_loss: 7.6638 - val_functional_1_loss: 6.5404 - val_functional_3_loss: 0.9354 - val_functional_1_accuracy: 0.2797 - val_functional_1_auc: 0.2801 - val_functional_3_accuracy: 0.5846 - val_functional_3_auc_1: 0.6157\n",
      "Epoch 15/20\n",
      "5/5 [==============================] - ETA: 0s - loss: 1.5756 - functional_1_loss: 0.6926 - functional_3_loss: 0.6973 - functional_1_accuracy: 0.7042 - functional_1_auc: 0.7032 - functional_3_accuracy: 0.4562 - functional_3_auc_1: 0.5046  WARNING:tensorflow:Can save best model only with val_auc available, skipping.\n",
      "5/5 [==============================] - 598s 120s/step - loss: 1.5756 - functional_1_loss: 0.6926 - functional_3_loss: 0.6973 - functional_1_accuracy: 0.7042 - functional_1_auc: 0.7032 - functional_3_accuracy: 0.4562 - functional_3_auc_1: 0.5046 - val_loss: 5.5485 - val_functional_1_loss: 4.5889 - val_functional_3_loss: 0.7768 - val_functional_1_accuracy: 0.2797 - val_functional_1_auc: 0.2839 - val_functional_3_accuracy: 0.5443 - val_functional_3_auc_1: 0.5670\n",
      "Epoch 16/20\n",
      "5/5 [==============================] - ETA: 0s - loss: 1.5715 - functional_1_loss: 0.6950 - functional_3_loss: 0.6960 - functional_1_accuracy: 0.6849 - functional_1_auc: 0.6790 - functional_3_accuracy: 0.4576 - functional_3_auc_1: 0.5443  WARNING:tensorflow:Can save best model only with val_auc available, skipping.\n",
      "5/5 [==============================] - 551s 110s/step - loss: 1.5715 - functional_1_loss: 0.6950 - functional_3_loss: 0.6960 - functional_1_accuracy: 0.6849 - functional_1_auc: 0.6790 - functional_3_accuracy: 0.4576 - functional_3_auc_1: 0.5443 - val_loss: 3.2136 - val_functional_1_loss: 2.2347 - val_functional_3_loss: 0.8014 - val_functional_1_accuracy: 0.2823 - val_functional_1_auc: 0.2917 - val_functional_3_accuracy: 0.4553 - val_functional_3_auc_1: 0.4197\n",
      "Epoch 17/20\n",
      "5/5 [==============================] - ETA: 0s - loss: 1.5582 - functional_1_loss: 0.6906 - functional_3_loss: 0.6925 - functional_1_accuracy: 0.5913 - functional_1_auc: 0.5847 - functional_3_accuracy: 0.4034 - functional_3_auc_1: 0.4485  WARNING:tensorflow:Can save best model only with val_auc available, skipping.\n",
      "5/5 [==============================] - 527s 105s/step - loss: 1.5582 - functional_1_loss: 0.6906 - functional_3_loss: 0.6925 - functional_1_accuracy: 0.5913 - functional_1_auc: 0.5847 - functional_3_accuracy: 0.4034 - functional_3_auc_1: 0.4485 - val_loss: 2.5166 - val_functional_1_loss: 1.1922 - val_functional_3_loss: 1.1522 - val_functional_1_accuracy: 0.3305 - val_functional_1_auc: 0.3184 - val_functional_3_accuracy: 0.4777 - val_functional_3_auc_1: 0.4880\n",
      "Epoch 18/20\n",
      "5/5 [==============================] - ETA: 0s - loss: 1.5529 - functional_1_loss: 0.6906 - functional_3_loss: 0.6920 - functional_1_accuracy: 0.5771 - functional_1_auc: 0.5703 - functional_3_accuracy: 0.4672 - functional_3_auc_1: 0.5655  WARNING:tensorflow:Can save best model only with val_auc available, skipping.\n",
      "5/5 [==============================] - 355s 71s/step - loss: 1.5529 - functional_1_loss: 0.6906 - functional_3_loss: 0.6920 - functional_1_accuracy: 0.5771 - functional_1_auc: 0.5703 - functional_3_accuracy: 0.4672 - functional_3_auc_1: 0.5655 - val_loss: 1.9568 - val_functional_1_loss: 0.9219 - val_functional_3_loss: 0.8680 - val_functional_1_accuracy: 0.3778 - val_functional_1_auc: 0.3479 - val_functional_3_accuracy: 0.4501 - val_functional_3_auc_1: 0.4604\n",
      "Epoch 19/20\n",
      "5/5 [==============================] - ETA: 0s - loss: 1.5458 - functional_1_loss: 0.6903 - functional_3_loss: 0.6908 - functional_1_accuracy: 0.6760 - functional_1_auc: 0.6828 - functional_3_accuracy: 0.4891 - functional_3_auc_1: 0.6021 WARNING:tensorflow:Can save best model only with val_auc available, skipping.\n",
      "5/5 [==============================] - 355s 71s/step - loss: 1.5458 - functional_1_loss: 0.6903 - functional_3_loss: 0.6908 - functional_1_accuracy: 0.6760 - functional_1_auc: 0.6828 - functional_3_accuracy: 0.4891 - functional_3_auc_1: 0.6021 - val_loss: 1.7215 - val_functional_1_loss: 0.8311 - val_functional_3_loss: 0.7285 - val_functional_1_accuracy: 0.4137 - val_functional_1_auc: 0.3746 - val_functional_3_accuracy: 0.4397 - val_functional_3_auc_1: 0.4674\n",
      "Epoch 20/20\n",
      "5/5 [==============================] - ETA: 0s - loss: 1.5344 - functional_1_loss: 0.6839 - functional_3_loss: 0.6908 - functional_1_accuracy: 0.6687 - functional_1_auc: 0.6370 - functional_3_accuracy: 0.4961 - functional_3_auc_1: 0.6351  WARNING:tensorflow:Can save best model only with val_auc available, skipping.\n",
      "5/5 [==============================] - 400s 80s/step - loss: 1.5344 - functional_1_loss: 0.6839 - functional_3_loss: 0.6908 - functional_1_accuracy: 0.6687 - functional_1_auc: 0.6370 - functional_3_accuracy: 0.4961 - functional_3_auc_1: 0.6351 - val_loss: 1.5819 - val_functional_1_loss: 0.7043 - val_functional_3_loss: 0.7206 - val_functional_1_accuracy: 0.5734 - val_functional_1_auc: 0.5371 - val_functional_3_accuracy: 0.5909 - val_functional_3_auc_1: 0.6364\n"
     ]
    }
   ],
   "source": [
    "from deepcell.utils.train_utils import get_callbacks\n",
    "from deepcell.utils.train_utils import count_gpus\n",
    "\n",
    "model_path = os.path.join(MODEL_DIR, '{}.h5'.format(fgbg_model_name))\n",
    "loss_path = os.path.join(MODEL_DIR, '{}.npz'.format(fgbg_model_name))\n",
    "\n",
    "num_gpus = count_gpus()\n",
    "\n",
    "print('Training on', num_gpus, 'GPUs.')\n",
    "\n",
    "train_callbacks = get_callbacks(\n",
    "    model_path,\n",
    "    lr_sched=lr_sched,\n",
    "    save_weights_only=num_gpus >= 2,\n",
    "    monitor='val_auc',\n",
    "    verbose=1)\n",
    "\n",
    "loss_history = fgbg_model.fit(  # Seems like fgbg is overfitting - removed all features! \n",
    "    fgbg_train_data,\n",
    "    # steps_per_epoch=fgbg_train_data.y.shape[0] // batch_size,\n",
    "    epochs=20,\n",
    "    validation_data=fgbg_val_data,\n",
    "    # validation_steps=fgbg_val_data.y.shape[0] // batch_size,\n",
    "    callbacks=train_callbacks)"
   ]
  },
  {
   "cell_type": "code",
   "execution_count": 26,
   "metadata": {},
   "outputs": [
    {
     "name": "stdout",
     "output_type": "stream",
     "text": [
      "dict_keys(['loss', 'functional_1_loss', 'functional_3_loss', 'functional_1_accuracy', 'functional_1_auc', 'functional_3_accuracy', 'functional_3_auc_1', 'val_loss', 'val_functional_1_loss', 'val_functional_3_loss', 'val_functional_1_accuracy', 'val_functional_1_auc', 'val_functional_3_accuracy', 'val_functional_3_auc_1', 'lr'])\n"
     ]
    }
   ],
   "source": [
    "from keras.callbacks import History \n",
    "\n",
    "print(loss_history.history.keys())"
   ]
  },
  {
   "cell_type": "code",
   "execution_count": 30,
   "metadata": {},
   "outputs": [
    {
     "data": {
      "text/plain": [
       "[0.7203289270401001,\n",
       " 0.2832639217376709,\n",
       " 0.2796711027622223,\n",
       " 0.2796711027622223,\n",
       " 0.2796711027622223,\n",
       " 0.2796711027622223,\n",
       " 0.297191858291626,\n",
       " 0.3745808005332947,\n",
       " 0.6236568093299866,\n",
       " 0.36060085892677307,\n",
       " 0.7102311849594116,\n",
       " 0.6919227838516235,\n",
       " 0.6044479012489319,\n",
       " 0.5845519304275513,\n",
       " 0.5443161725997925,\n",
       " 0.4552898406982422,\n",
       " 0.4776562452316284,\n",
       " 0.4500793218612671,\n",
       " 0.43974003195762634,\n",
       " 0.5908530950546265]"
      ]
     },
     "execution_count": 30,
     "metadata": {},
     "output_type": "execute_result"
    }
   ],
   "source": [
    "loss_history.history['val_functional_3_accuracy']"
   ]
  },
  {
   "cell_type": "code",
   "execution_count": 27,
   "metadata": {},
   "outputs": [],
   "source": [
    "fgbg_model.save(\"../fgbg_model.h5\")"
   ]
  },
  {
   "cell_type": "markdown",
   "metadata": {},
   "source": [
    "## Create the `pixelwise` FeatureNet Model\n",
    "\n",
    "Here we instantiate two `FeatureNet` models from `deepcell.model_zoo` for foreground/background separation as well as the interior/edge segmentation."
   ]
  },
  {
   "cell_type": "code",
   "execution_count": 15,
   "metadata": {},
   "outputs": [],
   "source": [
    "# load the fgbg_model\n",
    "fgbg_model.load_weights(\"../seg_training/attempt_1/models/test/conv_fgbg_model.h5\")"
   ]
  },
  {
   "cell_type": "code",
   "execution_count": 16,
   "metadata": {},
   "outputs": [
    {
     "data": {
      "text/plain": [
       "(140, 530, 530, 1)"
      ]
     },
     "execution_count": 16,
     "metadata": {},
     "output_type": "execute_result"
    }
   ],
   "source": [
    "X_train.shape"
   ]
  },
  {
   "cell_type": "code",
   "execution_count": 17,
   "metadata": {},
   "outputs": [],
   "source": [
    "pixelwise_model = model_zoo.bn_feature_net_skip_2D(\n",
    "    fgbg_model=fgbg_model,\n",
    "    n_features=4 if separate_edge_classes else 3,\n",
    "    receptive_field=receptive_field,\n",
    "    norm_method=norm_method,\n",
    "    n_skips=n_skips,\n",
    "    n_conv_filters=32,\n",
    "    n_dense_filters=128,\n",
    "    last_only=False,\n",
    "    input_shape=tuple(X_train.shape[1:]))"
   ]
  },
  {
   "cell_type": "markdown",
   "metadata": {},
   "source": [
    "### Compile the model with a loss function\n",
    "\n",
    "Just like the foreground/background model, the `pixelwise` model is compiled with the `weighted_categorical_crossentropy` loss function."
   ]
  },
  {
   "cell_type": "code",
   "execution_count": 18,
   "metadata": {},
   "outputs": [],
   "source": [
    "from deepcell import losses\n",
    "\n",
    "def loss_function(y_true, y_pred):\n",
    "    return losses.weighted_categorical_crossentropy(\n",
    "        y_true, y_pred,\n",
    "        n_classes=4 if separate_edge_classes else 3,\n",
    "        from_logits=False)\n",
    "\n",
    "pixelwise_model.compile(\n",
    "    loss=loss_function,\n",
    "    optimizer=pixelwise_optimizer,\n",
    "    metrics=['accuracy'])"
   ]
  },
  {
   "cell_type": "markdown",
   "metadata": {},
   "source": [
    "## Train the `pixelwise` model\n",
    "\n",
    "Call `fit()` on the compiled model, along with a default set of callbacks."
   ]
  },
  {
   "cell_type": "code",
   "execution_count": 22,
   "metadata": {},
   "outputs": [
    {
     "name": "stdout",
     "output_type": "stream",
     "text": [
      "Training on 0 GPUs.\n",
      "Epoch 1/5\n",
      "140/140 [==============================] - ETA: 0s - loss: 0.9915 - functional_7_loss: 0.4765 - functional_9_loss: 0.4787 - functional_7_accuracy: 0.7808 - functional_9_accuracy: 0.7856 \n",
      "Epoch 00001: val_loss improved from inf to 1.13870, saving model to /home/jupyter/seg_training/attempt_2/models/test/conv_edgeseg_model.h5\n",
      "140/140 [==============================] - 2926s 21s/step - loss: 0.9915 - functional_7_loss: 0.4765 - functional_9_loss: 0.4787 - functional_7_accuracy: 0.7808 - functional_9_accuracy: 0.7856 - val_loss: 1.1387 - val_functional_7_loss: 0.5540 - val_functional_9_loss: 0.5485 - val_functional_7_accuracy: 0.6294 - val_functional_9_accuracy: 0.6293\n",
      "Epoch 2/5\n",
      "140/140 [==============================] - ETA: 0s - loss: 0.8073 - functional_7_loss: 0.3867 - functional_9_loss: 0.3844 - functional_7_accuracy: 0.8414 - functional_9_accuracy: 0.8406 \n",
      "Epoch 00002: val_loss improved from 1.13870 to 1.07816, saving model to /home/jupyter/seg_training/attempt_2/models/test/conv_edgeseg_model.h5\n",
      "140/140 [==============================] - 2901s 21s/step - loss: 0.8073 - functional_7_loss: 0.3867 - functional_9_loss: 0.3844 - functional_7_accuracy: 0.8414 - functional_9_accuracy: 0.8406 - val_loss: 1.0782 - val_functional_7_loss: 0.5179 - val_functional_9_loss: 0.5240 - val_functional_7_accuracy: 0.7105 - val_functional_9_accuracy: 0.7055\n",
      "Epoch 3/5\n",
      "140/140 [==============================] - ETA: 0s - loss: 0.7571 - functional_7_loss: 0.3607 - functional_9_loss: 0.3601 - functional_7_accuracy: 0.8437 - functional_9_accuracy: 0.8438 \n",
      "Epoch 00003: val_loss did not improve from 1.07816\n",
      "140/140 [==============================] - 2906s 21s/step - loss: 0.7571 - functional_7_loss: 0.3607 - functional_9_loss: 0.3601 - functional_7_accuracy: 0.8437 - functional_9_accuracy: 0.8438 - val_loss: 1.1360 - val_functional_7_loss: 0.5461 - val_functional_9_loss: 0.5537 - val_functional_7_accuracy: 0.6828 - val_functional_9_accuracy: 0.6930\n",
      "Epoch 4/5\n",
      "140/140 [==============================] - ETA: 0s - loss: 0.7247 - functional_7_loss: 0.3478 - functional_9_loss: 0.3407 - functional_7_accuracy: 0.8465 - functional_9_accuracy: 0.8494 \n",
      "Epoch 00004: val_loss improved from 1.07816 to 1.01267, saving model to /home/jupyter/seg_training/attempt_2/models/test/conv_edgeseg_model.h5\n",
      "140/140 [==============================] - 2894s 21s/step - loss: 0.7247 - functional_7_loss: 0.3478 - functional_9_loss: 0.3407 - functional_7_accuracy: 0.8465 - functional_9_accuracy: 0.8494 - val_loss: 1.0127 - val_functional_7_loss: 0.4905 - val_functional_9_loss: 0.4859 - val_functional_7_accuracy: 0.7076 - val_functional_9_accuracy: 0.7105\n",
      "Epoch 5/5\n",
      "140/140 [==============================] - ETA: 0s - loss: 0.7286 - functional_7_loss: 0.3456 - functional_9_loss: 0.3467 - functional_7_accuracy: 0.8440 - functional_9_accuracy: 0.8455 \n",
      "Epoch 00005: val_loss did not improve from 1.01267\n",
      "140/140 [==============================] - 2901s 21s/step - loss: 0.7286 - functional_7_loss: 0.3456 - functional_9_loss: 0.3467 - functional_7_accuracy: 0.8440 - functional_9_accuracy: 0.8455 - val_loss: 1.0947 - val_functional_7_loss: 0.5247 - val_functional_9_loss: 0.5337 - val_functional_7_accuracy: 0.7036 - val_functional_9_accuracy: 0.6934\n"
     ]
    }
   ],
   "source": [
    "from deepcell.utils.train_utils import get_callbacks\n",
    "from deepcell.utils.train_utils import count_gpus\n",
    "\n",
    "model_path = os.path.join(MODEL_DIR, '{}.h5'.format(pixelwise_model_name))\n",
    "loss_path = os.path.join(MODEL_DIR, '{}.npz'.format(pixelwise_model_name))\n",
    "\n",
    "num_gpus = count_gpus()\n",
    "\n",
    "print('Training on', num_gpus, 'GPUs.')\n",
    "\n",
    "train_callbacks = get_callbacks(\n",
    "    model_path,\n",
    "    lr_sched=lr_sched,\n",
    "    save_weights_only=num_gpus >= 2,\n",
    "    monitor='val_loss',\n",
    "    verbose=1)\n",
    "\n",
    "loss_history = pixelwise_model.fit(\n",
    "    pixelwise_train_data,\n",
    "    steps_per_epoch=pixelwise_train_data.y.shape[0] // batch_size,\n",
    "    epochs=5,\n",
    "    validation_data=pixelwise_val_data,\n",
    "    validation_steps=pixelwise_val_data.y.shape[0] // batch_size,\n",
    "    callbacks=train_callbacks)"
   ]
  },
  {
   "cell_type": "code",
   "execution_count": null,
   "metadata": {},
   "outputs": [],
   "source": [
    "pixelwise_model.save(\"../pixelwise_model.h5\")"
   ]
  },
  {
   "cell_type": "markdown",
   "metadata": {},
   "source": [
    "## Predict on test data\n",
    "\n",
    "Use the trained model to predict on new data and post-process the results into a label mask."
   ]
  },
  {
   "cell_type": "code",
   "execution_count": null,
   "metadata": {},
   "outputs": [],
   "source": [
    "plt.plot(loss_history.history['val'])"
   ]
  },
  {
   "cell_type": "code",
   "execution_count": null,
   "metadata": {},
   "outputs": [],
   "source": [
    "test_images = pixelwise_model.predict(X_test)[-1]\n",
    "test_images_fgbg = fgbg_model.predict(X_test)[-1]\n",
    "\n",
    "print('watershed transform shape:', test_images.shape)\n",
    "print('segmentation mask shape:', test_images_fgbg.shape)"
   ]
  },
  {
   "cell_type": "markdown",
   "metadata": {},
   "source": [
    "#### Post-processing"
   ]
  },
  {
   "cell_type": "code",
   "execution_count": null,
   "metadata": {},
   "outputs": [],
   "source": [
    "# threshold the foreground/background\n",
    "# and remove back ground from edge transform\n",
    "threshold = 0.8\n",
    "\n",
    "fg_thresh = test_images_fgbg[..., 1] > threshold\n",
    "fg_thresh = np.expand_dims(fg_thresh, axis=-1)\n",
    "\n",
    "test_images_post_fgbg = test_images * fg_thresh"
   ]
  },
  {
   "cell_type": "code",
   "execution_count": null,
   "metadata": {},
   "outputs": [],
   "source": [
    "# Label interior predictions\n",
    "from skimage.measure import label\n",
    "from skimage import morphology\n",
    "\n",
    "labeled_images = []\n",
    "for i in range(test_images_post_fgbg.shape[0]):\n",
    "    interior = test_images_post_fgbg[i, ..., 2] > .5\n",
    "    labeled_image = label(interior)\n",
    "    labeled_image = morphology.remove_small_objects(\n",
    "        labeled_image, min_size=130, connectivity=1)  ## min_size=50\n",
    "    labeled_images.append(labeled_image)\n",
    "labeled_images = np.array(labeled_images)\n",
    "labeled_images = np.expand_dims(labeled_images, axis=-1)  \n",
    "\n",
    "print('labeled_images shape:', labeled_images.shape)"
   ]
  },
  {
   "cell_type": "code",
   "execution_count": null,
   "metadata": {},
   "outputs": [],
   "source": [
    "test_images.shape"
   ]
  },
  {
   "cell_type": "code",
   "execution_count": null,
   "metadata": {},
   "outputs": [],
   "source": [
    "import matplotlib.pyplot as plt\n",
    "\n",
    "#index = np.random.randint(low=0, high=X_test.shape[0])\n",
    "\n",
    "index = 3\n",
    "print('Image number:', index)\n",
    "\n",
    "fig, axes = plt.subplots(ncols=3, nrows=2, figsize=(15, 15), sharex=True, sharey=True)\n",
    "ax = axes.ravel()\n",
    "\n",
    "ax[0].imshow(X_test[index, ..., 0])\n",
    "ax[0].set_title('Source Image')\n",
    "\n",
    "ax[1].imshow(test_images_fgbg[index, ..., 1])\n",
    "ax[1].set_title('Segmentation Prediction')\n",
    "\n",
    "ax[2].imshow(fg_thresh[index, ..., 0], cmap='jet')\n",
    "ax[2].set_title('FGBG Threshold {}%'.format(threshold * 100))\n",
    "\n",
    "ax[3].imshow(test_images[index, ..., 0] + test_images[index, ..., 1], cmap='jet')\n",
    "ax[3].set_title('Edge Prediction')\n",
    "\n",
    "ax[4].imshow(test_images[index, ..., 2], cmap='jet')\n",
    "ax[4].set_title('Interior Prediction')\n",
    "\n",
    "ax[5].imshow(labeled_images[index, ..., 0], cmap='jet')\n",
    "ax[5].set_title('Instance Segmentation')\n",
    "\n",
    "\n",
    "\n",
    "fig.tight_layout()\n",
    "plt.show()"
   ]
  },
  {
   "cell_type": "code",
   "execution_count": null,
   "metadata": {},
   "outputs": [],
   "source": [
    "plt.imshow(labeled_images[3])"
   ]
  },
  {
   "cell_type": "code",
   "execution_count": null,
   "metadata": {},
   "outputs": [],
   "source": []
  },
  {
   "cell_type": "code",
   "execution_count": null,
   "metadata": {},
   "outputs": [],
   "source": [
    "TEST_FILE = \"../validation.trks\"\n",
    "\n",
    "(X_train, y_train), (X_test, y_test) = load_data('../validation.npz', mode='sample', test_size=1)\n",
    "print('X.shape: {}\\ny.shape: {}'.format(X_train.shape, y_train.shape))"
   ]
  },
  {
   "cell_type": "code",
   "execution_count": null,
   "metadata": {},
   "outputs": [],
   "source": [
    "print('y.shape: {}\\ny.shape: {}'.format(X_test.shape, y_test.shape))"
   ]
  },
  {
   "cell_type": "code",
   "execution_count": null,
   "metadata": {},
   "outputs": [],
   "source": [
    "# Need to stack them together\n",
    "## Store them into seg_validation.npz\n",
    "\n",
    "val_all = np.load('../validation.npz')\n",
    "X = val_all['X']\n",
    "y = val_all['y']"
   ]
  },
  {
   "cell_type": "code",
   "execution_count": null,
   "metadata": {},
   "outputs": [],
   "source": []
  }
 ],
 "metadata": {
  "environment": {
   "name": "tf2-gpu.2-3.m78",
   "type": "gcloud",
   "uri": "gcr.io/deeplearning-platform-release/tf2-gpu.2-3:m78"
  },
  "kernelspec": {
   "display_name": "Python [conda env:root] *",
   "language": "python",
   "name": "conda-root-py"
  },
  "language_info": {
   "codemirror_mode": {
    "name": "ipython",
    "version": 3
   },
   "file_extension": ".py",
   "mimetype": "text/x-python",
   "name": "python",
   "nbconvert_exporter": "python",
   "pygments_lexer": "ipython3",
   "version": "3.7.10"
  }
 },
 "nbformat": 4,
 "nbformat_minor": 4
}

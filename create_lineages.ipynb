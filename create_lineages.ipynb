{
 "cells": [
  {
   "cell_type": "code",
   "execution_count": 1,
   "id": "69d3bc8a",
   "metadata": {},
   "outputs": [
    {
     "name": "stderr",
     "output_type": "stream",
     "text": [
      "/opt/conda/lib/python3.7/site-packages/tensorflow-2.5.0-py3.7-linux-x86_64.egg/tensorflow/python/keras/optimizer_v2/optimizer_v2.py:375: UserWarning: The `lr` argument is deprecated, use `learning_rate` instead.\n",
      "  \"The `lr` argument is deprecated, use `learning_rate` instead.\")\n"
     ]
    }
   ],
   "source": [
    "import h5py\n",
    "import matplotlib.pyplot as plt\n",
    "from PIL import Image, ImageDraw\n",
    "import numpy as np\n",
    "import sys\n",
    "import time\n",
    "import pandas as pd\n",
    "import cv2\n",
    "import os\n",
    "import imageio\n",
    "import matplotlib as mpl\n",
    "from matplotlib import cm\n",
    "from matplotlib.colors import ListedColormap, LinearSegmentedColormap\n",
    "import shutil\n",
    "import random\n",
    "\n",
    "from deepcell.utils.tracking_utils import load_trks"
   ]
  },
  {
   "cell_type": "code",
   "execution_count": 3,
   "id": "c73be2e8",
   "metadata": {},
   "outputs": [],
   "source": [
    "# Input file\n",
    "fN = h5py.File(\"../22956814/22956814_featuresN.hdf5\")\n",
    "\n",
    "# Define dorsal and ventral coordinates\n",
    "coordinates = fN['coordinates']\n",
    "dorsal = coordinates['dorsal_contours']\n",
    "ventral = coordinates['ventral_contours']\n",
    "\n",
    "# trajectory_data and timeseries_data\n",
    "traj = pd.read_hdf(\"../22956814/22956814_featuresN.hdf5\", '/trajectories_data')\n",
    "timeseries = fN['timeseries_data']"
   ]
  },
  {
   "cell_type": "code",
   "execution_count": 4,
   "id": "3f10e36f",
   "metadata": {},
   "outputs": [],
   "source": [
    "# Get wells - data from timeseries_data, at position [2]\n",
    "\n",
    "wells = ['A1', 'A2', 'A3', 'A4', 'B1', 'B2', 'B3', 'B4', 'C1', 'C2', 'C3', 'C4', 'D1', 'D2', 'D3', 'D4']\n",
    "#wells = [each.encode() for each in wells]\n",
    "\n",
    "well_dict = {}\n",
    "for each in wells:\n",
    "    well_dict[each] = []\n",
    "    \n",
    "#print('A1'.encode().decode())\n",
    "for i, each in enumerate(timeseries[:]):  # \"i\" == index\n",
    "    well = each[2].decode()\n",
    "    if well in well_dict.keys():\n",
    "        well_dict[well].append(i)"
   ]
  },
  {
   "cell_type": "code",
   "execution_count": null,
   "id": "002a06ea",
   "metadata": {},
   "outputs": [],
   "source": []
  },
  {
   "cell_type": "code",
   "execution_count": 83,
   "id": "12e373e8",
   "metadata": {},
   "outputs": [],
   "source": [
    "# ---------------------------NEW---------------------------------------\n",
    "\n",
    "import gc\n",
    "\n",
    "def make_lineage(well, mask_npy, suffix):\n",
    "    \"\"\"suffix = the number at the end of the mask_npy\"\"\"\n",
    "    \n",
    "    array = np.load(mask_npy)\n",
    "    unique_worm_ids = list(np.unique(array))[1:]\n",
    "    \n",
    "    txt = '../22956814/%s_not_empty.txt' % well\n",
    "    with open(txt, 'r') as f:\n",
    "        start_end_samplings = f.read().splitlines()  # Cool!! \n",
    "        frame_start, frame_end, down_sampling = start_end_samplings[suffix-1].split(\",\")\n",
    "        sampling = range(int(frame_start), int(frame_end)+1, int(down_sampling))\n",
    "            \n",
    "    pd = traj.loc[well_dict[well], :]\n",
    "    lineages = {}\n",
    "    \n",
    "    for worm in unique_worm_ids:\n",
    "        #worm_pd = pd.loc[pd['worm_index_joined'] == worm]\n",
    "\n",
    "        nested_dict = {}\n",
    "        nested_dict['label'] = worm\n",
    "\n",
    "        frame_list = [] \n",
    "        \n",
    "        for i, frame in enumerate(array[:]):\n",
    "            unique_pixels = list(np.unique(frame))\n",
    "            if worm in unique_pixels:\n",
    "                frame_list.append(i)\n",
    "                \n",
    "        nested_dict = {}\n",
    "        nested_dict['label'] = worm\n",
    "        nested_dict['frames'] = frame_list\n",
    "        nested_dict['daughters'] = []\n",
    "        nested_dict['capped'] = False\n",
    "        nested_dict['frame-div'] = None\n",
    "        nested_dict['parent'] = None\n",
    "\n",
    "        lineages[worm] = nested_dict\n",
    "    \n",
    "    del array\n",
    "    gc.collect()\n",
    "        \n",
    "    return lineages"
   ]
  },
  {
   "cell_type": "code",
   "execution_count": null,
   "id": "7104fa8f",
   "metadata": {},
   "outputs": [],
   "source": []
  },
  {
   "cell_type": "code",
   "execution_count": 86,
   "id": "3220fc09",
   "metadata": {},
   "outputs": [],
   "source": [
    "a1_1 = make_lineage('A1', \"../22956814/A1_mask_1.npy\", 1) \n",
    "\n",
    "# Well A2\n",
    "a2_1 = make_lineage('A2', \"../22956814/A2_mask_1.npy\", 1) \n",
    "a2_2 = make_lineage('A2', \"../22956814/A2_mask_2.npy\", 2) \n",
    "a2_3 = make_lineage('A2', \"../22956814/A2_mask_3.npy\", 3) \n",
    "a2_4 = make_lineage('A2', \"../22956814/A2_mask_4.npy\", 4) \n",
    "a2_5 = make_lineage('A2', \"../22956814/A2_mask_5.npy\", 5) \n",
    "a2_6 = make_lineage('A2', \"../22956814/A2_mask_6.npy\", 6) \n",
    "a2_7 = make_lineage('A2', \"../22956814/A2_mask_7.npy\", 7) \n",
    "a2_8 = make_lineage('A2', \"../22956814/A2_mask_8.npy\", 8) \n",
    "a2_9 = make_lineage('A2', \"../22956814/A2_mask_9.npy\", 9) \n",
    "a2_10 = make_lineage('A2', \"../22956814/A2_mask_10.npy\", 10) \n",
    "\n",
    "# Well A3\n",
    "a3_1 = make_lineage('A3', \"../22956814/A3_mask_1.npy\", 1) \n",
    "a3_2 = make_lineage('A3', \"../22956814/A3_mask_2.npy\", 2) \n",
    "a3_3 = make_lineage('A3', \"../22956814/A3_mask_3.npy\", 3) \n",
    "a3_4 = make_lineage('A3', \"../22956814/A3_mask_4.npy\", 4) \n",
    "a3_5 = make_lineage('A3', \"../22956814/A3_mask_5.npy\", 5) \n",
    "a3_6 = make_lineage('A3', \"../22956814/A3_mask_6.npy\", 6) \n",
    "a3_7 = make_lineage('A3', \"../22956814/A3_mask_7.npy\", 7) \n",
    "a3_8 = make_lineage('A3', \"../22956814/A3_mask_8.npy\", 8) \n",
    "a3_9 = make_lineage('A3', \"../22956814/A3_mask_9.npy\", 9) \n",
    "\n",
    "# Well A4\n",
    "a4_1 = make_lineage('A4', \"../22956814/A4_mask_1.npy\", 1) \n",
    "a4_2 = make_lineage('A4', \"../22956814/A4_mask_2.npy\", 2) \n",
    "a4_3 = make_lineage('A4', \"../22956814/A4_mask_3.npy\", 3) \n",
    "a4_4 = make_lineage('A4', \"../22956814/A4_mask_4.npy\", 4) \n",
    "a4_5 = make_lineage('A4', \"../22956814/A4_mask_5.npy\", 5) "
   ]
  },
  {
   "cell_type": "code",
   "execution_count": 87,
   "id": "b69754a4",
   "metadata": {},
   "outputs": [
    {
     "data": {
      "text/plain": [
       "svmem(total=439595151360, available=391478181888, percent=10.9, used=44452388864, free=297573847040, active=46360567808, inactive=92048850944, buffers=143462400, cached=97425453056, shared=9052160, slab=2970976256)"
      ]
     },
     "execution_count": 87,
     "metadata": {},
     "output_type": "execute_result"
    }
   ],
   "source": [
    "import psutil\n",
    "psutil.virtual_memory()"
   ]
  },
  {
   "cell_type": "code",
   "execution_count": 91,
   "id": "d171300c",
   "metadata": {},
   "outputs": [
    {
     "data": {
      "text/plain": [
       "{3: {'label': 3,\n",
       "  'frames': [0, 1, 2, 5, 6, 7, 8, 10, 11, 12],\n",
       "  'daughters': [],\n",
       "  'capped': False,\n",
       "  'frame-div': None,\n",
       "  'parent': None}}"
      ]
     },
     "execution_count": 91,
     "metadata": {},
     "output_type": "execute_result"
    }
   ],
   "source": [
    "a4_"
   ]
  },
  {
   "cell_type": "code",
   "execution_count": null,
   "id": "8490a1bf",
   "metadata": {},
   "outputs": [],
   "source": []
  },
  {
   "cell_type": "code",
   "execution_count": 72,
   "id": "e16274d7",
   "metadata": {},
   "outputs": [],
   "source": [
    "# Check gif\n",
    "\n",
    "def plot_gif(np_array, output_fn):\n",
    "    mpl.rcParams['image.interpolation'] = 'none'  # Prevent mpl smoothes the edges\n",
    "    os.mkdir(\"pic_temporary\")  # To temporarily store the files\n",
    "\n",
    "    #spring = cm.get_cmap('spring', 256)\n",
    "    #newcolors = spring(np.linspace(0, 256, 256))\n",
    "    #black = np.array([0/256, 0/256, 0/256, 1])\n",
    "    #newcolors[:1, :] = black\n",
    "    #newcmp = ListedColormap(newcolors)\n",
    "\n",
    "    pic_list = []\n",
    "    flag = 0\n",
    "\n",
    "    for i in range(np_array.shape[0]):\n",
    "        #plt.imshow(np_array[i], cmap=newcmp)\n",
    "        mask = np_array[i]\n",
    "        mask = np.where(mask==0, -1, mask) \n",
    "        #print(np.unique(mask_1))\n",
    "\n",
    "        value = -1\n",
    "        masked_array = np.ma.masked_where(mask == value, mask)\n",
    "\n",
    "        #cmap = mpl.cm.get_cmap(\"spring\")\n",
    "        cmap = mpl.cm.get_cmap(\"spring\").copy()\n",
    "        cmap.set_bad(color='black')\n",
    "        \n",
    "        plt.imshow(masked_array, cmap=cmap)\n",
    "        \n",
    "        fn = 'pic_temporary/%d.jpg' % flag\n",
    "        plt.savefig(fn)\n",
    "        pic_list.append(fn)\n",
    "        flag += 1\n",
    "    \n",
    "    with imageio.get_writer(output_fn, mode='I') as writer:\n",
    "        for filename in pic_list:\n",
    "            image = imageio.imread(filename)\n",
    "            writer.append_data(image)\n",
    "    \n",
    "    # Remove the temporary file\n",
    "    shutil.rmtree(\"pic_temporary\")"
   ]
  },
  {
   "cell_type": "code",
   "execution_count": null,
   "id": "17b5cf6c",
   "metadata": {},
   "outputs": [],
   "source": [
    "plot_gif(np.load('../22956814/A4_mask_4.npy'), '../22956814/gif/A4_mask_4.gif')"
   ]
  }
 ],
 "metadata": {
  "environment": {
   "name": "common-cu110.m76",
   "type": "gcloud",
   "uri": "gcr.io/deeplearning-platform-release/base-cu110:m76"
  },
  "kernelspec": {
   "display_name": "Python [conda env:root] *",
   "language": "python",
   "name": "conda-root-py"
  },
  "language_info": {
   "codemirror_mode": {
    "name": "ipython",
    "version": 3
   },
   "file_extension": ".py",
   "mimetype": "text/x-python",
   "name": "python",
   "nbconvert_exporter": "python",
   "pygments_lexer": "ipython3",
   "version": "3.7.10"
  }
 },
 "nbformat": 4,
 "nbformat_minor": 5
}

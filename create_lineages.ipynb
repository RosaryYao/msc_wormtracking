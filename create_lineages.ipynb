{
 "cells": [
  {
   "cell_type": "code",
   "execution_count": 1,
   "id": "8e44d4b7",
   "metadata": {},
   "outputs": [
    {
     "name": "stderr",
     "output_type": "stream",
     "text": [
      "/opt/conda/lib/python3.7/site-packages/tensorflow-2.5.0-py3.7-linux-x86_64.egg/tensorflow/python/keras/optimizer_v2/optimizer_v2.py:375: UserWarning: The `lr` argument is deprecated, use `learning_rate` instead.\n",
      "  \"The `lr` argument is deprecated, use `learning_rate` instead.\")\n"
     ]
    }
   ],
   "source": [
    "import h5py\n",
    "import matplotlib.pyplot as plt\n",
    "from PIL import Image, ImageDraw\n",
    "import numpy as np\n",
    "import sys\n",
    "import time\n",
    "import pandas as pd\n",
    "import cv2\n",
    "import os\n",
    "import imageio\n",
    "import matplotlib as mpl\n",
    "from matplotlib import cm\n",
    "from matplotlib.colors import ListedColormap, LinearSegmentedColormap\n",
    "import shutil\n",
    "import random\n",
    "\n",
    "from deepcell.utils.tracking_utils import save_trks\n",
    "from deepcell.utils.tracking_utils import load_trks"
   ]
  },
  {
   "cell_type": "code",
   "execution_count": null,
   "id": "0d48c262",
   "metadata": {},
   "outputs": [],
   "source": []
  },
  {
   "cell_type": "code",
   "execution_count": 2,
   "id": "8e32b9d9",
   "metadata": {},
   "outputs": [],
   "source": [
    "# Input file\n",
    "fN = h5py.File(\"../22956814/22956814_featuresN.hdf5\")\n",
    "\n",
    "# Define dorsal and ventral coordinates\n",
    "coordinates = fN['coordinates']\n",
    "dorsal = coordinates['dorsal_contours']\n",
    "ventral = coordinates['ventral_contours']\n",
    "\n",
    "# trajectory_data and timeseries_data\n",
    "traj = pd.read_hdf(\"../22956814/22956814_featuresN.hdf5\", '/trajectories_data')\n",
    "timeseries = fN['timeseries_data']"
   ]
  },
  {
   "cell_type": "code",
   "execution_count": 3,
   "id": "e6faee4a",
   "metadata": {},
   "outputs": [],
   "source": [
    "# Get wells - data from timeseries_data, at position [2]\n",
    "\n",
    "wells = ['A1', 'A2', 'A3', 'A4', 'B1', 'B2', 'B3', 'B4', 'C1', 'C2', 'C3', 'C4', 'D1', 'D2', 'D3', 'D4']\n",
    "#wells = [each.encode() for each in wells]\n",
    "\n",
    "well_dict = {}\n",
    "for each in wells:\n",
    "    well_dict[each] = []\n",
    "    \n",
    "#print('A1'.encode().decode())\n",
    "for i, each in enumerate(timeseries[:]):  # \"i\" == index\n",
    "    well = each[2].decode()\n",
    "    if well in well_dict.keys():\n",
    "        well_dict[well].append(i)"
   ]
  },
  {
   "cell_type": "code",
   "execution_count": null,
   "id": "26912a55",
   "metadata": {},
   "outputs": [],
   "source": []
  },
  {
   "cell_type": "code",
   "execution_count": 4,
   "id": "d034f85c",
   "metadata": {},
   "outputs": [],
   "source": [
    "# ---------------------------NEW---------------------------------------\n",
    "\n",
    "import gc\n",
    "\n",
    "def make_lineage(well, mask_npy, suffix):\n",
    "    \"\"\"suffix = the number at the end of the mask_npy\"\"\"\n",
    "    \n",
    "    array = np.load(mask_npy)\n",
    "    unique_worm_ids = list(np.unique(array))[1:]\n",
    "    \n",
    "    txt = '../22956814/%s_not_empty.txt' % well\n",
    "    with open(txt, 'r') as f:\n",
    "        start_end_samplings = f.read().splitlines()  # Cool!! \n",
    "        frame_start, frame_end, down_sampling = start_end_samplings[suffix-1].split(\",\")\n",
    "        sampling = range(int(frame_start), int(frame_end)+1, int(down_sampling))\n",
    "            \n",
    "    pd = traj.loc[well_dict[well], :]\n",
    "    lineages = {}\n",
    "    \n",
    "    for worm in unique_worm_ids:\n",
    "        #worm_pd = pd.loc[pd['worm_index_joined'] == worm]\n",
    "\n",
    "        nested_dict = {}\n",
    "        nested_dict['label'] = int(worm)\n",
    "\n",
    "        frame_list = [] \n",
    "        \n",
    "        for i, frame in enumerate(array[:]):\n",
    "            unique_pixels = list(np.unique(frame))\n",
    "            if worm in unique_pixels:\n",
    "                frame_list.append(i)\n",
    "                \n",
    "        nested_dict = {}\n",
    "        #nested_dict['label'] = int(worm)\n",
    "        nested_dict['frames'] = frame_list\n",
    "        nested_dict['daughters'] = []\n",
    "        nested_dict['capped'] = False\n",
    "        nested_dict['frame-div'] = None\n",
    "        nested_dict['parent'] = None\n",
    "\n",
    "        lineages[int(worm)] = nested_dict\n",
    "    \n",
    "    del array\n",
    "    gc.collect()\n",
    "        \n",
    "    return lineages"
   ]
  },
  {
   "cell_type": "code",
   "execution_count": null,
   "id": "1972f282",
   "metadata": {},
   "outputs": [],
   "source": []
  },
  {
   "cell_type": "code",
   "execution_count": null,
   "id": "75833da7",
   "metadata": {},
   "outputs": [],
   "source": []
  },
  {
   "cell_type": "code",
   "execution_count": null,
   "id": "1ba7f75d",
   "metadata": {},
   "outputs": [],
   "source": []
  },
  {
   "cell_type": "code",
   "execution_count": 21,
   "id": "068f2180",
   "metadata": {},
   "outputs": [],
   "source": [
    "a1_1 = make_lineage('A1', \"../22956814/A1_mask_1.npy\", 1) \n",
    "\n",
    "# Well A2\n",
    "a2_1 = make_lineage('A2', \"../22956814/A2_mask_1.npy\", 1) \n",
    "a2_2 = make_lineage('A2', \"../22956814/A2_mask_2.npy\", 2) \n",
    "a2_3 = make_lineage('A2', \"../22956814/A2_mask_3.npy\", 3) \n",
    "a2_4 = make_lineage('A2', \"../22956814/A2_mask_4.npy\", 4) \n",
    "a2_5 = make_lineage('A2', \"../22956814/A2_mask_5.npy\", 5) \n",
    "\n",
    "# Well A3\n",
    "a3_1 = make_lineage('A3', \"../22956814/A3_mask_1.npy\", 1) \n",
    "a3_2 = make_lineage('A3', \"../22956814/A3_mask_2.npy\", 2) \n",
    "a3_3 = make_lineage('A3', \"../22956814/A3_mask_3.npy\", 3) \n",
    "a3_4 = make_lineage('A3', \"../22956814/A3_mask_4.npy\", 4) \n",
    "a3_5 = make_lineage('A3', \"../22956814/A3_mask_5.npy\", 5) \n",
    "\n",
    "# Well A4\n",
    "a4_1 = make_lineage('A4', \"../22956814/A4_mask_1.npy\", 1) \n",
    "a4_2 = make_lineage('A4', \"../22956814/A4_mask_2.npy\", 2) \n",
    "a4_3 = make_lineage('A4', \"../22956814/A4_mask_3.npy\", 3) \n",
    "a4_4 = make_lineage('A4', \"../22956814/A4_mask_4.npy\", 4) \n",
    "a4_5 = make_lineage('A4', \"../22956814/A4_mask_5.npy\", 5) "
   ]
  },
  {
   "cell_type": "code",
   "execution_count": 22,
   "id": "e876d58d",
   "metadata": {},
   "outputs": [
    {
     "data": {
      "text/plain": [
       "svmem(total=439595151360, available=429863063552, percent=2.2, used=6089232384, free=231673409536, active=57281249280, inactive=146938855424, buffers=105615360, cached=201726894080, shared=9052160, slab=3146579968)"
      ]
     },
     "execution_count": 22,
     "metadata": {},
     "output_type": "execute_result"
    }
   ],
   "source": [
    "import psutil\n",
    "psutil.virtual_memory()"
   ]
  },
  {
   "cell_type": "code",
   "execution_count": null,
   "id": "845d37fb",
   "metadata": {},
   "outputs": [],
   "source": []
  },
  {
   "cell_type": "markdown",
   "id": "62bdd8cb",
   "metadata": {},
   "source": [
    "# Well Bs"
   ]
  },
  {
   "cell_type": "code",
   "execution_count": 23,
   "id": "ccc21fc7",
   "metadata": {},
   "outputs": [],
   "source": [
    "b1_1 = make_lineage('B1', \"../22956814/B1_mask_1.npy\", 1)\n",
    "\n",
    "b2_1 = make_lineage('B2', \"../22956814/B2_mask_1.npy\", 1)\n",
    "b2_2 = make_lineage('B2', \"../22956814/B2_mask_2.npy\", 2)\n",
    "\n",
    "b3_1 = make_lineage('B3', \"../22956814/B3_mask_1.npy\", 1)\n",
    "b3_2 = make_lineage('B3', \"../22956814/B3_mask_2.npy\", 2)\n",
    "b3_3 = make_lineage('B3', \"../22956814/B3_mask_3.npy\", 3)\n",
    "b3_4 = make_lineage('B3', \"../22956814/B3_mask_4.npy\", 4)\n",
    "b3_5 = make_lineage('B3', \"../22956814/B3_mask_5.npy\", 5)\n",
    "b3_6 = make_lineage('B3', \"../22956814/B3_mask_6.npy\", 6)\n",
    "b3_7 = make_lineage('B3', \"../22956814/B3_mask_7.npy\", 7)\n",
    "b3_8 = make_lineage('B3', \"../22956814/B3_mask_8.npy\", 8)\n",
    "\n",
    "b4_1 = make_lineage('B4', \"../22956814/B4_mask_1.npy\", 1)\n",
    "b4_2 = make_lineage('B4', \"../22956814/B4_mask_2.npy\", 2)\n",
    "b4_3 = make_lineage('B4', \"../22956814/B4_mask_3.npy\", 3)"
   ]
  },
  {
   "cell_type": "code",
   "execution_count": null,
   "id": "b5827a34",
   "metadata": {},
   "outputs": [],
   "source": []
  },
  {
   "cell_type": "markdown",
   "id": "ae4ca682",
   "metadata": {},
   "source": [
    "# Well Cs"
   ]
  },
  {
   "cell_type": "code",
   "execution_count": 24,
   "id": "498b9f4f",
   "metadata": {},
   "outputs": [],
   "source": [
    "c1_1 = make_lineage('C1', \"../22956814/C1_mask_1.npy\", 1)\n",
    "c1_2 = make_lineage('C1', \"../22956814/C1_mask_2.npy\", 2)\n",
    "c1_3 = make_lineage('C1', \"../22956814/C1_mask_3.npy\", 3)\n",
    "c1_4 = make_lineage('C1', \"../22956814/C1_mask_4.npy\", 4)\n",
    "c1_5 = make_lineage('C1', \"../22956814/C1_mask_5.npy\", 5)\n",
    "c1_6 = make_lineage('C1', \"../22956814/C1_mask_6.npy\", 6)\n",
    "c1_7 = make_lineage('C1', \"../22956814/C1_mask_7.npy\", 7)\n",
    "\n",
    "c2_1 = make_lineage('C2', \"../22956814/C2_mask_1.npy\", 1)\n",
    "c2_2 = make_lineage('C2', \"../22956814/C2_mask_2.npy\", 2)\n",
    "\n",
    "c3_1 = make_lineage('C3', \"../22956814/C3_mask_1.npy\", 1)\n",
    "c3_2 = make_lineage('C3', \"../22956814/C3_mask_2.npy\", 2)\n",
    "c3_3 = make_lineage('C3', \"../22956814/C3_mask_3.npy\", 3)\n",
    "\n",
    "c4_1 = make_lineage('C4', \"../22956814/C4_mask_1.npy\", 1)\n",
    "c4_2 = make_lineage('C4', \"../22956814/C4_mask_2.npy\", 2)"
   ]
  },
  {
   "cell_type": "code",
   "execution_count": null,
   "id": "3c700fbb",
   "metadata": {},
   "outputs": [],
   "source": []
  },
  {
   "cell_type": "markdown",
   "id": "606ad971",
   "metadata": {},
   "source": [
    "# Well Ds"
   ]
  },
  {
   "cell_type": "code",
   "execution_count": 25,
   "id": "2211695a",
   "metadata": {},
   "outputs": [],
   "source": [
    "d1_1 = make_lineage('D1', \"../22956814/D1_mask_1.npy\", 1)\n",
    "d1_2 = make_lineage('D1', \"../22956814/D1_mask_2.npy\", 2)\n",
    "d1_3 = make_lineage('D1', \"../22956814/D1_mask_3.npy\", 3)\n",
    "d1_4 = make_lineage('D1', \"../22956814/D1_mask_4.npy\", 4)\n",
    "\n",
    "d2_1 = make_lineage('D2', \"../22956814/D2_mask_1.npy\", 1)\n",
    "d2_2 = make_lineage('D2', \"../22956814/D2_mask_2.npy\", 2)\n",
    "\n",
    "d3_1 = make_lineage('D3', \"../22956814/D3_mask_1.npy\", 1)\n",
    "d3_2 = make_lineage('D3', \"../22956814/D3_mask_2.npy\", 2)\n",
    "d3_3 = make_lineage('D3', \"../22956814/D3_mask_3.npy\", 3)\n",
    "d3_4 = make_lineage('D3', \"../22956814/D3_mask_4.npy\", 4)\n",
    "d3_5 = make_lineage('D3', \"../22956814/D3_mask_5.npy\", 5)\n",
    "d3_6 = make_lineage('D3', \"../22956814/D3_mask_6.npy\", 6)\n",
    "d3_7 = make_lineage('D3', \"../22956814/D3_mask_7.npy\", 7)\n",
    "d3_8 = make_lineage('D3', \"../22956814/D3_mask_8.npy\", 8)\n",
    "d3_9 = make_lineage('D3', \"../22956814/D3_mask_9.npy\", 9)\n",
    "d3_10 = make_lineage('D3', \"../22956814/D3_mask_10.npy\", 10)\n",
    "d3_11 = make_lineage('D3', \"../22956814/D3_mask_11.npy\", 11)\n",
    "\n",
    "d4_1 = make_lineage('D4', \"../22956814/D4_mask_1.npy\", 1)\n",
    "d4_2 = make_lineage('D4', \"../22956814/D4_mask_2.npy\", 2)\n",
    "d4_3 = make_lineage('D4', \"../22956814/D4_mask_3.npy\", 3)\n",
    "d4_4 = make_lineage('D4', \"../22956814/D4_mask_4.npy\", 4)\n",
    "d4_5 = make_lineage('D4', \"../22956814/D4_mask_5.npy\", 5)\n",
    "d4_6 = make_lineage('D4', \"../22956814/D4_mask_6.npy\", 6)\n",
    "d4_7 = make_lineage('D4', \"../22956814/D4_mask_7.npy\", 7)\n",
    "d4_8 = make_lineage('D4', \"../22956814/D4_mask_8.npy\", 8)\n",
    "d4_9 = make_lineage('D4', \"../22956814/D4_mask_9.npy\", 9)\n",
    "d4_10 = make_lineage('D4', \"../22956814/D4_mask_10.npy\", 10)\n",
    "d4_11 = make_lineage('D4', \"../22956814/D4_mask_11.npy\", 11)\n",
    "d4_12 = make_lineage('D4', \"../22956814/D4_mask_12.npy\", 12)"
   ]
  },
  {
   "cell_type": "code",
   "execution_count": null,
   "id": "2d3a9ec8",
   "metadata": {},
   "outputs": [],
   "source": []
  },
  {
   "cell_type": "code",
   "execution_count": 27,
   "id": "e25d4985",
   "metadata": {},
   "outputs": [],
   "source": [
    "# Load them all into .trks\n",
    "\n",
    "masks_fn = [\n",
    "    \"../22956814/A1_mask_1.npy\",\n",
    "    \"../22956814/A2_mask_1.npy\",\n",
    "    \"../22956814/A2_mask_2.npy\",\n",
    "    \"../22956814/A2_mask_3.npy\",\n",
    "    \"../22956814/A2_mask_4.npy\",\n",
    "    \"../22956814/A2_mask_5.npy\",\n",
    "    \"../22956814/A3_mask_1.npy\",\n",
    "    \"../22956814/A3_mask_2.npy\",\n",
    "    \"../22956814/A3_mask_3.npy\",\n",
    "    \"../22956814/A3_mask_4.npy\",\n",
    "    \"../22956814/A3_mask_5.npy\",\n",
    "    \"../22956814/A4_mask_1.npy\",\n",
    "    \"../22956814/A4_mask_2.npy\",\n",
    "    \"../22956814/A4_mask_3.npy\",\n",
    "    \"../22956814/A4_mask_4.npy\",\n",
    "    \"../22956814/A4_mask_5.npy\",\n",
    "    \"../22956814/B1_mask_1.npy\",\n",
    "    \"../22956814/B2_mask_1.npy\",\n",
    "    \"../22956814/B2_mask_2.npy\",\n",
    "    \"../22956814/B3_mask_1.npy\",\n",
    "    \"../22956814/B3_mask_2.npy\",\n",
    "    \"../22956814/B3_mask_3.npy\",\n",
    "    \"../22956814/B3_mask_4.npy\",\n",
    "    \"../22956814/B3_mask_5.npy\",\n",
    "    \"../22956814/B3_mask_6.npy\",\n",
    "    \"../22956814/B3_mask_7.npy\",\n",
    "    \"../22956814/B3_mask_8.npy\",\n",
    "    \"../22956814/B4_mask_1.npy\",\n",
    "    \"../22956814/B4_mask_2.npy\",\n",
    "    \"../22956814/B4_mask_3.npy\",\n",
    "    \"../22956814/C1_mask_1.npy\",\n",
    "    \"../22956814/C1_mask_2.npy\",\n",
    "    \"../22956814/C1_mask_3.npy\",\n",
    "    \"../22956814/C1_mask_4.npy\",\n",
    "    \"../22956814/C1_mask_5.npy\",\n",
    "    \"../22956814/C1_mask_6.npy\",\n",
    "    \"../22956814/C1_mask_7.npy\",\n",
    "    \"../22956814/C2_mask_1.npy\",\n",
    "    \"../22956814/C2_mask_2.npy\",\n",
    "    \"../22956814/C3_mask_1.npy\",\n",
    "    \"../22956814/C3_mask_2.npy\",\n",
    "    \"../22956814/C3_mask_3.npy\",\n",
    "    \"../22956814/C4_mask_1.npy\",\n",
    "    \"../22956814/C4_mask_2.npy\",\n",
    "    \"../22956814/D1_mask_1.npy\",\n",
    "    \"../22956814/D1_mask_2.npy\",\n",
    "    \"../22956814/D1_mask_3.npy\",\n",
    "    \"../22956814/D1_mask_4.npy\",\n",
    "    \"../22956814/D2_mask_1.npy\",\n",
    "    \"../22956814/D2_mask_2.npy\",\n",
    "    \"../22956814/D3_mask_1.npy\",\n",
    "    \"../22956814/D3_mask_2.npy\",\n",
    "    \"../22956814/D3_mask_3.npy\",\n",
    "    \"../22956814/D3_mask_4.npy\",\n",
    "    \"../22956814/D3_mask_5.npy\",\n",
    "    \"../22956814/D3_mask_6.npy\",\n",
    "    \"../22956814/D3_mask_7.npy\",\n",
    "    \"../22956814/D3_mask_8.npy\",\n",
    "    \"../22956814/D3_mask_9.npy\",\n",
    "    \"../22956814/D3_mask_10.npy\",\n",
    "    \"../22956814/D3_mask_11.npy\",\n",
    "    \"../22956814/D4_mask_1.npy\",\n",
    "    \"../22956814/D4_mask_2.npy\",\n",
    "    \"../22956814/D4_mask_3.npy\",\n",
    "    \"../22956814/D4_mask_4.npy\",\n",
    "    \"../22956814/D4_mask_5.npy\",\n",
    "    \"../22956814/D4_mask_6.npy\",\n",
    "    \"../22956814/D4_mask_7.npy\",\n",
    "    \"../22956814/D4_mask_8.npy\",\n",
    "    \"../22956814/D4_mask_9.npy\",\n",
    "    \"../22956814/D4_mask_10.npy\",\n",
    "    \"../22956814/D4_mask_11.npy\",\n",
    "    \"../22956814/D4_mask_12.npy\"\n",
    "]\n"
   ]
  },
  {
   "cell_type": "code",
   "execution_count": null,
   "id": "13eabfee",
   "metadata": {},
   "outputs": [],
   "source": []
  },
  {
   "cell_type": "code",
   "execution_count": 7,
   "id": "e647296a",
   "metadata": {},
   "outputs": [],
   "source": [
    "raws_fn = [\n",
    "    \"../22956814/A1_raw_1.npy\",\n",
    "    \"../22956814/A2_raw_1.npy\",\n",
    "    \"../22956814/A2_raw_2.npy\",\n",
    "    \"../22956814/A2_raw_3.npy\",\n",
    "    \"../22956814/A2_raw_4.npy\",\n",
    "    \"../22956814/A2_raw_5.npy\",\n",
    "    \"../22956814/A3_raw_1.npy\",\n",
    "    \"../22956814/A3_raw_2.npy\",\n",
    "    \"../22956814/A3_raw_3.npy\",\n",
    "    \"../22956814/A3_raw_4.npy\",\n",
    "    \"../22956814/A3_raw_5.npy\",\n",
    "    \"../22956814/A4_raw_1.npy\",\n",
    "    \"../22956814/A4_raw_2.npy\",\n",
    "    \"../22956814/A4_raw_3.npy\",\n",
    "    \"../22956814/A4_raw_4.npy\",\n",
    "    \"../22956814/A4_raw_5.npy\",\n",
    "    \"../22956814/B1_raw_1.npy\",\n",
    "    \"../22956814/B2_raw_1.npy\",\n",
    "    \"../22956814/B2_raw_2.npy\",\n",
    "    \"../22956814/B3_raw_1.npy\",\n",
    "    \"../22956814/B3_raw_2.npy\",\n",
    "    \"../22956814/B3_raw_3.npy\",\n",
    "    \"../22956814/B3_raw_4.npy\",\n",
    "    \"../22956814/B3_raw_5.npy\",\n",
    "    \"../22956814/B3_raw_6.npy\",\n",
    "    \"../22956814/B3_raw_7.npy\",\n",
    "    \"../22956814/B3_raw_8.npy\",\n",
    "    \"../22956814/B4_raw_1.npy\",\n",
    "    \"../22956814/B4_raw_2.npy\",\n",
    "    \"../22956814/B4_raw_3.npy\",\n",
    "    \"../22956814/C1_raw_1.npy\",\n",
    "    \"../22956814/C1_raw_2.npy\",\n",
    "    \"../22956814/C1_raw_3.npy\",\n",
    "    \"../22956814/C1_raw_4.npy\",\n",
    "    \"../22956814/C1_raw_5.npy\",\n",
    "    \"../22956814/C1_raw_6.npy\",\n",
    "    \"../22956814/C1_raw_7.npy\",\n",
    "    \"../22956814/C2_raw_1.npy\",\n",
    "    \"../22956814/C2_raw_2.npy\",\n",
    "    \"../22956814/C3_raw_1.npy\",\n",
    "    \"../22956814/C3_raw_2.npy\",\n",
    "    \"../22956814/C3_raw_3.npy\",\n",
    "    \"../22956814/C4_raw_1.npy\",\n",
    "    \"../22956814/C4_raw_2.npy\",\n",
    "    \"../22956814/D1_raw_1.npy\",\n",
    "    \"../22956814/D1_raw_2.npy\",\n",
    "    \"../22956814/D1_raw_3.npy\",\n",
    "    \"../22956814/D1_raw_4.npy\",\n",
    "    \"../22956814/D2_raw_1.npy\",\n",
    "    \"../22956814/D2_raw_2.npy\",\n",
    "    \"../22956814/D3_raw_1.npy\",\n",
    "    \"../22956814/D3_raw_2.npy\",\n",
    "    \"../22956814/D3_raw_3.npy\",\n",
    "    \"../22956814/D3_raw_4.npy\",\n",
    "    \"../22956814/D3_raw_5.npy\",\n",
    "    \"../22956814/D3_raw_6.npy\",\n",
    "    \"../22956814/D3_raw_7.npy\",\n",
    "    \"../22956814/D3_raw_8.npy\",\n",
    "    \"../22956814/D3_raw_9.npy\",\n",
    "    \"../22956814/D3_raw_10.npy\",\n",
    "    \"../22956814/D3_raw_11.npy\",\n",
    "    \"../22956814/D4_raw_1.npy\",\n",
    "    \"../22956814/D4_raw_2.npy\",\n",
    "    \"../22956814/D4_raw_3.npy\",\n",
    "    \"../22956814/D4_raw_4.npy\",\n",
    "    \"../22956814/D4_raw_5.npy\",\n",
    "    \"../22956814/D4_raw_6.npy\",\n",
    "    \"../22956814/D4_raw_7.npy\",\n",
    "    \"../22956814/D4_raw_8.npy\",\n",
    "    \"../22956814/D4_raw_9.npy\",\n",
    "    \"../22956814/D4_raw_10.npy\",\n",
    "    \"../22956814/D4_raw_11.npy\",\n",
    "    \"../22956814/D4_raw_12.npy\"\n",
    "]"
   ]
  },
  {
   "cell_type": "code",
   "execution_count": 29,
   "id": "e08c6ef6",
   "metadata": {},
   "outputs": [],
   "source": [
    "y = []\n",
    "y_indices = []\n",
    "\n",
    "for i, mask in enumerate(masks_fn):\n",
    "    mask_array = np.load(mask)\n",
    "    if mask_array.shape[0] == 100:\n",
    "        y.append(mask_array)\n",
    "        y_indices.append(i)"
   ]
  },
  {
   "cell_type": "code",
   "execution_count": 30,
   "id": "52702465",
   "metadata": {},
   "outputs": [
    {
     "name": "stdout",
     "output_type": "stream",
     "text": [
      "26\n",
      "26\n"
     ]
    }
   ],
   "source": [
    "print(len(y))\n",
    "print(len(y_indices))"
   ]
  },
  {
   "cell_type": "code",
   "execution_count": 32,
   "id": "bc1850af",
   "metadata": {},
   "outputs": [],
   "source": [
    "X = []\n",
    "\n",
    "for i in y_indices:\n",
    "    raw_array = np.load(raws_fn[i])\n",
    "    X.append(raw_array)"
   ]
  },
  {
   "cell_type": "code",
   "execution_count": 33,
   "id": "b74f8efd",
   "metadata": {},
   "outputs": [
    {
     "name": "stdout",
     "output_type": "stream",
     "text": [
      "26\n"
     ]
    }
   ],
   "source": [
    "print(len(X))"
   ]
  },
  {
   "cell_type": "code",
   "execution_count": null,
   "id": "8d988349",
   "metadata": {},
   "outputs": [],
   "source": []
  },
  {
   "cell_type": "code",
   "execution_count": 28,
   "id": "608b452b",
   "metadata": {},
   "outputs": [],
   "source": [
    "lineages = [\n",
    "    a1_1,\n",
    "    a2_1,\n",
    "    a2_2,\n",
    "    a2_3,\n",
    "    a2_4,\n",
    "    a2_5,\n",
    "    a3_1,\n",
    "    a3_2,\n",
    "    a3_3,\n",
    "    a3_4,\n",
    "    a3_5,\n",
    "    a4_1,\n",
    "    a4_2,\n",
    "    a4_3,\n",
    "    a4_4,\n",
    "    a4_5,\n",
    "    b1_1,\n",
    "    b2_1,\n",
    "    b2_2,\n",
    "    b3_1,\n",
    "    b3_2,\n",
    "    b3_3,\n",
    "    b3_4,\n",
    "    b3_5,\n",
    "    b3_6,\n",
    "    b3_7,\n",
    "    b3_8,\n",
    "    b4_1,\n",
    "    b4_2,\n",
    "    b4_3,\n",
    "    c1_1,\n",
    "    c1_2,\n",
    "    c1_3,\n",
    "    c1_4,\n",
    "    c1_5,\n",
    "    c1_6,\n",
    "    c1_7,\n",
    "    c2_1,\n",
    "    c2_2,\n",
    "    c3_1,\n",
    "    c3_2,\n",
    "    c3_3,\n",
    "    c4_1,\n",
    "    c4_2,\n",
    "    d1_1,\n",
    "    d1_2,\n",
    "    d1_3,\n",
    "    d1_4,\n",
    "    d2_1,\n",
    "    d2_2,\n",
    "    d3_1,\n",
    "    d3_2,\n",
    "    d3_3,\n",
    "    d3_4,\n",
    "    d3_5,\n",
    "    d3_6,\n",
    "    d3_7,\n",
    "    d3_8,\n",
    "    d3_9,\n",
    "    d3_10,\n",
    "    d3_11,\n",
    "    d4_1,\n",
    "    d4_2,\n",
    "    d4_3,\n",
    "    d4_4,\n",
    "    d4_5,\n",
    "    d4_6,\n",
    "    d4_7,\n",
    "    d4_8,\n",
    "    d4_9,\n",
    "    d4_10,\n",
    "    d4_11,\n",
    "    d4_12\n",
    "]"
   ]
  },
  {
   "cell_type": "code",
   "execution_count": 34,
   "id": "b3d363cd",
   "metadata": {},
   "outputs": [
    {
     "data": {
      "text/plain": [
       "73"
      ]
     },
     "execution_count": 34,
     "metadata": {},
     "output_type": "execute_result"
    }
   ],
   "source": [
    "len(lineages)"
   ]
  },
  {
   "cell_type": "code",
   "execution_count": 35,
   "id": "db607e26",
   "metadata": {},
   "outputs": [],
   "source": [
    "lineages_true = []\n",
    "\n",
    "for i in y_indices:\n",
    "    lineages_true.append(lineages[i])"
   ]
  },
  {
   "cell_type": "code",
   "execution_count": 36,
   "id": "be5c3806",
   "metadata": {},
   "outputs": [
    {
     "name": "stdout",
     "output_type": "stream",
     "text": [
      "26\n"
     ]
    }
   ],
   "source": [
    "print(len(lineages_true))"
   ]
  },
  {
   "cell_type": "code",
   "execution_count": null,
   "id": "7d92de0a",
   "metadata": {},
   "outputs": [],
   "source": []
  },
  {
   "cell_type": "code",
   "execution_count": 37,
   "id": "889128b3",
   "metadata": {},
   "outputs": [],
   "source": [
    "save_trks(\"../22956814.trks\", lineages_true, X, y)"
   ]
  },
  {
   "cell_type": "code",
   "execution_count": null,
   "id": "6c56d3e7",
   "metadata": {},
   "outputs": [],
   "source": []
  },
  {
   "cell_type": "code",
   "execution_count": 38,
   "id": "dfba3098",
   "metadata": {},
   "outputs": [
    {
     "name": "stdout",
     "output_type": "stream",
     "text": [
      "Dataset Statistics: \n",
      "Image data shape:  (26, 100, 530, 530, 1)\n",
      "Number of lineages (should equal batch size):  26\n",
      "Total number of unique tracks (cells)      -  56\n",
      "Total number of divisions                  -  0\n",
      "Average cell density (cells/100 sq pixels) -  0.00034764630172248544\n",
      "Average number of frames per track         -  53\n"
     ]
    }
   ],
   "source": [
    "from deepcell.utils.tracking_utils import trks_stats\n",
    "\n",
    "trks_stats(\"../22956814.trks\")\n",
    "\n",
    "####### IMPORTANT! error ALERT!!!"
   ]
  },
  {
   "cell_type": "code",
   "execution_count": null,
   "id": "99081a2d",
   "metadata": {},
   "outputs": [],
   "source": []
  },
  {
   "cell_type": "code",
   "execution_count": null,
   "id": "d6801dea",
   "metadata": {},
   "outputs": [],
   "source": [
    "# Why NaNs?\n",
    "\n",
    "for i, each in enumerate(X):\n",
    "    array_sum = np.sum(each)\n",
    "    array_has_nan = np.isnan(array_sum)\n",
    "    if array_has_nan == True:\n",
    "        print(i)"
   ]
  },
  {
   "cell_type": "code",
   "execution_count": null,
   "id": "8e09e96a",
   "metadata": {},
   "outputs": [],
   "source": []
  },
  {
   "cell_type": "code",
   "execution_count": null,
   "id": "eab97641",
   "metadata": {},
   "outputs": [],
   "source": []
  },
  {
   "cell_type": "code",
   "execution_count": 13,
   "id": "26b94da3",
   "metadata": {},
   "outputs": [],
   "source": [
    "# Check gif\n",
    "\n",
    "def plot_gif(np_array, output_fn):\n",
    "    mpl.rcParams['image.interpolation'] = 'none'  # Prevent mpl smoothes the edges\n",
    "    os.mkdir(\"pic_temporary\")  # To temporarily store the files\n",
    "\n",
    "    #spring = cm.get_cmap('spring', 256)\n",
    "    #newcolors = spring(np.linspace(0, 256, 256))\n",
    "    #black = np.array([0/256, 0/256, 0/256, 1])\n",
    "    #newcolors[:1, :] = black\n",
    "    #newcmp = ListedColormap(newcolors)\n",
    "\n",
    "    pic_list = []\n",
    "    flag = 0\n",
    "\n",
    "    for i in range(np_array.shape[0]):\n",
    "        #plt.imshow(np_array[i], cmap=newcmp)\n",
    "        mask = np_array[i]\n",
    "        mask = np.where(mask==0, -1, mask) \n",
    "        #print(np.unique(mask_1))\n",
    "\n",
    "        value = -1\n",
    "        masked_array = np.ma.masked_where(mask == value, mask)\n",
    "\n",
    "        #cmap = mpl.cm.get_cmap(\"spring\")\n",
    "        cmap = mpl.cm.get_cmap(\"spring\").copy()\n",
    "        cmap.set_bad(color='black')\n",
    "        \n",
    "        plt.imshow(masked_array, cmap=cmap)\n",
    "        \n",
    "        fn = 'pic_temporary/%d.jpg' % flag\n",
    "        plt.savefig(fn)\n",
    "        pic_list.append(fn)\n",
    "        flag += 1\n",
    "    \n",
    "    with imageio.get_writer(output_fn, mode='I') as writer:\n",
    "        for filename in pic_list:\n",
    "            image = imageio.imread(filename)\n",
    "            writer.append_data(image)\n",
    "    \n",
    "    # Remove the temporary file\n",
    "    shutil.rmtree(\"pic_temporary\")"
   ]
  },
  {
   "cell_type": "code",
   "execution_count": null,
   "id": "2e14d3db",
   "metadata": {},
   "outputs": [],
   "source": []
  },
  {
   "cell_type": "code",
   "execution_count": 108,
   "id": "6638fee3",
   "metadata": {},
   "outputs": [],
   "source": [
    "# Source code from deepcell_trakcing/utils.py\n",
    "from deepcell.utils.tracking_utils import save_trks, load_trks, trks_stats\n",
    "\n",
    "training_data = load_trks('../22956814.trks')\n",
    "X = training_data['X']\n",
    "y = training_data['y']\n",
    "daughters = [{cell: fields['daughters']\n",
    "                for cell, fields in tracks.items()}\n",
    "                for tracks in training_data['lineages']]"
   ]
  },
  {
   "cell_type": "code",
   "execution_count": null,
   "id": "7ae5fc6f",
   "metadata": {},
   "outputs": [],
   "source": [
    "import numpy as np\n",
    "\n",
    "# Calculate division information\n",
    "total_tracks = 0\n",
    "total_divisions = 0\n",
    "avg_frame_counts_in_batches = []\n",
    "for batch, daughter_batch in enumerate(daughters):\n",
    "    num_tracks_in_batch = len(daughter_batch)\n",
    "    #print(\"1: \", num_tracks_in_batch)\n",
    "    num_div_in_batch = len([c for c in daughter_batch if daughter_batch[c]])\n",
    "    #print(\"2: \", num_div_in_batch)\n",
    "    total_tracks = total_tracks + num_tracks_in_batch\n",
    "    #print(\"3 (total_tracks): \", total_tracks)\n",
    "    total_divisions = total_divisions + num_div_in_batch\n",
    "    frame_counts = []\n",
    "    for cell_id in daughter_batch.keys():\n",
    "        frame_count = 0\n",
    "        for frame in y[batch]:\n",
    "            cells_in_frame = np.unique(frame)\n",
    "            if cell_id in cells_in_frame:\n",
    "                frame_count += 1\n",
    "                # print(cell_id)  # Does print!\n",
    "        frame_counts.append(frame_count)\n",
    "        # print(frame_count)  # Does print!\n",
    "    avg_frame_counts_in_batches.append(np.average(frame_counts))\n",
    "    # print(frame_counts)  # Does print!!\n",
    "print(avg_frame_counts_in_batches)\n",
    "avg_num_frames_per_track = np.average(avg_frame_counts_in_batches)"
   ]
  },
  {
   "cell_type": "code",
   "execution_count": null,
   "id": "a1a75e50",
   "metadata": {},
   "outputs": [],
   "source": []
  },
  {
   "cell_type": "code",
   "execution_count": null,
   "id": "91217745",
   "metadata": {},
   "outputs": [],
   "source": []
  },
  {
   "cell_type": "code",
   "execution_count": null,
   "id": "a1ea228b",
   "metadata": {},
   "outputs": [],
   "source": [
    "len(avg_frame_counts_in_batches)  # 23 is nan\n",
    "#np.nanmean(a_list)"
   ]
  },
  {
   "cell_type": "code",
   "execution_count": null,
   "id": "2f889ae1",
   "metadata": {},
   "outputs": [],
   "source": [
    "b1_1 = make_lineage('B1', \"../22956814/B1_mask_1.npy\", 1)\n",
    "b1_2 = make_lineage('B1', \"../22956814/B1_mask_2.npy\", 2)"
   ]
  },
  {
   "cell_type": "code",
   "execution_count": null,
   "id": "68d860c3",
   "metadata": {},
   "outputs": [],
   "source": [
    "b1_2"
   ]
  },
  {
   "cell_type": "code",
   "execution_count": null,
   "id": "ad1c6015",
   "metadata": {},
   "outputs": [],
   "source": []
  },
  {
   "cell_type": "code",
   "execution_count": null,
   "id": "f111050d",
   "metadata": {},
   "outputs": [],
   "source": [
    "# TEST with smaller number"
   ]
  },
  {
   "cell_type": "code",
   "execution_count": 10,
   "id": "0624cfa7",
   "metadata": {},
   "outputs": [],
   "source": [
    "y = []\n",
    "y_indices = []\n",
    "\n",
    "for i, mask in enumerate(masks_fn):\n",
    "    mask_array = np.load(mask)\n",
    "    if mask_array.shape[0] == 100:\n",
    "        y.append(mask_array)\n",
    "        y_indices.append(i)"
   ]
  },
  {
   "cell_type": "code",
   "execution_count": 11,
   "id": "4885ebca",
   "metadata": {},
   "outputs": [],
   "source": [
    "X = []\n",
    "\n",
    "for i in y_indices:\n",
    "    raw_array = np.load(raws_fn[i])\n",
    "    X.append(raw_array)"
   ]
  },
  {
   "cell_type": "code",
   "execution_count": 12,
   "id": "49df6f18",
   "metadata": {},
   "outputs": [],
   "source": [
    "lineages_true = []\n",
    "\n",
    "for i in y_indices:\n",
    "    lineages_true.append(lineages[i])"
   ]
  },
  {
   "cell_type": "code",
   "execution_count": 13,
   "id": "0bbe6872",
   "metadata": {},
   "outputs": [],
   "source": [
    "from deepcell.utils.tracking_utils import save_trks\n",
    "\n",
    "save_trks(\"../22956814_small.trks\", lineages_true, X, y)"
   ]
  },
  {
   "cell_type": "code",
   "execution_count": 16,
   "id": "3d33c564",
   "metadata": {},
   "outputs": [
    {
     "name": "stdout",
     "output_type": "stream",
     "text": [
      "Dataset Statistics: \n",
      "Image data shape:  (14, 100, 530, 530, 1)\n",
      "Number of lineages (should equal batch size):  14\n",
      "Total number of unique tracks (cells)      -  19\n",
      "Total number of divisions                  -  0\n",
      "Average cell density (cells/100 sq pixels) -  0.00034760718099984743\n",
      "Average number of frames per track         -  70\n"
     ]
    }
   ],
   "source": [
    "from deepcell.utils.tracking_utils import trks_stats\n",
    "\n",
    "trks_stats(\"../22956814_small.trks\")"
   ]
  },
  {
   "cell_type": "markdown",
   "id": "0dfaf6df",
   "metadata": {},
   "source": [
    "# Sequential worm indices"
   ]
  },
  {
   "cell_type": "code",
   "execution_count": 5,
   "id": "6049878e",
   "metadata": {},
   "outputs": [],
   "source": [
    "# For sequential\n",
    "\n",
    "a1_1 = make_lineage('A1', \"../22956814/A1_mask_seq_1.npy\", 1) \n",
    "a2_1 = make_lineage('A2', \"../22956814/A2_mask_seq_1.npy\", 1) \n",
    "a2_2 = make_lineage('A2', \"../22956814/A2_mask_seq_2.npy\", 2) \n",
    "a2_3 = make_lineage('A2', \"../22956814/A2_mask_seq_3.npy\", 3) \n",
    "a2_4 = make_lineage('A2', \"../22956814/A2_mask_seq_4.npy\", 4) \n",
    "a2_5 = make_lineage('A2', \"../22956814/A2_mask_seq_5.npy\", 5) \n",
    "a3_1 = make_lineage('A3', \"../22956814/A3_mask_seq_1.npy\", 1) \n",
    "a3_2 = make_lineage('A3', \"../22956814/A3_mask_seq_2.npy\", 2) \n",
    "a3_3 = make_lineage('A3', \"../22956814/A3_mask_seq_3.npy\", 3) \n",
    "a3_4 = make_lineage('A3', \"../22956814/A3_mask_seq_4.npy\", 4) \n",
    "a3_5 = make_lineage('A3', \"../22956814/A3_mask_seq_5.npy\", 5) \n",
    "a4_1 = make_lineage('A4', \"../22956814/A4_mask_seq_1.npy\", 1) \n",
    "a4_2 = make_lineage('A4', \"../22956814/A4_mask_seq_2.npy\", 2) \n",
    "a4_3 = make_lineage('A4', \"../22956814/A4_mask_seq_3.npy\", 3) \n",
    "a4_4 = make_lineage('A4', \"../22956814/A4_mask_seq_4.npy\", 4) \n",
    "a4_5 = make_lineage('A4', \"../22956814/A4_mask_seq_5.npy\", 5) \n",
    "b1_1 = make_lineage('B1', \"../22956814/B1_mask_seq_1.npy\", 1)\n",
    "b2_1 = make_lineage('B2', \"../22956814/B2_mask_seq_1.npy\", 1)\n",
    "b2_2 = make_lineage('B2', \"../22956814/B2_mask_seq_2.npy\", 2)\n",
    "b3_1 = make_lineage('B3', \"../22956814/B3_mask_seq_1.npy\", 1)\n",
    "b3_2 = make_lineage('B3', \"../22956814/B3_mask_seq_2.npy\", 2)\n",
    "b3_3 = make_lineage('B3', \"../22956814/B3_mask_seq_3.npy\", 3)\n",
    "b3_4 = make_lineage('B3', \"../22956814/B3_mask_seq_4.npy\", 4)\n",
    "b3_5 = make_lineage('B3', \"../22956814/B3_mask_seq_5.npy\", 5)\n",
    "b3_6 = make_lineage('B3', \"../22956814/B3_mask_seq_6.npy\", 6)\n",
    "b3_7 = make_lineage('B3', \"../22956814/B3_mask_seq_7.npy\", 7)\n",
    "b3_8 = make_lineage('B3', \"../22956814/B3_mask_seq_8.npy\", 8)\n",
    "b4_1 = make_lineage('B4', \"../22956814/B4_mask_seq_1.npy\", 1)\n",
    "b4_2 = make_lineage('B4', \"../22956814/B4_mask_seq_2.npy\", 2)\n",
    "b4_3 = make_lineage('B4', \"../22956814/B4_mask_seq_3.npy\", 3)\n",
    "c1_1 = make_lineage('C1', \"../22956814/C1_mask_seq_1.npy\", 1)\n",
    "c1_2 = make_lineage('C1', \"../22956814/C1_mask_seq_2.npy\", 2)\n",
    "c1_3 = make_lineage('C1', \"../22956814/C1_mask_seq_3.npy\", 3)\n",
    "c1_4 = make_lineage('C1', \"../22956814/C1_mask_seq_4.npy\", 4)\n",
    "c1_5 = make_lineage('C1', \"../22956814/C1_mask_seq_5.npy\", 5)\n",
    "c1_6 = make_lineage('C1', \"../22956814/C1_mask_seq_6.npy\", 6)\n",
    "c1_7 = make_lineage('C1', \"../22956814/C1_mask_seq_7.npy\", 7)\n",
    "c2_1 = make_lineage('C2', \"../22956814/C2_mask_seq_1.npy\", 1)\n",
    "c2_2 = make_lineage('C2', \"../22956814/C2_mask_seq_2.npy\", 2)\n",
    "c3_1 = make_lineage('C3', \"../22956814/C3_mask_seq_1.npy\", 1)\n",
    "c3_2 = make_lineage('C3', \"../22956814/C3_mask_seq_2.npy\", 2)\n",
    "c3_3 = make_lineage('C3', \"../22956814/C3_mask_seq_3.npy\", 3)\n",
    "c4_1 = make_lineage('C4', \"../22956814/C4_mask_seq_1.npy\", 1)\n",
    "c4_2 = make_lineage('C4', \"../22956814/C4_mask_seq_2.npy\", 2)\n",
    "d1_1 = make_lineage('D1', \"../22956814/D1_mask_seq_1.npy\", 1)\n",
    "d1_2 = make_lineage('D1', \"../22956814/D1_mask_seq_2.npy\", 2)\n",
    "d1_3 = make_lineage('D1', \"../22956814/D1_mask_seq_3.npy\", 3)\n",
    "d1_4 = make_lineage('D1', \"../22956814/D1_mask_seq_4.npy\", 4)\n",
    "d2_1 = make_lineage('D2', \"../22956814/D2_mask_seq_1.npy\", 1)\n",
    "d2_2 = make_lineage('D2', \"../22956814/D2_mask_seq_2.npy\", 2)\n",
    "d3_1 = make_lineage('D3', \"../22956814/D3_mask_seq_1.npy\", 1)\n",
    "d3_2 = make_lineage('D3', \"../22956814/D3_mask_seq_2.npy\", 2)\n",
    "d3_3 = make_lineage('D3', \"../22956814/D3_mask_seq_3.npy\", 3)\n",
    "d3_4 = make_lineage('D3', \"../22956814/D3_mask_seq_4.npy\", 4)\n",
    "d3_5 = make_lineage('D3', \"../22956814/D3_mask_seq_5.npy\", 5)\n",
    "d3_6 = make_lineage('D3', \"../22956814/D3_mask_seq_6.npy\", 6)\n",
    "d3_7 = make_lineage('D3', \"../22956814/D3_mask_seq_7.npy\", 7)\n",
    "d3_8 = make_lineage('D3', \"../22956814/D3_mask_seq_8.npy\", 8)\n",
    "d3_9 = make_lineage('D3', \"../22956814/D3_mask_seq_9.npy\", 9)\n",
    "d3_10 = make_lineage('D3', \"../22956814/D3_mask_seq_10.npy\", 10)\n",
    "d3_11 = make_lineage('D3', \"../22956814/D3_mask_seq_11.npy\", 11)\n",
    "d4_1 = make_lineage('D4', \"../22956814/D4_mask_seq_1.npy\", 1)\n",
    "d4_2 = make_lineage('D4', \"../22956814/D4_mask_seq_2.npy\", 2)\n",
    "d4_3 = make_lineage('D4', \"../22956814/D4_mask_seq_3.npy\", 3)\n",
    "d4_4 = make_lineage('D4', \"../22956814/D4_mask_seq_4.npy\", 4)\n",
    "d4_5 = make_lineage('D4', \"../22956814/D4_mask_seq_5.npy\", 5)\n",
    "d4_6 = make_lineage('D4', \"../22956814/D4_mask_seq_6.npy\", 6)\n",
    "d4_7 = make_lineage('D4', \"../22956814/D4_mask_seq_7.npy\", 7)\n",
    "d4_8 = make_lineage('D4', \"../22956814/D4_mask_seq_8.npy\", 8)\n",
    "d4_9 = make_lineage('D4', \"../22956814/D4_mask_seq_9.npy\", 9)\n",
    "d4_10 = make_lineage('D4', \"../22956814/D4_mask_seq_10.npy\", 10)\n",
    "d4_11 = make_lineage('D4', \"../22956814/D4_mask_seq_11.npy\", 11)\n",
    "d4_12 = make_lineage('D4', \"../22956814/D4_mask_seq_12.npy\", 12)"
   ]
  },
  {
   "cell_type": "code",
   "execution_count": 6,
   "id": "fa68e001",
   "metadata": {},
   "outputs": [],
   "source": [
    "# Load them all into .trks\n",
    "\n",
    "masks_fn = [\n",
    "    \"../22956814/A1_mask_seq_1.npy\",\n",
    "    \"../22956814/A2_mask_seq_1.npy\",\n",
    "    \"../22956814/A2_mask_seq_2.npy\",\n",
    "    \"../22956814/A2_mask_seq_3.npy\",\n",
    "    \"../22956814/A2_mask_seq_4.npy\",\n",
    "    \"../22956814/A2_mask_seq_5.npy\",\n",
    "    \"../22956814/A3_mask_seq_1.npy\",\n",
    "    \"../22956814/A3_mask_seq_2.npy\",\n",
    "    \"../22956814/A3_mask_seq_3.npy\",\n",
    "    \"../22956814/A3_mask_seq_4.npy\",\n",
    "    \"../22956814/A3_mask_seq_5.npy\",\n",
    "    \"../22956814/A4_mask_seq_1.npy\",\n",
    "    \"../22956814/A4_mask_seq_2.npy\",\n",
    "    \"../22956814/A4_mask_seq_3.npy\",\n",
    "    \"../22956814/A4_mask_seq_4.npy\",\n",
    "    \"../22956814/A4_mask_seq_5.npy\",\n",
    "    \"../22956814/B1_mask_seq_1.npy\",\n",
    "    \"../22956814/B2_mask_seq_1.npy\",\n",
    "    \"../22956814/B2_mask_seq_2.npy\",\n",
    "    \"../22956814/B3_mask_seq_1.npy\",\n",
    "    \"../22956814/B3_mask_seq_2.npy\",\n",
    "    \"../22956814/B3_mask_seq_3.npy\",\n",
    "    \"../22956814/B3_mask_seq_4.npy\",\n",
    "    \"../22956814/B3_mask_seq_5.npy\",\n",
    "    \"../22956814/B3_mask_seq_6.npy\",\n",
    "    \"../22956814/B3_mask_seq_7.npy\",\n",
    "    \"../22956814/B3_mask_seq_8.npy\",\n",
    "    \"../22956814/B4_mask_seq_1.npy\",\n",
    "    \"../22956814/B4_mask_seq_2.npy\",\n",
    "    \"../22956814/B4_mask_seq_3.npy\",\n",
    "    \"../22956814/C1_mask_seq_1.npy\",\n",
    "    \"../22956814/C1_mask_seq_2.npy\",\n",
    "    \"../22956814/C1_mask_seq_3.npy\",\n",
    "    \"../22956814/C1_mask_seq_4.npy\",\n",
    "    \"../22956814/C1_mask_seq_5.npy\",\n",
    "    \"../22956814/C1_mask_seq_6.npy\",\n",
    "    \"../22956814/C1_mask_seq_7.npy\",\n",
    "    \"../22956814/C2_mask_seq_1.npy\",\n",
    "    \"../22956814/C2_mask_seq_2.npy\",\n",
    "    \"../22956814/C3_mask_seq_1.npy\",\n",
    "    \"../22956814/C3_mask_seq_2.npy\",\n",
    "    \"../22956814/C3_mask_seq_3.npy\",\n",
    "    \"../22956814/C4_mask_seq_1.npy\",\n",
    "    \"../22956814/C4_mask_seq_2.npy\",\n",
    "    \"../22956814/D1_mask_seq_1.npy\",\n",
    "    \"../22956814/D1_mask_seq_2.npy\",\n",
    "    \"../22956814/D1_mask_seq_3.npy\",\n",
    "    \"../22956814/D1_mask_seq_4.npy\",\n",
    "    \"../22956814/D2_mask_seq_1.npy\",\n",
    "    \"../22956814/D2_mask_seq_2.npy\",\n",
    "    \"../22956814/D3_mask_seq_1.npy\",\n",
    "    \"../22956814/D3_mask_seq_2.npy\",\n",
    "    \"../22956814/D3_mask_seq_3.npy\",\n",
    "    \"../22956814/D3_mask_seq_4.npy\",\n",
    "    \"../22956814/D3_mask_seq_5.npy\",\n",
    "    \"../22956814/D3_mask_seq_6.npy\",\n",
    "    \"../22956814/D3_mask_seq_7.npy\",\n",
    "    \"../22956814/D3_mask_seq_8.npy\",\n",
    "    \"../22956814/D3_mask_seq_9.npy\",\n",
    "    \"../22956814/D3_mask_seq_10.npy\",\n",
    "    \"../22956814/D3_mask_seq_11.npy\",\n",
    "    \"../22956814/D4_mask_seq_1.npy\",\n",
    "    \"../22956814/D4_mask_seq_2.npy\",\n",
    "    \"../22956814/D4_mask_seq_3.npy\",\n",
    "    \"../22956814/D4_mask_seq_4.npy\",\n",
    "    \"../22956814/D4_mask_seq_5.npy\",\n",
    "    \"../22956814/D4_mask_seq_6.npy\",\n",
    "    \"../22956814/D4_mask_seq_7.npy\",\n",
    "    \"../22956814/D4_mask_seq_8.npy\",\n",
    "    \"../22956814/D4_mask_seq_9.npy\",\n",
    "    \"../22956814/D4_mask_seq_10.npy\",\n",
    "    \"../22956814/D4_mask_seq_11.npy\",\n",
    "    \"../22956814/D4_mask_seq_12.npy\"\n",
    "]\n"
   ]
  },
  {
   "cell_type": "code",
   "execution_count": 9,
   "id": "74445abf",
   "metadata": {},
   "outputs": [],
   "source": [
    "lineages = [\n",
    "    a1_1,\n",
    "    a2_1,\n",
    "    a2_2,\n",
    "    a2_3,\n",
    "    a2_4,\n",
    "    a2_5,\n",
    "    a3_1,\n",
    "    a3_2,\n",
    "    a3_3,\n",
    "    a3_4,\n",
    "    a3_5,\n",
    "    a4_1,\n",
    "    a4_2,\n",
    "    a4_3,\n",
    "    a4_4,\n",
    "    a4_5,\n",
    "    b1_1,\n",
    "    b2_1,\n",
    "    b2_2,\n",
    "    b3_1,\n",
    "    b3_2,\n",
    "    b3_3,\n",
    "    b3_4,\n",
    "    b3_5,\n",
    "    b3_6,\n",
    "    b3_7,\n",
    "    b3_8,\n",
    "    b4_1,\n",
    "    b4_2,\n",
    "    b4_3,\n",
    "    c1_1,\n",
    "    c1_2,\n",
    "    c1_3,\n",
    "    c1_4,\n",
    "    c1_5,\n",
    "    c1_6,\n",
    "    c1_7,\n",
    "    c2_1,\n",
    "    c2_2,\n",
    "    c3_1,\n",
    "    c3_2,\n",
    "    c3_3,\n",
    "    c4_1,\n",
    "    c4_2,\n",
    "    d1_1,\n",
    "    d1_2,\n",
    "    d1_3,\n",
    "    d1_4,\n",
    "    d2_1,\n",
    "    d2_2,\n",
    "    d3_1,\n",
    "    d3_2,\n",
    "    d3_3,\n",
    "    d3_4,\n",
    "    d3_5,\n",
    "    d3_6,\n",
    "    d3_7,\n",
    "    d3_8,\n",
    "    d3_9,\n",
    "    d3_10,\n",
    "    d3_11,\n",
    "    d4_1,\n",
    "    d4_2,\n",
    "    d4_3,\n",
    "    d4_4,\n",
    "    d4_5,\n",
    "    d4_6,\n",
    "    d4_7,\n",
    "    d4_8,\n",
    "    d4_9,\n",
    "    d4_10,\n",
    "    d4_11,\n",
    "    d4_12\n",
    "]"
   ]
  },
  {
   "cell_type": "code",
   "execution_count": 10,
   "id": "177d270a",
   "metadata": {},
   "outputs": [
    {
     "name": "stdout",
     "output_type": "stream",
     "text": [
      "26\n",
      "26\n",
      "26\n"
     ]
    }
   ],
   "source": [
    "y = []\n",
    "y_indices = []\n",
    "\n",
    "for i, mask in enumerate(masks_fn):\n",
    "    mask_array = np.load(mask)\n",
    "    if mask_array.shape[0] == 100:\n",
    "        y.append(mask_array)\n",
    "        y_indices.append(i)\n",
    "        \n",
    "X = []\n",
    "\n",
    "for i in y_indices:\n",
    "    raw_array = np.load(raws_fn[i])\n",
    "    X.append(raw_array)\n",
    "\n",
    "lineages_true = []\n",
    "\n",
    "for i in y_indices:\n",
    "    lineages_true.append(lineages[i])\n",
    "    \n",
    "print(len(y_indices))\n",
    "print(len(X))\n",
    "print(len(lineages_true))"
   ]
  },
  {
   "cell_type": "code",
   "execution_count": 11,
   "id": "f3e60240",
   "metadata": {},
   "outputs": [],
   "source": [
    "from deepcell.utils.tracking_utils import trks_stats, save_trks\n",
    "\n",
    "save_trks('../22956814_seq.trks', lineages_true, X, y)"
   ]
  },
  {
   "cell_type": "code",
   "execution_count": 12,
   "id": "5d6cb67e",
   "metadata": {},
   "outputs": [
    {
     "name": "stdout",
     "output_type": "stream",
     "text": [
      "Dataset Statistics: \n",
      "Image data shape:  (26, 100, 530, 530, 1)\n",
      "Number of lineages (should equal batch size):  26\n",
      "Total number of unique tracks (cells)      -  56\n",
      "Total number of divisions                  -  0\n",
      "Average cell density (cells/100 sq pixels) -  0.00034764630172248544\n",
      "Average number of frames per track         -  53\n"
     ]
    }
   ],
   "source": [
    "trks_stats('../22956814_seq.trks')"
   ]
  },
  {
   "cell_type": "code",
   "execution_count": null,
   "id": "914b62a0",
   "metadata": {},
   "outputs": [],
   "source": []
  },
  {
   "cell_type": "code",
   "execution_count": 14,
   "id": "2993554d",
   "metadata": {},
   "outputs": [
    {
     "data": {
      "image/png": "[encoded data removed]",
      "text/plain": [
       "<Figure size 432x288 with 1 Axes>"
      ]
     },
     "metadata": {
      "needs_background": "light"
     },
     "output_type": "display_data"
    }
   ],
   "source": [
    "plot_gif(np.load('../22956814/B3_mask_seq_5.npy'), '../22956814/gif/B3_mask_seq_5.gif')"
   ]
  },
  {
   "cell_type": "code",
   "execution_count": 15,
   "id": "3d53c3fe",
   "metadata": {},
   "outputs": [
    {
     "data": {
      "image/png": "[encoded data removed]",
      "text/plain": [
       "<Figure size 432x288 with 1 Axes>"
      ]
     },
     "metadata": {
      "needs_background": "light"
     },
     "output_type": "display_data"
    }
   ],
   "source": [
    "plot_gif(np.load('../22956814/B3_raw_5.npy'), '../22956814/gif/B3_raw_5.gif')"
   ]
  },
  {
   "cell_type": "code",
   "execution_count": 17,
   "id": "10408c89",
   "metadata": {},
   "outputs": [
    {
     "data": {
      "text/plain": [
       "array([0, 1, 2, 3], dtype=int32)"
      ]
     },
     "execution_count": 17,
     "metadata": {},
     "output_type": "execute_result"
    }
   ],
   "source": [
    "# check worm ids\n",
    "b3_seq_5 = np.load('../22956814/B3_mask_seq_5.npy')\n",
    "np.unique(b3_seq_5)"
   ]
  },
  {
   "cell_type": "code",
   "execution_count": 18,
   "id": "6e6144a6",
   "metadata": {},
   "outputs": [
    {
     "ename": "FileNotFoundError",
     "evalue": "[Errno 2] No such file or directory: '../22956814/B3_mask_5.npy'",
     "output_type": "error",
     "traceback": [
      "\u001b[0;31m---------------------------------------------------------------------------\u001b[0m",
      "\u001b[0;31mFileNotFoundError\u001b[0m                         Traceback (most recent call last)",
      "\u001b[0;32m<ipython-input-18-d41c39bd71a2>\u001b[0m in \u001b[0;36m<module>\u001b[0;34m\u001b[0m\n\u001b[0;32m----> 1\u001b[0;31m \u001b[0mb3_seq_5\u001b[0m \u001b[0;34m=\u001b[0m \u001b[0mnp\u001b[0m\u001b[0;34m.\u001b[0m\u001b[0mload\u001b[0m\u001b[0;34m(\u001b[0m\u001b[0;34m'../22956814/B3_mask_5.npy'\u001b[0m\u001b[0;34m)\u001b[0m\u001b[0;34m\u001b[0m\u001b[0;34m\u001b[0m\u001b[0m\n\u001b[0m\u001b[1;32m      2\u001b[0m \u001b[0mnp\u001b[0m\u001b[0;34m.\u001b[0m\u001b[0munique\u001b[0m\u001b[0;34m(\u001b[0m\u001b[0mb3_seq_5\u001b[0m\u001b[0;34m)\u001b[0m\u001b[0;34m\u001b[0m\u001b[0;34m\u001b[0m\u001b[0m\n",
      "\u001b[0;32m/opt/conda/lib/python3.7/site-packages/numpy/lib/npyio.py\u001b[0m in \u001b[0;36mload\u001b[0;34m(file, mmap_mode, allow_pickle, fix_imports, encoding)\u001b[0m\n\u001b[1;32m    426\u001b[0m         \u001b[0mown_fid\u001b[0m \u001b[0;34m=\u001b[0m \u001b[0;32mFalse\u001b[0m\u001b[0;34m\u001b[0m\u001b[0;34m\u001b[0m\u001b[0m\n\u001b[1;32m    427\u001b[0m     \u001b[0;32melse\u001b[0m\u001b[0;34m:\u001b[0m\u001b[0;34m\u001b[0m\u001b[0;34m\u001b[0m\u001b[0m\n\u001b[0;32m--> 428\u001b[0;31m         \u001b[0mfid\u001b[0m \u001b[0;34m=\u001b[0m \u001b[0mopen\u001b[0m\u001b[0;34m(\u001b[0m\u001b[0mos_fspath\u001b[0m\u001b[0;34m(\u001b[0m\u001b[0mfile\u001b[0m\u001b[0;34m)\u001b[0m\u001b[0;34m,\u001b[0m \u001b[0;34m\"rb\"\u001b[0m\u001b[0;34m)\u001b[0m\u001b[0;34m\u001b[0m\u001b[0;34m\u001b[0m\u001b[0m\n\u001b[0m\u001b[1;32m    429\u001b[0m         \u001b[0mown_fid\u001b[0m \u001b[0;34m=\u001b[0m \u001b[0;32mTrue\u001b[0m\u001b[0;34m\u001b[0m\u001b[0;34m\u001b[0m\u001b[0m\n\u001b[1;32m    430\u001b[0m \u001b[0;34m\u001b[0m\u001b[0m\n",
      "\u001b[0;31mFileNotFoundError\u001b[0m: [Errno 2] No such file or directory: '../22956814/B3_mask_5.npy'"
     ]
    }
   ],
   "source": [
    "b3_seq_5 = np.load('../22956814/B3_mask_5.npy')\n",
    "np.unique(b3_seq_5)"
   ]
  }
 ],
 "metadata": {
  "environment": {
   "name": "common-cu110.m76",
   "type": "gcloud",
   "uri": "gcr.io/deeplearning-platform-release/base-cu110:m76"
  },
  "kernelspec": {
   "display_name": "Python [conda env:root] *",
   "language": "python",
   "name": "conda-root-py"
  },
  "language_info": {
   "codemirror_mode": {
    "name": "ipython",
    "version": 3
   },
   "file_extension": ".py",
   "mimetype": "text/x-python",
   "name": "python",
   "nbconvert_exporter": "python",
   "pygments_lexer": "ipython3",
   "version": "3.7.10"
  }
 },
 "nbformat": 4,
 "nbformat_minor": 5
}

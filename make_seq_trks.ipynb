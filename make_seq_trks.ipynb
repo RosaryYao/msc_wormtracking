{
 "cells": [
  {
   "cell_type": "code",
   "execution_count": null,
   "id": "9b45c7e3",
   "metadata": {},
   "outputs": [],
   "source": [
    "# Try on 6814_1, 6819_1, 6823_1"
   ]
  },
  {
   "cell_type": "code",
   "execution_count": 1,
   "id": "ab781a53",
   "metadata": {},
   "outputs": [],
   "source": [
    "import numpy as np\n",
    "import h5py\n",
    "import matplotlib.pyplot as plt\n",
    "from PIL import Image, ImageDraw\n",
    "import numpy as np\n",
    "import sys\n",
    "import time\n",
    "import pandas as pd\n",
    "import cv2\n",
    "import os\n",
    "import imageio\n",
    "import matplotlib as mpl\n",
    "from matplotlib import cm\n",
    "from matplotlib.colors import ListedColormap, LinearSegmentedColormap\n",
    "from deepcell.utils.tracking_utils import trks_stats, save_trks, load_trks\n",
    "\n",
    "import masks\n",
    "import gif\n",
    "import raw\n",
    "import lineage"
   ]
  },
  {
   "cell_type": "code",
   "execution_count": 2,
   "id": "d8911768",
   "metadata": {},
   "outputs": [],
   "source": [
    "np_array = np.load(\"../22956814/A1_mask_1.npy\")"
   ]
  },
  {
   "cell_type": "code",
   "execution_count": 3,
   "id": "92442caf",
   "metadata": {},
   "outputs": [],
   "source": [
    "# If sequential is False, need to substitute worm indices into sequential for easy colouring\n",
    "## Check the unique values in the np arrays - the original worm indices\n",
    "\n",
    "def make_seq(np_array):  # masked np_array\n",
    "    uniques_original = list(np.unique(np_array))[1:]  # [1:] to omit values == '0'\n",
    "    print('unique_worm_ids: ', uniques_original)\n",
    "    sequential_ids = range(1, len(uniques_original)+1)\n",
    "    for i, original in enumerate(uniques_original):\n",
    "        np_array[np_array == uniques_original[i]] = sequential_ids[i]  # Update stacked_array with sequential worm_ids\n",
    "    print('sequential ids: ', list(np.unique(np_array))[1:])\n",
    "    \n",
    "    return np_array"
   ]
  },
  {
   "cell_type": "code",
   "execution_count": 4,
   "id": "d0ccc09e",
   "metadata": {},
   "outputs": [
    {
     "data": {
      "text/plain": [
       "array([0, 9], dtype=int32)"
      ]
     },
     "execution_count": 4,
     "metadata": {},
     "output_type": "execute_result"
    }
   ],
   "source": [
    "np.unique(np_array)"
   ]
  },
  {
   "cell_type": "code",
   "execution_count": null,
   "id": "3cbc7198",
   "metadata": {},
   "outputs": [],
   "source": []
  },
  {
   "cell_type": "code",
   "execution_count": 5,
   "id": "4b56198a",
   "metadata": {},
   "outputs": [
    {
     "name": "stdout",
     "output_type": "stream",
     "text": [
      "(26, 100, 530, 530, 1)\n"
     ]
    }
   ],
   "source": [
    "trk_6814 = load_trks(\"../22956814/22956814.trks\")\n",
    "y = trk_6814['y']\n",
    "print(y.shape)"
   ]
  },
  {
   "cell_type": "code",
   "execution_count": 6,
   "id": "327b7e8b",
   "metadata": {},
   "outputs": [
    {
     "name": "stdout",
     "output_type": "stream",
     "text": [
      "unique_worm_ids:  [9]\n",
      "sequential ids:  [1]\n",
      "0\n",
      "unique_worm_ids:  [7]\n",
      "sequential ids:  [1]\n",
      "1\n",
      "unique_worm_ids:  [7]\n",
      "sequential ids:  [1]\n",
      "2\n",
      "unique_worm_ids:  [5, 289]\n",
      "sequential ids:  [1, 2]\n",
      "3\n",
      "unique_worm_ids:  [3]\n",
      "sequential ids:  [1]\n",
      "4\n",
      "unique_worm_ids:  [3]\n",
      "sequential ids:  [1]\n",
      "5\n",
      "unique_worm_ids:  [20]\n",
      "sequential ids:  [1]\n",
      "6\n",
      "unique_worm_ids:  [32, 33]\n",
      "sequential ids:  [1, 2]\n",
      "7\n",
      "unique_worm_ids:  [32, 33]\n",
      "sequential ids:  [1, 2]\n",
      "8\n",
      "unique_worm_ids:  [21, 22, 157, 290]\n",
      "sequential ids:  [1, 2, 3, 4]\n",
      "9\n",
      "unique_worm_ids:  [21, 22, 157, 290]\n",
      "sequential ids:  [1, 2, 3, 4]\n",
      "10\n",
      "unique_worm_ids:  [185]\n",
      "sequential ids:  [1]\n",
      "11\n",
      "unique_worm_ids:  [37, 46]\n",
      "sequential ids:  [1, 2]\n",
      "12\n",
      "unique_worm_ids:  [37, 46]\n",
      "sequential ids:  [1, 2]\n",
      "13\n",
      "unique_worm_ids:  [47]\n",
      "sequential ids:  [1]\n",
      "14\n",
      "unique_worm_ids:  [34, 38]\n",
      "sequential ids:  [1, 2]\n",
      "15\n",
      "unique_worm_ids:  [34, 38]\n",
      "sequential ids:  [1, 2]\n",
      "16\n",
      "unique_worm_ids:  [35, 36]\n",
      "sequential ids:  [1, 2]\n",
      "17\n",
      "unique_worm_ids:  [35, 36]\n",
      "sequential ids:  [1, 2]\n",
      "18\n",
      "unique_worm_ids:  [55]\n",
      "sequential ids:  [1]\n",
      "19\n",
      "unique_worm_ids:  [55]\n",
      "sequential ids:  [1]\n",
      "20\n",
      "unique_worm_ids:  [53, 217]\n",
      "sequential ids:  [1, 2]\n",
      "21\n",
      "unique_worm_ids:  [54, 56]\n",
      "sequential ids:  [1, 2]\n",
      "22\n",
      "unique_worm_ids:  [54, 56]\n",
      "sequential ids:  [1, 2]\n",
      "23\n",
      "unique_worm_ids:  [49, 59, 68, 98, 100, 114, 122]\n",
      "sequential ids:  [1, 2, 3, 4, 5, 6, 7]\n",
      "24\n",
      "unique_worm_ids:  [49, 59, 68, 98, 100, 114, 122]\n",
      "sequential ids:  [1, 2, 3, 4, 5, 6, 7]\n",
      "25\n"
     ]
    }
   ],
   "source": [
    "seq_y = []\n",
    "\n",
    "for i in range(y.shape[0]):\n",
    "    seq_mask = make_seq(y[i])\n",
    "    seq_y.append(seq_mask)\n",
    "    print(i)"
   ]
  },
  {
   "cell_type": "code",
   "execution_count": 7,
   "id": "f818bd4b",
   "metadata": {},
   "outputs": [
    {
     "data": {
      "text/plain": [
       "26"
      ]
     },
     "execution_count": 7,
     "metadata": {},
     "output_type": "execute_result"
    }
   ],
   "source": [
    "len(trk_6814['lineages'])"
   ]
  },
  {
   "cell_type": "code",
   "execution_count": 8,
   "id": "c4ac2b6a",
   "metadata": {},
   "outputs": [
    {
     "name": "stdout",
     "output_type": "stream",
     "text": [
      "0\n",
      "1\n",
      "2\n",
      "3\n",
      "4\n",
      "5\n",
      "6\n",
      "7\n",
      "8\n",
      "9\n",
      "10\n",
      "11\n",
      "12\n",
      "13\n",
      "14\n",
      "15\n",
      "16\n",
      "17\n",
      "18\n",
      "19\n",
      "20\n",
      "21\n",
      "22\n",
      "23\n",
      "24\n",
      "25\n"
     ]
    }
   ],
   "source": [
    "# Make X into a list as well\n",
    "\n",
    "X_list = []\n",
    "\n",
    "for i in range(trk_6814['X'].shape[0]):\n",
    "    X_list.append(trk_6814['X'][i])\n",
    "    print(i)"
   ]
  },
  {
   "cell_type": "code",
   "execution_count": 60,
   "id": "89de5628",
   "metadata": {},
   "outputs": [
    {
     "name": "stdout",
     "output_type": "stream",
     "text": [
      "0\n",
      "1\n",
      "2\n",
      "3\n",
      "4\n",
      "5\n",
      "6\n",
      "7\n",
      "8\n",
      "9\n",
      "10\n",
      "11\n",
      "12\n",
      "13\n",
      "14\n",
      "15\n",
      "16\n",
      "17\n",
      "18\n",
      "19\n",
      "20\n",
      "21\n",
      "22\n",
      "23\n",
      "24\n",
      "25\n"
     ]
    }
   ],
   "source": [
    "y_list = []\n",
    "\n",
    "for i in range(trk_6814['y'].shape[0]):\n",
    "    y_list.append(trk_6814['y'][i])\n",
    "    print(i)"
   ]
  },
  {
   "cell_type": "code",
   "execution_count": 61,
   "id": "f5fc1dd3",
   "metadata": {},
   "outputs": [],
   "source": [
    "lineages_list = list(trk_6814['lineages'])"
   ]
  },
  {
   "cell_type": "code",
   "execution_count": 14,
   "id": "13510cec",
   "metadata": {},
   "outputs": [
    {
     "name": "stdout",
     "output_type": "stream",
     "text": [
      "<class 'int'>\n"
     ]
    }
   ],
   "source": [
    "for i in lineages[0].keys():\n",
    "    print(type(i))"
   ]
  },
  {
   "cell_type": "code",
   "execution_count": 34,
   "id": "64f26893",
   "metadata": {},
   "outputs": [],
   "source": [
    "#lineages[0]"
   ]
  },
  {
   "cell_type": "code",
   "execution_count": 59,
   "id": "1adf1df4",
   "metadata": {},
   "outputs": [
    {
     "name": "stdout",
     "output_type": "stream",
     "text": [
      "{'32': {'label': 32, 'frames': [0, 1, 2, 3, 4, 5, 6, 7, 8, 9, 10, 11, 12, 13, 14, 15, 16, 17, 18, 19, 20, 21, 22, 23, 24, 25, 26, 27, 28, 29, 30, 31, 32, 33, 34, 35, 36, 37, 38, 39, 40, 41, 42, 43, 44, 45, 46, 47, 48, 49, 50, 51, 52, 53, 54, 55, 56, 57, 58, 59, 60, 61, 62, 63, 64, 65, 66, 67, 68, 69, 70, 71, 72, 73, 74, 75, 76, 77, 78, 79, 80, 81, 82, 83, 84, 85, 86, 87, 88, 89, 90, 91, 92, 96, 97, 98, 99], 'daughters': [], 'parent': None}}\n"
     ]
    }
   ],
   "source": [
    "# Change the keys into str:\n",
    "#new_lineages = []\n",
    "\n",
    "#lineages[0]\n",
    "\n",
    "lineages_new = {}\n",
    "\n",
    "#lineages[0].keys()\n",
    "#lineages_new[str(list(lineages[0].keys())[0])] = lineages[0][9]\n",
    "\n",
    "lineages_new[str(list(lineages[8].keys())[0])] = lineages[8][list(lineages[8].keys())[0]]\n",
    "\n",
    "print(lineages_new)"
   ]
  },
  {
   "cell_type": "code",
   "execution_count": 64,
   "id": "f5f8a916",
   "metadata": {},
   "outputs": [],
   "source": [
    "lineages_list_new = []\n",
    "\n",
    "for index in range(len(lineages_list)):    \n",
    "    lineages_new = {}\n",
    "\n",
    "    for i in range(len(list(lineages[index].keys()))):\n",
    "        lineages_new[str(list(lineages[index].keys())[i])] = lineages[index][list(lineages[index].keys())[i]]\n",
    "\n",
    "    lineages_list_new.append(lineages_new)"
   ]
  },
  {
   "cell_type": "code",
   "execution_count": 65,
   "id": "cf98ac0c",
   "metadata": {},
   "outputs": [
    {
     "data": {
      "text/plain": [
       "26"
      ]
     },
     "execution_count": 65,
     "metadata": {},
     "output_type": "execute_result"
    }
   ],
   "source": [
    "len(lineages_list_new)"
   ]
  },
  {
   "cell_type": "code",
   "execution_count": 12,
   "id": "38a36180",
   "metadata": {},
   "outputs": [],
   "source": [
    "save_trks(\"../22956814/22956814_seq.trks\", lineages, X_list, seq_y)"
   ]
  },
  {
   "cell_type": "code",
   "execution_count": null,
   "id": "a19f4b60",
   "metadata": {},
   "outputs": [],
   "source": [
    "save_trks(\"../22956814/22956814_str.trks\", lineages_list_new, X_list, y_list)  # So not sequential, but keys are strings"
   ]
  }
 ],
 "metadata": {
  "environment": {
   "name": "tf2-gpu.2-3.m78",
   "type": "gcloud",
   "uri": "gcr.io/deeplearning-platform-release/tf2-gpu.2-3:m78"
  },
  "kernelspec": {
   "display_name": "Python [conda env:root] *",
   "language": "python",
   "name": "conda-root-py"
  },
  "language_info": {
   "codemirror_mode": {
    "name": "ipython",
    "version": 3
   },
   "file_extension": ".py",
   "mimetype": "text/x-python",
   "name": "python",
   "nbconvert_exporter": "python",
   "pygments_lexer": "ipython3",
   "version": "3.7.10"
  }
 },
 "nbformat": 4,
 "nbformat_minor": 5
}

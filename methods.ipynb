{
 "cells": [
  {
   "cell_type": "code",
   "execution_count": 1,
   "id": "d5990a74",
   "metadata": {},
   "outputs": [
    {
     "name": "stderr",
     "output_type": "stream",
     "text": [
      "/opt/conda/lib/python3.7/site-packages/keras/optimizer_v2/optimizer_v2.py:356: UserWarning: The `lr` argument is deprecated, use `learning_rate` instead.\n",
      "  \"The `lr` argument is deprecated, use `learning_rate` instead.\")\n"
     ]
    }
   ],
   "source": [
    "import os\n",
    "import datetime\n",
    "import errno\n",
    "\n",
    "import numpy as np\n",
    "\n",
    "import deepcell\n",
    "from deepcell.utils.tracking_utils import load_trks, trks_stats\n",
    "from deepcell.utils.misc_utils import sorted_nicely\n",
    "from deepcell.utils.tracking_utils import load_trks"
   ]
  },
  {
   "cell_type": "code",
   "execution_count": null,
   "id": "b9cd34a5",
   "metadata": {},
   "outputs": [],
   "source": [
    "def get_raw_well(well, video_path=\"../22956814/22956814.mp4\", well_name='A4', filename=False, frame_start=0, frame_end=9001, down_sampling=1):\n",
    "    print('--------', well_name, '--------')\n",
    "    frames = []\n",
    "\n",
    "    ymin = well[0]\n",
    "    ymax = well[1]\n",
    "    xmin = well[2]\n",
    "    xmax = well[3]\n",
    "\n",
    "    #path = \"../22956814/22956814.mp4\"\n",
    "    cap = cv2.VideoCapture(video_path)\n",
    "    ret = True\n",
    "    while ret:\n",
    "        ret, img = cap.read() # read one frame from the 'capture' object; img is (H, W, C)\n",
    "        if ret:\n",
    "            frames.append(img[ymin:ymax, xmin:xmax, :])\n",
    "\n",
    "    stacked = np.stack(frames, axis=0)\n",
    "    stacked = stacked.astype(dtype='float32')\n",
    "    stacked_mean = np.mean(stacked, axis=3)[:,:,:,None]\n",
    "\n",
    "    if frame_start != 0 or frame_end != 9001 or down_sampling != 1:\n",
    "        stacked_mean = stacked_mean[frame_start:(frame_end+1):down_sampling, :, :, :]\n",
    "\n",
    "    if filename:\n",
    "        output_fn = filename\n",
    "    else:\n",
    "        output_fn = 'well_A/raw_%s.npy' % well_name\n",
    "\n",
    "    np.save(output_fn, stacked_mean)"
   ]
  },
  {
   "cell_type": "code",
   "execution_count": 6,
   "id": "f5ab480a",
   "metadata": {},
   "outputs": [],
   "source": [
    "import cv2\n",
    "\n",
    "video_path = '../6814_2/6814_2.mp4'\n",
    "frames = []\n",
    "cap = cv2.VideoCapture(video_path)\n",
    "ret = True\n",
    "while ret:\n",
    "    ret, img = cap.read() # read one frame from the 'capture' object; img is (H, W, C)\n",
    "    if ret:\n",
    "        frames.append(img[0:100, 0:100, :])\n",
    "\n",
    "stacked = np.stack(frames, axis=0)\n",
    "stacked = stacked.astype(dtype='float32')\n",
    "stacked_mean = np.mean(stacked, axis=3)[:,:,:,None]"
   ]
  },
  {
   "cell_type": "code",
   "execution_count": 7,
   "id": "bca092b5",
   "metadata": {},
   "outputs": [
    {
     "data": {
      "text/plain": [
       "(7502, 100, 100, 1)"
      ]
     },
     "execution_count": 7,
     "metadata": {},
     "output_type": "execute_result"
    }
   ],
   "source": [
    "stacked_mean.shape"
   ]
  },
  {
   "cell_type": "code",
   "execution_count": null,
   "id": "252053f9",
   "metadata": {},
   "outputs": [],
   "source": []
  },
  {
   "cell_type": "code",
   "execution_count": 10,
   "id": "ec33bfc2",
   "metadata": {},
   "outputs": [
    {
     "data": {
      "text/plain": [
       "[1, 3, 5, 7, 9]"
      ]
     },
     "execution_count": 10,
     "metadata": {},
     "output_type": "execute_result"
    }
   ],
   "source": [
    "# An experiment\n",
    "a = [1,2,3,4,5,6,7,8,9]\n",
    "\n",
    "a[0:13:2]"
   ]
  },
  {
   "cell_type": "code",
   "execution_count": null,
   "id": "0a20a6ef",
   "metadata": {},
   "outputs": [],
   "source": []
  },
  {
   "cell_type": "code",
   "execution_count": 8,
   "id": "62c67941",
   "metadata": {},
   "outputs": [],
   "source": [
    "video_path = '../6814_3/6814_3.mp4'\n",
    "frames = []\n",
    "cap = cv2.VideoCapture(video_path)\n",
    "ret = True\n",
    "while ret:\n",
    "    ret, img = cap.read() # read one frame from the 'capture' object; img is (H, W, C)\n",
    "    if ret:\n",
    "        frames.append(img[0:100, 0:100, :])\n",
    "\n",
    "stacked = np.stack(frames, axis=0)\n",
    "stacked = stacked.astype(dtype='float32')\n",
    "stacked_mean = np.mean(stacked, axis=3)[:,:,:,None]"
   ]
  },
  {
   "cell_type": "code",
   "execution_count": 9,
   "id": "bdaf04fd",
   "metadata": {},
   "outputs": [
    {
     "data": {
      "text/plain": [
       "(7503, 100, 100, 1)"
      ]
     },
     "execution_count": 9,
     "metadata": {},
     "output_type": "execute_result"
    }
   ],
   "source": [
    "stacked_mean.shape"
   ]
  },
  {
   "cell_type": "code",
   "execution_count": 11,
   "id": "a5a67e8b",
   "metadata": {},
   "outputs": [
    {
     "data": {
      "text/plain": [
       "svmem(total=439595151360, available=179758194688, percent=59.1, used=256575090688, free=181189984256, active=255009325056, inactive=1379487744, buffers=63963136, cached=1766113280, shared=51015680, slab=504057856)"
      ]
     },
     "execution_count": 11,
     "metadata": {},
     "output_type": "execute_result"
    }
   ],
   "source": [
    "import psutil\n",
    "psutil.virtual_memory()"
   ]
  },
  {
   "cell_type": "code",
   "execution_count": null,
   "id": "64012e3f",
   "metadata": {},
   "outputs": [],
   "source": []
  }
 ],
 "metadata": {
  "environment": {
   "name": "common-cu110.m76",
   "type": "gcloud",
   "uri": "gcr.io/deeplearning-platform-release/base-cu110:m76"
  },
  "kernelspec": {
   "display_name": "Python [conda env:root] *",
   "language": "python",
   "name": "conda-root-py"
  },
  "language_info": {
   "codemirror_mode": {
    "name": "ipython",
    "version": 3
   },
   "file_extension": ".py",
   "mimetype": "text/x-python",
   "name": "python",
   "nbconvert_exporter": "python",
   "pygments_lexer": "ipython3",
   "version": "3.7.10"
  }
 },
 "nbformat": 4,
 "nbformat_minor": 5
}

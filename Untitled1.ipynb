{
 "cells": [
  {
   "cell_type": "code",
   "execution_count": 1,
   "id": "ee324767",
   "metadata": {},
   "outputs": [],
   "source": [
    "import os\n",
    "import datetime\n",
    "import errno\n",
    "\n",
    "import numpy as np\n",
    "\n",
    "import deepcell\n",
    "from deepcell.utils.tracking_utils import load_trks, trks_stats\n",
    "from deepcell.utils.misc_utils import sorted_nicely\n",
    "from deepcell.utils.tracking_utils import load_trks\n",
    "\n",
    "import numpy as np\n",
    "from skimage.measure import label\n",
    "from skimage import morphology\n",
    "import matplotlib.pyplot as plt"
   ]
  },
  {
   "cell_type": "code",
   "execution_count": 2,
   "id": "93ff06a7",
   "metadata": {},
   "outputs": [],
   "source": [
    "X = np.load(\"../22956814/C3_raw_1.npy\")\n",
    "seg = np.load(\"../22956814/C3_seg_1.npy\")"
   ]
  }
 ],
 "metadata": {
  "environment": {
   "name": "tf2-gpu.2-3.m78",
   "type": "gcloud",
   "uri": "gcr.io/deeplearning-platform-release/tf2-gpu.2-3:m78"
  },
  "kernelspec": {
   "display_name": "Python 3",
   "language": "python",
   "name": "python3"
  },
  "language_info": {
   "codemirror_mode": {
    "name": "ipython",
    "version": 3
   },
   "file_extension": ".py",
   "mimetype": "text/x-python",
   "name": "python",
   "nbconvert_exporter": "python",
   "pygments_lexer": "ipython3",
   "version": "3.7.10"
  }
 },
 "nbformat": 4,
 "nbformat_minor": 5
}

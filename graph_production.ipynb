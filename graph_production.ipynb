{
 "cells": [
  {
   "cell_type": "code",
   "execution_count": 1,
   "id": "b8061945",
   "metadata": {},
   "outputs": [],
   "source": [
    "import numpy as np\n",
    "import h5py\n",
    "import matplotlib.pyplot as plt\n",
    "from PIL import Image, ImageDraw\n",
    "import numpy as np\n",
    "import sys\n",
    "import time\n",
    "import pandas as pd\n",
    "import cv2\n",
    "import os\n",
    "import imageio\n",
    "import matplotlib as mpl\n",
    "from matplotlib import cm\n",
    "from matplotlib.colors import ListedColormap, LinearSegmentedColormap\n",
    "\n",
    "import masks\n",
    "import gif\n",
    "import raw\n",
    "import lineage"
   ]
  },
  {
   "cell_type": "code",
   "execution_count": 57,
   "id": "330d8821",
   "metadata": {},
   "outputs": [],
   "source": [
    "# Plot dorsal ventral coordinates \n",
    "\n",
    "fN = h5py.File('../6819_3/6819_3_featuresN.hdf5')\n",
    "traj = pd.read_hdf(\"../6819_3/6819_3_featuresN.hdf5\", '/trajectories_data')"
   ]
  },
  {
   "cell_type": "code",
   "execution_count": 8,
   "id": "565d831a",
   "metadata": {},
   "outputs": [
    {
     "data": {
      "text/plain": [
       "<KeysViewHDF5 ['blob_features', 'coordinates', 'features_stats', 'fov_wells', 'fov_wells_backup', 'provenance_tracking', 'timeseries_data', 'trajectories_data']>"
      ]
     },
     "execution_count": 8,
     "metadata": {},
     "output_type": "execute_result"
    }
   ],
   "source": [
    "fN.keys()"
   ]
  },
  {
   "cell_type": "code",
   "execution_count": 12,
   "id": "504e9a2e",
   "metadata": {},
   "outputs": [
    {
     "data": {
      "text/plain": [
       "<KeysViewHDF5 ['dorsal_contours', 'skeletons', 'ventral_contours', 'widths']>"
      ]
     },
     "execution_count": 12,
     "metadata": {},
     "output_type": "execute_result"
    }
   ],
   "source": [
    "fN['coordinates'].keys()"
   ]
  },
  {
   "cell_type": "code",
   "execution_count": 13,
   "id": "095e5c0d",
   "metadata": {},
   "outputs": [
    {
     "data": {
      "text/plain": [
       "175024"
      ]
     },
     "execution_count": 13,
     "metadata": {},
     "output_type": "execute_result"
    }
   ],
   "source": [
    "len(fN['coordinates']['dorsal_contours'])"
   ]
  },
  {
   "cell_type": "code",
   "execution_count": 63,
   "id": "2ddf3682",
   "metadata": {},
   "outputs": [],
   "source": [
    "dorsal = fN['coordinates']['dorsal_contours'][114151]  # Worm 26, in D7_mask_1\n",
    "dorsal_x = [each[0]/12.4 for each in dorsal]\n",
    "dorsal_y = [each[1]/12.4 for each in dorsal]\n",
    "\n",
    "ventral = fN['coordinates']['ventral_contours'][114151]\n",
    "ventral_x = [each[0]/12.4 for each in ventral]\n",
    "ventral_y = [each[1]/12.4 for each in ventral]"
   ]
  },
  {
   "cell_type": "code",
   "execution_count": 60,
   "id": "e3ea0bb3",
   "metadata": {},
   "outputs": [
    {
     "data": {
      "text/plain": [
       "49"
      ]
     },
     "execution_count": 60,
     "metadata": {},
     "output_type": "execute_result"
    }
   ],
   "source": [
    "len(dorsal_x)"
   ]
  },
  {
   "cell_type": "code",
   "execution_count": 64,
   "id": "e8268e08",
   "metadata": {},
   "outputs": [
    {
     "data": {
      "image/png": "[encoded data removed]",
      "text/plain": [
       "<Figure size 432x288 with 1 Axes>"
      ]
     },
     "metadata": {
      "needs_background": "light"
     },
     "output_type": "display_data"
    }
   ],
   "source": [
    "plt.scatter((dorsal_x, ventral_x), (dorsal_y, ventral_y))\n",
    "plt.gca().invert_yaxis()"
   ]
  },
  {
   "cell_type": "code",
   "execution_count": 54,
   "id": "eefc4479",
   "metadata": {},
   "outputs": [
    {
     "data": {
      "text/plain": [
       "array([ 0, 26, 27, 36, 37, 38], dtype=int32)"
      ]
     },
     "execution_count": 54,
     "metadata": {},
     "output_type": "execute_result"
    }
   ],
   "source": [
    "array = np.load(\"../6819_3/D7_mask_1.npy\")\n",
    "np.unique(array)"
   ]
  },
  {
   "cell_type": "code",
   "execution_count": null,
   "id": "9ca87c3f",
   "metadata": {},
   "outputs": [],
   "source": [
    "# worm index 26"
   ]
  },
  {
   "cell_type": "code",
   "execution_count": 62,
   "id": "268151fa",
   "metadata": {},
   "outputs": [
    {
     "data": {
      "text/html": [
       "<div>\n",
       "<style scoped>\n",
       "    .dataframe tbody tr th:only-of-type {\n",
       "        vertical-align: middle;\n",
       "    }\n",
       "\n",
       "    .dataframe tbody tr th {\n",
       "        vertical-align: top;\n",
       "    }\n",
       "\n",
       "    .dataframe thead th {\n",
       "        text-align: right;\n",
       "    }\n",
       "</style>\n",
       "<table border=\"1\" class=\"dataframe\">\n",
       "  <thead>\n",
       "    <tr style=\"text-align: right;\">\n",
       "      <th></th>\n",
       "      <th>timestamp_raw</th>\n",
       "      <th>timestamp_time</th>\n",
       "      <th>worm_index_joined</th>\n",
       "      <th>coord_x</th>\n",
       "      <th>coord_y</th>\n",
       "      <th>threshold</th>\n",
       "      <th>roi_size</th>\n",
       "      <th>area</th>\n",
       "      <th>frame_number</th>\n",
       "      <th>was_skeletonized</th>\n",
       "      <th>skeleton_id</th>\n",
       "      <th>old_trajectory_data_index</th>\n",
       "    </tr>\n",
       "  </thead>\n",
       "  <tbody>\n",
       "    <tr>\n",
       "      <th>120163</th>\n",
       "      <td>0</td>\n",
       "      <td>0.00</td>\n",
       "      <td>26</td>\n",
       "      <td>1111.546021</td>\n",
       "      <td>268.120911</td>\n",
       "      <td>107.800003</td>\n",
       "      <td>63.0</td>\n",
       "      <td>518.5</td>\n",
       "      <td>0</td>\n",
       "      <td>1</td>\n",
       "      <td>114151</td>\n",
       "      <td>120163</td>\n",
       "    </tr>\n",
       "    <tr>\n",
       "      <th>120164</th>\n",
       "      <td>1</td>\n",
       "      <td>0.04</td>\n",
       "      <td>26</td>\n",
       "      <td>1111.528931</td>\n",
       "      <td>268.174042</td>\n",
       "      <td>107.800003</td>\n",
       "      <td>63.0</td>\n",
       "      <td>518.5</td>\n",
       "      <td>1</td>\n",
       "      <td>1</td>\n",
       "      <td>114152</td>\n",
       "      <td>120164</td>\n",
       "    </tr>\n",
       "    <tr>\n",
       "      <th>120165</th>\n",
       "      <td>2</td>\n",
       "      <td>0.08</td>\n",
       "      <td>26</td>\n",
       "      <td>1111.504639</td>\n",
       "      <td>268.228577</td>\n",
       "      <td>107.800003</td>\n",
       "      <td>63.0</td>\n",
       "      <td>518.5</td>\n",
       "      <td>2</td>\n",
       "      <td>1</td>\n",
       "      <td>114153</td>\n",
       "      <td>120165</td>\n",
       "    </tr>\n",
       "    <tr>\n",
       "      <th>120166</th>\n",
       "      <td>3</td>\n",
       "      <td>0.12</td>\n",
       "      <td>26</td>\n",
       "      <td>1111.474121</td>\n",
       "      <td>268.284119</td>\n",
       "      <td>107.800003</td>\n",
       "      <td>63.0</td>\n",
       "      <td>518.5</td>\n",
       "      <td>3</td>\n",
       "      <td>1</td>\n",
       "      <td>114154</td>\n",
       "      <td>120166</td>\n",
       "    </tr>\n",
       "    <tr>\n",
       "      <th>120167</th>\n",
       "      <td>4</td>\n",
       "      <td>0.16</td>\n",
       "      <td>26</td>\n",
       "      <td>1111.437988</td>\n",
       "      <td>268.340210</td>\n",
       "      <td>107.800003</td>\n",
       "      <td>63.0</td>\n",
       "      <td>518.5</td>\n",
       "      <td>4</td>\n",
       "      <td>1</td>\n",
       "      <td>114155</td>\n",
       "      <td>120167</td>\n",
       "    </tr>\n",
       "    <tr>\n",
       "      <th>...</th>\n",
       "      <td>...</td>\n",
       "      <td>...</td>\n",
       "      <td>...</td>\n",
       "      <td>...</td>\n",
       "      <td>...</td>\n",
       "      <td>...</td>\n",
       "      <td>...</td>\n",
       "      <td>...</td>\n",
       "      <td>...</td>\n",
       "      <td>...</td>\n",
       "      <td>...</td>\n",
       "      <td>...</td>\n",
       "    </tr>\n",
       "    <tr>\n",
       "      <th>120238</th>\n",
       "      <td>75</td>\n",
       "      <td>3.00</td>\n",
       "      <td>26</td>\n",
       "      <td>1111.291992</td>\n",
       "      <td>268.536713</td>\n",
       "      <td>107.800003</td>\n",
       "      <td>63.0</td>\n",
       "      <td>522.0</td>\n",
       "      <td>75</td>\n",
       "      <td>1</td>\n",
       "      <td>114226</td>\n",
       "      <td>120238</td>\n",
       "    </tr>\n",
       "    <tr>\n",
       "      <th>120239</th>\n",
       "      <td>76</td>\n",
       "      <td>3.04</td>\n",
       "      <td>26</td>\n",
       "      <td>1111.270752</td>\n",
       "      <td>268.534424</td>\n",
       "      <td>107.800003</td>\n",
       "      <td>63.0</td>\n",
       "      <td>522.0</td>\n",
       "      <td>76</td>\n",
       "      <td>1</td>\n",
       "      <td>114227</td>\n",
       "      <td>120239</td>\n",
       "    </tr>\n",
       "    <tr>\n",
       "      <th>120240</th>\n",
       "      <td>77</td>\n",
       "      <td>3.08</td>\n",
       "      <td>26</td>\n",
       "      <td>1111.236572</td>\n",
       "      <td>268.539185</td>\n",
       "      <td>107.800003</td>\n",
       "      <td>63.0</td>\n",
       "      <td>522.0</td>\n",
       "      <td>77</td>\n",
       "      <td>1</td>\n",
       "      <td>114228</td>\n",
       "      <td>120240</td>\n",
       "    </tr>\n",
       "    <tr>\n",
       "      <th>120241</th>\n",
       "      <td>78</td>\n",
       "      <td>3.12</td>\n",
       "      <td>26</td>\n",
       "      <td>1111.188110</td>\n",
       "      <td>268.551849</td>\n",
       "      <td>107.800003</td>\n",
       "      <td>63.0</td>\n",
       "      <td>522.0</td>\n",
       "      <td>78</td>\n",
       "      <td>1</td>\n",
       "      <td>114229</td>\n",
       "      <td>120241</td>\n",
       "    </tr>\n",
       "    <tr>\n",
       "      <th>120242</th>\n",
       "      <td>79</td>\n",
       "      <td>3.16</td>\n",
       "      <td>26</td>\n",
       "      <td>1111.124146</td>\n",
       "      <td>268.573273</td>\n",
       "      <td>107.800003</td>\n",
       "      <td>63.0</td>\n",
       "      <td>522.0</td>\n",
       "      <td>79</td>\n",
       "      <td>1</td>\n",
       "      <td>114230</td>\n",
       "      <td>120242</td>\n",
       "    </tr>\n",
       "  </tbody>\n",
       "</table>\n",
       "<p>80 rows × 12 columns</p>\n",
       "</div>"
      ],
      "text/plain": [
       "        timestamp_raw  timestamp_time  worm_index_joined      coord_x  \\\n",
       "120163              0            0.00                 26  1111.546021   \n",
       "120164              1            0.04                 26  1111.528931   \n",
       "120165              2            0.08                 26  1111.504639   \n",
       "120166              3            0.12                 26  1111.474121   \n",
       "120167              4            0.16                 26  1111.437988   \n",
       "...               ...             ...                ...          ...   \n",
       "120238             75            3.00                 26  1111.291992   \n",
       "120239             76            3.04                 26  1111.270752   \n",
       "120240             77            3.08                 26  1111.236572   \n",
       "120241             78            3.12                 26  1111.188110   \n",
       "120242             79            3.16                 26  1111.124146   \n",
       "\n",
       "           coord_y   threshold  roi_size   area  frame_number  \\\n",
       "120163  268.120911  107.800003      63.0  518.5             0   \n",
       "120164  268.174042  107.800003      63.0  518.5             1   \n",
       "120165  268.228577  107.800003      63.0  518.5             2   \n",
       "120166  268.284119  107.800003      63.0  518.5             3   \n",
       "120167  268.340210  107.800003      63.0  518.5             4   \n",
       "...            ...         ...       ...    ...           ...   \n",
       "120238  268.536713  107.800003      63.0  522.0            75   \n",
       "120239  268.534424  107.800003      63.0  522.0            76   \n",
       "120240  268.539185  107.800003      63.0  522.0            77   \n",
       "120241  268.551849  107.800003      63.0  522.0            78   \n",
       "120242  268.573273  107.800003      63.0  522.0            79   \n",
       "\n",
       "        was_skeletonized  skeleton_id  old_trajectory_data_index  \n",
       "120163                 1       114151                     120163  \n",
       "120164                 1       114152                     120164  \n",
       "120165                 1       114153                     120165  \n",
       "120166                 1       114154                     120166  \n",
       "120167                 1       114155                     120167  \n",
       "...                  ...          ...                        ...  \n",
       "120238                 1       114226                     120238  \n",
       "120239                 1       114227                     120239  \n",
       "120240                 1       114228                     120240  \n",
       "120241                 1       114229                     120241  \n",
       "120242                 1       114230                     120242  \n",
       "\n",
       "[80 rows x 12 columns]"
      ]
     },
     "execution_count": 62,
     "metadata": {},
     "output_type": "execute_result"
    }
   ],
   "source": [
    "traj[traj['worm_index_joined']==26]"
   ]
  },
  {
   "cell_type": "code",
   "execution_count": null,
   "id": "22ff00b3",
   "metadata": {},
   "outputs": [],
   "source": [
    "# raw\n",
    "\n"
   ]
  },
  {
   "cell_type": "code",
   "execution_count": null,
   "id": "2fe27ae3",
   "metadata": {},
   "outputs": [],
   "source": []
  },
  {
   "cell_type": "code",
   "execution_count": 33,
   "id": "766f3033",
   "metadata": {},
   "outputs": [
    {
     "data": {
      "text/plain": [
       "<matplotlib.image.AxesImage at 0x7f47adad5c10>"
      ]
     },
     "execution_count": 33,
     "metadata": {},
     "output_type": "execute_result"
    },
    {
     "data": {
      "image/png": "[encoded data removed]",
      "text/plain": [
       "<Figure size 432x288 with 1 Axes>"
      ]
     },
     "metadata": {
      "needs_background": "light"
     },
     "output_type": "display_data"
    }
   ],
   "source": [
    "plt.imshow(array[0])"
   ]
  },
  {
   "cell_type": "code",
   "execution_count": 46,
   "id": "6ce1e414",
   "metadata": {},
   "outputs": [],
   "source": [
    "def plot(np_array):\n",
    "    uniques_original = list(np.unique(np_array))[1:]  # [1:] to omit values == '0'\n",
    "    print('unique_worm_ids: ', uniques_original)\n",
    "    sequential_ids = range(1, len(uniques_original)+1)\n",
    "    for i, original in enumerate(uniques_original):\n",
    "        np_array[np_array == uniques_original[i]] = sequential_ids[i]  # Update stacked_array with sequential worm_ids\n",
    "    print('sequential ids: ', list(np.unique(np_array))[1:])\n",
    "    \n",
    "    mpl.rcParams['image.interpolation'] = 'none'  # Prevent mpl smoothes the edges\n",
    "    os.mkdir(\"pic_temporary\")  # To temporarily store the files\n",
    "\n",
    "    np_array[:, 0:2, 0:2] = 10\n",
    "    np_array[:, 528:530, 528:530] = 1\n",
    "    \n",
    "    mask = np.where(np_array==0, -1, np_array)\n",
    "    #print(np.unique(mask_1))\n",
    "\n",
    "    value = -1\n",
    "    masked_array = np.ma.masked_where(mask == value, mask)\n",
    "\n",
    "    cmap = mpl.cm.get_cmap(\"tab20\").copy()\n",
    "            \n",
    "    cmap.set_bad(color='black')\n",
    "\n",
    "    plt.imshow(masked_array, cmap=cmap)"
   ]
  },
  {
   "cell_type": "code",
   "execution_count": 55,
   "id": "b433b82d",
   "metadata": {},
   "outputs": [
    {
     "name": "stdout",
     "output_type": "stream",
     "text": [
      "unique_worm_ids:  [26, 27]\n",
      "sequential ids:  [1, 2]\n"
     ]
    },
    {
     "data": {
      "image/png": "[encoded data removed]",
      "text/plain": [
       "<Figure size 432x288 with 1 Axes>"
      ]
     },
     "metadata": {
      "needs_background": "light"
     },
     "output_type": "display_data"
    }
   ],
   "source": [
    "plot(array[0])"
   ]
  },
  {
   "cell_type": "code",
   "execution_count": 70,
   "id": "7b824652",
   "metadata": {},
   "outputs": [
    {
     "data": {
      "text/plain": [
       "<matplotlib.image.AxesImage at 0x7f479fe70a50>"
      ]
     },
     "execution_count": 70,
     "metadata": {},
     "output_type": "execute_result"
    },
    {
     "data": {
      "image/png": "[encoded data removed]",
      "text/plain": [
       "<Figure size 432x288 with 1 Axes>"
      ]
     },
     "metadata": {
      "needs_background": "light"
     },
     "output_type": "display_data"
    }
   ],
   "source": [
    "plt.imshow(array[0][60:130, 180:250])  # 70, 70 size"
   ]
  },
  {
   "cell_type": "code",
   "execution_count": 89,
   "id": "4dac4a9a",
   "metadata": {},
   "outputs": [
    {
     "data": {
      "image/png": "[encoded data removed]",
      "text/plain": [
       "<Figure size 432x288 with 1 Axes>"
      ]
     },
     "metadata": {
      "needs_background": "light"
     },
     "output_type": "display_data"
    }
   ],
   "source": [
    "dorsal = fN['coordinates']['dorsal_contours'][114151]  # Worm 26, in D7_mask_1\n",
    "dorsal_x = [each[0]/12.4-1081 for each in dorsal]\n",
    "dorsal_y = [each[1]/12.4-250+10 for each in dorsal]\n",
    "\n",
    "ventral = fN['coordinates']['ventral_contours'][114151]\n",
    "ventral_x = [each[0]/12.4-1081 for each in ventral]\n",
    "ventral_y = [each[1]/12.4-250+10 for each in ventral]\n",
    "\n",
    "fig = plt.figure()\n",
    "ax = fig.add_subplot(111)\n",
    "\n",
    "plt.scatter(dorsal_x, dorsal_y, color='blue', s=3.5)\n",
    "plt.scatter(ventral_x, ventral_y, color='red', s=3.5)\n",
    "plt.xlim(0,70)\n",
    "plt.ylim(0,70)\n",
    "\n",
    "ax.set_aspect('equal', adjustable='box')\n",
    "plt.gca().invert_yaxis()\n",
    "\n",
    "plt.show()"
   ]
  },
  {
   "cell_type": "code",
   "execution_count": null,
   "id": "cf1a45d5",
   "metadata": {},
   "outputs": [],
   "source": [
    "# example\n",
    "fig = plt.figure()\n",
    "ax = fig.add_subplot(111)\n",
    "\n",
    "plt.plot(x, y)\n",
    "plt.xlim(-3,3)\n",
    "plt.ylim(-3,3)\n",
    "\n",
    "ax.set_aspect('equal', adjustable='box')\n",
    "\n",
    "plt.xlabel(\"x\")\n",
    "plt.ylabel(\"sinx\")\n",
    "\n",
    "plt.show()"
   ]
  }
 ],
 "metadata": {
  "environment": {
   "name": "common-cu110.m76",
   "type": "gcloud",
   "uri": "gcr.io/deeplearning-platform-release/base-cu110:m76"
  },
  "kernelspec": {
   "display_name": "Python [conda env:root] *",
   "language": "python",
   "name": "conda-root-py"
  },
  "language_info": {
   "codemirror_mode": {
    "name": "ipython",
    "version": 3
   },
   "file_extension": ".py",
   "mimetype": "text/x-python",
   "name": "python",
   "nbconvert_exporter": "python",
   "pygments_lexer": "ipython3",
   "version": "3.7.10"
  }
 },
 "nbformat": 4,
 "nbformat_minor": 5
}

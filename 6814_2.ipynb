{
 "cells": [
  {
   "cell_type": "code",
   "execution_count": 1,
   "id": "94292789",
   "metadata": {},
   "outputs": [],
   "source": [
    "import numpy as np\n",
    "import h5py\n",
    "import matplotlib.pyplot as plt\n",
    "from PIL import Image, ImageDraw\n",
    "import numpy as np\n",
    "import sys\n",
    "import time\n",
    "import pandas as pd\n",
    "import cv2\n",
    "import os\n",
    "import imageio\n",
    "import matplotlib as mpl\n",
    "from matplotlib import cm\n",
    "from matplotlib.colors import ListedColormap, LinearSegmentedColormap\n",
    "\n",
    "import masks\n",
    "import gif\n",
    "import raw\n",
    "import lineage"
   ]
  },
  {
   "cell_type": "code",
   "execution_count": 2,
   "id": "9ee308a6",
   "metadata": {},
   "outputs": [],
   "source": [
    "#f_meta = h5py.File('../6814_2/6814_2_metadata.hdf5')\n",
    "#f_meta.keys()"
   ]
  },
  {
   "cell_type": "code",
   "execution_count": 3,
   "id": "ce121314",
   "metadata": {},
   "outputs": [],
   "source": [
    "#pic = f_meta['full_data'][0]\n",
    "#plt.imshow(pic)"
   ]
  },
  {
   "cell_type": "code",
   "execution_count": 4,
   "id": "20a2dde7",
   "metadata": {},
   "outputs": [],
   "source": [
    "#pic_s = pic[2340:2870, 2320:2850]\n",
    "#plt.imshow(pic_s)"
   ]
  },
  {
   "cell_type": "code",
   "execution_count": 5,
   "id": "b9232c46",
   "metadata": {},
   "outputs": [],
   "source": [
    "#f_meta['fov_wells'][-1]"
   ]
  },
  {
   "cell_type": "code",
   "execution_count": 6,
   "id": "3f6ccff9",
   "metadata": {},
   "outputs": [],
   "source": [
    "# Input file\n",
    "fN = h5py.File(\"../6814_2/6814_2_featuresN.hdf5\", \"r\")\n",
    "\n",
    "# Define dorsal and ventral coordinates\n",
    "coordinates = fN['coordinates']\n",
    "dorsal = coordinates['dorsal_contours']\n",
    "ventral = coordinates['ventral_contours']\n",
    "\n",
    "# trajectory_data and timeseries_data\n",
    "traj = pd.read_hdf(\"../6814_2/6814_2_featuresN.hdf5\", '/trajectories_data')\n",
    "timeseries = fN['timeseries_data']"
   ]
  },
  {
   "cell_type": "code",
   "execution_count": 7,
   "id": "c36337ed",
   "metadata": {},
   "outputs": [],
   "source": [
    "# Get wells - data from timeseries_data, at position [2]\n",
    "\n",
    "wells = ['A1', 'A2', 'A3', 'A4', 'B1', 'B2', 'B3', 'B4', 'C1', 'C2', 'C3', 'C4', 'D1', 'D2', 'D3', 'D4']\n",
    "#wells = [each.encode() for each in wells]\n",
    "\n",
    "well_dict = {}\n",
    "for each in wells:\n",
    "    well_dict[each] = []\n",
    "    \n",
    "#print('A1'.encode().decode())\n",
    "for i, each in enumerate(timeseries[:]):  # \"i\" == index\n",
    "    well = each[2].decode()\n",
    "    if well in well_dict.keys():\n",
    "        well_dict[well].append(i)"
   ]
  },
  {
   "cell_type": "code",
   "execution_count": 8,
   "id": "e62ca454",
   "metadata": {},
   "outputs": [],
   "source": [
    "# get well by well, and store\n",
    "d4 = [180, 710, 160, 690]\n",
    "d3 = [180, 710, 880, 1410]\n",
    "d2 = [180, 710, 1600, 2130]\n",
    "d1 = [180, 710, 2320, 2850]\n",
    "\n",
    "c4 = [895, 1425, 160, 690]\n",
    "c3 = [895, 1425, 880, 1410]\n",
    "c2 = [895, 1425, 1600, 2130]\n",
    "c1 = [895, 1425, 2320, 2850]\n",
    "\n",
    "b4 = [1620, 2150, 160, 690]\n",
    "b3 = [1620, 2150, 880, 1410]\n",
    "b2 = [1620, 2150, 1600, 2130]\n",
    "b1 = [1620, 2150, 2320, 2850]\n",
    "\n",
    "a4 = [2340, 2870, 160, 690]\n",
    "a3 = [2340, 2870, 880, 1410]\n",
    "a2 = [2340, 2870, 1600, 2130]\n",
    "a1 = [2340, 2870, 2320, 2850]"
   ]
  },
  {
   "cell_type": "code",
   "execution_count": null,
   "id": "8b4f5ca8",
   "metadata": {},
   "outputs": [],
   "source": []
  },
  {
   "cell_type": "code",
   "execution_count": 9,
   "id": "58270098",
   "metadata": {},
   "outputs": [
    {
     "data": {
      "text/plain": [
       "['A1',\n",
       " 'A2',\n",
       " 'A3',\n",
       " 'A4',\n",
       " 'B1',\n",
       " 'B2',\n",
       " 'B3',\n",
       " 'B4',\n",
       " 'C1',\n",
       " 'C2',\n",
       " 'C3',\n",
       " 'C4',\n",
       " 'D1',\n",
       " 'D2',\n",
       " 'D3',\n",
       " 'D4']"
      ]
     },
     "execution_count": 9,
     "metadata": {},
     "output_type": "execute_result"
    }
   ],
   "source": [
    "well_names = list(well_dict.keys())\n",
    "well_names"
   ]
  },
  {
   "cell_type": "code",
   "execution_count": 10,
   "id": "f138e03c",
   "metadata": {},
   "outputs": [],
   "source": [
    "## Finish making masks~\n",
    "\n",
    "# Skip C2\n",
    "\n",
    "#for well in well_names:\n",
    "#    if well == 'C2':\n",
    "#        pass\n",
    "#    else:\n",
    "#        masks.make_well_masks(well=well, traj=traj, dorsal=dorsal, ventral=ventral, well_dict=well_dict, down_sampling=6, file_dir=\"../6814_2/\", sequential=False)"
   ]
  },
  {
   "cell_type": "markdown",
   "id": "23ad73bd",
   "metadata": {},
   "source": [
    "# Make raw wells \n",
    "well by well"
   ]
  },
  {
   "cell_type": "code",
   "execution_count": 11,
   "id": "dbdbb760",
   "metadata": {},
   "outputs": [],
   "source": [
    "wells = [a1, a2, a3, a4, b1, b2, b3, b4, c1, c2, c3, c4, d1, d2, d3, d4]"
   ]
  },
  {
   "cell_type": "code",
   "execution_count": 13,
   "id": "2838b539",
   "metadata": {},
   "outputs": [
    {
     "name": "stdout",
     "output_type": "stream",
     "text": [
      "-------- A1 --------\n",
      "-------- A2 --------\n",
      "-------- A3 --------\n",
      "-------- A4 --------\n",
      "-------- B1 --------\n",
      "-------- B2 --------\n",
      "-------- B3 --------\n",
      "-------- B4 --------\n",
      "-------- C1 --------\n",
      "-------- C2 --------\n",
      "-------- C3 --------\n",
      "-------- C4 --------\n",
      "-------- D1 --------\n",
      "-------- D2 --------\n",
      "-------- D4 --------\n"
     ]
    }
   ],
   "source": [
    "for i, well_name in enumerate(well_names):\n",
    "    output = \"../6814_2/raw_wells/%s_raw.npy\" % well_name\n",
    "    raw.get_raw_well(wells[i], well_name=well_name, video_path=\"../6814_2/6814_2.mp4\", filename=output, frame_start=0, frame_end=9001, down_sampling=1) "
   ]
  },
  {
   "cell_type": "code",
   "execution_count": 16,
   "id": "7b6da8f5",
   "metadata": {},
   "outputs": [
    {
     "name": "stdout",
     "output_type": "stream",
     "text": [
      "A1\n",
      "(100, 530, 530, 1)\n",
      "(100, 530, 530, 1)\n",
      "A2\n",
      "(100, 530, 530, 1)\n",
      "A3\n",
      "(100, 530, 530, 1)\n",
      "(100, 530, 530, 1)\n",
      "A4\n",
      "(100, 530, 530, 1)\n",
      "B1\n",
      "(100, 530, 530, 1)\n",
      "B2\n",
      "(100, 530, 530, 1)\n",
      "(100, 530, 530, 1)\n",
      "(100, 530, 530, 1)\n",
      "(100, 530, 530, 1)\n",
      "(100, 530, 530, 1)\n",
      "(100, 530, 530, 1)\n",
      "(100, 530, 530, 1)\n",
      "(100, 530, 530, 1)\n",
      "(100, 530, 530, 1)\n",
      "(100, 530, 530, 1)\n",
      "(100, 530, 530, 1)\n",
      "(100, 530, 530, 1)\n",
      "(100, 530, 530, 1)\n",
      "(100, 530, 530, 1)\n",
      "(100, 530, 530, 1)\n",
      "(100, 530, 530, 1)\n",
      "(100, 530, 530, 1)\n",
      "(100, 530, 530, 1)\n",
      "(100, 530, 530, 1)\n",
      "B3\n",
      "(100, 530, 530, 1)\n",
      "B4\n",
      "(100, 530, 530, 1)\n",
      "(100, 530, 530, 1)\n",
      "C1\n",
      "(100, 530, 530, 1)\n",
      "(100, 530, 530, 1)\n",
      "(100, 530, 530, 1)\n",
      "(100, 530, 530, 1)\n",
      "C3\n",
      "(100, 530, 530, 1)\n",
      "(100, 530, 530, 1)\n",
      "C4\n",
      "(100, 530, 530, 1)\n",
      "(100, 530, 530, 1)\n",
      "D1\n",
      "(100, 530, 530, 1)\n",
      "(100, 530, 530, 1)\n",
      "D2\n",
      "(100, 530, 530, 1)\n",
      "(100, 530, 530, 1)\n",
      "D3\n",
      "(100, 530, 530, 1)\n",
      "(100, 530, 530, 1)\n",
      "(100, 530, 530, 1)\n",
      "(100, 530, 530, 1)\n",
      "(100, 530, 530, 1)\n",
      "D4\n",
      "(100, 530, 530, 1)\n",
      "(100, 530, 530, 1)\n"
     ]
    }
   ],
   "source": [
    "for well_name in well_names:\n",
    "    if well_name == 'C2':\n",
    "        pass\n",
    "    else:\n",
    "        print(well_name)\n",
    "        raw_video_path = '../6814_2/raw_wells/%s_raw.npy' % well_name\n",
    "        txt = '../6814_2/%s_not_empty.txt' % well_name\n",
    "        raw.make_raw_videos(raw_video_path=raw_video_path, mask_frame_info_fn=txt, well_name=well_name, output_dir='../6814_2')"
   ]
  },
  {
   "cell_type": "code",
   "execution_count": 18,
   "id": "3047f309",
   "metadata": {},
   "outputs": [
    {
     "name": "stdout",
     "output_type": "stream",
     "text": [
      "Processing raw video.\n",
      "unique_worm_ids:  [35, 36]\n",
      "sequential ids:  [1, 2]\n",
      "Processing raw video.\n",
      "unique_worm_ids:  []\n",
      "sequential ids:  []\n"
     ]
    },
    {
     "data": {
      "image/png": "[encoded data removed]",
      "text/plain": [
       "<Figure size 432x288 with 1 Axes>"
      ]
     },
     "metadata": {
      "needs_background": "light"
     },
     "output_type": "display_data"
    }
   ],
   "source": [
    "gif.plot_gif(np.load('../6814_2/C3_raw_1.npy'), '../6814_2/gif/C3_raw_1.gif', raw=True)\n",
    "gif.plot_gif(np.load('../6814_2/C3_mask_1.npy'), '../6814_2/gif/C3_mask_1.gif')\n",
    "\n",
    "gif.plot_gif(np.load('../6814_2/B1_raw_1.npy'), '../6814_2/gif/B1_raw_1.gif', raw=True)\n",
    "gif.plot_gif(np.load('../6814_2/B1_mask_1.npy'), '../6814_2/gif/B1_mask_1.gif')"
   ]
  },
  {
   "cell_type": "code",
   "execution_count": 19,
   "id": "39f82e43",
   "metadata": {},
   "outputs": [
    {
     "name": "stdout",
     "output_type": "stream",
     "text": [
      "Processing raw video.\n",
      "unique_worm_ids:  [7]\n",
      "sequential ids:  [1]\n"
     ]
    },
    {
     "data": {
      "image/png": "[encoded data removed]",
      "text/plain": [
       "<Figure size 432x288 with 1 Axes>"
      ]
     },
     "metadata": {
      "needs_background": "light"
     },
     "output_type": "display_data"
    }
   ],
   "source": [
    "gif.plot_gif(np.load('../6814_2/A2_raw_1.npy'), '../6814_2/gif/A2_raw_1.gif', raw=True)\n",
    "gif.plot_gif(np.load('../6814_2/A2_mask_1.npy'), '../6814_2/gif/A2_mask_1.gif')"
   ]
  },
  {
   "cell_type": "markdown",
   "id": "0f2efef5",
   "metadata": {},
   "source": [
    "# Lineages"
   ]
  },
  {
   "cell_type": "code",
   "execution_count": 20,
   "id": "70808309",
   "metadata": {},
   "outputs": [],
   "source": [
    "# lineages\n",
    "\n",
    "from lineage import make_lineage\n",
    "\n",
    "a1_1 = make_lineage(traj, well_dict, 'A1', '6814_2', \"../6814_2/A1_mask_1.npy\", 1) \n",
    "a2_1 = make_lineage(traj, well_dict, 'A2', '6814_2', \"../6814_2/A2_mask_1.npy\", 1) \n",
    "a3_1 = make_lineage(traj, well_dict, 'A3', '6814_2', \"../6814_2/A3_mask_1.npy\", 1) \n",
    "a3_2 = make_lineage(traj, well_dict, 'A3', '6814_2', \"../6814_2/A3_mask_2.npy\", 2) \n",
    "a4_1 = make_lineage(traj, well_dict, 'A4', '6814_2', \"../6814_2/A4_mask_1.npy\", 1) \n",
    "\n",
    "b1_1 = make_lineage(traj, well_dict, 'B1', '6814_2', \"../6814_2/B1_mask_1.npy\", 1)\n",
    "\n",
    "b2_1 = make_lineage(traj, well_dict, 'B2', '6814_2', \"../6814_2/B2_mask_1.npy\", 1)\n",
    "b2_2 = make_lineage(traj, well_dict, 'B2', '6814_2', \"../6814_2/B2_mask_2.npy\", 2)\n",
    "b2_3 = make_lineage(traj, well_dict, 'B2', '6814_2', \"../6814_2/B2_mask_3.npy\", 3)\n",
    "b2_4 = make_lineage(traj, well_dict, 'B2', '6814_2', \"../6814_2/B2_mask_4.npy\", 4)\n",
    "b2_5 = make_lineage(traj, well_dict, 'B2', '6814_2', \"../6814_2/B2_mask_5.npy\", 5)\n",
    "b2_6 = make_lineage(traj, well_dict, 'B2', '6814_2', \"../6814_2/B2_mask_6.npy\", 6)\n",
    "b2_7 = make_lineage(traj, well_dict, 'B2', '6814_2', \"../6814_2/B2_mask_7.npy\", 7)\n",
    "b2_8 = make_lineage(traj, well_dict, 'B2', '6814_2', \"../6814_2/B2_mask_8.npy\", 8)\n",
    "b2_9 = make_lineage(traj, well_dict, 'B2', '6814_2', \"../6814_2/B2_mask_9.npy\", 9)\n",
    "b2_10 = make_lineage(traj, well_dict, 'B2', '6814_2', \"../6814_2/B2_mask_10.npy\", 10)\n",
    "b2_11 = make_lineage(traj, well_dict, 'B2', '6814_2', \"../6814_2/B2_mask_11.npy\", 11)\n",
    "b2_12 = make_lineage(traj, well_dict, 'B2', '6814_2', \"../6814_2/B2_mask_12.npy\", 12)\n",
    "b2_13 = make_lineage(traj, well_dict, 'B2', '6814_2', \"../6814_2/B2_mask_13.npy\", 13)\n",
    "b2_14 = make_lineage(traj, well_dict, 'B2', '6814_2', \"../6814_2/B2_mask_14.npy\", 14)\n",
    "b2_15 = make_lineage(traj, well_dict, 'B2', '6814_2', \"../6814_2/B2_mask_15.npy\", 15)\n",
    "b2_16 = make_lineage(traj, well_dict, 'B2', '6814_2', \"../6814_2/B2_mask_16.npy\", 16)\n",
    "b2_17 = make_lineage(traj, well_dict, 'B2', '6814_2', \"../6814_2/B2_mask_17.npy\", 17)\n",
    "b2_18 = make_lineage(traj, well_dict, 'B2', '6814_2', \"../6814_2/B2_mask_18.npy\", 18)\n",
    "b2_19 = make_lineage(traj, well_dict, 'B2', '6814_2', \"../6814_2/B2_mask_19.npy\", 19)\n",
    "\n",
    "b3_1 = make_lineage(traj, well_dict, 'B3', '6814_2', \"../6814_2/B3_mask_1.npy\", 1)\n",
    "\n",
    "b4_1 = make_lineage(traj, well_dict, 'B4', '6814_2', \"../6814_2/B4_mask_1.npy\", 1)\n",
    "b4_2 = make_lineage(traj, well_dict, 'B4', '6814_2', \"../6814_2/B4_mask_2.npy\", 2)\n",
    "\n",
    "c1_1 = make_lineage(traj, well_dict, 'C1', '6814_2', \"../6814_2/C1_mask_1.npy\", 1)\n",
    "c1_2 = make_lineage(traj, well_dict, 'C1', '6814_2', \"../6814_2/C1_mask_2.npy\", 2)\n",
    "c1_3 = make_lineage(traj, well_dict, 'C1', '6814_2', \"../6814_2/C1_mask_3.npy\", 3)\n",
    "c1_4 = make_lineage(traj, well_dict, 'C1', '6814_2', \"../6814_2/C1_mask_4.npy\", 4)\n",
    "\n",
    "# skip c2\n",
    "\n",
    "c3_1 = make_lineage(traj, well_dict, 'C3', '6814_2', \"../6814_2/C3_mask_1.npy\", 1)\n",
    "c3_2 = make_lineage(traj, well_dict, 'C3', '6814_2', \"../6814_2/C3_mask_2.npy\", 2)\n",
    "\n",
    "c4_1 = make_lineage(traj, well_dict, 'C4', '6814_2', \"../6814_2/C4_mask_1.npy\", 1)\n",
    "c4_2 = make_lineage(traj, well_dict, 'C4', '6814_2', \"../6814_2/C4_mask_2.npy\", 2)\n",
    "\n",
    "d1_1 = make_lineage(traj, well_dict, 'D1', '6814_2', \"../6814_2/D1_mask_1.npy\", 1)\n",
    "d1_2 = make_lineage(traj, well_dict, 'D1', '6814_2', \"../6814_2/D1_mask_2.npy\", 2)\n",
    "\n",
    "d2_1 = make_lineage(traj, well_dict, 'D2', '6814_2', \"../6814_2/D2_mask_1.npy\", 1)\n",
    "d2_2 = make_lineage(traj, well_dict, 'D2', '6814_2', \"../6814_2/D2_mask_2.npy\", 2)\n",
    "\n",
    "d3_1 = make_lineage(traj, well_dict, 'D3', '6814_2', \"../6814_2/D3_mask_1.npy\", 1)\n",
    "d3_2 = make_lineage(traj, well_dict, 'D3', '6814_2', \"../6814_2/D3_mask_2.npy\", 2)\n",
    "d3_3 = make_lineage(traj, well_dict, 'D3', '6814_2', \"../6814_2/D3_mask_3.npy\", 3)\n",
    "d3_4 = make_lineage(traj, well_dict, 'D3', '6814_2', \"../6814_2/D3_mask_4.npy\", 4)\n",
    "d3_5 = make_lineage(traj, well_dict, 'D3', '6814_2', \"../6814_2/D3_mask_5.npy\", 5)\n",
    "\n",
    "d4_1 = make_lineage(traj, well_dict, 'D4', '6814_2', \"../6814_2/D4_mask_1.npy\", 1)\n",
    "d4_2 = make_lineage(traj, well_dict, 'D4', '6814_2', \"../6814_2/D4_mask_2.npy\", 2)"
   ]
  },
  {
   "cell_type": "code",
   "execution_count": 21,
   "id": "d3127424",
   "metadata": {},
   "outputs": [],
   "source": [
    "masks_fn =[\n",
    "    \"../6814_2/A1_mask_1.npy\",\n",
    "    \"../6814_2/A2_mask_1.npy\",\n",
    "    \"../6814_2/A3_mask_1.npy\",\n",
    "    \"../6814_2/A3_mask_2.npy\",\n",
    "    \"../6814_2/A4_mask_1.npy\",\n",
    "\n",
    "    \"../6814_2/B1_mask_1.npy\",\n",
    "    \"../6814_2/B2_mask_1.npy\",\n",
    "    \"../6814_2/B2_mask_2.npy\",\n",
    "    \"../6814_2/B2_mask_3.npy\",\n",
    "    \"../6814_2/B2_mask_4.npy\",\n",
    "    \"../6814_2/B2_mask_5.npy\",\n",
    "    \"../6814_2/B2_mask_6.npy\",\n",
    "    \"../6814_2/B2_mask_7.npy\",\n",
    "    \"../6814_2/B2_mask_8.npy\",\n",
    "    \"../6814_2/B2_mask_9.npy\",\n",
    "    \"../6814_2/B2_mask_10.npy\",\n",
    "    \"../6814_2/B2_mask_11.npy\",\n",
    "    \"../6814_2/B2_mask_12.npy\",\n",
    "    \"../6814_2/B2_mask_13.npy\",\n",
    "    \"../6814_2/B2_mask_14.npy\",\n",
    "    \"../6814_2/B2_mask_15.npy\",\n",
    "    \"../6814_2/B2_mask_16.npy\",\n",
    "    \"../6814_2/B2_mask_17.npy\",\n",
    "    \"../6814_2/B2_mask_18.npy\",\n",
    "    \"../6814_2/B2_mask_19.npy\",\n",
    "\n",
    "    \"../6814_2/B3_mask_1.npy\",\n",
    "\n",
    "    \"../6814_2/B4_mask_1.npy\",\n",
    "    \"../6814_2/B4_mask_2.npy\",\n",
    "\n",
    "    \"../6814_2/C1_mask_1.npy\",\n",
    "    \"../6814_2/C1_mask_2.npy\",\n",
    "    \"../6814_2/C1_mask_3.npy\",\n",
    "    \"../6814_2/C1_mask_4.npy\",\n",
    "    # skip c2\n",
    "    \"../6814_2/C3_mask_1.npy\",\n",
    "    \"../6814_2/C3_mask_2.npy\",\n",
    "    \"../6814_2/C4_mask_1.npy\",\n",
    "    \"../6814_2/C4_mask_2.npy\",\n",
    "    \n",
    "    \"../6814_2/D1_mask_1.npy\",\n",
    "    \"../6814_2/D1_mask_2.npy\",\n",
    "    \"../6814_2/D2_mask_1.npy\",\n",
    "    \"../6814_2/D2_mask_2.npy\",\n",
    "    \"../6814_2/D3_mask_1.npy\",\n",
    "    \"../6814_2/D3_mask_2.npy\",\n",
    "    \"../6814_2/D3_mask_3.npy\",\n",
    "    \"../6814_2/D3_mask_4.npy\",\n",
    "    \"../6814_2/D3_mask_5.npy\",\n",
    "    \"../6814_2/D4_mask_1.npy\",\n",
    "    \"../6814_2/D4_mask_2.npy\"\n",
    "]"
   ]
  },
  {
   "cell_type": "code",
   "execution_count": 22,
   "id": "23b7092d",
   "metadata": {},
   "outputs": [],
   "source": [
    "raw_fn =[\n",
    "    \"../6814_2/A1_raw_1.npy\",\n",
    "    \"../6814_2/A2_raw_1.npy\",\n",
    "    \"../6814_2/A3_raw_1.npy\",\n",
    "    \"../6814_2/A3_raw_2.npy\",\n",
    "    \"../6814_2/A4_raw_1.npy\",\n",
    "\n",
    "    \"../6814_2/B1_raw_1.npy\",\n",
    "    \"../6814_2/B2_raw_1.npy\",\n",
    "    \"../6814_2/B2_raw_2.npy\",\n",
    "    \"../6814_2/B2_raw_3.npy\",\n",
    "    \"../6814_2/B2_raw_4.npy\",\n",
    "    \"../6814_2/B2_raw_5.npy\",\n",
    "    \"../6814_2/B2_raw_6.npy\",\n",
    "    \"../6814_2/B2_raw_7.npy\",\n",
    "    \"../6814_2/B2_raw_8.npy\",\n",
    "    \"../6814_2/B2_raw_9.npy\",\n",
    "    \"../6814_2/B2_raw_10.npy\",\n",
    "    \"../6814_2/B2_raw_11.npy\",\n",
    "    \"../6814_2/B2_raw_12.npy\",\n",
    "    \"../6814_2/B2_raw_13.npy\",\n",
    "    \"../6814_2/B2_raw_14.npy\",\n",
    "    \"../6814_2/B2_raw_15.npy\",\n",
    "    \"../6814_2/B2_raw_16.npy\",\n",
    "    \"../6814_2/B2_raw_17.npy\",\n",
    "    \"../6814_2/B2_raw_18.npy\",\n",
    "    \"../6814_2/B2_raw_19.npy\",\n",
    "\n",
    "    \"../6814_2/B3_raw_1.npy\",\n",
    "\n",
    "    \"../6814_2/B4_raw_1.npy\",\n",
    "    \"../6814_2/B4_raw_2.npy\",\n",
    "\n",
    "    \"../6814_2/C1_raw_1.npy\",\n",
    "    \"../6814_2/C1_raw_2.npy\",\n",
    "    \"../6814_2/C1_raw_3.npy\",\n",
    "    \"../6814_2/C1_raw_4.npy\",\n",
    "    # skip c2\n",
    "    \"../6814_2/C3_raw_1.npy\",\n",
    "    \"../6814_2/C3_raw_2.npy\",\n",
    "    \"../6814_2/C4_raw_1.npy\",\n",
    "    \"../6814_2/C4_raw_2.npy\",\n",
    "    \n",
    "    \"../6814_2/D1_raw_1.npy\",\n",
    "    \"../6814_2/D1_raw_2.npy\",\n",
    "    \"../6814_2/D2_raw_1.npy\",\n",
    "    \"../6814_2/D2_raw_2.npy\",\n",
    "    \"../6814_2/D3_raw_1.npy\",\n",
    "    \"../6814_2/D3_raw_2.npy\",\n",
    "    \"../6814_2/D3_raw_3.npy\",\n",
    "    \"../6814_2/D3_raw_4.npy\",\n",
    "    \"../6814_2/D3_raw_5.npy\",\n",
    "    \"../6814_2/D4_raw_1.npy\",\n",
    "    \"../6814_2/D4_raw_2.npy\"\n",
    "]"
   ]
  },
  {
   "cell_type": "code",
   "execution_count": 23,
   "id": "ec2c5952",
   "metadata": {},
   "outputs": [],
   "source": [
    "lineages = [\n",
    "    a1_1,\n",
    "    a2_1,\n",
    "    a3_1,\n",
    "    a3_2,\n",
    "    a4_1,\n",
    "\n",
    "    b1_1,\n",
    "\n",
    "    b2_1,\n",
    "    b2_2,\n",
    "    b2_3,\n",
    "    b2_4,\n",
    "    b2_5,\n",
    "    b2_6,\n",
    "    b2_7,\n",
    "    b2_8,\n",
    "    b2_9,\n",
    "    b2_10,\n",
    "    b2_11,\n",
    "    b2_12,\n",
    "    b2_13,\n",
    "    b2_14,\n",
    "    b2_15,\n",
    "    b2_16,\n",
    "    b2_17,\n",
    "    b2_18,\n",
    "    b2_19,\n",
    "\n",
    "    b3_1,\n",
    "\n",
    "    b4_1,\n",
    "    b4_2,\n",
    "\n",
    "    c1_1,\n",
    "    c1_2,\n",
    "    c1_3,\n",
    "    c1_4,\n",
    "\n",
    "    # skip c2\n",
    "\n",
    "    c3_1,\n",
    "    c3_2,\n",
    "\n",
    "    c4_1,\n",
    "    c4_2,\n",
    "\n",
    "    d1_1,\n",
    "    d1_2,\n",
    "\n",
    "    d2_1,\n",
    "    d2_2,\n",
    "\n",
    "    d3_1,\n",
    "    d3_2,\n",
    "    d3_3,\n",
    "    d3_4,\n",
    "    d3_5,\n",
    "\n",
    "    d4_1,\n",
    "    d4_2,\n",
    "]"
   ]
  },
  {
   "cell_type": "code",
   "execution_count": 24,
   "id": "3ca2eb0d",
   "metadata": {},
   "outputs": [
    {
     "name": "stdout",
     "output_type": "stream",
     "text": [
      "25\n",
      "25\n",
      "25\n"
     ]
    }
   ],
   "source": [
    "y = []\n",
    "y_indices = []\n",
    "\n",
    "for i, mask in enumerate(masks_fn):\n",
    "    mask_array = np.load(mask)\n",
    "    if mask_array.shape[0] == 100:\n",
    "        y.append(mask_array)\n",
    "        y_indices.append(i)\n",
    "\n",
    "X = []\n",
    "\n",
    "for i in y_indices:\n",
    "    raw_array = np.load(raw_fn[i])\n",
    "    X.append(raw_array)\n",
    "    \n",
    "lineages_true = []\n",
    "\n",
    "for i in y_indices:\n",
    "    lineages_true.append(lineages[i])\n",
    "\n",
    "print(len(y))\n",
    "print(len(X))\n",
    "print(len(lineages_true))"
   ]
  },
  {
   "cell_type": "code",
   "execution_count": 25,
   "id": "27ffbb86",
   "metadata": {},
   "outputs": [],
   "source": [
    "from deepcell.utils.tracking_utils import trks_stats, save_trks\n",
    "\n",
    "save_trks(\"../6814_2/6814_2.trks\", lineages_true, X, y)"
   ]
  }
 ],
 "metadata": {
  "environment": {
   "name": "tf2-gpu.2-3.m78",
   "type": "gcloud",
   "uri": "gcr.io/deeplearning-platform-release/tf2-gpu.2-3:m78"
  },
  "kernelspec": {
   "display_name": "Python [conda env:root] *",
   "language": "python",
   "name": "conda-root-py"
  },
  "language_info": {
   "codemirror_mode": {
    "name": "ipython",
    "version": 3
   },
   "file_extension": ".py",
   "mimetype": "text/x-python",
   "name": "python",
   "nbconvert_exporter": "python",
   "pygments_lexer": "ipython3",
   "version": "3.7.10"
  }
 },
 "nbformat": 4,
 "nbformat_minor": 5
}

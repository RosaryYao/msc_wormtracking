{
 "cells": [
  {
   "cell_type": "code",
   "execution_count": 42,
   "id": "a0493ffe",
   "metadata": {},
   "outputs": [],
   "source": [
    "import os\n",
    "import errno\n",
    "\n",
    "import numpy as np\n",
    "\n",
    "import deepcell\n",
    "from deepcell.utils.data_utils import get_data\n",
    "from tensorflow.keras.utils import get_file\n",
    "from deepcell import model_zoo\n",
    "from deepcell.image_generators import ImageFullyConvDataGenerator\n",
    "from matplotlib import pyplot as plt\n",
    "from deepcell import losses\n",
    "from skimage.measure import label\n",
    "from skimage import morphology"
   ]
  },
  {
   "cell_type": "code",
   "execution_count": 14,
   "id": "beb5d9aa",
   "metadata": {},
   "outputs": [],
   "source": [
    "from deepcell.utils.data_utils import get_data\n",
    "from tensorflow.keras.utils import get_file\n",
    "\n",
    "def load_data(path, mode, test_size=0.2, seed=0):\n",
    "    \"\"\"Loads dataset.\n",
    "    Args:\n",
    "         test_size (float): fraction of data to reserve as test data\n",
    "        seed (int): the seed for randomly shuffling the dataset\n",
    "    Returns:\n",
    "           tuple: (x_train, y_train), (x_test, y_test).\n",
    "    \"\"\"\n",
    "    #basepath = os.path.expanduser(os.path.join('~', '.keras', 'datasets'))\n",
    "    #prefix = path.split(os.path.sep)[:-1]\n",
    "    #data_dir = os.path.join(basepath, *prefix) if prefix else basepath\n",
    "    #if not os.path.exists(data_dir):\n",
    "    #    os.makedirs(data_dir)\n",
    "    #elif not os.path.isdir(data_dir):\n",
    "    #    raise IOError('{} exists but is not a directory'.format(data_dir))\n",
    "\n",
    "    train_dict, test_dict = get_data(\n",
    "        path,\n",
    "        mode=mode,\n",
    "        test_size=test_size,\n",
    "        seed=seed)\n",
    "    x_train, y_train = train_dict['X'], train_dict['y']\n",
    "    x_test, y_test = test_dict['X'], test_dict['y']\n",
    "    return (x_train, y_train), (x_test, y_test)"
   ]
  },
  {
   "cell_type": "code",
   "execution_count": 15,
   "id": "cd27affd",
   "metadata": {},
   "outputs": [],
   "source": [
    "from deepcell.image_generators import ImageFullyConvDataGenerator\n",
    "\n",
    "test_size = 0.2\n",
    "seed = 0\n",
    "\n",
    "#datagen = ImageFullyConvDataGenerator(\n",
    "#    rotation_range=180,\n",
    "#    zoom_range=(.8, 1.2),\n",
    "#    horizontal_flip=True,\n",
    "#    vertical_flip=True)\n",
    "\n",
    "datagen = ImageFullyConvDataGenerator(\n",
    "    rotation_range=30,\n",
    "    zoom_range=(.9, 1.1),\n",
    "    horizontal_flip=False,\n",
    "    vertical_flip=False)\n",
    "\n",
    "datagen_val = ImageFullyConvDataGenerator()"
   ]
  },
  {
   "cell_type": "code",
   "execution_count": 2,
   "id": "b051b787",
   "metadata": {},
   "outputs": [],
   "source": [
    "# Need to stack them together\n",
    "## Store them into seg_validation.npz\n",
    "\n",
    "val_all = np.load('../validation.npz')\n",
    "X = val_all['X']\n",
    "y = val_all['y']"
   ]
  },
  {
   "cell_type": "code",
   "execution_count": 3,
   "id": "cdc7ab54",
   "metadata": {},
   "outputs": [
    {
     "name": "stdout",
     "output_type": "stream",
     "text": [
      "(66, 100, 530, 530, 1)\n",
      "(66, 100, 530, 530, 1)\n"
     ]
    }
   ],
   "source": [
    "print(X.shape)\n",
    "print(y.shape)"
   ]
  },
  {
   "cell_type": "code",
   "execution_count": 4,
   "id": "88eac9a5",
   "metadata": {},
   "outputs": [
    {
     "name": "stdout",
     "output_type": "stream",
     "text": [
      "(6600, 530, 530, 1)\n",
      "(6600, 530, 530, 1)\n"
     ]
    }
   ],
   "source": [
    "X = np.vstack(X)\n",
    "\n",
    "print(X.shape)\n",
    "\n",
    "y = np.vstack(y)\n",
    "print(y.shape)"
   ]
  },
  {
   "cell_type": "code",
   "execution_count": 8,
   "id": "e20aabf5",
   "metadata": {},
   "outputs": [],
   "source": [
    "X_small = X[0:-1:50]\n",
    "y_small = y[0:-1:50]"
   ]
  },
  {
   "cell_type": "code",
   "execution_count": 9,
   "id": "43cb37cc",
   "metadata": {},
   "outputs": [
    {
     "name": "stdout",
     "output_type": "stream",
     "text": [
      "(132, 530, 530, 1)\n"
     ]
    }
   ],
   "source": [
    "print(X_small.shape)"
   ]
  },
  {
   "cell_type": "code",
   "execution_count": 11,
   "id": "6f87ee2e",
   "metadata": {},
   "outputs": [],
   "source": [
    "np.savez(\"../seg_validation.npz\", X=X_small, y=y_small)"
   ]
  },
  {
   "cell_type": "code",
   "execution_count": null,
   "id": "2a4a0ed1",
   "metadata": {},
   "outputs": [],
   "source": []
  },
  {
   "cell_type": "markdown",
   "id": "459e4558",
   "metadata": {},
   "source": [
    "## Create the confusion matrix"
   ]
  },
  {
   "cell_type": "code",
   "execution_count": 12,
   "id": "6a91cda2",
   "metadata": {},
   "outputs": [
    {
     "name": "stderr",
     "output_type": "stream",
     "text": [
      "2021-08-21 21:02:20.110507: W tensorflow/python/util/util.cc:348] Sets are not currently considered sequences, but this may change in the future, so consider avoiding using them.\n",
      "2021-08-21 21:02:20.133570: I tensorflow/core/platform/profile_utils/cpu_utils.cc:104] CPU Frequency: 2199995000 Hz\n",
      "2021-08-21 21:02:20.138035: I tensorflow/compiler/xla/service/service.cc:168] XLA service 0x5642e90c08e0 initialized for platform Host (this does not guarantee that XLA will be used). Devices:\n",
      "2021-08-21 21:02:20.138080: I tensorflow/compiler/xla/service/service.cc:176]   StreamExecutor device (0): Host, Default Version\n",
      "2021-08-21 21:02:20.138379: I tensorflow/core/common_runtime/process_util.cc:146] Creating new thread pool with default inter op setting: 2. Tune using inter_op_parallelism_threads for best performance.\n"
     ]
    }
   ],
   "source": [
    "# fgbg_model and pixelwise_model together\n",
    "## Load the model\n",
    "\n",
    "norm_method = 'std'  # data normalization\n",
    "receptive_field = 61  # should be adjusted for the scale of the data  ## 61\n",
    "n_skips = 1  # number of skip-connections (only for FC training)\n",
    "\n",
    "dilation_radius = 1  # change dilation radius for edge dilation\n",
    "separate_edge_classes = True  # break edges into cell-background edge, cell-cell edge\n",
    "pixelwise_kwargs = {\n",
    "    'dilation_radius': dilation_radius,\n",
    "    'separate_edge_classes': separate_edge_classes,\n",
    "}\n",
    "\n",
    "input_shape=(530, 530, 1)\n",
    "\n",
    "fgbg_model = model_zoo.bn_feature_net_skip_2D(\n",
    "    n_features=2,  # segmentation mask (is_cell, is_not_cell)\n",
    "    receptive_field=receptive_field,\n",
    "    norm_method=norm_method,\n",
    "    n_skips=n_skips,\n",
    "    n_conv_filters=32,\n",
    "    n_dense_filters=128,\n",
    "    input_shape=input_shape,\n",
    "    last_only=False)"
   ]
  },
  {
   "cell_type": "code",
   "execution_count": 13,
   "id": "eccb2843",
   "metadata": {},
   "outputs": [],
   "source": [
    "fgbg_model.load_weights(\"../seg_training/attempt_1/models/test/conv_fgbg_model.h5\")"
   ]
  },
  {
   "cell_type": "code",
   "execution_count": null,
   "id": "72a2ded1",
   "metadata": {},
   "outputs": [],
   "source": []
  },
  {
   "cell_type": "code",
   "execution_count": 34,
   "id": "83bb451a",
   "metadata": {},
   "outputs": [],
   "source": [
    "# pixelwise_model\n",
    "\n",
    "pixelwise_model = model_zoo.bn_feature_net_skip_2D(\n",
    "    fgbg_model=fgbg_model,\n",
    "    n_features=4 if separate_edge_classes else 3,\n",
    "    receptive_field=receptive_field,\n",
    "    norm_method=norm_method,\n",
    "    n_skips=n_skips,\n",
    "    n_conv_filters=32,\n",
    "    n_dense_filters=128,\n",
    "    last_only=False,\n",
    "    input_shape=input_shape)"
   ]
  },
  {
   "cell_type": "code",
   "execution_count": 35,
   "id": "bb6d1725",
   "metadata": {},
   "outputs": [],
   "source": [
    "pixelwise_model.load_weights('../seg_training/attempt_1/models/test/conv_edgeseg_model.h5')"
   ]
  },
  {
   "cell_type": "code",
   "execution_count": null,
   "id": "1dc9527f",
   "metadata": {},
   "outputs": [],
   "source": []
  },
  {
   "cell_type": "code",
   "execution_count": 17,
   "id": "a84b289a",
   "metadata": {},
   "outputs": [],
   "source": [
    "train_dict, test_dict = get_data('../seg_validation.npz', mode='sample', seed=0, test_size=0.95)"
   ]
  },
  {
   "cell_type": "code",
   "execution_count": 19,
   "id": "629d4a67",
   "metadata": {},
   "outputs": [
    {
     "data": {
      "text/plain": [
       "(126, 530, 530, 1)"
      ]
     },
     "execution_count": 19,
     "metadata": {},
     "output_type": "execute_result"
    }
   ],
   "source": [
    "test_dict['X'].shape"
   ]
  },
  {
   "cell_type": "code",
   "execution_count": 20,
   "id": "d61badd0",
   "metadata": {},
   "outputs": [],
   "source": [
    "X_test = test_dict['X']\n",
    "y_test = test_dict['y']"
   ]
  },
  {
   "cell_type": "code",
   "execution_count": 37,
   "id": "ae38782c",
   "metadata": {},
   "outputs": [],
   "source": [
    "#fgbg_val_data = datagen_val.flow(\n",
    "#    {'X': X_test, 'y': y_test},\n",
    "#    seed=seed,\n",
    "#    skip=n_skips,\n",
    "#    transform='fgbg',\n",
    "#    batch_size=1)\n",
    "\n",
    "#pixelwise_val_data = datagen_val.flow(\n",
    "#    {'X': X_test, 'y': y_test},\n",
    "#    seed=seed,\n",
    "#    skip=n_skips,\n",
    "#    transform='pixelwise',\n",
    "#    transform_kwargs=pixelwise_kwargs,\n",
    "#    batch_size=1)"
   ]
  },
  {
   "cell_type": "code",
   "execution_count": 39,
   "id": "aad41e31",
   "metadata": {},
   "outputs": [
    {
     "data": {
      "text/plain": [
       "126"
      ]
     },
     "execution_count": 39,
     "metadata": {},
     "output_type": "execute_result"
    }
   ],
   "source": [
    "len(fgbg_val_data)"
   ]
  },
  {
   "cell_type": "code",
   "execution_count": 38,
   "id": "37e4a638",
   "metadata": {},
   "outputs": [],
   "source": [
    "lst, y_true = next(fgbg_val_data)"
   ]
  },
  {
   "cell_type": "code",
   "execution_count": null,
   "id": "f27c9069",
   "metadata": {},
   "outputs": [],
   "source": []
  },
  {
   "cell_type": "code",
   "execution_count": null,
   "id": "f57bf1a1",
   "metadata": {},
   "outputs": [],
   "source": []
  },
  {
   "cell_type": "code",
   "execution_count": 59,
   "id": "7c622104",
   "metadata": {},
   "outputs": [
    {
     "name": "stdout",
     "output_type": "stream",
     "text": [
      "(132, 530, 530, 1)\n"
     ]
    }
   ],
   "source": [
    "val = np.load(\"../seg_validation.npz\")\n",
    "X = val['X']\n",
    "print(X.shape)"
   ]
  },
  {
   "cell_type": "code",
   "execution_count": 61,
   "id": "ceee44bf",
   "metadata": {},
   "outputs": [
    {
     "name": "stdout",
     "output_type": "stream",
     "text": [
      "labeled_images shape: (132, 530, 530, 1)\n"
     ]
    }
   ],
   "source": [
    "flag = 0\n",
    "\n",
    "images = pixelwise_model.predict(X)[-1]\n",
    "images_fgbg = fgbg_model.predict(X)[-1]\n",
    "\n",
    "threshold = 0.8\n",
    "\n",
    "fg_thresh = images_fgbg[..., 1] > threshold\n",
    "fg_thresh = np.expand_dims(fg_thresh, axis=-1)\n",
    "\n",
    "images_post_fgbg = images * fg_thresh\n",
    "\n",
    "labeled_images = []\n",
    "for i in range(images_post_fgbg.shape[0]):\n",
    "    interior = images_post_fgbg[i, ..., 2] > .5\n",
    "    labeled_image = label(interior)\n",
    "    labeled_image = morphology.remove_small_objects(\n",
    "        labeled_image, min_size=130, connectivity=1)  ## min_size=50\n",
    "    labeled_images.append(labeled_image)\n",
    "labeled_images = np.array(labeled_images)\n",
    "labeled_images = np.expand_dims(labeled_images, axis=-1) \n",
    "\n",
    "print('labeled_images shape:', labeled_images.shape)"
   ]
  },
  {
   "cell_type": "code",
   "execution_count": 62,
   "id": "5c9b54f2",
   "metadata": {},
   "outputs": [
    {
     "name": "stdout",
     "output_type": "stream",
     "text": [
      "(132, 530, 530, 1)\n"
     ]
    }
   ],
   "source": [
    "y_true = val['y']\n",
    "print(y_true.shape)"
   ]
  },
  {
   "cell_type": "code",
   "execution_count": 78,
   "id": "dba07082",
   "metadata": {},
   "outputs": [
    {
     "name": "stdout",
     "output_type": "stream",
     "text": [
      "0\n",
      "1\n",
      "2\n",
      "3\n",
      "4\n",
      "5\n",
      "6\n",
      "7\n",
      "8\n",
      "9\n",
      "10\n",
      "11\n",
      "12\n",
      "13\n",
      "14\n",
      "15\n",
      "16\n",
      "17\n",
      "18\n",
      "19\n",
      "20\n",
      "21\n",
      "22\n",
      "23\n",
      "24\n",
      "25\n",
      "26\n",
      "27\n",
      "28\n",
      "29\n",
      "30\n",
      "31\n",
      "32\n",
      "33\n",
      "34\n",
      "35\n",
      "36\n",
      "37\n",
      "38\n",
      "39\n",
      "40\n",
      "41\n",
      "42\n",
      "43\n",
      "44\n",
      "45\n",
      "46\n",
      "47\n",
      "48\n",
      "49\n",
      "50\n",
      "51\n",
      "52\n",
      "53\n",
      "54\n",
      "55\n",
      "56\n",
      "57\n",
      "58\n",
      "59\n",
      "60\n",
      "61\n",
      "62\n",
      "63\n",
      "64\n",
      "65\n",
      "66\n",
      "67\n",
      "68\n",
      "69\n",
      "70\n",
      "71\n",
      "72\n",
      "73\n",
      "74\n",
      "75\n",
      "76\n",
      "77\n",
      "78\n",
      "79\n",
      "80\n",
      "81\n",
      "82\n",
      "83\n",
      "84\n",
      "85\n",
      "86\n",
      "87\n",
      "88\n",
      "89\n",
      "90\n",
      "91\n",
      "92\n",
      "93\n",
      "94\n",
      "95\n",
      "96\n",
      "97\n",
      "98\n",
      "99\n",
      "100\n",
      "101\n",
      "102\n",
      "103\n",
      "104\n",
      "105\n",
      "106\n",
      "107\n",
      "108\n",
      "109\n",
      "110\n",
      "111\n",
      "112\n",
      "113\n",
      "114\n",
      "115\n",
      "116\n",
      "117\n",
      "118\n",
      "119\n",
      "120\n",
      "121\n",
      "122\n",
      "123\n",
      "124\n",
      "125\n",
      "126\n",
      "127\n",
      "128\n",
      "129\n",
      "130\n",
      "131\n"
     ]
    }
   ],
   "source": [
    "# Take five images as an example\n",
    "## Would expect a lot of 0s\n",
    "\n",
    "y_pred_cm = []\n",
    "y_true_cm = []\n",
    "\n",
    "for i in range(132):\n",
    "    for j in range(530):\n",
    "        for k in range(530):\n",
    "            if y_true[i,j,k] == 0:\n",
    "                y_true_cm.append(0)\n",
    "            elif y_true[i,j,k] != 0:\n",
    "                y_true_cm.append(1)\n",
    "            \n",
    "            if labeled_images[i,j,k] == 0:\n",
    "                y_pred_cm.append(0)\n",
    "            elif labeled_images[i,j,k] != 0:\n",
    "                y_pred_cm.append(1)\n",
    "    print(i) "
   ]
  },
  {
   "cell_type": "code",
   "execution_count": 79,
   "id": "9a92bfd6",
   "metadata": {},
   "outputs": [],
   "source": [
    "y_pred_cm = np.array(y_pred_cm)"
   ]
  },
  {
   "cell_type": "code",
   "execution_count": 80,
   "id": "d7fc913e",
   "metadata": {},
   "outputs": [],
   "source": [
    "y_true_cm = np.array(y_true_cm)"
   ]
  },
  {
   "cell_type": "code",
   "execution_count": 81,
   "id": "b5d6d2fc",
   "metadata": {},
   "outputs": [
    {
     "name": "stdout",
     "output_type": "stream",
     "text": [
      "[[36933216    43120]\n",
      " [   40448    62016]]\n"
     ]
    }
   ],
   "source": [
    "from sklearn.metrics import confusion_matrix\n",
    "\n",
    "cm = confusion_matrix(y_true_cm, y_pred_cm)\n",
    "print(cm)"
   ]
  }
 ],
 "metadata": {
  "environment": {
   "name": "tf2-gpu.2-3.m78",
   "type": "gcloud",
   "uri": "gcr.io/deeplearning-platform-release/tf2-gpu.2-3:m78"
  },
  "kernelspec": {
   "display_name": "Python [conda env:root] *",
   "language": "python",
   "name": "conda-root-py"
  },
  "language_info": {
   "codemirror_mode": {
    "name": "ipython",
    "version": 3
   },
   "file_extension": ".py",
   "mimetype": "text/x-python",
   "name": "python",
   "nbconvert_exporter": "python",
   "pygments_lexer": "ipython3",
   "version": "3.7.10"
  }
 },
 "nbformat": 4,
 "nbformat_minor": 5
}

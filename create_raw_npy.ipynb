{
 "cells": [
  {
   "cell_type": "code",
   "execution_count": 1,
   "id": "36e35b5e",
   "metadata": {},
   "outputs": [
    {
     "name": "stderr",
     "output_type": "stream",
     "text": [
      "/opt/conda/lib/python3.7/site-packages/tensorflow-2.5.0-py3.7-linux-x86_64.egg/tensorflow/python/keras/optimizer_v2/optimizer_v2.py:375: UserWarning: The `lr` argument is deprecated, use `learning_rate` instead.\n",
      "  \"The `lr` argument is deprecated, use `learning_rate` instead.\")\n"
     ]
    }
   ],
   "source": [
    "import h5py\n",
    "import matplotlib.pyplot as plt\n",
    "from PIL import Image, ImageDraw\n",
    "import numpy as np\n",
    "import sys\n",
    "import time\n",
    "import pandas as pd\n",
    "import cv2\n",
    "import os\n",
    "import imageio\n",
    "import matplotlib as mpl\n",
    "from matplotlib import cm\n",
    "from matplotlib.colors import ListedColormap, LinearSegmentedColormap\n",
    "import shutil\n",
    "import random\n",
    "\n",
    "from deepcell.utils.tracking_utils import load_trks"
   ]
  },
  {
   "cell_type": "code",
   "execution_count": 2,
   "id": "1aff5956",
   "metadata": {},
   "outputs": [],
   "source": [
    "# get well by well, and store\n",
    "d4 = [180, 710, 160, 690]\n",
    "d3 = [180, 710, 880, 1410]\n",
    "d2 = [180, 710, 1600, 2130]\n",
    "d1 = [180, 710, 2320, 2850]\n",
    "\n",
    "c4 = [895, 1425, 160, 690]\n",
    "c3 = [895, 1425, 880, 1410]\n",
    "c2 = [895, 1425, 1600, 2130]\n",
    "c1 = [895, 1425, 2320, 2850]\n",
    "\n",
    "b4 = [1620, 2150, 160, 690]\n",
    "b3 = [1620, 2150, 880, 1410]\n",
    "b2 = [1620, 2150, 1600, 2130]\n",
    "b1 = [1620, 2150, 2320, 2850]\n",
    "\n",
    "a4 = [2340, 2870, 160, 690]\n",
    "a3 = [2340, 2870, 880, 1410]\n",
    "a2 = [2340, 2870, 1600, 2130]\n",
    "a1 = [2340, 2870, 2320, 2850]"
   ]
  },
  {
   "cell_type": "code",
   "execution_count": 3,
   "id": "566bd822",
   "metadata": {},
   "outputs": [],
   "source": [
    "def get_raw_well(well, video_path=\"../22956814/22956814.mp4\", well_name='A4', filename=False, frame_start=0, frame_end=9001, down_sampling=1):    \n",
    "    print('--------', well_name, '--------')\n",
    "    frames = []\n",
    "    \n",
    "    ymin = well[0]\n",
    "    ymax = well[1]\n",
    "    xmin = well[2]\n",
    "    xmax = well[3]\n",
    "\n",
    "    #path = \"../22956814/22956814.mp4\"\n",
    "    cap = cv2.VideoCapture(video_path)\n",
    "    ret = True\n",
    "    while ret:\n",
    "        ret, img = cap.read() # read one frame from the 'capture' object; img is (H, W, C)\n",
    "        if ret:\n",
    "            frames.append(img[ymin:ymax, xmin:xmax, :])\n",
    "    \n",
    "    stacked = np.stack(frames, axis=0)\n",
    "    stacked = stacked.astype(dtype='float32')\n",
    "    stacked_mean = np.mean(stacked, axis=3)[:,:,:,None]\n",
    "    \n",
    "    if frame_start != 0 or frame_end != 9001 or down_sampling != 1:\n",
    "        stacked_mean = stacked_mean[frame_start:(frame_end+1):down_sampling, :, :, :]\n",
    "    \n",
    "    if filename:\n",
    "        output_fn = filename\n",
    "    else:\n",
    "        output_fn = 'well_A/raw_%s.npy' % well_name\n",
    "        \n",
    "    np.save(output_fn, stacked_mean)\n",
    "    \n",
    "    #return stacked_mean"
   ]
  },
  {
   "cell_type": "code",
   "execution_count": 6,
   "id": "4b7b6cd0",
   "metadata": {},
   "outputs": [
    {
     "name": "stdout",
     "output_type": "stream",
     "text": [
      "-------- A1 --------\n"
     ]
    }
   ],
   "source": [
    "get_raw_well(a1, well_name='A1', filename='../22956814/raw_wells/A1.npy')"
   ]
  },
  {
   "cell_type": "code",
   "execution_count": 4,
   "id": "bb9245c9",
   "metadata": {},
   "outputs": [
    {
     "data": {
      "text/plain": [
       "svmem(total=439595151360, available=434826682368, percent=1.1, used=1597607936, free=436986372096, active=1158955008, inactive=580882432, buffers=125358080, cached=885813248, shared=9052160, slab=284012544)"
      ]
     },
     "execution_count": 4,
     "metadata": {},
     "output_type": "execute_result"
    }
   ],
   "source": [
    "# Check available memory\n",
    "\n",
    "import psutil\n",
    "psutil.virtual_memory()  # looks good!"
   ]
  },
  {
   "cell_type": "code",
   "execution_count": null,
   "id": "6b9fd8b4",
   "metadata": {},
   "outputs": [],
   "source": []
  },
  {
   "cell_type": "code",
   "execution_count": 14,
   "id": "1aca5f18",
   "metadata": {},
   "outputs": [],
   "source": [
    "# Files to be removed\n",
    "fn_remove = []"
   ]
  },
  {
   "cell_type": "code",
   "execution_count": null,
   "id": "b150c668",
   "metadata": {},
   "outputs": [],
   "source": []
  },
  {
   "cell_type": "code",
   "execution_count": 15,
   "id": "cf8b3378",
   "metadata": {},
   "outputs": [
    {
     "name": "stdout",
     "output_type": "stream",
     "text": [
      "(100, 530, 530, 1)\n",
      "(52, 530, 530, 1)\n",
      "HAVE TO REMOVE:  ../22956814/A1_raw_2.npy  and its masked npy!\n"
     ]
    },
    {
     "data": {
      "text/plain": [
       "0"
      ]
     },
     "execution_count": 15,
     "metadata": {},
     "output_type": "execute_result"
    }
   ],
   "source": [
    "import gc\n",
    "import os\n",
    "\n",
    "raw_video = np.load('../22956814/raw_wells/A1.npy')\n",
    "\n",
    "mask_frame_info_fn = \"../22956814/%s_not_empty.txt\" % 'A1'\n",
    "with open(mask_frame_info_fn, 'r') as f:\n",
    "    start_end_samplings = f.read().splitlines()  # Cool!! \n",
    "    for i, each in enumerate(start_end_samplings):\n",
    "        frame_start, frame_end, down_sampling = each.split(\",\")\n",
    "        fn = \"../22956814/%s_raw_%d.npy\" % ('A1', (i+1))\n",
    "        \n",
    "        frame_start = int(frame_start)\n",
    "        frame_end = int(frame_end)\n",
    "        down_sampling = int(down_sampling)\n",
    "        \n",
    "        raw_array = raw_video[frame_start:frame_end+1:down_sampling, :, :, :]\n",
    "        print(raw_array.shape)\n",
    "        \n",
    "        # IMPORTANT!!\n",
    "        if raw_array.shape[0] != 100:\n",
    "            print(\"HAVE TO REMOVE: \", fn, \" and its masked npy!\")\n",
    "            fn_remove.append(fn)\n",
    "        \n",
    "        np.save(fn, raw_array)\n",
    "        \n",
    "        # Clear the raw_array memory\n",
    "        del raw_array\n",
    "        gc.collect()\n",
    "\n",
    "# At the end, clear raw_video memory\n",
    "del raw_video\n",
    "gc.collect()"
   ]
  },
  {
   "cell_type": "code",
   "execution_count": 16,
   "id": "585f8d16",
   "metadata": {},
   "outputs": [
    {
     "data": {
      "text/plain": [
       "svmem(total=439595151360, available=432070303744, percent=1.7, used=4161957888, free=423449096192, active=13742714880, inactive=1184972800, buffers=60174336, cached=11923922944, shared=9056256, slab=623755264)"
      ]
     },
     "execution_count": 16,
     "metadata": {},
     "output_type": "execute_result"
    }
   ],
   "source": [
    "import psutil\n",
    "psutil.virtual_memory()  # looks good!"
   ]
  },
  {
   "cell_type": "code",
   "execution_count": null,
   "id": "4e98f1ed",
   "metadata": {},
   "outputs": [],
   "source": []
  },
  {
   "cell_type": "code",
   "execution_count": 17,
   "id": "4152789e",
   "metadata": {},
   "outputs": [
    {
     "name": "stdout",
     "output_type": "stream",
     "text": [
      "-------- A2 --------\n",
      "-------- A3 --------\n",
      "-------- A4 --------\n"
     ]
    }
   ],
   "source": [
    "# Other wells\n",
    "get_raw_well(a2, well_name='A2', filename='../22956814/raw_wells/A2.npy')\n",
    "get_raw_well(a3, well_name='A3', filename='../22956814/raw_wells/A3.npy')\n",
    "get_raw_well(a4, well_name='A4', filename='../22956814/raw_wells/A4.npy')"
   ]
  },
  {
   "cell_type": "code",
   "execution_count": 8,
   "id": "d3b84537",
   "metadata": {},
   "outputs": [],
   "source": [
    "# Make a function from above\n",
    "\n",
    "import gc\n",
    "import os\n",
    "\n",
    "def make_raw_videos(raw_video_path, mask_frame_info_fn, well_name):\n",
    "    #raw_video = np.load('../22956814/raw_wells/A1.npy')\n",
    "    raw_video = np.load(raw_video_path)\n",
    "\n",
    "    #mask_frame_info_fn = \"../22956814/%s_not_empty.txt\" % 'A1'\n",
    "    \n",
    "    with open(mask_frame_info_fn, 'r') as f:\n",
    "        start_end_samplings = f.read().splitlines()  # Cool!! \n",
    "        for i, each in enumerate(start_end_samplings):\n",
    "            frame_start, frame_end, down_sampling = each.split(\",\")\n",
    "            fn = \"../22956814/%s_raw_%d.npy\" % (well_name, (i+1))\n",
    "\n",
    "            frame_start = int(frame_start)\n",
    "            frame_end = int(frame_end)\n",
    "            down_sampling = int(down_sampling)\n",
    "\n",
    "            raw_array = raw_video[frame_start:frame_end+1:down_sampling, :, :, :]\n",
    "            print(raw_array.shape)\n",
    "\n",
    "            # IMPORTANT!!\n",
    "            if raw_array.shape[0] != 100:\n",
    "                print(\"HAVE TO REMOVE: \", fn, \" and its masked npy!\")\n",
    "                fn_remove.append(fn)\n",
    "\n",
    "            np.save(fn, raw_array)\n",
    "\n",
    "            # Clear the raw_array memory\n",
    "            del raw_array\n",
    "            gc.collect()\n",
    "\n",
    "    # At the end, clear raw_video memory\n",
    "    del raw_video\n",
    "    gc.collect()"
   ]
  },
  {
   "cell_type": "code",
   "execution_count": 23,
   "id": "65fb243e",
   "metadata": {},
   "outputs": [
    {
     "name": "stdout",
     "output_type": "stream",
     "text": [
      "(100, 530, 530, 1)\n",
      "(52, 530, 530, 1)\n",
      "HAVE TO REMOVE:  ../22956814/A1_raw_2.npy  and its masked npy!\n"
     ]
    }
   ],
   "source": [
    "make_raw_videos(raw_video_path='../22956814/raw_wells/A1.npy', mask_frame_info_fn=\"../22956814/A1_not_empty.txt\", well_name='A1')"
   ]
  },
  {
   "cell_type": "code",
   "execution_count": 26,
   "id": "813f2ce4",
   "metadata": {},
   "outputs": [
    {
     "name": "stdout",
     "output_type": "stream",
     "text": [
      "(100, 530, 530, 1)\n",
      "(100, 530, 530, 1)\n",
      "(100, 530, 530, 1)\n",
      "(100, 530, 530, 1)\n",
      "(100, 530, 530, 1)\n",
      "(100, 530, 530, 1)\n",
      "(100, 530, 530, 1)\n",
      "(100, 530, 530, 1)\n",
      "(100, 530, 530, 1)\n",
      "(100, 530, 530, 1)\n",
      "(100, 530, 530, 1)\n",
      "(100, 530, 530, 1)\n",
      "(100, 530, 530, 1)\n",
      "(100, 530, 530, 1)\n",
      "(100, 530, 530, 1)\n",
      "(100, 530, 530, 1)\n",
      "(100, 530, 530, 1)\n",
      "(100, 530, 530, 1)\n",
      "(100, 530, 530, 1)\n",
      "(100, 530, 530, 1)\n",
      "(100, 530, 530, 1)\n",
      "(100, 530, 530, 1)\n",
      "(100, 530, 530, 1)\n",
      "(100, 530, 530, 1)\n"
     ]
    }
   ],
   "source": [
    "make_raw_videos(raw_video_path='../22956814/raw_wells/A2.npy', mask_frame_info_fn=\"../22956814/A2_not_empty.txt\", well_name='A2')\n",
    "make_raw_videos(raw_video_path='../22956814/raw_wells/A3.npy', mask_frame_info_fn=\"../22956814/A3_not_empty.txt\", well_name='A3')\n",
    "make_raw_videos(raw_video_path='../22956814/raw_wells/A4.npy', mask_frame_info_fn=\"../22956814/A4_not_empty.txt\", well_name='A4')"
   ]
  },
  {
   "cell_type": "code",
   "execution_count": 27,
   "id": "b309aaa4",
   "metadata": {},
   "outputs": [],
   "source": [
    "# Check gif - Take A4_raw_2.npy and A4_mask_2.npy"
   ]
  },
  {
   "cell_type": "code",
   "execution_count": 5,
   "id": "5f207c65",
   "metadata": {},
   "outputs": [],
   "source": [
    "def plot_gif(np_array, output_fn):\n",
    "    mpl.rcParams['image.interpolation'] = 'none'  # Prevent mpl smoothes the edges\n",
    "    os.mkdir(\"pic_temporary\")  # To temporarily store the files\n",
    "\n",
    "    #spring = cm.get_cmap('spring', 256)\n",
    "    #newcolors = spring(np.linspace(0, 256, 256))\n",
    "    #black = np.array([0/256, 0/256, 0/256, 1])\n",
    "    #newcolors[:1, :] = black\n",
    "    #newcmp = ListedColormap(newcolors)\n",
    "\n",
    "    pic_list = []\n",
    "    flag = 0\n",
    "\n",
    "    for i in range(np_array.shape[0]):\n",
    "        #plt.imshow(np_array[i], cmap=newcmp)\n",
    "        mask = np_array[i]\n",
    "        mask = np.where(mask==0, -1, mask) \n",
    "        #print(np.unique(mask_1))\n",
    "\n",
    "        value = -1\n",
    "        masked_array = np.ma.masked_where(mask == value, mask)\n",
    "\n",
    "        #cmap = mpl.cm.get_cmap(\"spring\")\n",
    "        cmap = mpl.cm.get_cmap(\"spring\").copy()\n",
    "        cmap.set_bad(color='black')\n",
    "        \n",
    "        plt.imshow(masked_array, cmap=cmap)\n",
    "        \n",
    "        fn = 'pic_temporary/%d.jpg' % flag\n",
    "        plt.savefig(fn)\n",
    "        pic_list.append(fn)\n",
    "        flag += 1\n",
    "    \n",
    "    with imageio.get_writer(output_fn, mode='I') as writer:\n",
    "        for filename in pic_list:\n",
    "            image = imageio.imread(filename)\n",
    "            writer.append_data(image)\n",
    "    \n",
    "    # Remove the temporary file\n",
    "    shutil.rmtree(\"pic_temporary\")\n",
    "    \n",
    "    #return pic_list"
   ]
  },
  {
   "cell_type": "code",
   "execution_count": 29,
   "id": "eacfdb91",
   "metadata": {},
   "outputs": [
    {
     "name": "stderr",
     "output_type": "stream",
     "text": [
      "/opt/conda/lib/python3.7/site-packages/matplotlib/image.py:443: UserWarning: Warning: converting a masked element to nan.\n",
      "  dv = np.float64(self.norm.vmax) - np.float64(self.norm.vmin)\n",
      "/opt/conda/lib/python3.7/site-packages/matplotlib/image.py:444: UserWarning: Warning: converting a masked element to nan.\n",
      "  vmid = np.float64(self.norm.vmin) + dv / 2\n"
     ]
    },
    {
     "data": {
      "image/png": "[encoded data removed]",
      "text/plain": [
       "<Figure size 432x288 with 1 Axes>"
      ]
     },
     "metadata": {
      "needs_background": "light"
     },
     "output_type": "display_data"
    }
   ],
   "source": [
    "plot_gif(np.load(\"../22956814/A4_raw_2.npy\"), '../22956814/gif/A4_raw_2.gif')\n",
    "plot_gif(np.load(\"../22956814/A4_mask_2.npy\"), '../22956814/gif/A4_mask_2.gif')\n",
    "# looks good"
   ]
  },
  {
   "cell_type": "code",
   "execution_count": 30,
   "id": "9ede909f",
   "metadata": {},
   "outputs": [
    {
     "data": {
      "text/plain": [
       "svmem(total=439595151360, available=425427021824, percent=3.2, used=10498428928, free=383010590720, active=20338724864, inactive=34078556160, buffers=63614976, cached=46022516736, shared=9056256, slab=1572651008)"
      ]
     },
     "execution_count": 30,
     "metadata": {},
     "output_type": "execute_result"
    }
   ],
   "source": [
    "import psutil\n",
    "psutil.virtual_memory()  # looks good!"
   ]
  },
  {
   "cell_type": "code",
   "execution_count": null,
   "id": "a81b4ab9",
   "metadata": {},
   "outputs": [],
   "source": []
  },
  {
   "cell_type": "code",
   "execution_count": null,
   "id": "880be604",
   "metadata": {},
   "outputs": [],
   "source": [
    "# Do the same for the rest of the wells:\n",
    "\n",
    "wells = ['B1', 'B2', 'B3', 'B4']\n",
    "well_cuts = [b1, b2, b3, b4]\n",
    "\n",
    "for i, well in enumerate(wells):\n",
    "    filename = '../22956814/raw_wells/%s.npy' % well\n",
    "    get_raw_well(well=well_cuts[i], well_name=well, filename=filename)\n",
    "    print(filename)"
   ]
  },
  {
   "cell_type": "code",
   "execution_count": 33,
   "id": "6b79f366",
   "metadata": {},
   "outputs": [
    {
     "name": "stdout",
     "output_type": "stream",
     "text": [
      "(100, 530, 530, 1)\n",
      "(100, 530, 530, 1)\n",
      "(100, 530, 530, 1)\n",
      "(100, 530, 530, 1)\n",
      "(100, 530, 530, 1)\n",
      "(100, 530, 530, 1)\n",
      "(100, 530, 530, 1)\n",
      "(100, 530, 530, 1)\n",
      "(100, 530, 530, 1)\n",
      "(100, 530, 530, 1)\n",
      "(100, 530, 530, 1)\n",
      "(100, 530, 530, 1)\n",
      "(100, 530, 530, 1)\n",
      "(100, 530, 530, 1)\n",
      "(100, 530, 530, 1)\n"
     ]
    }
   ],
   "source": [
    "# Do alphabets, otherwise disk full.......\n",
    "\n",
    "make_raw_videos(raw_video_path='../22956814/raw_wells/B1.npy', mask_frame_info_fn=\"../22956814/B1_not_empty.txt\", well_name='B1')\n",
    "make_raw_videos(raw_video_path='../22956814/raw_wells/B2.npy', mask_frame_info_fn=\"../22956814/B2_not_empty.txt\", well_name='B2')\n",
    "make_raw_videos(raw_video_path='../22956814/raw_wells/B3.npy', mask_frame_info_fn=\"../22956814/B3_not_empty.txt\", well_name='B3')\n",
    "make_raw_videos(raw_video_path='../22956814/raw_wells/B4.npy', mask_frame_info_fn=\"../22956814/B4_not_empty.txt\", well_name='B4')"
   ]
  },
  {
   "cell_type": "code",
   "execution_count": 34,
   "id": "c0963aad",
   "metadata": {},
   "outputs": [
    {
     "data": {
      "image/png": "[encoded data removed]",
      "text/plain": [
       "<Figure size 432x288 with 1 Axes>"
      ]
     },
     "metadata": {
      "needs_background": "light"
     },
     "output_type": "display_data"
    }
   ],
   "source": [
    "# Check gif! \n",
    "\n",
    "plot_gif(np.load(\"../22956814/B3_raw_2.npy\"), '../22956814/gif/B3_raw_2.gif')\n",
    "plot_gif(np.load(\"../22956814/B3_mask_2.npy\"), '../22956814/gif/B3_mask_2.gif')\n",
    "\n",
    "# looks good! \n",
    "# Then removes well B raw npys "
   ]
  },
  {
   "cell_type": "markdown",
   "id": "8bc90313",
   "metadata": {},
   "source": [
    "# Well Cs"
   ]
  },
  {
   "cell_type": "code",
   "execution_count": 6,
   "id": "0100e3f1",
   "metadata": {},
   "outputs": [
    {
     "name": "stdout",
     "output_type": "stream",
     "text": [
      "-------- C1 --------\n",
      "../22956814/raw_wells/C1.npy\n",
      "-------- C2 --------\n",
      "../22956814/raw_wells/C2.npy\n",
      "-------- C3 --------\n",
      "../22956814/raw_wells/C3.npy\n",
      "-------- C4 --------\n",
      "../22956814/raw_wells/C4.npy\n",
      "-------- D1 --------\n",
      "../22956814/raw_wells/D1.npy\n",
      "-------- D2 --------\n",
      "../22956814/raw_wells/D2.npy\n",
      "-------- D3 --------\n",
      "../22956814/raw_wells/D3.npy\n",
      "-------- D4 --------\n",
      "../22956814/raw_wells/D4.npy\n"
     ]
    }
   ],
   "source": [
    "wells = ['C1', 'C2', 'C3', 'C4', 'D1', 'D2', 'D3', 'D4']\n",
    "well_cuts = [c1, c2, c3, c4, d1, d2, d3, d4]\n",
    "\n",
    "for i, well in enumerate(wells):\n",
    "    filename = '../22956814/raw_wells/%s.npy' % well\n",
    "    get_raw_well(well=well_cuts[i], well_name=well, filename=filename)\n",
    "    print(filename)"
   ]
  },
  {
   "cell_type": "code",
   "execution_count": 9,
   "id": "745be96f",
   "metadata": {},
   "outputs": [
    {
     "name": "stdout",
     "output_type": "stream",
     "text": [
      "(100, 530, 530, 1)\n",
      "(100, 530, 530, 1)\n",
      "(100, 530, 530, 1)\n",
      "(100, 530, 530, 1)\n",
      "(100, 530, 530, 1)\n",
      "(100, 530, 530, 1)\n",
      "(100, 530, 530, 1)\n",
      "(100, 530, 530, 1)\n",
      "(100, 530, 530, 1)\n",
      "(100, 530, 530, 1)\n",
      "(100, 530, 530, 1)\n",
      "(100, 530, 530, 1)\n",
      "(100, 530, 530, 1)\n",
      "(100, 530, 530, 1)\n",
      "(100, 530, 530, 1)\n",
      "(100, 530, 530, 1)\n",
      "(100, 530, 530, 1)\n",
      "(100, 530, 530, 1)\n",
      "(100, 530, 530, 1)\n",
      "(100, 530, 530, 1)\n",
      "(100, 530, 530, 1)\n",
      "(100, 530, 530, 1)\n",
      "(100, 530, 530, 1)\n",
      "(100, 530, 530, 1)\n",
      "(100, 530, 530, 1)\n",
      "(100, 530, 530, 1)\n",
      "(100, 530, 530, 1)\n",
      "(100, 530, 530, 1)\n",
      "(100, 530, 530, 1)\n",
      "(100, 530, 530, 1)\n",
      "(100, 530, 530, 1)\n",
      "(100, 530, 530, 1)\n",
      "(100, 530, 530, 1)\n",
      "(100, 530, 530, 1)\n",
      "(100, 530, 530, 1)\n",
      "(100, 530, 530, 1)\n",
      "(100, 530, 530, 1)\n",
      "(100, 530, 530, 1)\n",
      "(100, 530, 530, 1)\n",
      "(100, 530, 530, 1)\n",
      "(100, 530, 530, 1)\n",
      "(100, 530, 530, 1)\n",
      "(100, 530, 530, 1)\n",
      "(100, 530, 530, 1)\n",
      "(100, 530, 530, 1)\n",
      "(100, 530, 530, 1)\n",
      "(100, 530, 530, 1)\n",
      "(100, 530, 530, 1)\n",
      "(100, 530, 530, 1)\n",
      "(100, 530, 530, 1)\n",
      "(100, 530, 530, 1)\n",
      "(100, 530, 530, 1)\n",
      "(100, 530, 530, 1)\n",
      "(100, 530, 530, 1)\n",
      "(100, 530, 530, 1)\n",
      "(100, 530, 530, 1)\n",
      "(100, 530, 530, 1)\n",
      "(100, 530, 530, 1)\n",
      "(100, 530, 530, 1)\n",
      "(100, 530, 530, 1)\n",
      "(100, 530, 530, 1)\n",
      "(100, 530, 530, 1)\n",
      "(100, 530, 530, 1)\n",
      "(100, 530, 530, 1)\n",
      "(100, 530, 530, 1)\n",
      "(100, 530, 530, 1)\n",
      "(100, 530, 530, 1)\n",
      "(100, 530, 530, 1)\n",
      "(100, 530, 530, 1)\n",
      "(100, 530, 530, 1)\n",
      "(100, 530, 530, 1)\n",
      "(100, 530, 530, 1)\n",
      "(100, 530, 530, 1)\n",
      "(100, 530, 530, 1)\n",
      "(100, 530, 530, 1)\n",
      "(100, 530, 530, 1)\n",
      "(100, 530, 530, 1)\n",
      "(100, 530, 530, 1)\n",
      "(100, 530, 530, 1)\n",
      "(100, 530, 530, 1)\n",
      "(100, 530, 530, 1)\n",
      "(100, 530, 530, 1)\n",
      "(100, 530, 530, 1)\n",
      "(100, 530, 530, 1)\n",
      "(100, 530, 530, 1)\n",
      "(100, 530, 530, 1)\n",
      "(100, 530, 530, 1)\n",
      "(100, 530, 530, 1)\n",
      "(100, 530, 530, 1)\n",
      "(100, 530, 530, 1)\n",
      "(100, 530, 530, 1)\n",
      "(100, 530, 530, 1)\n",
      "(100, 530, 530, 1)\n"
     ]
    }
   ],
   "source": [
    "make_raw_videos(raw_video_path='../22956814/raw_wells/C1.npy', mask_frame_info_fn=\"../22956814/C1_not_empty.txt\", well_name='C1')\n",
    "make_raw_videos(raw_video_path='../22956814/raw_wells/C2.npy', mask_frame_info_fn=\"../22956814/C2_not_empty.txt\", well_name='C2')\n",
    "make_raw_videos(raw_video_path='../22956814/raw_wells/C3.npy', mask_frame_info_fn=\"../22956814/C3_not_empty.txt\", well_name='C3')\n",
    "make_raw_videos(raw_video_path='../22956814/raw_wells/C4.npy', mask_frame_info_fn=\"../22956814/C4_not_empty.txt\", well_name='C4')\n",
    "\n",
    "make_raw_videos(raw_video_path='../22956814/raw_wells/D1.npy', mask_frame_info_fn=\"../22956814/D1_not_empty.txt\", well_name='D1')\n",
    "make_raw_videos(raw_video_path='../22956814/raw_wells/D2.npy', mask_frame_info_fn=\"../22956814/D2_not_empty.txt\", well_name='D2')\n",
    "make_raw_videos(raw_video_path='../22956814/raw_wells/D3.npy', mask_frame_info_fn=\"../22956814/D3_not_empty.txt\", well_name='D3')\n",
    "make_raw_videos(raw_video_path='../22956814/raw_wells/D4.npy', mask_frame_info_fn=\"../22956814/D4_not_empty.txt\", well_name='D4')"
   ]
  },
  {
   "cell_type": "code",
   "execution_count": null,
   "id": "e378e27c",
   "metadata": {},
   "outputs": [],
   "source": []
  }
 ],
 "metadata": {
  "environment": {
   "name": "common-cu110.m76",
   "type": "gcloud",
   "uri": "gcr.io/deeplearning-platform-release/base-cu110:m76"
  },
  "kernelspec": {
   "display_name": "Python [conda env:root] *",
   "language": "python",
   "name": "conda-root-py"
  },
  "language_info": {
   "codemirror_mode": {
    "name": "ipython",
    "version": 3
   },
   "file_extension": ".py",
   "mimetype": "text/x-python",
   "name": "python",
   "nbconvert_exporter": "python",
   "pygments_lexer": "ipython3",
   "version": "3.7.10"
  }
 },
 "nbformat": 4,
 "nbformat_minor": 5
}

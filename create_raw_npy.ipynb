{
 "cells": [
  {
   "cell_type": "code",
   "execution_count": 1,
   "id": "cf60e110",
   "metadata": {},
   "outputs": [
    {
     "name": "stderr",
     "output_type": "stream",
     "text": [
      "/opt/conda/lib/python3.7/site-packages/tensorflow-2.5.0-py3.7-linux-x86_64.egg/tensorflow/python/keras/optimizer_v2/optimizer_v2.py:375: UserWarning: The `lr` argument is deprecated, use `learning_rate` instead.\n",
      "  \"The `lr` argument is deprecated, use `learning_rate` instead.\")\n"
     ]
    }
   ],
   "source": [
    "import h5py\n",
    "import matplotlib.pyplot as plt\n",
    "from PIL import Image, ImageDraw\n",
    "import numpy as np\n",
    "import sys\n",
    "import time\n",
    "import pandas as pd\n",
    "import cv2\n",
    "import os\n",
    "import imageio\n",
    "import matplotlib as mpl\n",
    "from matplotlib import cm\n",
    "from matplotlib.colors import ListedColormap, LinearSegmentedColormap\n",
    "import shutil\n",
    "import random\n",
    "\n",
    "from deepcell.utils.tracking_utils import load_trks"
   ]
  },
  {
   "cell_type": "code",
   "execution_count": 2,
   "id": "7abdf7e1",
   "metadata": {},
   "outputs": [],
   "source": [
    "# get well by well, and store\n",
    "d4 = [180, 710, 160, 690]\n",
    "d3 = [180, 710, 880, 1410]\n",
    "d2 = [180, 710, 1600, 2130]\n",
    "d1 = [180, 710, 2320, 2850]\n",
    "\n",
    "c4 = [895, 1425, 160, 690]\n",
    "c3 = [895, 1425, 880, 1410]\n",
    "c2 = [895, 1425, 1600, 2130]\n",
    "c1 = [895, 1425, 2320, 2850]\n",
    "\n",
    "b4 = [1620, 2150, 160, 690]\n",
    "b3 = [1620, 2150, 880, 1410]\n",
    "b2 = [1620, 2150, 1600, 2130]\n",
    "b1 = [1620, 2150, 2320, 2850]\n",
    "\n",
    "a4 = [2340, 2870, 160, 690]\n",
    "a3 = [2340, 2870, 880, 1410]\n",
    "a2 = [2340, 2870, 1600, 2130]\n",
    "a1 = [2340, 2870, 2320, 2850]"
   ]
  },
  {
   "cell_type": "code",
   "execution_count": 4,
   "id": "a8de402a",
   "metadata": {},
   "outputs": [],
   "source": [
    "def get_raw_well(well, video_path=\"../22956814/22956814.mp4\", well_name='A4', filename=False, frame_start=0, frame_end=9001, down_sampling=1):    \n",
    "    print('--------', well_name, '--------')\n",
    "    frames = []\n",
    "    \n",
    "    ymin = well[0]\n",
    "    ymax = well[1]\n",
    "    xmin = well[2]\n",
    "    xmax = well[3]\n",
    "\n",
    "    #path = \"../22956814/22956814.mp4\"\n",
    "    cap = cv2.VideoCapture(video_path)\n",
    "    ret = True\n",
    "    while ret:\n",
    "        ret, img = cap.read() # read one frame from the 'capture' object; img is (H, W, C)\n",
    "        if ret:\n",
    "            frames.append(img[ymin:ymax, xmin:xmax, :])\n",
    "    \n",
    "    stacked = np.stack(frames, axis=0)\n",
    "    stacked = stacked.astype(dtype='float32')\n",
    "    stacked_mean = np.mean(stacked, axis=3)[:,:,:,None]\n",
    "    \n",
    "    if frame_start != 0 or frame_end != 9001 or down_sampling != 1:\n",
    "        stacked_mean = stacked_mean[frame_start:(frame_end+1):down_sampling, :, :, :]\n",
    "    \n",
    "    if filename:\n",
    "        output_fn = filename\n",
    "    else:\n",
    "        output_fn = 'well_A/raw_%s.npy' % well_name\n",
    "        \n",
    "    np.save(output_fn, stacked_mean)\n",
    "    \n",
    "    #return stacked_mean"
   ]
  },
  {
   "cell_type": "code",
   "execution_count": 6,
   "id": "226dc60c",
   "metadata": {},
   "outputs": [
    {
     "name": "stdout",
     "output_type": "stream",
     "text": [
      "-------- A1 --------\n"
     ]
    }
   ],
   "source": [
    "get_raw_well(a1, well_name='A1', filename='../22956814/raw_wells/A1.npy')"
   ]
  },
  {
   "cell_type": "code",
   "execution_count": 7,
   "id": "decd374f",
   "metadata": {},
   "outputs": [
    {
     "data": {
      "text/plain": [
       "svmem(total=439595151360, available=432118231040, percent=1.7, used=4118065152, free=423673790464, active=3619418112, inactive=11128471552, buffers=59043840, cached=11744251904, shared=9056256, slab=596033536)"
      ]
     },
     "execution_count": 7,
     "metadata": {},
     "output_type": "execute_result"
    }
   ],
   "source": [
    "# Check available memory\n",
    "\n",
    "import psutil\n",
    "psutil.virtual_memory()  # looks good!"
   ]
  },
  {
   "cell_type": "code",
   "execution_count": null,
   "id": "3ff43569",
   "metadata": {},
   "outputs": [],
   "source": []
  },
  {
   "cell_type": "code",
   "execution_count": 14,
   "id": "22dd4105",
   "metadata": {},
   "outputs": [],
   "source": [
    "# Files to be removed\n",
    "fn_remove = []"
   ]
  },
  {
   "cell_type": "code",
   "execution_count": null,
   "id": "0d108ef1",
   "metadata": {},
   "outputs": [],
   "source": []
  },
  {
   "cell_type": "code",
   "execution_count": 15,
   "id": "0f142d1c",
   "metadata": {},
   "outputs": [
    {
     "name": "stdout",
     "output_type": "stream",
     "text": [
      "(100, 530, 530, 1)\n",
      "(52, 530, 530, 1)\n",
      "HAVE TO REMOVE:  ../22956814/A1_raw_2.npy  and its masked npy!\n"
     ]
    },
    {
     "data": {
      "text/plain": [
       "0"
      ]
     },
     "execution_count": 15,
     "metadata": {},
     "output_type": "execute_result"
    }
   ],
   "source": [
    "import gc\n",
    "import os\n",
    "\n",
    "raw_video = np.load('../22956814/raw_wells/A1.npy')\n",
    "\n",
    "mask_frame_info_fn = \"../22956814/%s_not_empty.txt\" % 'A1'\n",
    "with open(mask_frame_info_fn, 'r') as f:\n",
    "    start_end_samplings = f.read().splitlines()  # Cool!! \n",
    "    for i, each in enumerate(start_end_samplings):\n",
    "        frame_start, frame_end, down_sampling = each.split(\",\")\n",
    "        fn = \"../22956814/%s_raw_%d.npy\" % ('A1', (i+1))\n",
    "        \n",
    "        frame_start = int(frame_start)\n",
    "        frame_end = int(frame_end)\n",
    "        down_sampling = int(down_sampling)\n",
    "        \n",
    "        raw_array = raw_video[frame_start:frame_end+1:down_sampling, :, :, :]\n",
    "        print(raw_array.shape)\n",
    "        \n",
    "        # IMPORTANT!!\n",
    "        if raw_array.shape[0] != 100:\n",
    "            print(\"HAVE TO REMOVE: \", fn, \" and its masked npy!\")\n",
    "            fn_remove.append(fn)\n",
    "        \n",
    "        np.save(fn, raw_array)\n",
    "        \n",
    "        # Clear the raw_array memory\n",
    "        del raw_array\n",
    "        gc.collect()\n",
    "\n",
    "# At the end, clear raw_video memory\n",
    "del raw_video\n",
    "gc.collect()"
   ]
  },
  {
   "cell_type": "code",
   "execution_count": 16,
   "id": "d814bc97",
   "metadata": {},
   "outputs": [
    {
     "data": {
      "text/plain": [
       "svmem(total=439595151360, available=432070303744, percent=1.7, used=4161957888, free=423449096192, active=13742714880, inactive=1184972800, buffers=60174336, cached=11923922944, shared=9056256, slab=623755264)"
      ]
     },
     "execution_count": 16,
     "metadata": {},
     "output_type": "execute_result"
    }
   ],
   "source": [
    "import psutil\n",
    "psutil.virtual_memory()  # looks good!"
   ]
  },
  {
   "cell_type": "code",
   "execution_count": null,
   "id": "baf4fbb4",
   "metadata": {},
   "outputs": [],
   "source": []
  },
  {
   "cell_type": "code",
   "execution_count": 17,
   "id": "ab7be127",
   "metadata": {},
   "outputs": [
    {
     "name": "stdout",
     "output_type": "stream",
     "text": [
      "-------- A2 --------\n",
      "-------- A3 --------\n",
      "-------- A4 --------\n"
     ]
    }
   ],
   "source": [
    "# Other wells\n",
    "get_raw_well(a2, well_name='A2', filename='../22956814/raw_wells/A2.npy')\n",
    "get_raw_well(a3, well_name='A3', filename='../22956814/raw_wells/A3.npy')\n",
    "get_raw_well(a4, well_name='A4', filename='../22956814/raw_wells/A4.npy')"
   ]
  },
  {
   "cell_type": "code",
   "execution_count": 19,
   "id": "8ac8132f",
   "metadata": {},
   "outputs": [],
   "source": [
    "# Make a function from above\n",
    "\n",
    "import gc\n",
    "import os\n",
    "\n",
    "def make_raw_videos(raw_video_path, mask_frame_info_fn, well):\n",
    "    #raw_video = np.load('../22956814/raw_wells/A1.npy')\n",
    "    raw_video = np.load(raw_video_path)\n",
    "\n",
    "    #mask_frame_info_fn = \"../22956814/%s_not_empty.txt\" % 'A1'\n",
    "    \n",
    "    with open(mask_frame_info_fn, 'r') as f:\n",
    "        start_end_samplings = f.read().splitlines()  # Cool!! \n",
    "        for i, each in enumerate(start_end_samplings):\n",
    "            frame_start, frame_end, down_sampling = each.split(\",\")\n",
    "            fn = \"../22956814/%s_raw_%d.npy\" % (well, (i+1))\n",
    "\n",
    "            frame_start = int(frame_start)\n",
    "            frame_end = int(frame_end)\n",
    "            down_sampling = int(down_sampling)\n",
    "\n",
    "            raw_array = raw_video[frame_start:frame_end+1:down_sampling, :, :, :]\n",
    "            print(raw_array.shape)\n",
    "\n",
    "            # IMPORTANT!!\n",
    "            if raw_array.shape[0] != 100:\n",
    "                print(\"HAVE TO REMOVE: \", fn, \" and its masked npy!\")\n",
    "                fn_remove.append(fn)\n",
    "\n",
    "            np.save(fn, raw_array)\n",
    "\n",
    "            # Clear the raw_array memory\n",
    "            del raw_array\n",
    "            gc.collect()\n",
    "\n",
    "    # At the end, clear raw_video memory\n",
    "    del raw_video\n",
    "    gc.collect()"
   ]
  }
 ],
 "metadata": {
  "environment": {
   "name": "common-cu110.m76",
   "type": "gcloud",
   "uri": "gcr.io/deeplearning-platform-release/base-cu110:m76"
  },
  "kernelspec": {
   "display_name": "Python [conda env:root] *",
   "language": "python",
   "name": "conda-root-py"
  },
  "language_info": {
   "codemirror_mode": {
    "name": "ipython",
    "version": 3
   },
   "file_extension": ".py",
   "mimetype": "text/x-python",
   "name": "python",
   "nbconvert_exporter": "python",
   "pygments_lexer": "ipython3",
   "version": "3.7.10"
  }
 },
 "nbformat": 4,
 "nbformat_minor": 5
}

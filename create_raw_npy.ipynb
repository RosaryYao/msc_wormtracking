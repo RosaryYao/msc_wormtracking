{
 "cells": [
  {
   "cell_type": "code",
   "execution_count": 1,
   "id": "46b54317",
   "metadata": {},
   "outputs": [
    {
     "name": "stderr",
     "output_type": "stream",
     "text": [
      "/opt/conda/lib/python3.7/site-packages/tensorflow-2.5.0-py3.7-linux-x86_64.egg/tensorflow/python/keras/optimizer_v2/optimizer_v2.py:375: UserWarning: The `lr` argument is deprecated, use `learning_rate` instead.\n",
      "  \"The `lr` argument is deprecated, use `learning_rate` instead.\")\n"
     ]
    }
   ],
   "source": [
    "import h5py\n",
    "import matplotlib.pyplot as plt\n",
    "from PIL import Image, ImageDraw\n",
    "import numpy as np\n",
    "import sys\n",
    "import time\n",
    "import pandas as pd\n",
    "import cv2\n",
    "import os\n",
    "import imageio\n",
    "import matplotlib as mpl\n",
    "from matplotlib import cm\n",
    "from matplotlib.colors import ListedColormap, LinearSegmentedColormap\n",
    "import shutil\n",
    "import random\n",
    "\n",
    "from deepcell.utils.tracking_utils import load_trks"
   ]
  },
  {
   "cell_type": "code",
   "execution_count": 2,
   "id": "6c05b061",
   "metadata": {},
   "outputs": [],
   "source": [
    "# get well by well, and store\n",
    "d4 = [180, 710, 160, 690]\n",
    "d3 = [180, 710, 880, 1410]\n",
    "d2 = [180, 710, 1600, 2130]\n",
    "d1 = [180, 710, 2320, 2850]\n",
    "\n",
    "c4 = [895, 1425, 160, 690]\n",
    "c3 = [895, 1425, 880, 1410]\n",
    "c2 = [895, 1425, 1600, 2130]\n",
    "c1 = [895, 1425, 2320, 2850]\n",
    "\n",
    "b4 = [1620, 2150, 160, 690]\n",
    "b3 = [1620, 2150, 880, 1410]\n",
    "b2 = [1620, 2150, 1600, 2130]\n",
    "b1 = [1620, 2150, 2320, 2850]\n",
    "\n",
    "a4 = [2340, 2870, 160, 690]\n",
    "a3 = [2340, 2870, 880, 1410]\n",
    "a2 = [2340, 2870, 1600, 2130]\n",
    "a1 = [2340, 2870, 2320, 2850]"
   ]
  },
  {
   "cell_type": "code",
   "execution_count": 3,
   "id": "df23dc84",
   "metadata": {},
   "outputs": [],
   "source": [
    "def get_raw_well(well, video_path=\"../22956814/22956814.mp4\", well_name='A4', filename=False, frame_start=0, frame_end=9001, down_sampling=1):    \n",
    "    print('--------', well_name, '--------')\n",
    "    frames = []\n",
    "    \n",
    "    ymin = well[0]\n",
    "    ymax = well[1]\n",
    "    xmin = well[2]\n",
    "    xmax = well[3]\n",
    "\n",
    "    #path = \"../22956814/22956814.mp4\"\n",
    "    cap = cv2.VideoCapture(video_path)\n",
    "    ret = True\n",
    "    while ret:\n",
    "        ret, img = cap.read() # read one frame from the 'capture' object; img is (H, W, C)\n",
    "        if ret:\n",
    "            frames.append(img[ymin:ymax, xmin:xmax, :])\n",
    "    \n",
    "    stacked = np.stack(frames, axis=0)\n",
    "    stacked = stacked.astype(dtype='float32')\n",
    "    stacked_mean = np.mean(stacked, axis=3)[:,:,:,None]\n",
    "    \n",
    "    if frame_start != 0 or frame_end != 9001 or down_sampling != 1:\n",
    "        stacked_mean = stacked_mean[frame_start:(frame_end+1):down_sampling, :, :, :]\n",
    "    \n",
    "    if filename:\n",
    "        output_fn = filename\n",
    "    else:\n",
    "        output_fn = 'well_A/raw_%s.npy' % well_name\n",
    "        \n",
    "    np.save(output_fn, stacked_mean)\n",
    "    \n",
    "    #return stacked_mean"
   ]
  },
  {
   "cell_type": "code",
   "execution_count": 4,
   "id": "62fbbb39",
   "metadata": {},
   "outputs": [
    {
     "data": {
      "text/plain": [
       "svmem(total=439595151360, available=427116904448, percent=2.8, used=8865091584, free=388992704512, active=39018872832, inactive=9687498752, buffers=103968768, cached=41633386496, shared=9052160, slab=1318293504)"
      ]
     },
     "execution_count": 4,
     "metadata": {},
     "output_type": "execute_result"
    }
   ],
   "source": [
    "# Check available memory\n",
    "\n",
    "import psutil\n",
    "psutil.virtual_memory()  # looks good!"
   ]
  },
  {
   "cell_type": "code",
   "execution_count": null,
   "id": "dfe78825",
   "metadata": {},
   "outputs": [],
   "source": []
  },
  {
   "cell_type": "code",
   "execution_count": 5,
   "id": "e19dfb9b",
   "metadata": {},
   "outputs": [],
   "source": [
    "# Files to be removed\n",
    "fn_remove = []"
   ]
  },
  {
   "cell_type": "code",
   "execution_count": null,
   "id": "e630e48e",
   "metadata": {},
   "outputs": [],
   "source": []
  },
  {
   "cell_type": "markdown",
   "id": "2e8d6449",
   "metadata": {},
   "source": [
    "import gc\n",
    "import os\n",
    "\n",
    "raw_video = np.load('../22956814/raw_wells/A1.npy')\n",
    "\n",
    "mask_frame_info_fn = \"../22956814/%s_not_empty.txt\" % 'A1'\n",
    "with open(mask_frame_info_fn, 'r') as f:\n",
    "    start_end_samplings = f.read().splitlines()  # Cool!! \n",
    "    for i, each in enumerate(start_end_samplings):\n",
    "        frame_start, frame_end, down_sampling = each.split(\",\")\n",
    "        fn = \"../22956814/%s_raw_%d.npy\" % ('A1', (i+1))\n",
    "        \n",
    "        frame_start = int(frame_start)\n",
    "        frame_end = int(frame_end)\n",
    "        down_sampling = int(down_sampling)\n",
    "        \n",
    "        raw_array = raw_video[frame_start:frame_end+1:down_sampling, :, :, :]\n",
    "        print(raw_array.shape)\n",
    "        \n",
    "        # IMPORTANT!!\n",
    "        if raw_array.shape[0] != 100:\n",
    "            print(\"HAVE TO REMOVE: \", fn, \" and its masked npy!\")\n",
    "            fn_remove.append(fn)\n",
    "        \n",
    "        np.save(fn, raw_array)\n",
    "        \n",
    "        # Clear the raw_array memory\n",
    "        del raw_array\n",
    "        gc.collect()\n",
    "\n",
    "# At the end, clear raw_video memory\n",
    "del raw_video\n",
    "gc.collect()"
   ]
  },
  {
   "cell_type": "code",
   "execution_count": 6,
   "id": "16bda4a8",
   "metadata": {},
   "outputs": [
    {
     "data": {
      "text/plain": [
       "svmem(total=439595151360, available=427116904448, percent=2.8, used=8865067008, free=388992704512, active=39018872832, inactive=9687498752, buffers=103993344, cached=41633386496, shared=9052160, slab=1318293504)"
      ]
     },
     "execution_count": 6,
     "metadata": {},
     "output_type": "execute_result"
    }
   ],
   "source": [
    "import psutil\n",
    "psutil.virtual_memory()  # looks good!"
   ]
  },
  {
   "cell_type": "code",
   "execution_count": null,
   "id": "620a5adf",
   "metadata": {},
   "outputs": [],
   "source": []
  },
  {
   "cell_type": "code",
   "execution_count": 7,
   "id": "61c6267a",
   "metadata": {},
   "outputs": [],
   "source": [
    "# Make a function from above\n",
    "\n",
    "import gc\n",
    "import os\n",
    "\n",
    "def make_raw_videos(raw_video_path, mask_frame_info_fn, well_name):\n",
    "    #raw_video = np.load('../22956814/raw_wells/A1.npy')\n",
    "    raw_video = np.load(raw_video_path)\n",
    "\n",
    "    #mask_frame_info_fn = \"../22956814/%s_not_empty.txt\" % 'A1'\n",
    "    \n",
    "    with open(mask_frame_info_fn, 'r') as f:\n",
    "        start_end_samplings = f.read().splitlines()  # Cool!! \n",
    "        for i, each in enumerate(start_end_samplings):\n",
    "            frame_start, frame_end, down_sampling = each.split(\",\")\n",
    "            fn = \"../22956814/%s_raw_%d.npy\" % (well_name, (i+1))\n",
    "\n",
    "            frame_start = int(frame_start)\n",
    "            frame_end = int(frame_end)\n",
    "            down_sampling = int(down_sampling)\n",
    "\n",
    "            raw_array = raw_video[frame_start:frame_end+1:down_sampling, :, :, :]\n",
    "            print(raw_array.shape)\n",
    "\n",
    "            # IMPORTANT!!\n",
    "            if raw_array.shape[0] != 100:\n",
    "                print(\"HAVE TO REMOVE: \", fn, \" and its masked npy!\")\n",
    "                fn_remove.append(fn)\n",
    "\n",
    "            np.save(fn, raw_array)\n",
    "\n",
    "            # Clear the raw_array memory\n",
    "            del raw_array\n",
    "            gc.collect()\n",
    "\n",
    "    # At the end, clear raw_video memory\n",
    "    del raw_video\n",
    "    gc.collect()"
   ]
  },
  {
   "cell_type": "code",
   "execution_count": 8,
   "id": "c34ef8e8",
   "metadata": {},
   "outputs": [],
   "source": [
    "# Check gif - Take A4_raw_2.npy and A4_mask_2.npy"
   ]
  },
  {
   "cell_type": "markdown",
   "id": "9a8c7f7d",
   "metadata": {},
   "source": [
    "def plot_gif(np_array, output_fn):\n",
    "    mpl.rcParams['image.interpolation'] = 'none'  # Prevent mpl smoothes the edges\n",
    "    os.mkdir(\"pic_temporary\")  # To temporarily store the files\n",
    "\n",
    "    #spring = cm.get_cmap('spring', 256)\n",
    "    #newcolors = spring(np.linspace(0, 256, 256))\n",
    "    #black = np.array([0/256, 0/256, 0/256, 1])\n",
    "    #newcolors[:1, :] = black\n",
    "    #newcmp = ListedColormap(newcolors)\n",
    "\n",
    "    pic_list = []\n",
    "    flag = 0\n",
    "\n",
    "    for i in range(np_array.shape[0]):\n",
    "        #plt.imshow(np_array[i], cmap=newcmp)\n",
    "        mask = np_array[i]\n",
    "        mask = np.where(mask==0, -1, mask) \n",
    "        #print(np.unique(mask_1))\n",
    "\n",
    "        value = -1\n",
    "        masked_array = np.ma.masked_where(mask == value, mask)\n",
    "\n",
    "        #cmap = mpl.cm.get_cmap(\"spring\")\n",
    "        cmap = mpl.cm.get_cmap(\"spring\").copy()\n",
    "        cmap.set_bad(color='black')\n",
    "        \n",
    "        plt.imshow(masked_array, cmap=cmap)\n",
    "        \n",
    "        fn = 'pic_temporary/%d.jpg' % flag\n",
    "        plt.savefig(fn)\n",
    "        pic_list.append(fn)\n",
    "        flag += 1\n",
    "    \n",
    "    with imageio.get_writer(output_fn, mode='I') as writer:\n",
    "        for filename in pic_list:\n",
    "            image = imageio.imread(filename)\n",
    "            writer.append_data(image)\n",
    "    \n",
    "    # Remove the temporary file\n",
    "    shutil.rmtree(\"pic_temporary\")\n",
    "    \n",
    "    #return pic_list"
   ]
  },
  {
   "cell_type": "markdown",
   "id": "43fb0a21",
   "metadata": {},
   "source": [
    "plot_gif(np.load(\"../22956814/A4_raw_2.npy\"), '../22956814/gif/A4_raw_2.gif')\n",
    "plot_gif(np.load(\"../22956814/A4_mask_2.npy\"), '../22956814/gif/A4_mask_2.gif')\n",
    "# looks good"
   ]
  },
  {
   "cell_type": "code",
   "execution_count": 9,
   "id": "a260bd36",
   "metadata": {},
   "outputs": [
    {
     "data": {
      "text/plain": [
       "svmem(total=439595151360, available=427116965888, percent=2.8, used=8865042432, free=388992704512, active=39018930176, inactive=9687502848, buffers=104017920, cached=41633386496, shared=9052160, slab=1318293504)"
      ]
     },
     "execution_count": 9,
     "metadata": {},
     "output_type": "execute_result"
    }
   ],
   "source": [
    "import psutil\n",
    "psutil.virtual_memory()  # looks good!"
   ]
  },
  {
   "cell_type": "code",
   "execution_count": null,
   "id": "e93fefaf",
   "metadata": {},
   "outputs": [],
   "source": []
  },
  {
   "cell_type": "code",
   "execution_count": 10,
   "id": "06ad2c46",
   "metadata": {},
   "outputs": [
    {
     "name": "stdout",
     "output_type": "stream",
     "text": [
      "-------- A1 --------\n",
      "../22956814/raw_wells/A1.npy\n",
      "-------- A2 --------\n",
      "../22956814/raw_wells/A2.npy\n",
      "-------- A3 --------\n",
      "../22956814/raw_wells/A3.npy\n",
      "-------- A4 --------\n",
      "../22956814/raw_wells/A4.npy\n",
      "-------- B1 --------\n",
      "../22956814/raw_wells/B1.npy\n",
      "-------- B2 --------\n",
      "../22956814/raw_wells/B2.npy\n",
      "-------- B3 --------\n",
      "../22956814/raw_wells/B3.npy\n",
      "-------- B4 --------\n",
      "../22956814/raw_wells/B4.npy\n"
     ]
    }
   ],
   "source": [
    "# Do the same for the rest of the wells:\n",
    "\n",
    "wells = ['A1', 'A2', 'A3', 'A4', 'B1', 'B2', 'B3', 'B4']\n",
    "well_cuts = [a1, a2, a3, a4, b1, b2, b3, b4]\n",
    "\n",
    "for i, well in enumerate(wells):\n",
    "    filename = '../22956814/raw_wells/%s.npy' % well\n",
    "    get_raw_well(well=well_cuts[i], well_name=well, filename=filename)\n",
    "    print(filename)"
   ]
  },
  {
   "cell_type": "code",
   "execution_count": 11,
   "id": "ee887856",
   "metadata": {},
   "outputs": [
    {
     "name": "stdout",
     "output_type": "stream",
     "text": [
      "(100, 530, 530, 1)\n",
      "(100, 530, 530, 1)\n",
      "(100, 530, 530, 1)\n",
      "(100, 530, 530, 1)\n",
      "(100, 530, 530, 1)\n",
      "(100, 530, 530, 1)\n",
      "(100, 530, 530, 1)\n",
      "(100, 530, 530, 1)\n",
      "(100, 530, 530, 1)\n",
      "(100, 530, 530, 1)\n",
      "(100, 530, 530, 1)\n",
      "(100, 530, 530, 1)\n",
      "(100, 530, 530, 1)\n",
      "(100, 530, 530, 1)\n",
      "(100, 530, 530, 1)\n",
      "(100, 530, 530, 1)\n",
      "(100, 530, 530, 1)\n",
      "(100, 530, 530, 1)\n",
      "(100, 530, 530, 1)\n",
      "(100, 530, 530, 1)\n",
      "(100, 530, 530, 1)\n",
      "(100, 530, 530, 1)\n",
      "(100, 530, 530, 1)\n",
      "(100, 530, 530, 1)\n",
      "(100, 530, 530, 1)\n",
      "(100, 530, 530, 1)\n",
      "(100, 530, 530, 1)\n",
      "(100, 530, 530, 1)\n",
      "(100, 530, 530, 1)\n",
      "(100, 530, 530, 1)\n"
     ]
    }
   ],
   "source": [
    "# Do alphabets, otherwise disk full.......\n",
    "\n",
    "make_raw_videos(raw_video_path='../22956814/raw_wells/A1.npy', mask_frame_info_fn=\"../22956814/A1_not_empty.txt\", well_name='A1')\n",
    "make_raw_videos(raw_video_path='../22956814/raw_wells/A2.npy', mask_frame_info_fn=\"../22956814/A2_not_empty.txt\", well_name='A2')\n",
    "make_raw_videos(raw_video_path='../22956814/raw_wells/A3.npy', mask_frame_info_fn=\"../22956814/A3_not_empty.txt\", well_name='A3')\n",
    "make_raw_videos(raw_video_path='../22956814/raw_wells/A4.npy', mask_frame_info_fn=\"../22956814/A4_not_empty.txt\", well_name='A4')\n",
    "\n",
    "make_raw_videos(raw_video_path='../22956814/raw_wells/B1.npy', mask_frame_info_fn=\"../22956814/B1_not_empty.txt\", well_name='B1')\n",
    "make_raw_videos(raw_video_path='../22956814/raw_wells/B2.npy', mask_frame_info_fn=\"../22956814/B2_not_empty.txt\", well_name='B2')\n",
    "make_raw_videos(raw_video_path='../22956814/raw_wells/B3.npy', mask_frame_info_fn=\"../22956814/B3_not_empty.txt\", well_name='B3')\n",
    "make_raw_videos(raw_video_path='../22956814/raw_wells/B4.npy', mask_frame_info_fn=\"../22956814/B4_not_empty.txt\", well_name='B4')"
   ]
  },
  {
   "cell_type": "code",
   "execution_count": 12,
   "id": "854129b8",
   "metadata": {},
   "outputs": [
    {
     "ename": "NameError",
     "evalue": "name 'plot_gif' is not defined",
     "output_type": "error",
     "traceback": [
      "\u001b[0;31m---------------------------------------------------------------------------\u001b[0m",
      "\u001b[0;31mNameError\u001b[0m                                 Traceback (most recent call last)",
      "\u001b[0;32m<ipython-input-12-911cbd7bc5f7>\u001b[0m in \u001b[0;36m<module>\u001b[0;34m\u001b[0m\n\u001b[1;32m      1\u001b[0m \u001b[0;31m# Check gif!\u001b[0m\u001b[0;34m\u001b[0m\u001b[0;34m\u001b[0m\u001b[0;34m\u001b[0m\u001b[0m\n\u001b[1;32m      2\u001b[0m \u001b[0;34m\u001b[0m\u001b[0m\n\u001b[0;32m----> 3\u001b[0;31m \u001b[0mplot_gif\u001b[0m\u001b[0;34m(\u001b[0m\u001b[0mnp\u001b[0m\u001b[0;34m.\u001b[0m\u001b[0mload\u001b[0m\u001b[0;34m(\u001b[0m\u001b[0;34m\"../22956814/B3_raw_2.npy\"\u001b[0m\u001b[0;34m)\u001b[0m\u001b[0;34m,\u001b[0m \u001b[0;34m'../22956814/gif/B3_raw_2.gif'\u001b[0m\u001b[0;34m)\u001b[0m\u001b[0;34m\u001b[0m\u001b[0;34m\u001b[0m\u001b[0m\n\u001b[0m\u001b[1;32m      4\u001b[0m \u001b[0mplot_gif\u001b[0m\u001b[0;34m(\u001b[0m\u001b[0mnp\u001b[0m\u001b[0;34m.\u001b[0m\u001b[0mload\u001b[0m\u001b[0;34m(\u001b[0m\u001b[0;34m\"../22956814/B3_mask_2.npy\"\u001b[0m\u001b[0;34m)\u001b[0m\u001b[0;34m,\u001b[0m \u001b[0;34m'../22956814/gif/B3_mask_2.gif'\u001b[0m\u001b[0;34m)\u001b[0m\u001b[0;34m\u001b[0m\u001b[0;34m\u001b[0m\u001b[0m\n\u001b[1;32m      5\u001b[0m \u001b[0;34m\u001b[0m\u001b[0m\n",
      "\u001b[0;31mNameError\u001b[0m: name 'plot_gif' is not defined"
     ]
    }
   ],
   "source": [
    "# Check gif! \n",
    "\n",
    "#plot_gif(np.load(\"../22956814/B3_raw_2.npy\"), '../22956814/gif/B3_raw_2.gif')\n",
    "#plot_gif(np.load(\"../22956814/B3_mask_2.npy\"), '../22956814/gif/B3_mask_2.gif')\n",
    "\n",
    "# looks good! \n",
    "# Then removes well B raw npys "
   ]
  },
  {
   "cell_type": "markdown",
   "id": "7535338a",
   "metadata": {},
   "source": [
    "# Well Cs"
   ]
  },
  {
   "cell_type": "code",
   "execution_count": null,
   "id": "54e0ebaa",
   "metadata": {},
   "outputs": [],
   "source": [
    "#wells = ['C1', 'C2', 'C3', 'C4', 'D1', 'D2', 'D3', 'D4']\n",
    "#well_cuts = [c1, c2, c3, c4, d1, d2, d3, d4]\n",
    "\n",
    "#for i, well in enumerate(wells):\n",
    "#    filename = '../22956814/raw_wells/%s.npy' % well\n",
    "#    get_raw_well(well=well_cuts[i], well_name=well, filename=filename)\n",
    "#    print(filename)"
   ]
  },
  {
   "cell_type": "code",
   "execution_count": 13,
   "id": "9a5dc39d",
   "metadata": {},
   "outputs": [
    {
     "name": "stdout",
     "output_type": "stream",
     "text": [
      "(100, 530, 530, 1)\n",
      "(100, 530, 530, 1)\n",
      "(100, 530, 530, 1)\n",
      "(100, 530, 530, 1)\n",
      "(100, 530, 530, 1)\n",
      "(100, 530, 530, 1)\n",
      "(100, 530, 530, 1)\n",
      "(100, 530, 530, 1)\n",
      "(100, 530, 530, 1)\n",
      "(100, 530, 530, 1)\n",
      "(100, 530, 530, 1)\n",
      "(100, 530, 530, 1)\n",
      "(100, 530, 530, 1)\n",
      "(100, 530, 530, 1)\n",
      "(100, 530, 530, 1)\n",
      "(100, 530, 530, 1)\n",
      "(100, 530, 530, 1)\n",
      "(100, 530, 530, 1)\n",
      "(100, 530, 530, 1)\n",
      "(100, 530, 530, 1)\n",
      "(100, 530, 530, 1)\n",
      "(100, 530, 530, 1)\n",
      "(100, 530, 530, 1)\n",
      "(100, 530, 530, 1)\n",
      "(100, 530, 530, 1)\n",
      "(100, 530, 530, 1)\n",
      "(100, 530, 530, 1)\n",
      "(100, 530, 530, 1)\n",
      "(100, 530, 530, 1)\n",
      "(100, 530, 530, 1)\n",
      "(100, 530, 530, 1)\n",
      "(100, 530, 530, 1)\n",
      "(100, 530, 530, 1)\n",
      "(100, 530, 530, 1)\n",
      "(100, 530, 530, 1)\n",
      "(100, 530, 530, 1)\n",
      "(100, 530, 530, 1)\n",
      "(100, 530, 530, 1)\n",
      "(100, 530, 530, 1)\n",
      "(100, 530, 530, 1)\n",
      "(100, 530, 530, 1)\n",
      "(100, 530, 530, 1)\n",
      "(100, 530, 530, 1)\n"
     ]
    }
   ],
   "source": [
    "make_raw_videos(raw_video_path='../22956814/raw_wells/C1.npy', mask_frame_info_fn=\"../22956814/C1_not_empty.txt\", well_name='C1')\n",
    "make_raw_videos(raw_video_path='../22956814/raw_wells/C2.npy', mask_frame_info_fn=\"../22956814/C2_not_empty.txt\", well_name='C2')\n",
    "make_raw_videos(raw_video_path='../22956814/raw_wells/C3.npy', mask_frame_info_fn=\"../22956814/C3_not_empty.txt\", well_name='C3')\n",
    "make_raw_videos(raw_video_path='../22956814/raw_wells/C4.npy', mask_frame_info_fn=\"../22956814/C4_not_empty.txt\", well_name='C4')\n",
    "\n",
    "make_raw_videos(raw_video_path='../22956814/raw_wells/D1.npy', mask_frame_info_fn=\"../22956814/D1_not_empty.txt\", well_name='D1')\n",
    "make_raw_videos(raw_video_path='../22956814/raw_wells/D2.npy', mask_frame_info_fn=\"../22956814/D2_not_empty.txt\", well_name='D2')\n",
    "make_raw_videos(raw_video_path='../22956814/raw_wells/D3.npy', mask_frame_info_fn=\"../22956814/D3_not_empty.txt\", well_name='D3')\n",
    "make_raw_videos(raw_video_path='../22956814/raw_wells/D4.npy', mask_frame_info_fn=\"../22956814/D4_not_empty.txt\", well_name='D4')"
   ]
  },
  {
   "cell_type": "code",
   "execution_count": null,
   "id": "c1ff6024",
   "metadata": {},
   "outputs": [],
   "source": []
  },
  {
   "cell_type": "code",
   "execution_count": null,
   "id": "70d90bd7",
   "metadata": {},
   "outputs": [],
   "source": []
  },
  {
   "cell_type": "code",
   "execution_count": null,
   "id": "da304b0a",
   "metadata": {},
   "outputs": [],
   "source": [
    "get_raw_well(a1, video_path=\"../22956814/22956814.mp4\", well_name='A1', filename='../A1_raw.npy', frame_start=0, frame_end=9001, down_sampling=100)"
   ]
  },
  {
   "cell_type": "code",
   "execution_count": null,
   "id": "09a8ba70",
   "metadata": {},
   "outputs": [],
   "source": []
  }
 ],
 "metadata": {
  "environment": {
   "name": "common-cu110.m76",
   "type": "gcloud",
   "uri": "gcr.io/deeplearning-platform-release/base-cu110:m76"
  },
  "kernelspec": {
   "display_name": "Python [conda env:root] *",
   "language": "python",
   "name": "conda-root-py"
  },
  "language_info": {
   "codemirror_mode": {
    "name": "ipython",
    "version": 3
   },
   "file_extension": ".py",
   "mimetype": "text/x-python",
   "name": "python",
   "nbconvert_exporter": "python",
   "pygments_lexer": "ipython3",
   "version": "3.7.10"
  }
 },
 "nbformat": 4,
 "nbformat_minor": 5
}

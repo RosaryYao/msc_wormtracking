{
 "cells": [
  {
   "cell_type": "code",
   "execution_count": null,
   "id": "d4265906",
   "metadata": {},
   "outputs": [],
   "source": [
    "## save_trks becomes very very slow....\n",
    "## Use 6814_1, 6819_1, 6823_1 for training"
   ]
  },
  {
   "cell_type": "code",
   "execution_count": 1,
   "id": "d41d66da",
   "metadata": {},
   "outputs": [],
   "source": [
    "import os\n",
    "import datetime\n",
    "import errno\n",
    "\n",
    "import numpy as np\n",
    "\n",
    "import deepcell\n",
    "from deepcell.utils.tracking_utils import load_trks, save_trks, trks_stats"
   ]
  },
  {
   "cell_type": "code",
   "execution_count": 2,
   "id": "48597d49",
   "metadata": {},
   "outputs": [],
   "source": [
    "trk_1 = load_trks('../22956814/22956814.trks')\n",
    "trk_2 = load_trks('../22956819/22956819.trks')\n",
    "trk_3 = load_trks('../22956823/22956823.trks')"
   ]
  },
  {
   "cell_type": "code",
   "execution_count": 3,
   "id": "3f8eaaee",
   "metadata": {},
   "outputs": [
    {
     "data": {
      "text/plain": [
       "(87, 100, 530, 530, 1)"
      ]
     },
     "execution_count": 3,
     "metadata": {},
     "output_type": "execute_result"
    }
   ],
   "source": [
    "Xs = np.concatenate((trk_1['X'], trk_2['X'], trk_3['X']), axis=0)\n",
    "Xs.shape"
   ]
  },
  {
   "cell_type": "code",
   "execution_count": 4,
   "id": "1eb5e81a",
   "metadata": {},
   "outputs": [
    {
     "data": {
      "text/plain": [
       "(87, 100, 530, 530, 1)"
      ]
     },
     "execution_count": 4,
     "metadata": {},
     "output_type": "execute_result"
    }
   ],
   "source": [
    "ys = np.concatenate((trk_1['y'], trk_2['y'], trk_3['y']), axis=0)\n",
    "ys.shape"
   ]
  },
  {
   "cell_type": "code",
   "execution_count": 5,
   "id": "c5468c02",
   "metadata": {},
   "outputs": [
    {
     "data": {
      "text/plain": [
       "87"
      ]
     },
     "execution_count": 5,
     "metadata": {},
     "output_type": "execute_result"
    }
   ],
   "source": [
    "lineages_s = trk_1['lineages'] + trk_2['lineages'] + trk_3['lineages']\n",
    "len(lineages_s)"
   ]
  },
  {
   "cell_type": "code",
   "execution_count": 6,
   "id": "1d1657f5",
   "metadata": {},
   "outputs": [],
   "source": [
    "save_trks(\"../train_small.trks\", lineages_s, Xs, ys)"
   ]
  },
  {
   "cell_type": "code",
   "execution_count": 8,
   "id": "6a16a4da",
   "metadata": {},
   "outputs": [],
   "source": [
    "np.savez(\"../train_small.npz\", X=Xs, y=ys)"
   ]
  },
  {
   "cell_type": "code",
   "execution_count": null,
   "id": "d1b3874f",
   "metadata": {},
   "outputs": [],
   "source": []
  },
  {
   "cell_type": "code",
   "execution_count": 10,
   "id": "ecb86835",
   "metadata": {},
   "outputs": [],
   "source": [
    "trk_small = load_trks(\"../train_small.trks\")"
   ]
  },
  {
   "cell_type": "code",
   "execution_count": null,
   "id": "bb0d8cf6",
   "metadata": {},
   "outputs": [],
   "source": []
  },
  {
   "cell_type": "code",
   "execution_count": 11,
   "id": "03abd7c3",
   "metadata": {},
   "outputs": [],
   "source": [
    "# Convert 6814_2, 6819_2, 6823_2 into validation?\n",
    "\n",
    "trk_4 = load_trks('../6814_2/6814_2.trks')\n",
    "trk_5 = load_trks('../6819_2/6819_2.trks')\n",
    "trk_6 = load_trks('../6823_2/6823_2.trks')"
   ]
  },
  {
   "cell_type": "code",
   "execution_count": null,
   "id": "5a58a9fc",
   "metadata": {},
   "outputs": [],
   "source": [
    "#Xs = np.concatenate((trk_1['X'], trk_2['X'], trk_3['X']), axis=0)\n",
    "#Xs.shape"
   ]
  },
  {
   "cell_type": "code",
   "execution_count": null,
   "id": "77c0e895",
   "metadata": {},
   "outputs": [],
   "source": [
    "#ys = np.concatenate((trk_1['y'], trk_2['y'], trk_3['y']), axis=0)\n",
    "#ys.shape"
   ]
  },
  {
   "cell_type": "code",
   "execution_count": null,
   "id": "6a011307",
   "metadata": {},
   "outputs": [],
   "source": [
    "#lineages_s = trk_1['lineages'] + trk_2['lineages'] + trk_3['lineages']\n",
    "#len(lineages_s)"
   ]
  },
  {
   "cell_type": "code",
   "execution_count": 14,
   "id": "00c85a5e",
   "metadata": {},
   "outputs": [],
   "source": [
    "lineages = trk_4['lineages']"
   ]
  },
  {
   "cell_type": "code",
   "execution_count": 15,
   "id": "0803313d",
   "metadata": {},
   "outputs": [],
   "source": [
    "lineages_list_new = []\n",
    "\n",
    "for index in range(len(lineages_list)):    \n",
    "    lineages_new = {}\n",
    "\n",
    "    for i in range(len(list(lineages[index].keys()))):\n",
    "        #lineages_new[str(list(lineages[index].keys())[i])] = lineages[index][list(lineages[index].keys())[i]]\n",
    "        \n",
    "        worm = str(list(lineages[index].keys())[i])\n",
    "        \n",
    "        #lineages_new[str(list(lineages[index].keys())[i])] = {}\n",
    "        #lineages_new[str(list(lineages[index].keys())[i])]['label'] = str(lineages[index][list(lineages[index].keys())[i]]['label'])\n",
    "        \n",
    "        lineages_new[worm] = {}\n",
    "        lineages_new[worm]['label'] = str(lineages[index][list(lineages[index].keys())[i]]['label'])\n",
    "        lineages_new[worm]['frames'] = [str(frame) for frame in lineages[index][list(lineages[index].keys())[i]]['frames']]\n",
    "        lineages_new[worm]['parent'] = None\n",
    "        lineages_new[worm]['daughters'] = []\n",
    "        #print(lineages_new)\n",
    "    lineages_list_new.append(lineages_new)"
   ]
  },
  {
   "cell_type": "code",
   "execution_count": 20,
   "id": "4cbe68b2",
   "metadata": {},
   "outputs": [
    {
     "data": {
      "text/plain": [
       "24"
      ]
     },
     "execution_count": 20,
     "metadata": {},
     "output_type": "execute_result"
    }
   ],
   "source": [
    "len(lineages_list_new)"
   ]
  },
  {
   "cell_type": "code",
   "execution_count": 19,
   "id": "91e156e0",
   "metadata": {},
   "outputs": [
    {
     "name": "stdout",
     "output_type": "stream",
     "text": [
      "24\n"
     ]
    }
   ],
   "source": [
    "X_list = []\n",
    "\n",
    "for i in range(trk_4['X'].shape[0]):\n",
    "    X_list.append(trk_4['X'][i])\n",
    "    #print(i)\n",
    "print(len(X_list))"
   ]
  },
  {
   "cell_type": "code",
   "execution_count": 24,
   "id": "2e976a86",
   "metadata": {},
   "outputs": [
    {
     "name": "stdout",
     "output_type": "stream",
     "text": [
      "24\n"
     ]
    }
   ],
   "source": [
    "y_list = []\n",
    "\n",
    "for i in range(trk_4['y'].shape[0]):\n",
    "    y_list.append(trk_4['y'][i])\n",
    "    #print(i)\n",
    "print(len(y_list))"
   ]
  },
  {
   "cell_type": "code",
   "execution_count": 21,
   "id": "12ea0c14",
   "metadata": {},
   "outputs": [],
   "source": [
    "np.savez(\"../6814_2/6814_2_str.npz\", X=trk_4['X'], y=trk_4['y'])"
   ]
  },
  {
   "cell_type": "code",
   "execution_count": 22,
   "id": "f2a6b9ff",
   "metadata": {},
   "outputs": [
    {
     "data": {
      "text/plain": [
       "(24, 100, 530, 530, 1)"
      ]
     },
     "execution_count": 22,
     "metadata": {},
     "output_type": "execute_result"
    }
   ],
   "source": [
    "test = np.load(\"../6814_2/6814_2_str.npz\")\n",
    "test['X'].shape"
   ]
  },
  {
   "cell_type": "code",
   "execution_count": null,
   "id": "a140ff0c",
   "metadata": {},
   "outputs": [],
   "source": [
    "save_trks(\"../6814_2/6814_2_str.trks\", lineages_list_new, X_list, y_list)"
   ]
  }
 ],
 "metadata": {
  "environment": {
   "name": "tf2-gpu.2-3.m78",
   "type": "gcloud",
   "uri": "gcr.io/deeplearning-platform-release/tf2-gpu.2-3:m78"
  },
  "kernelspec": {
   "display_name": "Python [conda env:root] *",
   "language": "python",
   "name": "conda-root-py"
  },
  "language_info": {
   "codemirror_mode": {
    "name": "ipython",
    "version": 3
   },
   "file_extension": ".py",
   "mimetype": "text/x-python",
   "name": "python",
   "nbconvert_exporter": "python",
   "pygments_lexer": "ipython3",
   "version": "3.7.10"
  }
 },
 "nbformat": 4,
 "nbformat_minor": 5
}

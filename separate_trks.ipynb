{
 "cells": [
  {
   "cell_type": "code",
   "execution_count": null,
   "id": "d8a548ba",
   "metadata": {},
   "outputs": [],
   "source": [
    "## save_trks becomes very very slow....\n",
    "## Use 6814_1, 6819_1, 6823_1 for training"
   ]
  },
  {
   "cell_type": "code",
   "execution_count": 2,
   "id": "cbc60436",
   "metadata": {},
   "outputs": [],
   "source": [
    "import os\n",
    "import datetime\n",
    "import errno\n",
    "\n",
    "import numpy as np\n",
    "\n",
    "import deepcell\n",
    "from deepcell.utils.tracking_utils import load_trks, save_trks, trks_stats"
   ]
  },
  {
   "cell_type": "code",
   "execution_count": 2,
   "id": "87fedca0",
   "metadata": {},
   "outputs": [],
   "source": [
    "trk_1 = load_trks('../22956814/22956814.trks')\n",
    "trk_2 = load_trks('../22956819/22956819.trks')\n",
    "trk_3 = load_trks('../22956823/22956823.trks')"
   ]
  },
  {
   "cell_type": "code",
   "execution_count": 3,
   "id": "abd06e6d",
   "metadata": {},
   "outputs": [
    {
     "data": {
      "text/plain": [
       "(87, 100, 530, 530, 1)"
      ]
     },
     "execution_count": 3,
     "metadata": {},
     "output_type": "execute_result"
    }
   ],
   "source": [
    "Xs = np.concatenate((trk_1['X'], trk_2['X'], trk_3['X']), axis=0)\n",
    "Xs.shape"
   ]
  },
  {
   "cell_type": "code",
   "execution_count": 4,
   "id": "9384e8e9",
   "metadata": {},
   "outputs": [
    {
     "data": {
      "text/plain": [
       "(87, 100, 530, 530, 1)"
      ]
     },
     "execution_count": 4,
     "metadata": {},
     "output_type": "execute_result"
    }
   ],
   "source": [
    "ys = np.concatenate((trk_1['y'], trk_2['y'], trk_3['y']), axis=0)\n",
    "ys.shape"
   ]
  },
  {
   "cell_type": "code",
   "execution_count": 5,
   "id": "209a69b3",
   "metadata": {},
   "outputs": [
    {
     "data": {
      "text/plain": [
       "87"
      ]
     },
     "execution_count": 5,
     "metadata": {},
     "output_type": "execute_result"
    }
   ],
   "source": [
    "lineages_s = trk_1['lineages'] + trk_2['lineages'] + trk_3['lineages']\n",
    "len(lineages_s)"
   ]
  },
  {
   "cell_type": "code",
   "execution_count": 6,
   "id": "64f45220",
   "metadata": {},
   "outputs": [],
   "source": [
    "save_trks(\"../train_small.trks\", lineages_s, Xs, ys)"
   ]
  },
  {
   "cell_type": "code",
   "execution_count": 8,
   "id": "6a012bb4",
   "metadata": {},
   "outputs": [],
   "source": [
    "np.savez(\"../train_small.npz\", X=Xs, y=ys)"
   ]
  },
  {
   "cell_type": "code",
   "execution_count": null,
   "id": "aa88147b",
   "metadata": {},
   "outputs": [],
   "source": []
  },
  {
   "cell_type": "code",
   "execution_count": 10,
   "id": "8ee51fc2",
   "metadata": {},
   "outputs": [],
   "source": [
    "trk_small = load_trks(\"../train_small.trks\")"
   ]
  },
  {
   "cell_type": "code",
   "execution_count": null,
   "id": "af2acea0",
   "metadata": {},
   "outputs": [],
   "source": []
  },
  {
   "cell_type": "code",
   "execution_count": 11,
   "id": "6c2cd1d9",
   "metadata": {},
   "outputs": [],
   "source": [
    "# Convert 6814_2, 6819_2, 6823_2 into validation?\n",
    "\n",
    "trk_4 = load_trks('../6814_2/6814_2.trks')\n",
    "trk_5 = load_trks('../6819_2/6819_2.trks')\n",
    "trk_6 = load_trks('../6823_2/6823_2.trks')"
   ]
  },
  {
   "cell_type": "code",
   "execution_count": null,
   "id": "db04edc4",
   "metadata": {},
   "outputs": [],
   "source": [
    "#Xs = np.concatenate((trk_1['X'], trk_2['X'], trk_3['X']), axis=0)\n",
    "#Xs.shape"
   ]
  },
  {
   "cell_type": "code",
   "execution_count": null,
   "id": "79c925b6",
   "metadata": {},
   "outputs": [],
   "source": [
    "#ys = np.concatenate((trk_1['y'], trk_2['y'], trk_3['y']), axis=0)\n",
    "#ys.shape"
   ]
  },
  {
   "cell_type": "code",
   "execution_count": null,
   "id": "ec8e89a6",
   "metadata": {},
   "outputs": [],
   "source": [
    "#lineages_s = trk_1['lineages'] + trk_2['lineages'] + trk_3['lineages']\n",
    "#len(lineages_s)"
   ]
  },
  {
   "cell_type": "code",
   "execution_count": 14,
   "id": "6baee289",
   "metadata": {},
   "outputs": [],
   "source": [
    "lineages = trk_4['lineages']"
   ]
  },
  {
   "cell_type": "code",
   "execution_count": 15,
   "id": "2911d835",
   "metadata": {},
   "outputs": [],
   "source": [
    "lineages_list_new = []\n",
    "\n",
    "for index in range(len(lineages_list)):    \n",
    "    lineages_new = {}\n",
    "\n",
    "    for i in range(len(list(lineages[index].keys()))):\n",
    "        #lineages_new[str(list(lineages[index].keys())[i])] = lineages[index][list(lineages[index].keys())[i]]\n",
    "        \n",
    "        worm = str(list(lineages[index].keys())[i])\n",
    "        \n",
    "        #lineages_new[str(list(lineages[index].keys())[i])] = {}\n",
    "        #lineages_new[str(list(lineages[index].keys())[i])]['label'] = str(lineages[index][list(lineages[index].keys())[i]]['label'])\n",
    "        \n",
    "        lineages_new[worm] = {}\n",
    "        lineages_new[worm]['label'] = str(lineages[index][list(lineages[index].keys())[i]]['label'])\n",
    "        lineages_new[worm]['frames'] = [str(frame) for frame in lineages[index][list(lineages[index].keys())[i]]['frames']]\n",
    "        lineages_new[worm]['parent'] = None\n",
    "        lineages_new[worm]['daughters'] = []\n",
    "        #print(lineages_new)\n",
    "    lineages_list_new.append(lineages_new)"
   ]
  },
  {
   "cell_type": "code",
   "execution_count": 20,
   "id": "71b8206a",
   "metadata": {},
   "outputs": [
    {
     "data": {
      "text/plain": [
       "24"
      ]
     },
     "execution_count": 20,
     "metadata": {},
     "output_type": "execute_result"
    }
   ],
   "source": [
    "len(lineages_list_new)"
   ]
  },
  {
   "cell_type": "code",
   "execution_count": 19,
   "id": "66810e9f",
   "metadata": {},
   "outputs": [
    {
     "name": "stdout",
     "output_type": "stream",
     "text": [
      "24\n"
     ]
    }
   ],
   "source": [
    "X_list = []\n",
    "\n",
    "for i in range(trk_4['X'].shape[0]):\n",
    "    X_list.append(trk_4['X'][i])\n",
    "    #print(i)\n",
    "print(len(X_list))"
   ]
  },
  {
   "cell_type": "code",
   "execution_count": 24,
   "id": "29310352",
   "metadata": {},
   "outputs": [
    {
     "name": "stdout",
     "output_type": "stream",
     "text": [
      "24\n"
     ]
    }
   ],
   "source": [
    "y_list = []\n",
    "\n",
    "for i in range(trk_4['y'].shape[0]):\n",
    "    y_list.append(trk_4['y'][i])\n",
    "    #print(i)\n",
    "print(len(y_list))"
   ]
  },
  {
   "cell_type": "code",
   "execution_count": 21,
   "id": "3b26b4c3",
   "metadata": {},
   "outputs": [],
   "source": [
    "np.savez(\"../6814_2/6814_2_str.npz\", X=trk_4['X'], y=trk_4['y'])"
   ]
  },
  {
   "cell_type": "code",
   "execution_count": 22,
   "id": "43258299",
   "metadata": {},
   "outputs": [
    {
     "data": {
      "text/plain": [
       "(24, 100, 530, 530, 1)"
      ]
     },
     "execution_count": 22,
     "metadata": {},
     "output_type": "execute_result"
    }
   ],
   "source": [
    "test = np.load(\"../6814_2/6814_2_str.npz\")\n",
    "test['X'].shape"
   ]
  },
  {
   "cell_type": "code",
   "execution_count": 25,
   "id": "d06281d4",
   "metadata": {},
   "outputs": [],
   "source": [
    "save_trks(\"../6814_2/6814_2_str.trks\", lineages_list_new, X_list, y_list)"
   ]
  },
  {
   "cell_type": "code",
   "execution_count": null,
   "id": "8b9defda",
   "metadata": {},
   "outputs": [],
   "source": []
  },
  {
   "cell_type": "code",
   "execution_count": 3,
   "id": "fb4f7bc2",
   "metadata": {},
   "outputs": [],
   "source": [
    "# Validation_small.trks\n",
    "\n",
    "val_small = load_trks(\"../6823_3/6823_3.trks\")"
   ]
  },
  {
   "cell_type": "code",
   "execution_count": 4,
   "id": "26e64f49",
   "metadata": {},
   "outputs": [],
   "source": [
    "lineages_list = val_small['lineages']"
   ]
  },
  {
   "cell_type": "code",
   "execution_count": 6,
   "id": "6094b414",
   "metadata": {},
   "outputs": [
    {
     "name": "stdout",
     "output_type": "stream",
     "text": [
      "0\n",
      "1\n",
      "2\n",
      "3\n",
      "4\n",
      "5\n",
      "6\n",
      "7\n",
      "8\n",
      "9\n",
      "10\n",
      "11\n",
      "12\n",
      "13\n",
      "14\n",
      "15\n",
      "16\n",
      "17\n",
      "18\n",
      "19\n",
      "20\n",
      "21\n",
      "22\n",
      "23\n",
      "24\n",
      "25\n",
      "26\n",
      "27\n",
      "28\n",
      "29\n",
      "30\n",
      "31\n",
      "32\n"
     ]
    }
   ],
   "source": [
    "lineages_list_new = []\n",
    "\n",
    "for index in range(len(lineages_list)):    \n",
    "    lineages_new = {}\n",
    "\n",
    "    for i in range(len(list(lineages_list[index].keys()))):\n",
    "        #lineages_new[str(list(lineages[index].keys())[i])] = lineages[index][list(lineages[index].keys())[i]]\n",
    "        \n",
    "        worm = str(list(lineages_list[index].keys())[i])\n",
    "        \n",
    "        #lineages_new[str(list(lineages[index].keys())[i])] = {}\n",
    "        #lineages_new[str(list(lineages[index].keys())[i])]['label'] = str(lineages[index][list(lineages[index].keys())[i]]['label'])\n",
    "        \n",
    "        lineages_new[worm] = {}\n",
    "        lineages_new[worm]['label'] = str(lineages_list[index][list(lineages_list[index].keys())[i]]['label'])\n",
    "        lineages_new[worm]['frames'] = [str(frame) for frame in lineages_list[index][list(lineages_list[index].keys())[i]]['frames']]\n",
    "        lineages_new[worm]['parent'] = None\n",
    "        lineages_new[worm]['daughters'] = []\n",
    "        #print(lineages_new)\n",
    "    lineages_list_new.append(lineages_new)\n",
    "    print(index)"
   ]
  },
  {
   "cell_type": "code",
   "execution_count": 10,
   "id": "fcb01434",
   "metadata": {},
   "outputs": [
    {
     "data": {
      "text/plain": [
       "{'3': {'label': '3',\n",
       "  'frames': ['0',\n",
       "   '1',\n",
       "   '2',\n",
       "   '3',\n",
       "   '8',\n",
       "   '9',\n",
       "   '10',\n",
       "   '11',\n",
       "   '12',\n",
       "   '13',\n",
       "   '14',\n",
       "   '15',\n",
       "   '16',\n",
       "   '17',\n",
       "   '18',\n",
       "   '19',\n",
       "   '20',\n",
       "   '21',\n",
       "   '22',\n",
       "   '23',\n",
       "   '24',\n",
       "   '27',\n",
       "   '28',\n",
       "   '29',\n",
       "   '30',\n",
       "   '33',\n",
       "   '37',\n",
       "   '38',\n",
       "   '39',\n",
       "   '40',\n",
       "   '41',\n",
       "   '42',\n",
       "   '43',\n",
       "   '44',\n",
       "   '45',\n",
       "   '46',\n",
       "   '47',\n",
       "   '48',\n",
       "   '49',\n",
       "   '56',\n",
       "   '57',\n",
       "   '59',\n",
       "   '60',\n",
       "   '61',\n",
       "   '62'],\n",
       "  'parent': None,\n",
       "  'daughters': []},\n",
       " '8': {'label': '8',\n",
       "  'frames': ['0',\n",
       "   '1',\n",
       "   '2',\n",
       "   '3',\n",
       "   '4',\n",
       "   '5',\n",
       "   '7',\n",
       "   '8',\n",
       "   '11',\n",
       "   '12',\n",
       "   '17',\n",
       "   '18',\n",
       "   '19',\n",
       "   '20',\n",
       "   '21',\n",
       "   '22',\n",
       "   '23',\n",
       "   '24',\n",
       "   '25',\n",
       "   '26',\n",
       "   '27',\n",
       "   '28',\n",
       "   '29',\n",
       "   '30',\n",
       "   '31',\n",
       "   '32',\n",
       "   '33',\n",
       "   '34',\n",
       "   '35',\n",
       "   '36',\n",
       "   '37',\n",
       "   '38',\n",
       "   '39',\n",
       "   '40',\n",
       "   '41',\n",
       "   '42',\n",
       "   '43',\n",
       "   '44',\n",
       "   '45',\n",
       "   '46',\n",
       "   '47',\n",
       "   '48',\n",
       "   '49',\n",
       "   '50',\n",
       "   '51',\n",
       "   '52',\n",
       "   '53',\n",
       "   '54',\n",
       "   '55',\n",
       "   '56',\n",
       "   '57',\n",
       "   '58',\n",
       "   '59',\n",
       "   '60',\n",
       "   '61',\n",
       "   '62',\n",
       "   '63',\n",
       "   '64',\n",
       "   '65',\n",
       "   '66',\n",
       "   '67',\n",
       "   '68',\n",
       "   '69',\n",
       "   '70',\n",
       "   '71',\n",
       "   '72',\n",
       "   '73',\n",
       "   '74',\n",
       "   '75',\n",
       "   '76',\n",
       "   '77',\n",
       "   '78',\n",
       "   '79',\n",
       "   '80',\n",
       "   '81',\n",
       "   '82',\n",
       "   '83',\n",
       "   '84',\n",
       "   '85',\n",
       "   '86',\n",
       "   '87',\n",
       "   '88',\n",
       "   '89',\n",
       "   '90',\n",
       "   '91',\n",
       "   '92',\n",
       "   '93',\n",
       "   '94',\n",
       "   '95',\n",
       "   '96',\n",
       "   '97',\n",
       "   '98',\n",
       "   '99'],\n",
       "  'parent': None,\n",
       "  'daughters': []},\n",
       " '107': {'label': '107',\n",
       "  'frames': ['86', '87', '88', '92', '93', '94', '95', '96', '97'],\n",
       "  'parent': None,\n",
       "  'daughters': []}}"
      ]
     },
     "execution_count": 10,
     "metadata": {},
     "output_type": "execute_result"
    }
   ],
   "source": [
    "lineages_list_new[0]"
   ]
  },
  {
   "cell_type": "code",
   "execution_count": 7,
   "id": "adcdf48d",
   "metadata": {},
   "outputs": [
    {
     "name": "stdout",
     "output_type": "stream",
     "text": [
      "33\n"
     ]
    }
   ],
   "source": [
    "# Make X into a list as well\n",
    "\n",
    "X_list = []\n",
    "\n",
    "for i in range(val_small['X'].shape[0]):\n",
    "    X_list.append(val_small['X'][i])\n",
    "    #print(i)\n",
    "print(len(X_list))"
   ]
  },
  {
   "cell_type": "code",
   "execution_count": 9,
   "id": "24c50dfb",
   "metadata": {},
   "outputs": [
    {
     "name": "stdout",
     "output_type": "stream",
     "text": [
      "33\n"
     ]
    }
   ],
   "source": [
    "y_list = []\n",
    "\n",
    "for i in range(val_small['y'].shape[0]):\n",
    "    y_list.append(val_small['y'][i])\n",
    "    #print(i)\n",
    "print(len(y_list))"
   ]
  },
  {
   "cell_type": "code",
   "execution_count": 11,
   "id": "bb9922a5",
   "metadata": {},
   "outputs": [],
   "source": [
    "save_trks(\"../val_small_str.trks\", lineages_list_new, X_list, y_list)"
   ]
  }
 ],
 "metadata": {
  "environment": {
   "name": "tf2-gpu.2-3.m78",
   "type": "gcloud",
   "uri": "gcr.io/deeplearning-platform-release/tf2-gpu.2-3:m78"
  },
  "kernelspec": {
   "display_name": "Python [conda env:root] *",
   "language": "python",
   "name": "conda-root-py"
  },
  "language_info": {
   "codemirror_mode": {
    "name": "ipython",
    "version": 3
   },
   "file_extension": ".py",
   "mimetype": "text/x-python",
   "name": "python",
   "nbconvert_exporter": "python",
   "pygments_lexer": "ipython3",
   "version": "3.7.10"
  }
 },
 "nbformat": 4,
 "nbformat_minor": 5
}

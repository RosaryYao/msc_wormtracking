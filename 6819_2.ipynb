{
 "cells": [
  {
   "cell_type": "code",
   "execution_count": 1,
   "id": "25bd2797",
   "metadata": {},
   "outputs": [],
   "source": [
    "import numpy as np\n",
    "import h5py\n",
    "import matplotlib.pyplot as plt\n",
    "from PIL import Image, ImageDraw\n",
    "import numpy as np\n",
    "import sys\n",
    "import time\n",
    "import pandas as pd\n",
    "import cv2\n",
    "import os\n",
    "import imageio\n",
    "import matplotlib as mpl\n",
    "from matplotlib import cm\n",
    "from matplotlib.colors import ListedColormap, LinearSegmentedColormap\n",
    "\n",
    "import masks\n",
    "import gif\n",
    "import raw\n",
    "import lineage"
   ]
  },
  {
   "cell_type": "code",
   "execution_count": 2,
   "id": "0b8c1d48",
   "metadata": {},
   "outputs": [],
   "source": [
    "# Input file\n",
    "fN = h5py.File(\"../6819_2/6819_2_featuresN.hdf5\")\n",
    "\n",
    "# Define dorsal and ventral coordinates\n",
    "coordinates = fN['coordinates']\n",
    "dorsal = coordinates['dorsal_contours']\n",
    "ventral = coordinates['ventral_contours']\n",
    "\n",
    "# trajectory_data and timeseries_data\n",
    "traj = pd.read_hdf(\"../6819_2/6819_2_featuresN.hdf5\", '/trajectories_data')\n",
    "timeseries = fN['timeseries_data']"
   ]
  },
  {
   "cell_type": "code",
   "execution_count": 3,
   "id": "8dfc0a73",
   "metadata": {},
   "outputs": [],
   "source": [
    "# Get wells - data from timeseries_data, at position [2]\n",
    "wells = ['A5', 'A6', 'A7', 'A8', 'B5', 'B6', 'B7', 'B8', 'C5', 'C6', 'C7', 'C8', 'D5', 'D6', 'D7', 'D8']\n",
    "#wells = [each.encode() for each in wells]\n",
    "\n",
    "well_dict = {}\n",
    "for each in wells:\n",
    "    well_dict[each] = []\n",
    "    \n",
    "#print('A1'.encode().decode())\n",
    "for i, each in enumerate(timeseries[:]):  # \"i\" == index\n",
    "    well = each[2].decode()\n",
    "    #well_dict[well] = []\n",
    "    if well in well_dict.keys():\n",
    "        well_dict[well].append(i)"
   ]
  },
  {
   "cell_type": "code",
   "execution_count": 4,
   "id": "6a354a4e",
   "metadata": {},
   "outputs": [],
   "source": [
    "# Well positions:\n",
    "\n",
    "d8 = [180, 710, 180, 710]\n",
    "d7 = [180, 710, 900, 1430]\n",
    "d6 = [180, 710, 1620, 2150]\n",
    "d5 = [180, 710, 2340, 2870]\n",
    "\n",
    "c8 = [910, 1440, 180, 710]\n",
    "c7 = [910, 1440, 900, 1430]\n",
    "c6 = [910, 1440, 1620, 2150]\n",
    "c5 = [910, 1440, 2340, 2870]\n",
    "\n",
    "b8 = [1630, 2160, 180, 710]\n",
    "b7 = [1630, 2160, 900, 1430]\n",
    "b6 = [1630, 2160, 1620, 2150]\n",
    "b5 = [1630, 2160, 2340, 2870]\n",
    "\n",
    "a8 = [2350, 2880, 180, 710]\n",
    "a7 = [2350, 2880, 900, 1430]\n",
    "a6 = [2350, 2880, 1620, 2150]\n",
    "a5 = [2350, 2880, 2340, 2870]"
   ]
  },
  {
   "cell_type": "code",
   "execution_count": 10,
   "id": "ecca2c64",
   "metadata": {},
   "outputs": [
    {
     "data": {
      "text/plain": [
       "['A5',\n",
       " 'A6',\n",
       " 'A7',\n",
       " 'A8',\n",
       " 'B5',\n",
       " 'B6',\n",
       " 'B7',\n",
       " 'B8',\n",
       " 'C5',\n",
       " 'C6',\n",
       " 'C7',\n",
       " 'C8',\n",
       " 'D5',\n",
       " 'D6',\n",
       " 'D7',\n",
       " 'D8']"
      ]
     },
     "execution_count": 10,
     "metadata": {},
     "output_type": "execute_result"
    }
   ],
   "source": [
    "well_names = list(well_dict.keys())\n",
    "well_names"
   ]
  },
  {
   "cell_type": "code",
   "execution_count": null,
   "id": "3d277ddf",
   "metadata": {},
   "outputs": [],
   "source": [
    "for well in well_names:\n",
    "    masks.make_well_masks(well=well, traj=traj, dorsal=dorsal, ventral=ventral, well_dict=well_dict, down_sampling=6, file_dir=\"../6819_2/\", sequential=False)"
   ]
  },
  {
   "cell_type": "code",
   "execution_count": null,
   "id": "a5bb7aa6",
   "metadata": {},
   "outputs": [],
   "source": []
  },
  {
   "cell_type": "markdown",
   "id": "bb65ba0c",
   "metadata": {},
   "source": [
    "# Raw wells"
   ]
  },
  {
   "cell_type": "code",
   "execution_count": 5,
   "id": "4bceeacf",
   "metadata": {},
   "outputs": [],
   "source": [
    "well_names = well_dict.keys()\n",
    "wells = [a5, a6, a6, a8, b5, b6, b7, b8, c5, c6, c7, c8, d5, d6, d7, d8]"
   ]
  },
  {
   "cell_type": "code",
   "execution_count": 6,
   "id": "90d1a690",
   "metadata": {},
   "outputs": [
    {
     "name": "stdout",
     "output_type": "stream",
     "text": [
      "-------- A5 --------\n",
      "-------- A6 --------\n",
      "-------- A7 --------\n",
      "-------- A8 --------\n",
      "-------- B5 --------\n",
      "-------- B6 --------\n",
      "-------- B7 --------\n",
      "-------- B8 --------\n",
      "-------- C5 --------\n",
      "-------- C6 --------\n",
      "-------- C7 --------\n",
      "-------- C8 --------\n",
      "-------- D5 --------\n",
      "-------- D6 --------\n",
      "-------- D7 --------\n",
      "-------- D8 --------\n"
     ]
    }
   ],
   "source": [
    "for i, well_name in enumerate(well_names):\n",
    "    output = \"../6819_2/raw_wells/%s_raw.npy\" % well_name\n",
    "    raw.get_raw_well(wells[i], well_name=well_name, video_path=\"../6819_2/6819_2.mp4\", filename=output, frame_start=0, frame_end=9001, down_sampling=1) "
   ]
  },
  {
   "cell_type": "code",
   "execution_count": 7,
   "id": "4371bd23",
   "metadata": {},
   "outputs": [
    {
     "name": "stdout",
     "output_type": "stream",
     "text": [
      "(100, 530, 530, 1)\n",
      "(100, 530, 530, 1)\n",
      "(100, 530, 530, 1)\n",
      "(100, 530, 530, 1)\n",
      "(100, 530, 530, 1)\n",
      "(100, 530, 530, 1)\n",
      "(100, 530, 530, 1)\n",
      "(100, 530, 530, 1)\n",
      "(100, 530, 530, 1)\n",
      "(100, 530, 530, 1)\n",
      "(100, 530, 530, 1)\n",
      "(100, 530, 530, 1)\n",
      "(100, 530, 530, 1)\n",
      "(100, 530, 530, 1)\n",
      "(100, 530, 530, 1)\n",
      "(100, 530, 530, 1)\n",
      "(100, 530, 530, 1)\n",
      "(100, 530, 530, 1)\n",
      "(100, 530, 530, 1)\n",
      "(100, 530, 530, 1)\n",
      "(100, 530, 530, 1)\n",
      "(100, 530, 530, 1)\n",
      "(100, 530, 530, 1)\n",
      "(100, 530, 530, 1)\n",
      "(100, 530, 530, 1)\n",
      "(100, 530, 530, 1)\n",
      "(100, 530, 530, 1)\n",
      "(100, 530, 530, 1)\n",
      "(100, 530, 530, 1)\n",
      "(100, 530, 530, 1)\n",
      "(100, 530, 530, 1)\n",
      "(100, 530, 530, 1)\n",
      "(100, 530, 530, 1)\n",
      "(100, 530, 530, 1)\n",
      "(100, 530, 530, 1)\n",
      "(100, 530, 530, 1)\n",
      "(100, 530, 530, 1)\n",
      "(100, 530, 530, 1)\n",
      "(100, 530, 530, 1)\n",
      "(100, 530, 530, 1)\n",
      "(100, 530, 530, 1)\n"
     ]
    }
   ],
   "source": [
    "for well_name in well_names:\n",
    "    raw_video_path = '../6819_2/raw_wells/%s_raw.npy' % well_name\n",
    "    txt = '../6819_2/%s_not_empty.txt' % well_name\n",
    "    raw.make_raw_videos(raw_video_path=raw_video_path, mask_frame_info_fn=txt, well_name=well_name, output_dir='../6819_2')"
   ]
  },
  {
   "cell_type": "code",
   "execution_count": 2,
   "id": "6e915617",
   "metadata": {},
   "outputs": [
    {
     "name": "stdout",
     "output_type": "stream",
     "text": [
      "Processing raw video.\n"
     ]
    },
    {
     "data": {
      "image/png": "[encoded data removed]",
      "text/plain": [
       "<Figure size 432x288 with 1 Axes>"
      ]
     },
     "metadata": {
      "needs_background": "light"
     },
     "output_type": "display_data"
    }
   ],
   "source": [
    "gif.plot_gif(np.load('../6819_2/D7_raw_1.npy'), '../6819_2/gif/D7_raw_1.gif', raw=True)\n",
    "#gif.plot_gif(np.load('../6819_2/D7_mask_1.npy'), '../6819_2/gif/D7_mask_1.gif')"
   ]
  },
  {
   "cell_type": "code",
   "execution_count": null,
   "id": "15f42a27",
   "metadata": {},
   "outputs": [],
   "source": []
  },
  {
   "cell_type": "markdown",
   "id": "a2c67821",
   "metadata": {},
   "source": [
    "# Lineages"
   ]
  },
  {
   "cell_type": "code",
   "execution_count": 9,
   "id": "8bca37e3",
   "metadata": {},
   "outputs": [],
   "source": [
    "from lineage import make_lineage\n",
    "\n",
    "a5_1 = make_lineage(traj, well_dict, 'A5', \"6819_2\", \"../6819_2/A5_mask_1.npy\", 1)\n",
    "a5_2 = make_lineage(traj, well_dict, 'A5', \"6819_2\", \"../6819_2/A5_mask_2.npy\", 2)\n",
    "\n",
    "a6_1 = make_lineage(traj, well_dict, 'A6', \"6819_2\", \"../6819_2/A6_mask_1.npy\", 1)\n",
    "a6_2 = make_lineage(traj, well_dict, 'A6', \"6819_2\", \"../6819_2/A6_mask_2.npy\", 2)\n",
    "\n",
    "a7_1 = make_lineage(traj, well_dict, 'A7', \"6819_2\", \"../6819_2/A7_mask_1.npy\", 1)\n",
    "a8_1 = make_lineage(traj, well_dict, 'A8', \"6819_2\", \"../6819_2/A8_mask_1.npy\", 1)\n",
    "a8_2 = make_lineage(traj, well_dict, 'A8', \"6819_2\", \"../6819_2/A8_mask_2.npy\", 2)\n",
    "a8_3 = make_lineage(traj, well_dict, 'A8', \"6819_2\", \"../6819_2/A8_mask_3.npy\", 3)\n",
    "a8_4 = make_lineage(traj, well_dict, 'A8', \"6819_2\", \"../6819_2/A8_mask_4.npy\", 4)\n",
    "a8_5 = make_lineage(traj, well_dict, 'A8', \"6819_2\", \"../6819_2/A8_mask_5.npy\", 5)\n",
    "a8_6 = make_lineage(traj, well_dict, 'A8', \"6819_2\", \"../6819_2/A8_mask_6.npy\", 6)\n",
    "a8_7 = make_lineage(traj, well_dict, 'A8', \"6819_2\", \"../6819_2/A8_mask_7.npy\", 7)\n",
    "a8_8 = make_lineage(traj, well_dict, 'A8', \"6819_2\", \"../6819_2/A8_mask_8.npy\", 8)\n",
    "\n",
    "b5_1 = make_lineage(traj, well_dict, 'B5', \"6819_2\", \"../6819_2/B5_mask_1.npy\", 1)\n",
    "\n",
    "b6_1 = make_lineage(traj, well_dict, 'B6', \"6819_2\", \"../6819_2/B6_mask_1.npy\", 1)\n",
    "b6_2 = make_lineage(traj, well_dict, 'B6', \"6819_2\", \"../6819_2/B6_mask_2.npy\", 2)\n",
    "b6_3 = make_lineage(traj, well_dict, 'B6', \"6819_2\", \"../6819_2/B6_mask_3.npy\", 3)\n",
    "b6_4 = make_lineage(traj, well_dict, 'B6', \"6819_2\", \"../6819_2/B6_mask_4.npy\", 4)\n",
    "\n",
    "b7_1 = make_lineage(traj, well_dict, 'B7', \"6819_2\", \"../6819_2/B7_mask_1.npy\", 1)\n",
    "b7_2 = make_lineage(traj, well_dict, 'B7', \"6819_2\", \"../6819_2/B7_mask_2.npy\", 2)\n",
    "b8_1 = make_lineage(traj, well_dict, 'B8', \"6819_2\", \"../6819_2/B8_mask_1.npy\", 1)\n",
    "\n",
    "c5_1 = make_lineage(traj, well_dict, 'C5', \"6819_2\", \"../6819_2/C5_mask_1.npy\", 1)\n",
    "c5_2 = make_lineage(traj, well_dict, 'C5', \"6819_2\", \"../6819_2/C5_mask_2.npy\", 2)\n",
    "c6_1 = make_lineage(traj, well_dict, 'C6', \"6819_2\", \"../6819_2/C6_mask_1.npy\", 1)\n",
    "c6_2 = make_lineage(traj, well_dict, 'C6', \"6819_2\", \"../6819_2/C6_mask_2.npy\", 2)\n",
    "c7_1 = make_lineage(traj, well_dict, 'C7', \"6819_2\", \"../6819_2/C7_mask_1.npy\", 1)\n",
    "c7_2 = make_lineage(traj, well_dict, 'C7', \"6819_2\", \"../6819_2/C7_mask_2.npy\", 2)\n",
    "c7_3 = make_lineage(traj, well_dict, 'C7', \"6819_2\", \"../6819_2/C7_mask_3.npy\", 3)\n",
    "c7_4 = make_lineage(traj, well_dict, 'C7', \"6819_2\", \"../6819_2/C7_mask_4.npy\", 4)\n",
    "c7_5 = make_lineage(traj, well_dict, 'C7', \"6819_2\", \"../6819_2/C7_mask_5.npy\", 5)\n",
    "\n",
    "c8_1 = make_lineage(traj, well_dict, 'C8', \"6819_2\", \"../6819_2/C8_mask_1.npy\", 1)\n",
    "c8_2 = make_lineage(traj, well_dict, 'C8', \"6819_2\", \"../6819_2/C8_mask_2.npy\", 2)\n",
    "\n",
    "d5_1 = make_lineage(traj, well_dict, 'D5', \"6819_2\", \"../6819_2/D5_mask_1.npy\", 1)\n",
    "d5_2 = make_lineage(traj, well_dict, 'D5', \"6819_2\", \"../6819_2/D5_mask_2.npy\", 2)\n",
    "d5_3 = make_lineage(traj, well_dict, 'D5', \"6819_2\", \"../6819_2/D5_mask_3.npy\", 3)\n",
    "\n",
    "d6_1 = make_lineage(traj, well_dict, 'D6', \"6819_2\", \"../6819_2/D6_mask_1.npy\", 1)\n",
    "\n",
    "d7_1 = make_lineage(traj, well_dict, 'D7', \"6819_2\", \"../6819_2/D7_mask_1.npy\", 1)\n",
    "d7_2 = make_lineage(traj, well_dict, 'D7', \"6819_2\", \"../6819_2/D7_mask_2.npy\", 2)\n",
    "d8_1 = make_lineage(traj, well_dict, 'D8', \"6819_2\", \"../6819_2/D8_mask_1.npy\", 1)\n",
    "d8_2 = make_lineage(traj, well_dict, 'D8', \"6819_2\", \"../6819_2/D8_mask_2.npy\", 2)"
   ]
  },
  {
   "cell_type": "code",
   "execution_count": 10,
   "id": "a03210a7",
   "metadata": {},
   "outputs": [],
   "source": [
    "masks_fn = [\n",
    "    \"../6819_2/A5_mask_1.npy\",\n",
    "    \"../6819_2/A5_mask_2.npy\",\n",
    "\n",
    "    \"../6819_2/A6_mask_1.npy\",\n",
    "    \"../6819_2/A6_mask_2.npy\",\n",
    "\n",
    "    \"../6819_2/A7_mask_1.npy\",\n",
    "    \"../6819_2/A8_mask_1.npy\",\n",
    "    \"../6819_2/A8_mask_2.npy\",\n",
    "    \"../6819_2/A8_mask_3.npy\",\n",
    "    \"../6819_2/A8_mask_4.npy\",\n",
    "    \"../6819_2/A8_mask_5.npy\",\n",
    "    \"../6819_2/A8_mask_6.npy\",\n",
    "    \"../6819_2/A8_mask_7.npy\",\n",
    "    \"../6819_2/A8_mask_8.npy\",\n",
    "\n",
    "    \"../6819_2/B5_mask_1.npy\",\n",
    "\n",
    "    \"../6819_2/B6_mask_1.npy\",\n",
    "    \"../6819_2/B6_mask_2.npy\",\n",
    "    \"../6819_2/B6_mask_3.npy\",\n",
    "    \"../6819_2/B6_mask_4.npy\",\n",
    "\n",
    "    \"../6819_2/B7_mask_1.npy\",\n",
    "    \"../6819_2/B7_mask_2.npy\",\n",
    "    \"../6819_2/B8_mask_1.npy\",\n",
    "\n",
    "    \"../6819_2/C5_mask_1.npy\",\n",
    "    \"../6819_2/C5_mask_2.npy\",\n",
    "    \"../6819_2/C6_mask_1.npy\",\n",
    "    \"../6819_2/C6_mask_2.npy\",\n",
    "    \"../6819_2/C7_mask_1.npy\",\n",
    "    \"../6819_2/C7_mask_2.npy\",\n",
    "    \"../6819_2/C7_mask_3.npy\",\n",
    "    \"../6819_2/C7_mask_4.npy\",\n",
    "    \"../6819_2/C7_mask_5.npy\",\n",
    "\n",
    "    \"../6819_2/C8_mask_1.npy\",\n",
    "    \"../6819_2/C8_mask_2.npy\",\n",
    "\n",
    "    \"../6819_2/D5_mask_1.npy\",\n",
    "    \"../6819_2/D5_mask_2.npy\",\n",
    "    \"../6819_2/D5_mask_3.npy\",\n",
    "\n",
    "    \"../6819_2/D6_mask_1.npy\",\n",
    "\n",
    "    \"../6819_2/D7_mask_1.npy\",\n",
    "    \"../6819_2/D7_mask_2.npy\",\n",
    "    \"../6819_2/D8_mask_1.npy\",\n",
    "    \"../6819_2/D8_mask_2.npy\"\n",
    "]"
   ]
  },
  {
   "cell_type": "code",
   "execution_count": 11,
   "id": "cacba412",
   "metadata": {},
   "outputs": [],
   "source": [
    "raw_fn = [\n",
    "    \"../6819_2/A5_raw_1.npy\",\n",
    "    \"../6819_2/A5_raw_2.npy\",\n",
    "\n",
    "    \"../6819_2/A6_raw_1.npy\",\n",
    "    \"../6819_2/A6_raw_2.npy\",\n",
    "\n",
    "    \"../6819_2/A7_raw_1.npy\",\n",
    "    \"../6819_2/A8_raw_1.npy\",\n",
    "    \"../6819_2/A8_raw_2.npy\",\n",
    "    \"../6819_2/A8_raw_3.npy\",\n",
    "    \"../6819_2/A8_raw_4.npy\",\n",
    "    \"../6819_2/A8_raw_5.npy\",\n",
    "    \"../6819_2/A8_raw_6.npy\",\n",
    "    \"../6819_2/A8_raw_7.npy\",\n",
    "    \"../6819_2/A8_raw_8.npy\",\n",
    "\n",
    "    \"../6819_2/B5_raw_1.npy\",\n",
    "\n",
    "    \"../6819_2/B6_raw_1.npy\",\n",
    "    \"../6819_2/B6_raw_2.npy\",\n",
    "    \"../6819_2/B6_raw_3.npy\",\n",
    "    \"../6819_2/B6_raw_4.npy\",\n",
    "\n",
    "    \"../6819_2/B7_raw_1.npy\",\n",
    "    \"../6819_2/B7_raw_2.npy\",\n",
    "    \"../6819_2/B8_raw_1.npy\",\n",
    "\n",
    "    \"../6819_2/C5_raw_1.npy\",\n",
    "    \"../6819_2/C5_raw_2.npy\",\n",
    "    \"../6819_2/C6_raw_1.npy\",\n",
    "    \"../6819_2/C6_raw_2.npy\",\n",
    "    \"../6819_2/C7_raw_1.npy\",\n",
    "    \"../6819_2/C7_raw_2.npy\",\n",
    "    \"../6819_2/C7_raw_3.npy\",\n",
    "    \"../6819_2/C7_raw_4.npy\",\n",
    "    \"../6819_2/C7_raw_5.npy\",\n",
    "\n",
    "    \"../6819_2/C8_raw_1.npy\",\n",
    "    \"../6819_2/C8_raw_2.npy\",\n",
    "\n",
    "    \"../6819_2/D5_raw_1.npy\",\n",
    "    \"../6819_2/D5_raw_2.npy\",\n",
    "    \"../6819_2/D5_raw_3.npy\",\n",
    "\n",
    "    \"../6819_2/D6_raw_1.npy\",\n",
    "\n",
    "    \"../6819_2/D7_raw_1.npy\",\n",
    "    \"../6819_2/D7_raw_2.npy\",\n",
    "    \"../6819_2/D8_raw_1.npy\",\n",
    "    \"../6819_2/D8_raw_2.npy\"\n",
    "]"
   ]
  },
  {
   "cell_type": "code",
   "execution_count": 12,
   "id": "e11a64a9",
   "metadata": {},
   "outputs": [],
   "source": [
    "lineages = [\n",
    "    a5_1,\n",
    "    a5_2,\n",
    "\n",
    "    a6_1,\n",
    "    a6_2,\n",
    "\n",
    "    a7_1,\n",
    "    a8_1,\n",
    "    a8_2,\n",
    "    a8_3,\n",
    "    a8_4,\n",
    "    a8_5,\n",
    "    a8_6,\n",
    "    a8_7,\n",
    "    a8_8,\n",
    "\n",
    "    b5_1,\n",
    "\n",
    "    b6_1,\n",
    "    b6_2,\n",
    "    b6_3,\n",
    "    b6_4,\n",
    "\n",
    "    b7_1,\n",
    "    b7_2,\n",
    "    b8_1,\n",
    "\n",
    "    c5_1,\n",
    "    c5_2,\n",
    "    c6_1,\n",
    "    c6_2,\n",
    "    c7_1,\n",
    "    c7_2,\n",
    "    c7_3,\n",
    "    c7_4,\n",
    "    c7_5,\n",
    "\n",
    "    c8_1,\n",
    "    c8_2,\n",
    "\n",
    "    d5_1,\n",
    "    d5_2,\n",
    "    d5_3,\n",
    "\n",
    "    d6_1,\n",
    "\n",
    "    d7_1,\n",
    "    d7_2,\n",
    "    d8_1,\n",
    "    d8_2\n",
    "]"
   ]
  },
  {
   "cell_type": "code",
   "execution_count": 13,
   "id": "f13fb84d",
   "metadata": {},
   "outputs": [
    {
     "name": "stdout",
     "output_type": "stream",
     "text": [
      "24\n",
      "24\n",
      "24\n"
     ]
    }
   ],
   "source": [
    "y = []\n",
    "y_indices = []\n",
    "\n",
    "for i, mask in enumerate(masks_fn):\n",
    "    mask_array = np.load(mask)\n",
    "    if mask_array.shape[0] == 100:\n",
    "        y.append(mask_array)\n",
    "        y_indices.append(i)\n",
    "\n",
    "X = []\n",
    "\n",
    "for i in y_indices:\n",
    "    raw_array = np.load(raw_fn[i])\n",
    "    X.append(raw_array)\n",
    "    \n",
    "lineages_true = []\n",
    "\n",
    "for i in y_indices:\n",
    "    lineages_true.append(lineages[i])\n",
    "\n",
    "print(len(y))\n",
    "print(len(X))\n",
    "print(len(lineages_true))"
   ]
  },
  {
   "cell_type": "code",
   "execution_count": 14,
   "id": "4d0785d1",
   "metadata": {},
   "outputs": [
    {
     "name": "stderr",
     "output_type": "stream",
     "text": [
      "/opt/conda/lib/python3.7/site-packages/tensorflow-2.5.0-py3.7-linux-x86_64.egg/tensorflow/python/keras/optimizer_v2/optimizer_v2.py:375: UserWarning: The `lr` argument is deprecated, use `learning_rate` instead.\n",
      "  \"The `lr` argument is deprecated, use `learning_rate` instead.\")\n"
     ]
    }
   ],
   "source": [
    "from deepcell.utils.tracking_utils import trks_stats, save_trks\n",
    "\n",
    "save_trks(\"../6819_2/6819_2.trks\", lineages_true, X, y)"
   ]
  }
 ],
 "metadata": {
  "environment": {
   "name": "common-cu110.m76",
   "type": "gcloud",
   "uri": "gcr.io/deeplearning-platform-release/base-cu110:m76"
  },
  "kernelspec": {
   "display_name": "Python [conda env:root] *",
   "language": "python",
   "name": "conda-root-py"
  },
  "language_info": {
   "codemirror_mode": {
    "name": "ipython",
    "version": 3
   },
   "file_extension": ".py",
   "mimetype": "text/x-python",
   "name": "python",
   "nbconvert_exporter": "python",
   "pygments_lexer": "ipython3",
   "version": "3.7.10"
  }
 },
 "nbformat": 4,
 "nbformat_minor": 5
}

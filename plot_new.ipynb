{
 "cells": [
  {
   "cell_type": "code",
   "execution_count": 1,
   "id": "13e861e7",
   "metadata": {},
   "outputs": [],
   "source": [
    "# Check gif\n",
    "\n",
    "import numpy as np\n",
    "import matplotlib.pyplot as plt\n",
    "from PIL import Image, ImageDraw\n",
    "import numpy as np\n",
    "import sys\n",
    "import time\n",
    "import pandas as pd\n",
    "import cv2\n",
    "import os\n",
    "import imageio\n",
    "import matplotlib as mpl\n",
    "from matplotlib import cm\n",
    "from matplotlib.colors import ListedColormap, LinearSegmentedColormap\n",
    "import shutil"
   ]
  },
  {
   "cell_type": "code",
   "execution_count": 181,
   "id": "f5df40d6",
   "metadata": {},
   "outputs": [],
   "source": [
    "def plot_gif(np_array, output_fn):\n",
    "    mpl.rcParams['image.interpolation'] = 'none'  # Prevent mpl smoothes the edges\n",
    "    os.mkdir(\"pic_temporary\")  # To temporarily store the files\n",
    "\n",
    "    pic_list = []\n",
    "    flag = 0\n",
    "\n",
    "    np_array[:, 0:2, 0:2] = 20\n",
    "    np_array[:, 528:530, 528:530] = 1\n",
    "    \n",
    "    for i in range(np_array.shape[0]):\n",
    "        #plt.imshow(np_array[i], cmap=newcmp)\n",
    "        mask = np_array[i]\n",
    "        mask = np.where(mask==0, -1, mask)\n",
    "        #print(np.unique(mask_1))\n",
    "\n",
    "        value = -1\n",
    "        masked_array = np.ma.masked_where(mask == value, mask)\n",
    "\n",
    "        #cmap = mpl.cm.get_cmap(\"spring\")\n",
    "        cmap = mpl.cm.get_cmap(\"tab20\").copy()\n",
    "        cmap.set_bad(color='black')\n",
    "\n",
    "        plt.imshow(masked_array, cmap=cmap)\n",
    "\n",
    "        fn = 'pic_temporary/%d.jpg' % flag\n",
    "        plt.savefig(fn)\n",
    "        pic_list.append(fn)\n",
    "        flag += 1\n",
    "\n",
    "    with imageio.get_writer(output_fn, mode='I') as writer:\n",
    "        for filename in pic_list:\n",
    "            image = imageio.imread(filename)\n",
    "            writer.append_data(image)\n",
    "\n",
    "    # Remove the temporary file\n",
    "    shutil.rmtree(\"pic_temporary\")\n",
    "\n",
    "    return pic_list"
   ]
  },
  {
   "cell_type": "code",
   "execution_count": 4,
   "id": "ac2c5095",
   "metadata": {},
   "outputs": [
    {
     "data": {
      "text/plain": [
       "<matplotlib.image.AxesImage at 0x7f6648572a10>"
      ]
     },
     "execution_count": 4,
     "metadata": {},
     "output_type": "execute_result"
    },
    {
     "data": {
      "image/png": "[encoded data removed]",
      "text/plain": [
       "<Figure size 432x288 with 1 Axes>"
      ]
     },
     "metadata": {
      "needs_background": "light"
     },
     "output_type": "display_data"
    }
   ],
   "source": [
    "mpl.rcParams['image.interpolation'] = 'none'\n",
    "\n",
    "a = np.load('../22956814/D4_mask_seq_1.npy')\n",
    "a1 = a[0]\n",
    "plt.imshow(a1)\n"
   ]
  },
  {
   "cell_type": "code",
   "execution_count": 6,
   "id": "d01643c2",
   "metadata": {},
   "outputs": [
    {
     "data": {
      "text/plain": [
       "array([0, 1, 2, 3, 4, 5, 6, 7], dtype=int32)"
      ]
     },
     "execution_count": 6,
     "metadata": {},
     "output_type": "execute_result"
    }
   ],
   "source": [
    "np.unique(a)"
   ]
  },
  {
   "cell_type": "code",
   "execution_count": 7,
   "id": "69b59103",
   "metadata": {},
   "outputs": [
    {
     "data": {
      "text/plain": [
       "<matplotlib.image.AxesImage at 0x7f66484bcf90>"
      ]
     },
     "execution_count": 7,
     "metadata": {},
     "output_type": "execute_result"
    },
    {
     "data": {
      "image/png": "[encoded data removed]",
      "text/plain": [
       "<Figure size 432x288 with 1 Axes>"
      ]
     },
     "metadata": {
      "needs_background": "light"
     },
     "output_type": "display_data"
    }
   ],
   "source": [
    "a20 = a[20]\n",
    "plt.imshow(a20)"
   ]
  },
  {
   "cell_type": "code",
   "execution_count": 8,
   "id": "7dcd0fd5",
   "metadata": {},
   "outputs": [
    {
     "data": {
      "text/plain": [
       "array([0, 1, 2, 6], dtype=int32)"
      ]
     },
     "execution_count": 8,
     "metadata": {},
     "output_type": "execute_result"
    }
   ],
   "source": [
    "np.unique(a20)"
   ]
  },
  {
   "cell_type": "code",
   "execution_count": 160,
   "id": "f1c1a32a",
   "metadata": {},
   "outputs": [],
   "source": [
    "def plot(mask):\n",
    "    mask[0:2, 0:2] = 20\n",
    "    mask = np.where(mask==0, -1, mask)\n",
    "    #print(np.unique(mask_1))\n",
    "    value = -1\n",
    "    masked_array = np.ma.masked_where(mask == value, mask)\n",
    "\n",
    "    #cmap = mpl.cm.get_cmap(\"spring\")\n",
    "    cmap = mpl.cm.get_cmap('tab20').copy()\n",
    "    cmap.set_bad(color='black')\n",
    "\n",
    "    plt.imshow(masked_array, cmap=cmap)"
   ]
  },
  {
   "cell_type": "code",
   "execution_count": 49,
   "id": "05050d95",
   "metadata": {},
   "outputs": [
    {
     "data": {
      "text/plain": [
       "array([0, 1, 2], dtype=int32)"
      ]
     },
     "execution_count": 49,
     "metadata": {},
     "output_type": "execute_result"
    }
   ],
   "source": [
    "np.unique(c)"
   ]
  },
  {
   "cell_type": "code",
   "execution_count": 50,
   "id": "8d5e68fc",
   "metadata": {},
   "outputs": [
    {
     "data": {
      "text/plain": [
       "array([0, 2], dtype=int32)"
      ]
     },
     "execution_count": 50,
     "metadata": {},
     "output_type": "execute_result"
    }
   ],
   "source": [
    "np.unique(c[0:200, 0:200])"
   ]
  },
  {
   "cell_type": "code",
   "execution_count": 54,
   "id": "53b4994b",
   "metadata": {},
   "outputs": [
    {
     "data": {
      "text/plain": [
       "(38, 530, 530, 1)"
      ]
     },
     "execution_count": 54,
     "metadata": {},
     "output_type": "execute_result"
    }
   ],
   "source": [
    "c.shape"
   ]
  },
  {
   "cell_type": "code",
   "execution_count": 111,
   "id": "fe4b0d22",
   "metadata": {},
   "outputs": [
    {
     "data": {
      "text/plain": [
       "(38, 530, 530, 1)"
      ]
     },
     "execution_count": 111,
     "metadata": {},
     "output_type": "execute_result"
    }
   ],
   "source": [
    "c.shape"
   ]
  },
  {
   "cell_type": "code",
   "execution_count": null,
   "id": "1e2471e8",
   "metadata": {},
   "outputs": [],
   "source": []
  },
  {
   "cell_type": "code",
   "execution_count": 171,
   "id": "1a261ded",
   "metadata": {},
   "outputs": [],
   "source": [
    "mask = np.array(c)"
   ]
  },
  {
   "cell_type": "code",
   "execution_count": 173,
   "id": "a1d90c38",
   "metadata": {},
   "outputs": [],
   "source": [
    "mask[:,0,0] = 100"
   ]
  },
  {
   "cell_type": "code",
   "execution_count": 174,
   "id": "31ae1779",
   "metadata": {},
   "outputs": [
    {
     "data": {
      "text/plain": [
       "array([100], dtype=int32)"
      ]
     },
     "execution_count": 174,
     "metadata": {},
     "output_type": "execute_result"
    }
   ],
   "source": [
    "mask[0,0,0]"
   ]
  },
  {
   "cell_type": "code",
   "execution_count": 170,
   "id": "6d3aff6c",
   "metadata": {},
   "outputs": [
    {
     "data": {
      "text/plain": [
       "'pic_temporary/0.jpg'"
      ]
     },
     "execution_count": 170,
     "metadata": {},
     "output_type": "execute_result"
    }
   ],
   "source": [
    "pic_list[0]"
   ]
  },
  {
   "cell_type": "code",
   "execution_count": null,
   "id": "39887f93",
   "metadata": {},
   "outputs": [],
   "source": []
  },
  {
   "cell_type": "code",
   "execution_count": null,
   "id": "a07197a1",
   "metadata": {},
   "outputs": [],
   "source": []
  },
  {
   "cell_type": "code",
   "execution_count": 183,
   "id": "9669741f",
   "metadata": {},
   "outputs": [
    {
     "data": {
      "text/plain": [
       "['pic_temporary/0.jpg',\n",
       " 'pic_temporary/1.jpg',\n",
       " 'pic_temporary/2.jpg',\n",
       " 'pic_temporary/3.jpg',\n",
       " 'pic_temporary/4.jpg',\n",
       " 'pic_temporary/5.jpg',\n",
       " 'pic_temporary/6.jpg',\n",
       " 'pic_temporary/7.jpg',\n",
       " 'pic_temporary/8.jpg',\n",
       " 'pic_temporary/9.jpg',\n",
       " 'pic_temporary/10.jpg',\n",
       " 'pic_temporary/11.jpg',\n",
       " 'pic_temporary/12.jpg',\n",
       " 'pic_temporary/13.jpg',\n",
       " 'pic_temporary/14.jpg',\n",
       " 'pic_temporary/15.jpg',\n",
       " 'pic_temporary/16.jpg',\n",
       " 'pic_temporary/17.jpg',\n",
       " 'pic_temporary/18.jpg',\n",
       " 'pic_temporary/19.jpg',\n",
       " 'pic_temporary/20.jpg',\n",
       " 'pic_temporary/21.jpg',\n",
       " 'pic_temporary/22.jpg',\n",
       " 'pic_temporary/23.jpg',\n",
       " 'pic_temporary/24.jpg',\n",
       " 'pic_temporary/25.jpg',\n",
       " 'pic_temporary/26.jpg',\n",
       " 'pic_temporary/27.jpg',\n",
       " 'pic_temporary/28.jpg',\n",
       " 'pic_temporary/29.jpg',\n",
       " 'pic_temporary/30.jpg',\n",
       " 'pic_temporary/31.jpg',\n",
       " 'pic_temporary/32.jpg',\n",
       " 'pic_temporary/33.jpg',\n",
       " 'pic_temporary/34.jpg',\n",
       " 'pic_temporary/35.jpg',\n",
       " 'pic_temporary/36.jpg',\n",
       " 'pic_temporary/37.jpg']"
      ]
     },
     "execution_count": 183,
     "metadata": {},
     "output_type": "execute_result"
    },
    {
     "data": {
      "image/png": "[encoded data removed]",
      "text/plain": [
       "<Figure size 432x288 with 1 Axes>"
      ]
     },
     "metadata": {
      "needs_background": "light"
     },
     "output_type": "display_data"
    }
   ],
   "source": [
    "plot_gif(c, '../random.gif')"
   ]
  }
 ],
 "metadata": {
  "environment": {
   "name": "common-cu110.m76",
   "type": "gcloud",
   "uri": "gcr.io/deeplearning-platform-release/base-cu110:m76"
  },
  "kernelspec": {
   "display_name": "Python [conda env:root] *",
   "language": "python",
   "name": "conda-root-py"
  },
  "language_info": {
   "codemirror_mode": {
    "name": "ipython",
    "version": 3
   },
   "file_extension": ".py",
   "mimetype": "text/x-python",
   "name": "python",
   "nbconvert_exporter": "python",
   "pygments_lexer": "ipython3",
   "version": "3.7.10"
  }
 },
 "nbformat": 4,
 "nbformat_minor": 5
}

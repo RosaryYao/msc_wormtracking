{
 "cells": [
  {
   "cell_type": "code",
   "execution_count": 1,
   "id": "bfbac471",
   "metadata": {},
   "outputs": [],
   "source": [
    "# Check gif\n",
    "\n",
    "import numpy as np\n",
    "import matplotlib.pyplot as plt\n",
    "from PIL import Image, ImageDraw\n",
    "import numpy as np\n",
    "import sys\n",
    "import time\n",
    "import pandas as pd\n",
    "import cv2\n",
    "import os\n",
    "import imageio\n",
    "import matplotlib as mpl\n",
    "from matplotlib import cm\n",
    "from matplotlib.colors import ListedColormap, LinearSegmentedColormap\n",
    "import shutil"
   ]
  },
  {
   "cell_type": "code",
   "execution_count": 2,
   "id": "804e6e16",
   "metadata": {},
   "outputs": [],
   "source": []
  },
  {
   "cell_type": "code",
   "execution_count": 20,
   "id": "01875c2b",
   "metadata": {},
   "outputs": [],
   "source": [
    "def plot_gif(np_array, output_fn, sequential=False):\n",
    "    \n",
    "    if sequential == False:\n",
    "        # If sequential is False, need to substitute worm indices into sequential for easy colouring\n",
    "        ## Check the unique values in the np arrays - the original worm indices\n",
    "        uniques_original = list(np.unique(np_array))[1:]  # [1:] to omit values == '0'\n",
    "        print('unique_worm_ids: ', uniques_original)\n",
    "        sequential_ids = range(1, len(uniques_original)+1)\n",
    "        for i, original in enumerate(uniques_original):\n",
    "            np_array[np_array == uniques_original[i]] = sequential_ids[i]  # Update stacked_array with sequential worm_ids\n",
    "        print('sequential ids: ', list(np.unique(np_array))[1:])\n",
    "    \n",
    "    mpl.rcParams['image.interpolation'] = 'none'  # Prevent mpl smoothes the edges\n",
    "    os.mkdir(\"pic_temporary\")  # To temporarily store the files\n",
    "\n",
    "    pic_list = []\n",
    "    flag = 0\n",
    "\n",
    "    np_array[:, 0:2, 0:2] = 10\n",
    "    np_array[:, 528:530, 528:530] = 1\n",
    "    \n",
    "    for i in range(np_array.shape[0]):\n",
    "        #plt.imshow(np_array[i], cmap=newcmp)\n",
    "        mask = np_array[i]\n",
    "        mask = np.where(mask==0, -1, mask)\n",
    "        #print(np.unique(mask_1))\n",
    "\n",
    "        value = -1\n",
    "        masked_array = np.ma.masked_where(mask == value, mask)\n",
    "\n",
    "        #cmap = mpl.cm.get_cmap(\"spring\")\n",
    "        cmap = mpl.cm.get_cmap(\"tab20\").copy()\n",
    "        cmap.set_bad(color='black')\n",
    "\n",
    "        plt.imshow(masked_array, cmap=cmap)\n",
    "\n",
    "        fn = 'pic_temporary/%d.jpg' % flag\n",
    "        plt.savefig(fn)\n",
    "        pic_list.append(fn)\n",
    "        flag += 1\n",
    "\n",
    "    with imageio.get_writer(output_fn, mode='I') as writer:\n",
    "        for filename in pic_list:\n",
    "            image = imageio.imread(filename)\n",
    "            writer.append_data(image)\n",
    "\n",
    "    # Remove the temporary file\n",
    "    shutil.rmtree(\"pic_temporary\")"
   ]
  },
  {
   "cell_type": "code",
   "execution_count": null,
   "id": "7d461db0",
   "metadata": {},
   "outputs": [],
   "source": [
    "c = np.load('../22956814/D3_mask_seq_3.npy')"
   ]
  },
  {
   "cell_type": "code",
   "execution_count": 21,
   "id": "a1299042",
   "metadata": {},
   "outputs": [
    {
     "data": {
      "image/png": "[encoded data removed]",
      "text/plain": [
       "<Figure size 432x288 with 1 Axes>"
      ]
     },
     "metadata": {
      "needs_background": "light"
     },
     "output_type": "display_data"
    }
   ],
   "source": [
    "plot_gif(c, '../random.gif', sequential=True)"
   ]
  },
  {
   "cell_type": "code",
   "execution_count": 23,
   "id": "6001d980",
   "metadata": {},
   "outputs": [],
   "source": [
    "d = np.load('../22956814_old/D3_mask_small.npy')"
   ]
  },
  {
   "cell_type": "code",
   "execution_count": 24,
   "id": "9c1f4616",
   "metadata": {},
   "outputs": [
    {
     "name": "stdout",
     "output_type": "stream",
     "text": [
      "unique_worm_id:  [54, 56, 2881]\n",
      "sequential ids:  [0, 1, 2, 3]\n"
     ]
    },
    {
     "data": {
      "image/png": "[encoded data removed]",
      "text/plain": [
       "<Figure size 432x288 with 1 Axes>"
      ]
     },
     "metadata": {
      "needs_background": "light"
     },
     "output_type": "display_data"
    }
   ],
   "source": [
    "plot_gif(d, '../random_nonseq.gif')"
   ]
  },
  {
   "cell_type": "code",
   "execution_count": null,
   "id": "0ff80c52",
   "metadata": {},
   "outputs": [],
   "source": []
  },
  {
   "cell_type": "code",
   "execution_count": 2,
   "id": "c13b2b21",
   "metadata": {},
   "outputs": [
    {
     "name": "stdout",
     "output_type": "stream",
     "text": [
      "unique_worm_ids:  [54, 56, 2881]\n",
      "sequential ids:  [1, 2, 3]\n"
     ]
    },
    {
     "data": {
      "image/png": "[encoded data removed]",
      "text/plain": [
       "<Figure size 432x288 with 1 Axes>"
      ]
     },
     "metadata": {
      "needs_background": "light"
     },
     "output_type": "display_data"
    }
   ],
   "source": [
    "from gif import plot_gif\n",
    "plot_gif(np.load('../22956814_old/D3_mask_small.npy'), '../rm.gif')"
   ]
  }
 ],
 "metadata": {
  "environment": {
   "name": "common-cu110.m76",
   "type": "gcloud",
   "uri": "gcr.io/deeplearning-platform-release/base-cu110:m76"
  },
  "kernelspec": {
   "display_name": "Python [conda env:root] *",
   "language": "python",
   "name": "conda-root-py"
  },
  "language_info": {
   "codemirror_mode": {
    "name": "ipython",
    "version": 3
   },
   "file_extension": ".py",
   "mimetype": "text/x-python",
   "name": "python",
   "nbconvert_exporter": "python",
   "pygments_lexer": "ipython3",
   "version": "3.7.10"
  }
 },
 "nbformat": 4,
 "nbformat_minor": 5
}

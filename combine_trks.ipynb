{
 "cells": [
  {
   "cell_type": "code",
   "execution_count": 2,
   "id": "e50018ff",
   "metadata": {},
   "outputs": [],
   "source": [
    "import os\n",
    "import datetime\n",
    "import errno\n",
    "\n",
    "import numpy as np\n",
    "\n",
    "import deepcell\n",
    "from deepcell.utils.tracking_utils import load_trks, save_trks, trks_stats"
   ]
  },
  {
   "cell_type": "code",
   "execution_count": 2,
   "id": "c59f1220",
   "metadata": {},
   "outputs": [],
   "source": [
    "# Get the three .trks and put them together\n",
    "trk_1 = load_trks('../22956814/22956814_seq.trks')\n",
    "trk_2 = load_trks('../22956819/22956819.trks')\n",
    "trk_3 = load_trks('../22956823/22956823.trks')"
   ]
  },
  {
   "cell_type": "code",
   "execution_count": 3,
   "id": "5d7c1de8",
   "metadata": {},
   "outputs": [
    {
     "data": {
      "text/plain": [
       "(87, 100, 530, 530, 1)"
      ]
     },
     "execution_count": 3,
     "metadata": {},
     "output_type": "execute_result"
    }
   ],
   "source": [
    "Xs = np.concatenate((trk_1['X'], trk_2['X'], trk_3['X']), axis=0)\n",
    "Xs.shape"
   ]
  },
  {
   "cell_type": "code",
   "execution_count": 4,
   "id": "bf5a9cee",
   "metadata": {},
   "outputs": [
    {
     "data": {
      "text/plain": [
       "(87, 100, 530, 530, 1)"
      ]
     },
     "execution_count": 4,
     "metadata": {},
     "output_type": "execute_result"
    }
   ],
   "source": [
    "ys = np.concatenate((trk_1['y'], trk_2['y'], trk_3['y']), axis=0)\n",
    "ys.shape"
   ]
  },
  {
   "cell_type": "code",
   "execution_count": 5,
   "id": "ea41abb1",
   "metadata": {},
   "outputs": [
    {
     "data": {
      "text/plain": [
       "87"
      ]
     },
     "execution_count": 5,
     "metadata": {},
     "output_type": "execute_result"
    }
   ],
   "source": [
    "lineages_s = trk_1['lineages'] + trk_2['lineages'] + trk_3['lineages']\n",
    "len(lineages_s)"
   ]
  },
  {
   "cell_type": "code",
   "execution_count": 6,
   "id": "a58f00f9",
   "metadata": {},
   "outputs": [],
   "source": [
    "save_trks(\"../trks_141923.trks\", lineages_s, Xs, ys)"
   ]
  },
  {
   "cell_type": "code",
   "execution_count": 6,
   "id": "7ffe46b4",
   "metadata": {},
   "outputs": [
    {
     "data": {
      "text/plain": [
       "(435, 100, 530, 530, 1)"
      ]
     },
     "execution_count": 6,
     "metadata": {},
     "output_type": "execute_result"
    }
   ],
   "source": [
    "# with repeat as well\n",
    "\n",
    "Xs_2 = np.copy(Xs)\n",
    "Xs_3 = np.copy(Xs)\n",
    "Xs_4 = np.copy(Xs)\n",
    "Xs_5 = np.copy(Xs)\n",
    "\n",
    "Xss = np.concatenate((Xs, Xs_2, Xs_3, Xs_4, Xs_5), axis=0)\n",
    "Xss.shape"
   ]
  },
  {
   "cell_type": "code",
   "execution_count": 7,
   "id": "ea0a8482",
   "metadata": {},
   "outputs": [
    {
     "data": {
      "text/plain": [
       "(435, 100, 530, 530, 1)"
      ]
     },
     "execution_count": 7,
     "metadata": {},
     "output_type": "execute_result"
    }
   ],
   "source": [
    "ys_2 = np.copy(ys)\n",
    "ys_3 = np.copy(ys)\n",
    "ys_4 = np.copy(ys)\n",
    "ys_5 = np.copy(ys)\n",
    "\n",
    "yss = np.concatenate((ys, ys_2, ys_3, ys_4, ys_5), axis=0)\n",
    "yss.shape"
   ]
  },
  {
   "cell_type": "code",
   "execution_count": 8,
   "id": "81e2cd24",
   "metadata": {},
   "outputs": [
    {
     "data": {
      "text/plain": [
       "435"
      ]
     },
     "execution_count": 8,
     "metadata": {},
     "output_type": "execute_result"
    }
   ],
   "source": [
    "lineage_2 = list(lineages_s)\n",
    "lineage_3 = list(lineages_s)\n",
    "lineage_4 = list(lineages_s)\n",
    "lineage_5 = list(lineages_s)\n",
    "\n",
    "lineages_ss = lineages_s + lineage_2 + lineage_3 + lineage_4 + lineage_5\n",
    "len(lineages_ss)"
   ]
  },
  {
   "cell_type": "code",
   "execution_count": 10,
   "id": "ede7e865",
   "metadata": {},
   "outputs": [],
   "source": [
    "save_trks(\"../trks_141923_repeat.trks\", lineages_ss, Xss, yss)"
   ]
  },
  {
   "cell_type": "code",
   "execution_count": null,
   "id": "e61a16f2",
   "metadata": {},
   "outputs": [],
   "source": [
    "#trks_stats(\"../trks_141923_repeat.trks\")"
   ]
  },
  {
   "cell_type": "code",
   "execution_count": null,
   "id": "24ffda8a",
   "metadata": {},
   "outputs": [],
   "source": [
    "# Saving into .npz for training"
   ]
  },
  {
   "cell_type": "code",
   "execution_count": 9,
   "id": "7c1f624d",
   "metadata": {},
   "outputs": [],
   "source": [
    "np.savez('../trks_141923_repeat.npz', X=Xss, y=yss)"
   ]
  },
  {
   "cell_type": "code",
   "execution_count": 11,
   "id": "df2ee0bc",
   "metadata": {},
   "outputs": [
    {
     "data": {
      "text/plain": [
       "['X', 'y']"
      ]
     },
     "execution_count": 11,
     "metadata": {},
     "output_type": "execute_result"
    }
   ],
   "source": [
    "# Check saved .npz\n",
    "\n",
    "npzfile = np.load('../trks_141923_repeat.npz')\n",
    "sorted(npzfile.files)"
   ]
  },
  {
   "cell_type": "code",
   "execution_count": null,
   "id": "16f43776",
   "metadata": {},
   "outputs": [],
   "source": []
  },
  {
   "cell_type": "code",
   "execution_count": 2,
   "id": "da482dca",
   "metadata": {},
   "outputs": [],
   "source": [
    "# *_2 and *_3 combination\n",
    "\n",
    "\n",
    "\n",
    "trk_4 = load_trks('../6814_2/6814_2.trks')\n",
    "trk_5 = load_trks('../6819_2/6819_2.trks')\n",
    "trk_6 = load_trks('../6823_2/6823_2.trks')\n",
    "\n",
    "trk_7 = load_trks('../6814_3/6814_3.trks')\n",
    "trk_8 = load_trks('../6819_3/6819_3.trks')\n",
    "trk_9 = load_trks('../6823_3/6823_3.trks')  # For test!"
   ]
  },
  {
   "cell_type": "code",
   "execution_count": 3,
   "id": "7573f176",
   "metadata": {},
   "outputs": [
    {
     "name": "stdout",
     "output_type": "stream",
     "text": [
      "(135, 100, 530, 530, 1)\n",
      "(135, 100, 530, 530, 1)\n"
     ]
    }
   ],
   "source": [
    "Xs = np.concatenate((trk_4['X'], trk_5['X'], trk_6['X'], trk_7['X'], trk_8['X']), axis=0)\n",
    "print(Xs.shape)\n",
    "\n",
    "ys = np.concatenate((trk_4['y'], trk_5['y'], trk_6['X'], trk_7['y'], trk_8['y']), axis=0)\n",
    "print(ys.shape)"
   ]
  },
  {
   "cell_type": "code",
   "execution_count": 4,
   "id": "982201a7",
   "metadata": {},
   "outputs": [
    {
     "name": "stdout",
     "output_type": "stream",
     "text": [
      "float32\n",
      "float64\n"
     ]
    }
   ],
   "source": [
    "print(Xs.dtype)\n",
    "print(ys.dtype)"
   ]
  },
  {
   "cell_type": "code",
   "execution_count": 5,
   "id": "658c670d",
   "metadata": {},
   "outputs": [],
   "source": [
    "Xs = Xs.astype(np.int32)\n",
    "ys = ys.astype(np.int32)"
   ]
  },
  {
   "cell_type": "code",
   "execution_count": 6,
   "id": "270c1cd0",
   "metadata": {},
   "outputs": [
    {
     "name": "stdout",
     "output_type": "stream",
     "text": [
      "int32\n",
      "int32\n"
     ]
    }
   ],
   "source": [
    "print(Xs.dtype)\n",
    "print(ys.dtype)"
   ]
  },
  {
   "cell_type": "code",
   "execution_count": 7,
   "id": "23bb31ee",
   "metadata": {},
   "outputs": [
    {
     "data": {
      "text/plain": [
       "(675, 100, 530, 530, 1)"
      ]
     },
     "execution_count": 7,
     "metadata": {},
     "output_type": "execute_result"
    }
   ],
   "source": [
    "Xs_2 = np.copy(Xs)\n",
    "Xs_3 = np.copy(Xs)\n",
    "Xs_4 = np.copy(Xs)\n",
    "Xs_5 = np.copy(Xs)\n",
    "\n",
    "Xss = np.concatenate((Xs, Xs_2, Xs_3, Xs_4, Xs_5), axis=0)\n",
    "Xss.shape"
   ]
  },
  {
   "cell_type": "code",
   "execution_count": 8,
   "id": "4028e3f0",
   "metadata": {},
   "outputs": [
    {
     "data": {
      "text/plain": [
       "(675, 100, 530, 530, 1)"
      ]
     },
     "execution_count": 8,
     "metadata": {},
     "output_type": "execute_result"
    }
   ],
   "source": [
    "ys_2 = np.copy(ys)\n",
    "ys_3 = np.copy(ys)\n",
    "ys_4 = np.copy(ys)\n",
    "ys_5 = np.copy(ys)\n",
    "\n",
    "yss = np.concatenate((ys, ys_2, ys_3, ys_4, ys_5), axis=0)\n",
    "yss.shape"
   ]
  },
  {
   "cell_type": "code",
   "execution_count": 9,
   "id": "8aa867be",
   "metadata": {},
   "outputs": [],
   "source": [
    "np.savez('../exp_23_repeat_no6823_3.npz', X=Xss, y=yss)"
   ]
  },
  {
   "cell_type": "code",
   "execution_count": null,
   "id": "40a7e4ad",
   "metadata": {},
   "outputs": [],
   "source": [
    "# Do np.savez for 6823_3"
   ]
  },
  {
   "cell_type": "code",
   "execution_count": 10,
   "id": "c3a9a09e",
   "metadata": {},
   "outputs": [],
   "source": [
    "Xs = trk_9['X'].astype(np.int32)\n",
    "ys = trk_9['y'].astype(np.int32)"
   ]
  },
  {
   "cell_type": "code",
   "execution_count": 11,
   "id": "6a919246",
   "metadata": {},
   "outputs": [],
   "source": [
    "Xs_2 = np.copy(Xs)\n",
    "Xs_3 = np.copy(Xs)\n",
    "\n",
    "ys_2 = np.copy(ys)\n",
    "ys_3 = np.copy(ys)\n",
    "\n",
    "Xss = np.concatenate((Xs, Xs_2, Xs_3), axis=0)\n",
    "yss = np.concatenate((ys, ys_2, ys_3), axis=0)\n",
    "\n",
    "np.savez('../exp_23_repeat_6823_3.npz')"
   ]
  },
  {
   "cell_type": "code",
   "execution_count": null,
   "id": "169752a8",
   "metadata": {},
   "outputs": [],
   "source": []
  },
  {
   "cell_type": "code",
   "execution_count": null,
   "id": "b6961642",
   "metadata": {},
   "outputs": [],
   "source": []
  },
  {
   "cell_type": "markdown",
   "id": "c3eaaab4",
   "metadata": {},
   "source": [
    "## New"
   ]
  },
  {
   "cell_type": "code",
   "execution_count": 2,
   "id": "3affc080",
   "metadata": {},
   "outputs": [],
   "source": [
    "trk_1 = load_trks('../22956814/22956814.trks')\n",
    "trk_2 = load_trks('../22956819/22956819.trks')\n",
    "trk_3 = load_trks('../22956823/22956823.trks')\n",
    "\n",
    "trk_4 = load_trks('../6814_2/6814_2.trks')\n",
    "trk_5 = load_trks('../6819_2/6819_2.trks')\n",
    "trk_6 = load_trks('../6823_2/6823_2.trks')\n",
    "\n",
    "trk_7 = load_trks('../6814_3/6814_3.trks')\n",
    "trk_8 = load_trks('../6819_3/6819_3.trks')\n",
    "trk_9 = load_trks('../6823_3/6823_3.trks')  # For test!"
   ]
  },
  {
   "cell_type": "code",
   "execution_count": 3,
   "id": "82cdc0e7",
   "metadata": {},
   "outputs": [
    {
     "name": "stdout",
     "output_type": "stream",
     "text": [
      "(220, 100, 530, 530, 1)\n",
      "(220, 100, 530, 530, 1)\n"
     ]
    }
   ],
   "source": [
    "X = np.concatenate((trk_1['X'],trk_2['X'], trk_3['X'], trk_4['X'], trk_5['X'], trk_6['X'], trk_7['X'], trk_8['X']), axis=0)\n",
    "print(X.shape)\n",
    "\n",
    "y = np.concatenate((trk_1['y'],trk_2['y'],trk_3['y'],trk_4['y'], trk_5['y'], trk_6['X'], trk_7['y'], trk_8['y']), axis=0)\n",
    "print(y.shape)\n",
    "\n",
    "lineages = trk_1['lineages']+trk_2['lineages']+trk_3['lineages']+trk_4['lineages']+trk_5['lineages']+trk_6['lineages']+trk_7['lineages']+trk_8['lineages']"
   ]
  },
  {
   "cell_type": "code",
   "execution_count": 4,
   "id": "3e90b498",
   "metadata": {},
   "outputs": [
    {
     "name": "stdout",
     "output_type": "stream",
     "text": [
      "(440, 100, 530, 530, 1)\n",
      "(440, 100, 530, 530, 1)\n"
     ]
    }
   ],
   "source": [
    "# Duplicate\n",
    "X = X.astype(np.int32)\n",
    "y = y.astype(np.int32)\n",
    "\n",
    "X2 = np.copy(X)\n",
    "y2 = np.copy(y)\n",
    "Xs = np.concatenate((X, X2), axis=0)\n",
    "ys = np.concatenate((y, y2), axis=0)\n",
    "print(Xs.shape)  ## should be 440\n",
    "print(ys.shape)"
   ]
  },
  {
   "cell_type": "code",
   "execution_count": 5,
   "id": "6fcd71ab",
   "metadata": {},
   "outputs": [
    {
     "name": "stdout",
     "output_type": "stream",
     "text": [
      "440\n"
     ]
    }
   ],
   "source": [
    "lineages2 = list(lineages)\n",
    "lineages_s = lineages + lineages2\n",
    "print(len(lineages_s))"
   ]
  },
  {
   "cell_type": "code",
   "execution_count": 6,
   "id": "70517a98",
   "metadata": {},
   "outputs": [],
   "source": [
    "np.savez('../train.npz', X=Xs, y=ys)\n",
    "save_trks('../train.trks', lineages_s, Xs, ys)"
   ]
  },
  {
   "cell_type": "code",
   "execution_count": 7,
   "id": "24686e05",
   "metadata": {},
   "outputs": [],
   "source": [
    "##### validation data"
   ]
  },
  {
   "cell_type": "code",
   "execution_count": 8,
   "id": "6dd5bf90",
   "metadata": {},
   "outputs": [
    {
     "name": "stdout",
     "output_type": "stream",
     "text": [
      "(66, 100, 530, 530, 1)\n",
      "(66, 100, 530, 530, 1)\n",
      "66\n"
     ]
    }
   ],
   "source": [
    "Xt = np.concatenate((trk_9['X'], trk_9['X']), axis=0)\n",
    "yt = np.concatenate((trk_9['y'], trk_9['y']), axis=0)\n",
    "Xt = Xt.astype(np.int32)\n",
    "yt = yt.astype(np.int32)\n",
    "\n",
    "lineages_t = trk_9['lineages'] + trk_9['lineages']\n",
    "\n",
    "print(Xt.shape)  ## should be 66\n",
    "print(yt.shape)\n",
    "print(len(lineages_t))"
   ]
  },
  {
   "cell_type": "code",
   "execution_count": 9,
   "id": "77319ef0",
   "metadata": {},
   "outputs": [],
   "source": [
    "np.savez('../validation.npz', X=Xt, y=yt)\n",
    "save_trks('../validation.trks', lineages_t, Xt, yt)"
   ]
  },
  {
   "cell_type": "code",
   "execution_count": 10,
   "id": "10dbe7af",
   "metadata": {},
   "outputs": [
    {
     "name": "stdout",
     "output_type": "stream",
     "text": [
      "Dataset Statistics: \n",
      "Image data shape:  (440, 100, 530, 530, 1)\n",
      "Number of lineages (should equal batch size):  440\n",
      "Total number of unique tracks (cells)      -  988\n",
      "Total number of divisions                  -  0\n",
      "Average cell density (cells/100 sq pixels) -  0.007081572219165669\n",
      "Average number of frames per track         -  71\n",
      "Dataset Statistics: \n",
      "Image data shape:  (66, 100, 530, 530, 1)\n",
      "Number of lineages (should equal batch size):  66\n",
      "Total number of unique tracks (cells)      -  174\n",
      "Total number of divisions                  -  0\n",
      "Average cell density (cells/100 sq pixels) -  0.0004903071296805722\n",
      "Average number of frames per track         -  64\n"
     ]
    }
   ],
   "source": [
    "trks_stats('../train.trks')\n",
    "trks_stats('../validation.trks')"
   ]
  },
  {
   "cell_type": "code",
   "execution_count": null,
   "id": "7c60e9d9",
   "metadata": {},
   "outputs": [],
   "source": []
  },
  {
   "cell_type": "code",
   "execution_count": null,
   "id": "67bc3fc9",
   "metadata": {},
   "outputs": [],
   "source": []
  },
  {
   "cell_type": "markdown",
   "id": "8f9be40f",
   "metadata": {},
   "source": [
    "## Make str.trks"
   ]
  },
  {
   "cell_type": "code",
   "execution_count": 3,
   "id": "81fc78f1",
   "metadata": {},
   "outputs": [
    {
     "name": "stdout",
     "output_type": "stream",
     "text": [
      "(440, 100, 530, 530, 1)\n"
     ]
    }
   ],
   "source": [
    "trk = load_trks(\"../train.trks\")\n",
    "y = trk['y']\n",
    "print(y.shape)"
   ]
  },
  {
   "cell_type": "code",
   "execution_count": 5,
   "id": "d1435bcb",
   "metadata": {},
   "outputs": [
    {
     "name": "stdout",
     "output_type": "stream",
     "text": [
      "220\n"
     ]
    }
   ],
   "source": [
    "# Make X into a list as well\n",
    "\n",
    "X_list = []\n",
    "\n",
    "for i in range(trk['X'].shape[0]//2):\n",
    "    X_list.append(trk['X'][i])\n",
    "    #print(i)\n",
    "print(len(X_list))"
   ]
  },
  {
   "cell_type": "code",
   "execution_count": 6,
   "id": "29c1cf44",
   "metadata": {},
   "outputs": [
    {
     "name": "stdout",
     "output_type": "stream",
     "text": [
      "220\n"
     ]
    }
   ],
   "source": [
    "y_list = []\n",
    "\n",
    "for i in range(trk['y'].shape[0]//2):\n",
    "    y_list.append(trk['y'][i])\n",
    "    #print(i)\n",
    "print(len(y_list))"
   ]
  },
  {
   "cell_type": "code",
   "execution_count": 7,
   "id": "6b12c194",
   "metadata": {},
   "outputs": [],
   "source": [
    "lineages_list = list(trk['lineages'])"
   ]
  },
  {
   "cell_type": "code",
   "execution_count": 8,
   "id": "42fe8e9a",
   "metadata": {},
   "outputs": [
    {
     "name": "stdout",
     "output_type": "stream",
     "text": [
      "0\n",
      "1\n",
      "2\n",
      "3\n",
      "4\n",
      "5\n",
      "6\n",
      "7\n",
      "8\n",
      "9\n",
      "10\n",
      "11\n",
      "12\n",
      "13\n",
      "14\n",
      "15\n",
      "16\n",
      "17\n",
      "18\n",
      "19\n",
      "20\n",
      "21\n",
      "22\n",
      "23\n",
      "24\n",
      "25\n",
      "26\n",
      "27\n",
      "28\n",
      "29\n",
      "30\n",
      "31\n",
      "32\n",
      "33\n",
      "34\n",
      "35\n",
      "36\n",
      "37\n",
      "38\n",
      "39\n",
      "40\n",
      "41\n",
      "42\n",
      "43\n",
      "44\n",
      "45\n",
      "46\n",
      "47\n",
      "48\n",
      "49\n",
      "50\n",
      "51\n",
      "52\n",
      "53\n",
      "54\n",
      "55\n",
      "56\n",
      "57\n",
      "58\n",
      "59\n",
      "60\n",
      "61\n",
      "62\n",
      "63\n",
      "64\n",
      "65\n",
      "66\n",
      "67\n",
      "68\n",
      "69\n",
      "70\n",
      "71\n",
      "72\n",
      "73\n",
      "74\n",
      "75\n",
      "76\n",
      "77\n",
      "78\n",
      "79\n",
      "80\n",
      "81\n",
      "82\n",
      "83\n",
      "84\n",
      "85\n",
      "86\n",
      "87\n",
      "88\n",
      "89\n",
      "90\n",
      "91\n",
      "92\n",
      "93\n",
      "94\n",
      "95\n",
      "96\n",
      "97\n",
      "98\n",
      "99\n",
      "100\n",
      "101\n",
      "102\n",
      "103\n",
      "104\n",
      "105\n",
      "106\n",
      "107\n",
      "108\n",
      "109\n",
      "110\n",
      "111\n",
      "112\n",
      "113\n",
      "114\n",
      "115\n",
      "116\n",
      "117\n",
      "118\n",
      "119\n",
      "120\n",
      "121\n",
      "122\n",
      "123\n",
      "124\n",
      "125\n",
      "126\n",
      "127\n",
      "128\n",
      "129\n",
      "130\n",
      "131\n",
      "132\n",
      "133\n",
      "134\n",
      "135\n",
      "136\n",
      "137\n",
      "138\n",
      "139\n",
      "140\n",
      "141\n",
      "142\n",
      "143\n",
      "144\n",
      "145\n",
      "146\n",
      "147\n",
      "148\n",
      "149\n",
      "150\n",
      "151\n",
      "152\n",
      "153\n",
      "154\n",
      "155\n",
      "156\n",
      "157\n",
      "158\n",
      "159\n",
      "160\n",
      "161\n",
      "162\n",
      "163\n",
      "164\n",
      "165\n",
      "166\n",
      "167\n",
      "168\n",
      "169\n",
      "170\n",
      "171\n",
      "172\n",
      "173\n",
      "174\n",
      "175\n",
      "176\n",
      "177\n",
      "178\n",
      "179\n",
      "180\n",
      "181\n",
      "182\n",
      "183\n",
      "184\n",
      "185\n",
      "186\n",
      "187\n",
      "188\n",
      "189\n",
      "190\n",
      "191\n",
      "192\n",
      "193\n",
      "194\n",
      "195\n",
      "196\n",
      "197\n",
      "198\n",
      "199\n",
      "200\n",
      "201\n",
      "202\n",
      "203\n",
      "204\n",
      "205\n",
      "206\n",
      "207\n",
      "208\n",
      "209\n",
      "210\n",
      "211\n",
      "212\n",
      "213\n",
      "214\n",
      "215\n",
      "216\n",
      "217\n",
      "218\n",
      "219\n"
     ]
    }
   ],
   "source": [
    "lineages_list_new = []\n",
    "\n",
    "for index in range(len(lineages_list)//2):    \n",
    "    lineages_new = {}\n",
    "\n",
    "    for i in range(len(list(lineages_list[index].keys()))):\n",
    "        #lineages_new[str(list(lineages[index].keys())[i])] = lineages[index][list(lineages[index].keys())[i]]\n",
    "        \n",
    "        worm = str(list(lineages_list[index].keys())[i])\n",
    "        \n",
    "        #lineages_new[str(list(lineages[index].keys())[i])] = {}\n",
    "        #lineages_new[str(list(lineages[index].keys())[i])]['label'] = str(lineages[index][list(lineages[index].keys())[i]]['label'])\n",
    "        \n",
    "        lineages_new[worm] = {}\n",
    "        lineages_new[worm]['label'] = str(lineages_list[index][list(lineages_list[index].keys())[i]]['label'])\n",
    "        lineages_new[worm]['frames'] = [str(frame) for frame in lineages_list[index][list(lineages_list[index].keys())[i]]['frames']]\n",
    "        lineages_new[worm]['parent'] = None\n",
    "        lineages_new[worm]['daughters'] = []\n",
    "        #print(lineages_new)\n",
    "    lineages_list_new.append(lineages_new)\n",
    "    print(index)"
   ]
  },
  {
   "cell_type": "code",
   "execution_count": 9,
   "id": "92e240ac",
   "metadata": {},
   "outputs": [
    {
     "name": "stdout",
     "output_type": "stream",
     "text": [
      "220\n"
     ]
    }
   ],
   "source": [
    "print(len(lineages_list_new))"
   ]
  },
  {
   "cell_type": "code",
   "execution_count": null,
   "id": "f7ef2201",
   "metadata": {},
   "outputs": [],
   "source": [
    "save_trks(\"../train_str.trks\", lineages_list_new, X_list, y_list)  # So not sequential, but keys are strings"
   ]
  },
  {
   "cell_type": "code",
   "execution_count": null,
   "id": "3f94dd05",
   "metadata": {},
   "outputs": [],
   "source": [
    "X = trk['X']\n",
    "y = trk['y']"
   ]
  },
  {
   "cell_type": "code",
   "execution_count": null,
   "id": "33f75b8d",
   "metadata": {},
   "outputs": [],
   "source": [
    "X.shape"
   ]
  },
  {
   "cell_type": "code",
   "execution_count": null,
   "id": "866e4608",
   "metadata": {},
   "outputs": [],
   "source": [
    "np.savez(\"../train_str.npz\", X=X, y=y)"
   ]
  }
 ],
 "metadata": {
  "environment": {
   "name": "tf2-gpu.2-3.m78",
   "type": "gcloud",
   "uri": "gcr.io/deeplearning-platform-release/tf2-gpu.2-3:m78"
  },
  "kernelspec": {
   "display_name": "Python [conda env:root] *",
   "language": "python",
   "name": "conda-root-py"
  },
  "language_info": {
   "codemirror_mode": {
    "name": "ipython",
    "version": 3
   },
   "file_extension": ".py",
   "mimetype": "text/x-python",
   "name": "python",
   "nbconvert_exporter": "python",
   "pygments_lexer": "ipython3",
   "version": "3.7.10"
  }
 },
 "nbformat": 4,
 "nbformat_minor": 5
}

{
 "cells": [
  {
   "cell_type": "code",
   "execution_count": 1,
   "id": "a9f378d8",
   "metadata": {},
   "outputs": [],
   "source": [
    "import os\n",
    "import datetime\n",
    "import errno\n",
    "\n",
    "import numpy as np\n",
    "\n",
    "import deepcell\n",
    "from deepcell.utils.tracking_utils import load_trks, save_trks, trks_stats"
   ]
  },
  {
   "cell_type": "code",
   "execution_count": 2,
   "id": "50a57532",
   "metadata": {},
   "outputs": [],
   "source": [
    "# Get the three .trks and put them together\n",
    "trk_1 = load_trks('../22956814/22956814_seq.trks')\n",
    "trk_2 = load_trks('../22956819/22956819.trks')\n",
    "trk_3 = load_trks('../22956823/22956823.trks')"
   ]
  },
  {
   "cell_type": "code",
   "execution_count": 3,
   "id": "c3196954",
   "metadata": {},
   "outputs": [
    {
     "data": {
      "text/plain": [
       "(87, 100, 530, 530, 1)"
      ]
     },
     "execution_count": 3,
     "metadata": {},
     "output_type": "execute_result"
    }
   ],
   "source": [
    "Xs = np.concatenate((trk_1['X'], trk_2['X'], trk_3['X']), axis=0)\n",
    "Xs.shape"
   ]
  },
  {
   "cell_type": "code",
   "execution_count": 4,
   "id": "13a1ae9d",
   "metadata": {},
   "outputs": [
    {
     "data": {
      "text/plain": [
       "(87, 100, 530, 530, 1)"
      ]
     },
     "execution_count": 4,
     "metadata": {},
     "output_type": "execute_result"
    }
   ],
   "source": [
    "ys = np.concatenate((trk_1['y'], trk_2['y'], trk_3['y']), axis=0)\n",
    "ys.shape"
   ]
  },
  {
   "cell_type": "code",
   "execution_count": 5,
   "id": "04b7071b",
   "metadata": {},
   "outputs": [
    {
     "data": {
      "text/plain": [
       "87"
      ]
     },
     "execution_count": 5,
     "metadata": {},
     "output_type": "execute_result"
    }
   ],
   "source": [
    "lineages_s = trk_1['lineages'] + trk_2['lineages'] + trk_3['lineages']\n",
    "len(lineages_s)"
   ]
  },
  {
   "cell_type": "code",
   "execution_count": 6,
   "id": "292d5d23",
   "metadata": {},
   "outputs": [],
   "source": [
    "save_trks(\"../trks_141923.trks\", lineages_s, Xs, ys)"
   ]
  },
  {
   "cell_type": "code",
   "execution_count": 6,
   "id": "dee179aa",
   "metadata": {},
   "outputs": [
    {
     "data": {
      "text/plain": [
       "(435, 100, 530, 530, 1)"
      ]
     },
     "execution_count": 6,
     "metadata": {},
     "output_type": "execute_result"
    }
   ],
   "source": [
    "# with repeat as well\n",
    "\n",
    "Xs_2 = np.copy(Xs)\n",
    "Xs_3 = np.copy(Xs)\n",
    "Xs_4 = np.copy(Xs)\n",
    "Xs_5 = np.copy(Xs)\n",
    "\n",
    "Xss = np.concatenate((Xs, Xs_2, Xs_3, Xs_4, Xs_5), axis=0)\n",
    "Xss.shape"
   ]
  },
  {
   "cell_type": "code",
   "execution_count": 7,
   "id": "324fda11",
   "metadata": {},
   "outputs": [
    {
     "data": {
      "text/plain": [
       "(435, 100, 530, 530, 1)"
      ]
     },
     "execution_count": 7,
     "metadata": {},
     "output_type": "execute_result"
    }
   ],
   "source": [
    "ys_2 = np.copy(ys)\n",
    "ys_3 = np.copy(ys)\n",
    "ys_4 = np.copy(ys)\n",
    "ys_5 = np.copy(ys)\n",
    "\n",
    "yss = np.concatenate((ys, ys_2, ys_3, ys_4, ys_5), axis=0)\n",
    "yss.shape"
   ]
  },
  {
   "cell_type": "code",
   "execution_count": 8,
   "id": "66f0e261",
   "metadata": {},
   "outputs": [
    {
     "data": {
      "text/plain": [
       "435"
      ]
     },
     "execution_count": 8,
     "metadata": {},
     "output_type": "execute_result"
    }
   ],
   "source": [
    "lineage_2 = list(lineages_s)\n",
    "lineage_3 = list(lineages_s)\n",
    "lineage_4 = list(lineages_s)\n",
    "lineage_5 = list(lineages_s)\n",
    "\n",
    "lineages_ss = lineages_s + lineage_2 + lineage_3 + lineage_4 + lineage_5\n",
    "len(lineages_ss)"
   ]
  },
  {
   "cell_type": "code",
   "execution_count": 10,
   "id": "06bbec3f",
   "metadata": {},
   "outputs": [],
   "source": [
    "save_trks(\"../trks_141923_repeat.trks\", lineages_ss, Xss, yss)"
   ]
  },
  {
   "cell_type": "code",
   "execution_count": null,
   "id": "415e0670",
   "metadata": {},
   "outputs": [],
   "source": [
    "#trks_stats(\"../trks_141923_repeat.trks\")"
   ]
  },
  {
   "cell_type": "code",
   "execution_count": null,
   "id": "f755f672",
   "metadata": {},
   "outputs": [],
   "source": [
    "# Saving into .npz for training"
   ]
  },
  {
   "cell_type": "code",
   "execution_count": 9,
   "id": "06421e87",
   "metadata": {},
   "outputs": [],
   "source": [
    "np.savez('../trks_141923_repeat.npz', X=Xss, y=yss)"
   ]
  },
  {
   "cell_type": "code",
   "execution_count": 11,
   "id": "00b9130d",
   "metadata": {},
   "outputs": [
    {
     "data": {
      "text/plain": [
       "['X', 'y']"
      ]
     },
     "execution_count": 11,
     "metadata": {},
     "output_type": "execute_result"
    }
   ],
   "source": [
    "# Check saved .npz\n",
    "\n",
    "npzfile = np.load('../trks_141923_repeat.npz')\n",
    "sorted(npzfile.files)"
   ]
  },
  {
   "cell_type": "code",
   "execution_count": null,
   "id": "44b87b14",
   "metadata": {},
   "outputs": [],
   "source": []
  },
  {
   "cell_type": "code",
   "execution_count": 2,
   "id": "f7b11372",
   "metadata": {},
   "outputs": [],
   "source": [
    "# *_2 and *_3 combination\n",
    "\n",
    "\n",
    "\n",
    "trk_4 = load_trks('../6814_2/6814_2.trks')\n",
    "trk_5 = load_trks('../6819_2/6819_2.trks')\n",
    "trk_6 = load_trks('../6823_2/6823_2.trks')\n",
    "\n",
    "trk_7 = load_trks('../6814_3/6814_3.trks')\n",
    "trk_8 = load_trks('../6819_3/6819_3.trks')\n",
    "trk_9 = load_trks('../6823_3/6823_3.trks')  # For test!"
   ]
  },
  {
   "cell_type": "code",
   "execution_count": 3,
   "id": "d9ca4848",
   "metadata": {},
   "outputs": [
    {
     "name": "stdout",
     "output_type": "stream",
     "text": [
      "(135, 100, 530, 530, 1)\n",
      "(135, 100, 530, 530, 1)\n"
     ]
    }
   ],
   "source": [
    "Xs = np.concatenate((trk_4['X'], trk_5['X'], trk_6['X'], trk_7['X'], trk_8['X']), axis=0)\n",
    "print(Xs.shape)\n",
    "\n",
    "ys = np.concatenate((trk_4['y'], trk_5['y'], trk_6['X'], trk_7['y'], trk_8['y']), axis=0)\n",
    "print(ys.shape)"
   ]
  },
  {
   "cell_type": "code",
   "execution_count": 4,
   "id": "cfff3cda",
   "metadata": {},
   "outputs": [
    {
     "name": "stdout",
     "output_type": "stream",
     "text": [
      "float32\n",
      "float64\n"
     ]
    }
   ],
   "source": [
    "print(Xs.dtype)\n",
    "print(ys.dtype)"
   ]
  },
  {
   "cell_type": "code",
   "execution_count": 5,
   "id": "186234c3",
   "metadata": {},
   "outputs": [],
   "source": [
    "Xs = Xs.astype(np.int32)\n",
    "ys = ys.astype(np.int32)"
   ]
  },
  {
   "cell_type": "code",
   "execution_count": 6,
   "id": "80749903",
   "metadata": {},
   "outputs": [
    {
     "name": "stdout",
     "output_type": "stream",
     "text": [
      "int32\n",
      "int32\n"
     ]
    }
   ],
   "source": [
    "print(Xs.dtype)\n",
    "print(ys.dtype)"
   ]
  },
  {
   "cell_type": "code",
   "execution_count": 7,
   "id": "2ab8c4f7",
   "metadata": {},
   "outputs": [
    {
     "data": {
      "text/plain": [
       "(675, 100, 530, 530, 1)"
      ]
     },
     "execution_count": 7,
     "metadata": {},
     "output_type": "execute_result"
    }
   ],
   "source": [
    "Xs_2 = np.copy(Xs)\n",
    "Xs_3 = np.copy(Xs)\n",
    "Xs_4 = np.copy(Xs)\n",
    "Xs_5 = np.copy(Xs)\n",
    "\n",
    "Xss = np.concatenate((Xs, Xs_2, Xs_3, Xs_4, Xs_5), axis=0)\n",
    "Xss.shape"
   ]
  },
  {
   "cell_type": "code",
   "execution_count": 8,
   "id": "83b7cd0e",
   "metadata": {},
   "outputs": [
    {
     "data": {
      "text/plain": [
       "(675, 100, 530, 530, 1)"
      ]
     },
     "execution_count": 8,
     "metadata": {},
     "output_type": "execute_result"
    }
   ],
   "source": [
    "ys_2 = np.copy(ys)\n",
    "ys_3 = np.copy(ys)\n",
    "ys_4 = np.copy(ys)\n",
    "ys_5 = np.copy(ys)\n",
    "\n",
    "yss = np.concatenate((ys, ys_2, ys_3, ys_4, ys_5), axis=0)\n",
    "yss.shape"
   ]
  },
  {
   "cell_type": "code",
   "execution_count": 9,
   "id": "f0efc912",
   "metadata": {},
   "outputs": [],
   "source": [
    "np.savez('../exp_23_repeat_no6823_3.npz', X=Xss, y=yss)"
   ]
  },
  {
   "cell_type": "code",
   "execution_count": null,
   "id": "03dbd08a",
   "metadata": {},
   "outputs": [],
   "source": [
    "# Do np.savez for 6823_3"
   ]
  },
  {
   "cell_type": "code",
   "execution_count": 10,
   "id": "238a3c96",
   "metadata": {},
   "outputs": [],
   "source": [
    "Xs = trk_9['X'].astype(np.int32)\n",
    "ys = trk_9['y'].astype(np.int32)"
   ]
  },
  {
   "cell_type": "code",
   "execution_count": 11,
   "id": "2c404907",
   "metadata": {},
   "outputs": [],
   "source": [
    "Xs_2 = np.copy(Xs)\n",
    "Xs_3 = np.copy(Xs)\n",
    "\n",
    "ys_2 = np.copy(ys)\n",
    "ys_3 = np.copy(ys)\n",
    "\n",
    "Xss = np.concatenate((Xs, Xs_2, Xs_3), axis=0)\n",
    "yss = np.concatenate((ys, ys_2, ys_3), axis=0)\n",
    "\n",
    "np.savez('../exp_23_repeat_6823_3.npz')"
   ]
  },
  {
   "cell_type": "code",
   "execution_count": null,
   "id": "827cb147",
   "metadata": {},
   "outputs": [],
   "source": []
  },
  {
   "cell_type": "code",
   "execution_count": null,
   "id": "8b1ba2a1",
   "metadata": {},
   "outputs": [],
   "source": []
  },
  {
   "cell_type": "markdown",
   "id": "6e121eb5",
   "metadata": {},
   "source": [
    "## New"
   ]
  },
  {
   "cell_type": "code",
   "execution_count": null,
   "id": "d7cc7dea",
   "metadata": {},
   "outputs": [],
   "source": [
    "trk_1 = load_trks('../22956814/22956814.trks')\n",
    "trk_2 = load_trks('../22956819/22956819.trks')\n",
    "trk_3 = load_trks('../22956823/22956823.trks')\n",
    "\n",
    "trk_4 = load_trks('../6814_2/6814_2.trks')\n",
    "trk_5 = load_trks('../6819_2/6819_2.trks')\n",
    "trk_6 = load_trks('../6823_2/6823_2.trks')\n",
    "\n",
    "trk_7 = load_trks('../6814_3/6814_3.trks')\n",
    "trk_8 = load_trks('../6819_3/6819_3.trks')\n",
    "trk_9 = load_trks('../6823_3/6823_3.trks')  # For test!"
   ]
  },
  {
   "cell_type": "code",
   "execution_count": null,
   "id": "d02d4144",
   "metadata": {},
   "outputs": [],
   "source": [
    "X = np.concatenate((trk_1['X'],trk_2['X'], trk_3['X'], trk_4['X'], trk_5['X'], trk_6['X'], trk_7['X'], trk_8['X']), axis=0)\n",
    "print(X.shape)\n",
    "\n",
    "y = np.concatenate((trk_1['y'],trk_2['y'],trk_3['y'],trk_4['y'], trk_5['y'], trk_6['X'], trk_7['y'], trk_8['y']), axis=0)\n",
    "print(y.shape)\n",
    "\n",
    "lineages = trk_1['lineages']+trk_2['lineages']+trk_3['lineages']+trk_4['lineages']+trk_5['lineages']+trk_6['lineages']+trk_7['lineages']+trk_8['lineages']"
   ]
  },
  {
   "cell_type": "code",
   "execution_count": null,
   "id": "fa045603",
   "metadata": {},
   "outputs": [],
   "source": [
    "# Duplicate\n",
    "X = X.astype(np.int32)\n",
    "y = y.astype(np.int32)\n",
    "\n",
    "X2 = np.copy(X)\n",
    "y2 = np.copy(y)\n",
    "Xs = np.concatenate((X, X2), axis=0)\n",
    "ys = np.concatenate((y, y2), axis=0)\n",
    "print(Xs.shape)  ## should be 440\n",
    "print(ys.shape)"
   ]
  },
  {
   "cell_type": "code",
   "execution_count": null,
   "id": "bfd71fb7",
   "metadata": {},
   "outputs": [],
   "source": [
    "lineages2 = list(lineages)\n",
    "lineages_s = lineages + lineages2\n",
    "print(len(lineages_s))"
   ]
  },
  {
   "cell_type": "code",
   "execution_count": null,
   "id": "ce574c62",
   "metadata": {},
   "outputs": [],
   "source": [
    "np.savez('../train.npz', X=Xs, y=ys)\n",
    "save_trks('../train.trks', lineages_s, Xs, ys)"
   ]
  },
  {
   "cell_type": "code",
   "execution_count": null,
   "id": "9cc1a268",
   "metadata": {},
   "outputs": [],
   "source": [
    "##### validation data"
   ]
  },
  {
   "cell_type": "code",
   "execution_count": null,
   "id": "260a088a",
   "metadata": {},
   "outputs": [],
   "source": [
    "Xt = np.concatenate((trk_9['X'], trk_9['X']), axis=0)\n",
    "yt = np.concatenate((trk_9['y'], trk_9['y']), axis=0)\n",
    "Xt = Xt.astype(np.int32)\n",
    "yt = yt.astype(np.int32)\n",
    "\n",
    "lineages_t = trk_9['lineages'] + trk_9['lineages']\n",
    "\n",
    "print(Xt.shape)  ## should be 66\n",
    "print(yt.shape)\n",
    "print(len(lineages_t))"
   ]
  },
  {
   "cell_type": "code",
   "execution_count": null,
   "id": "26c58e01",
   "metadata": {},
   "outputs": [],
   "source": [
    "np.savez('../validation.npz', X=Xt, y=yt)\n",
    "save_trks('../validation.trks', lineages_t, Xt, y=yt)"
   ]
  },
  {
   "cell_type": "code",
   "execution_count": null,
   "id": "f0576e20",
   "metadata": {},
   "outputs": [],
   "source": [
    "trks.stats('../train.trks')\n",
    "trks.stats('../validation.trks')"
   ]
  }
 ],
 "metadata": {
  "environment": {
   "name": "tf2-gpu.2-3.m78",
   "type": "gcloud",
   "uri": "gcr.io/deeplearning-platform-release/tf2-gpu.2-3:m78"
  },
  "kernelspec": {
   "display_name": "Python [conda env:root] *",
   "language": "python",
   "name": "conda-root-py"
  },
  "language_info": {
   "codemirror_mode": {
    "name": "ipython",
    "version": 3
   },
   "file_extension": ".py",
   "mimetype": "text/x-python",
   "name": "python",
   "nbconvert_exporter": "python",
   "pygments_lexer": "ipython3",
   "version": "3.7.10"
  }
 },
 "nbformat": 4,
 "nbformat_minor": 5
}

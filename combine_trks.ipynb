{
 "cells": [
  {
   "cell_type": "code",
   "execution_count": 1,
   "id": "8ce67fe1",
   "metadata": {},
   "outputs": [],
   "source": [
    "import os\n",
    "import datetime\n",
    "import errno\n",
    "\n",
    "import numpy as np\n",
    "\n",
    "import deepcell\n",
    "from deepcell.utils.tracking_utils import load_trks, save_trks, trks_stats"
   ]
  },
  {
   "cell_type": "code",
   "execution_count": 2,
   "id": "f2baae16",
   "metadata": {},
   "outputs": [],
   "source": [
    "# Get the three .trks and put them together\n",
    "trk_1 = load_trks('../22956814/22956814_seq.trks')\n",
    "trk_2 = load_trks('../22956819/22956819.trks')\n",
    "trk_3 = load_trks('../22956823/22956823.trks')"
   ]
  },
  {
   "cell_type": "code",
   "execution_count": 3,
   "id": "e62a2e33",
   "metadata": {},
   "outputs": [
    {
     "data": {
      "text/plain": [
       "(87, 100, 530, 530, 1)"
      ]
     },
     "execution_count": 3,
     "metadata": {},
     "output_type": "execute_result"
    }
   ],
   "source": [
    "Xs = np.concatenate((trk_1['X'], trk_2['X'], trk_3['X']), axis=0)\n",
    "Xs.shape"
   ]
  },
  {
   "cell_type": "code",
   "execution_count": 4,
   "id": "44d80653",
   "metadata": {},
   "outputs": [
    {
     "data": {
      "text/plain": [
       "(87, 100, 530, 530, 1)"
      ]
     },
     "execution_count": 4,
     "metadata": {},
     "output_type": "execute_result"
    }
   ],
   "source": [
    "ys = np.concatenate((trk_1['y'], trk_2['y'], trk_3['y']), axis=0)\n",
    "ys.shape"
   ]
  },
  {
   "cell_type": "code",
   "execution_count": 5,
   "id": "4d8e9869",
   "metadata": {},
   "outputs": [
    {
     "data": {
      "text/plain": [
       "87"
      ]
     },
     "execution_count": 5,
     "metadata": {},
     "output_type": "execute_result"
    }
   ],
   "source": [
    "lineages_s = trk_1['lineages'] + trk_2['lineages'] + trk_3['lineages']\n",
    "len(lineages_s)"
   ]
  },
  {
   "cell_type": "code",
   "execution_count": 6,
   "id": "83da20ce",
   "metadata": {},
   "outputs": [],
   "source": [
    "save_trks(\"../trks_141923.trks\", lineages_s, Xs, ys)"
   ]
  },
  {
   "cell_type": "code",
   "execution_count": 6,
   "id": "5b172b29",
   "metadata": {},
   "outputs": [
    {
     "data": {
      "text/plain": [
       "(435, 100, 530, 530, 1)"
      ]
     },
     "execution_count": 6,
     "metadata": {},
     "output_type": "execute_result"
    }
   ],
   "source": [
    "# with repeat as well\n",
    "\n",
    "Xs_2 = np.copy(Xs)\n",
    "Xs_3 = np.copy(Xs)\n",
    "Xs_4 = np.copy(Xs)\n",
    "Xs_5 = np.copy(Xs)\n",
    "\n",
    "Xss = np.concatenate((Xs, Xs_2, Xs_3, Xs_4, Xs_5), axis=0)\n",
    "Xss.shape"
   ]
  },
  {
   "cell_type": "code",
   "execution_count": 7,
   "id": "4ed3ff25",
   "metadata": {},
   "outputs": [
    {
     "data": {
      "text/plain": [
       "(435, 100, 530, 530, 1)"
      ]
     },
     "execution_count": 7,
     "metadata": {},
     "output_type": "execute_result"
    }
   ],
   "source": [
    "ys_2 = np.copy(ys)\n",
    "ys_3 = np.copy(ys)\n",
    "ys_4 = np.copy(ys)\n",
    "ys_5 = np.copy(ys)\n",
    "\n",
    "yss = np.concatenate((ys, ys_2, ys_3, ys_4, ys_5), axis=0)\n",
    "yss.shape"
   ]
  },
  {
   "cell_type": "code",
   "execution_count": 8,
   "id": "b66885d1",
   "metadata": {},
   "outputs": [
    {
     "data": {
      "text/plain": [
       "435"
      ]
     },
     "execution_count": 8,
     "metadata": {},
     "output_type": "execute_result"
    }
   ],
   "source": [
    "lineage_2 = list(lineages_s)\n",
    "lineage_3 = list(lineages_s)\n",
    "lineage_4 = list(lineages_s)\n",
    "lineage_5 = list(lineages_s)\n",
    "\n",
    "lineages_ss = lineages_s + lineage_2 + lineage_3 + lineage_4 + lineage_5\n",
    "len(lineages_ss)"
   ]
  },
  {
   "cell_type": "code",
   "execution_count": 10,
   "id": "3c06ddf4",
   "metadata": {},
   "outputs": [],
   "source": [
    "save_trks(\"../trks_141923_repeat.trks\", lineages_ss, Xss, yss)"
   ]
  },
  {
   "cell_type": "code",
   "execution_count": null,
   "id": "415fd3e6",
   "metadata": {},
   "outputs": [],
   "source": [
    "#trks_stats(\"../trks_141923_repeat.trks\")"
   ]
  },
  {
   "cell_type": "code",
   "execution_count": null,
   "id": "0c3609d2",
   "metadata": {},
   "outputs": [],
   "source": [
    "# Saving into .npz for training"
   ]
  },
  {
   "cell_type": "code",
   "execution_count": 9,
   "id": "550409b5",
   "metadata": {},
   "outputs": [],
   "source": [
    "np.savez('../trks_141923_repeat.npz', X=Xss, y=yss)"
   ]
  },
  {
   "cell_type": "code",
   "execution_count": 11,
   "id": "c5417b94",
   "metadata": {},
   "outputs": [
    {
     "data": {
      "text/plain": [
       "['X', 'y']"
      ]
     },
     "execution_count": 11,
     "metadata": {},
     "output_type": "execute_result"
    }
   ],
   "source": [
    "# Check saved .npz\n",
    "\n",
    "npzfile = np.load('../trks_141923_repeat.npz')\n",
    "sorted(npzfile.files)"
   ]
  },
  {
   "cell_type": "code",
   "execution_count": null,
   "id": "426c4865",
   "metadata": {},
   "outputs": [],
   "source": []
  },
  {
   "cell_type": "code",
   "execution_count": 2,
   "id": "afdd377b",
   "metadata": {},
   "outputs": [],
   "source": [
    "# *_2 and *_3 combination\n",
    "\n",
    "\n",
    "\n",
    "trk_4 = load_trks('../6814_2/6814_2.trks')\n",
    "trk_5 = load_trks('../6819_2/6819_2.trks')\n",
    "trk_6 = load_trks('../6823_2/6823_2.trks')\n",
    "\n",
    "trk_7 = load_trks('../6814_3/6814_3.trks')\n",
    "trk_8 = load_trks('../6819_3/6819_3.trks')\n",
    "trk_9 = load_trks('../6823_3/6823_3.trks')  # For test!"
   ]
  },
  {
   "cell_type": "code",
   "execution_count": 3,
   "id": "1fd6e9de",
   "metadata": {},
   "outputs": [
    {
     "name": "stdout",
     "output_type": "stream",
     "text": [
      "(135, 100, 530, 530, 1)\n",
      "(135, 100, 530, 530, 1)\n"
     ]
    }
   ],
   "source": [
    "Xs = np.concatenate((trk_4['X'], trk_5['X'], trk_6['X'], trk_7['X'], trk_8['X']), axis=0)\n",
    "print(Xs.shape)\n",
    "\n",
    "ys = np.concatenate((trk_4['y'], trk_5['y'], trk_6['X'], trk_7['y'], trk_8['y']), axis=0)\n",
    "print(ys.shape)"
   ]
  },
  {
   "cell_type": "code",
   "execution_count": 4,
   "id": "13dd58b7",
   "metadata": {},
   "outputs": [
    {
     "name": "stdout",
     "output_type": "stream",
     "text": [
      "float32\n",
      "float64\n"
     ]
    }
   ],
   "source": [
    "print(Xs.dtype)\n",
    "print(ys.dtype)"
   ]
  },
  {
   "cell_type": "code",
   "execution_count": 5,
   "id": "4a4c943e",
   "metadata": {},
   "outputs": [],
   "source": [
    "Xs = Xs.astype(np.int32)\n",
    "ys = ys.astype(np.int32)"
   ]
  },
  {
   "cell_type": "code",
   "execution_count": 6,
   "id": "78b68eb3",
   "metadata": {},
   "outputs": [
    {
     "name": "stdout",
     "output_type": "stream",
     "text": [
      "int32\n",
      "int32\n"
     ]
    }
   ],
   "source": [
    "print(Xs.dtype)\n",
    "print(ys.dtype)"
   ]
  },
  {
   "cell_type": "code",
   "execution_count": 7,
   "id": "b5bfb368",
   "metadata": {},
   "outputs": [
    {
     "data": {
      "text/plain": [
       "(675, 100, 530, 530, 1)"
      ]
     },
     "execution_count": 7,
     "metadata": {},
     "output_type": "execute_result"
    }
   ],
   "source": [
    "Xs_2 = np.copy(Xs)\n",
    "Xs_3 = np.copy(Xs)\n",
    "Xs_4 = np.copy(Xs)\n",
    "Xs_5 = np.copy(Xs)\n",
    "\n",
    "Xss = np.concatenate((Xs, Xs_2, Xs_3, Xs_4, Xs_5), axis=0)\n",
    "Xss.shape"
   ]
  },
  {
   "cell_type": "code",
   "execution_count": 8,
   "id": "a3bef794",
   "metadata": {},
   "outputs": [
    {
     "data": {
      "text/plain": [
       "(675, 100, 530, 530, 1)"
      ]
     },
     "execution_count": 8,
     "metadata": {},
     "output_type": "execute_result"
    }
   ],
   "source": [
    "ys_2 = np.copy(ys)\n",
    "ys_3 = np.copy(ys)\n",
    "ys_4 = np.copy(ys)\n",
    "ys_5 = np.copy(ys)\n",
    "\n",
    "yss = np.concatenate((ys, ys_2, ys_3, ys_4, ys_5), axis=0)\n",
    "yss.shape"
   ]
  },
  {
   "cell_type": "code",
   "execution_count": 9,
   "id": "f1821e12",
   "metadata": {},
   "outputs": [],
   "source": [
    "np.savez('../exp_23_repeat_no6823_3.npz', X=Xss, y=yss)"
   ]
  },
  {
   "cell_type": "code",
   "execution_count": null,
   "id": "cde29205",
   "metadata": {},
   "outputs": [],
   "source": [
    "# Do np.savez for 6823_3"
   ]
  },
  {
   "cell_type": "code",
   "execution_count": 10,
   "id": "17f1f71d",
   "metadata": {},
   "outputs": [],
   "source": [
    "Xs = trk_9['X'].astype(np.int32)\n",
    "ys = trk_9['y'].astype(np.int32)"
   ]
  },
  {
   "cell_type": "code",
   "execution_count": 11,
   "id": "6f194f22",
   "metadata": {},
   "outputs": [],
   "source": [
    "Xs_2 = np.copy(Xs)\n",
    "Xs_3 = np.copy(Xs)\n",
    "\n",
    "ys_2 = np.copy(ys)\n",
    "ys_3 = np.copy(ys)\n",
    "\n",
    "Xss = np.concatenate((Xs, Xs_2, Xs_3), axis=0)\n",
    "yss = np.concatenate((ys, ys_2, ys_3), axis=0)\n",
    "\n",
    "np.savez('../exp_23_repeat_6823_3.npz')"
   ]
  },
  {
   "cell_type": "code",
   "execution_count": null,
   "id": "f613fd64",
   "metadata": {},
   "outputs": [],
   "source": []
  },
  {
   "cell_type": "code",
   "execution_count": null,
   "id": "ef18c743",
   "metadata": {},
   "outputs": [],
   "source": []
  },
  {
   "cell_type": "markdown",
   "id": "bc47077d",
   "metadata": {},
   "source": [
    "## New"
   ]
  },
  {
   "cell_type": "code",
   "execution_count": 2,
   "id": "99cbaf86",
   "metadata": {},
   "outputs": [],
   "source": [
    "trk_1 = load_trks('../22956814/22956814.trks')\n",
    "trk_2 = load_trks('../22956819/22956819.trks')\n",
    "trk_3 = load_trks('../22956823/22956823.trks')\n",
    "\n",
    "trk_4 = load_trks('../6814_2/6814_2.trks')\n",
    "trk_5 = load_trks('../6819_2/6819_2.trks')\n",
    "trk_6 = load_trks('../6823_2/6823_2.trks')\n",
    "\n",
    "trk_7 = load_trks('../6814_3/6814_3.trks')\n",
    "trk_8 = load_trks('../6819_3/6819_3.trks')\n",
    "trk_9 = load_trks('../6823_3/6823_3.trks')  # For test!"
   ]
  },
  {
   "cell_type": "code",
   "execution_count": 3,
   "id": "6f472a1c",
   "metadata": {},
   "outputs": [
    {
     "name": "stdout",
     "output_type": "stream",
     "text": [
      "(220, 100, 530, 530, 1)\n",
      "(220, 100, 530, 530, 1)\n"
     ]
    }
   ],
   "source": [
    "X = np.concatenate((trk_1['X'],trk_2['X'], trk_3['X'], trk_4['X'], trk_5['X'], trk_6['X'], trk_7['X'], trk_8['X']), axis=0)\n",
    "print(X.shape)\n",
    "\n",
    "y = np.concatenate((trk_1['y'],trk_2['y'],trk_3['y'],trk_4['y'], trk_5['y'], trk_6['X'], trk_7['y'], trk_8['y']), axis=0)\n",
    "print(y.shape)\n",
    "\n",
    "lineages = trk_1['lineages']+trk_2['lineages']+trk_3['lineages']+trk_4['lineages']+trk_5['lineages']+trk_6['lineages']+trk_7['lineages']+trk_8['lineages']"
   ]
  },
  {
   "cell_type": "code",
   "execution_count": 4,
   "id": "5b982d65",
   "metadata": {},
   "outputs": [
    {
     "name": "stdout",
     "output_type": "stream",
     "text": [
      "(440, 100, 530, 530, 1)\n",
      "(440, 100, 530, 530, 1)\n"
     ]
    }
   ],
   "source": [
    "# Duplicate\n",
    "X = X.astype(np.int32)\n",
    "y = y.astype(np.int32)\n",
    "\n",
    "X2 = np.copy(X)\n",
    "y2 = np.copy(y)\n",
    "Xs = np.concatenate((X, X2), axis=0)\n",
    "ys = np.concatenate((y, y2), axis=0)\n",
    "print(Xs.shape)  ## should be 440\n",
    "print(ys.shape)"
   ]
  },
  {
   "cell_type": "code",
   "execution_count": 5,
   "id": "617130dd",
   "metadata": {},
   "outputs": [
    {
     "name": "stdout",
     "output_type": "stream",
     "text": [
      "440\n"
     ]
    }
   ],
   "source": [
    "lineages2 = list(lineages)\n",
    "lineages_s = lineages + lineages2\n",
    "print(len(lineages_s))"
   ]
  },
  {
   "cell_type": "code",
   "execution_count": 6,
   "id": "1a878446",
   "metadata": {},
   "outputs": [],
   "source": [
    "np.savez('../train.npz', X=Xs, y=ys)\n",
    "save_trks('../train.trks', lineages_s, Xs, ys)"
   ]
  },
  {
   "cell_type": "code",
   "execution_count": 7,
   "id": "322b470b",
   "metadata": {},
   "outputs": [],
   "source": [
    "##### validation data"
   ]
  },
  {
   "cell_type": "code",
   "execution_count": 8,
   "id": "cfde3e50",
   "metadata": {},
   "outputs": [
    {
     "name": "stdout",
     "output_type": "stream",
     "text": [
      "(66, 100, 530, 530, 1)\n",
      "(66, 100, 530, 530, 1)\n",
      "66\n"
     ]
    }
   ],
   "source": [
    "Xt = np.concatenate((trk_9['X'], trk_9['X']), axis=0)\n",
    "yt = np.concatenate((trk_9['y'], trk_9['y']), axis=0)\n",
    "Xt = Xt.astype(np.int32)\n",
    "yt = yt.astype(np.int32)\n",
    "\n",
    "lineages_t = trk_9['lineages'] + trk_9['lineages']\n",
    "\n",
    "print(Xt.shape)  ## should be 66\n",
    "print(yt.shape)\n",
    "print(len(lineages_t))"
   ]
  },
  {
   "cell_type": "code",
   "execution_count": 9,
   "id": "91180f9f",
   "metadata": {},
   "outputs": [],
   "source": [
    "np.savez('../validation.npz', X=Xt, y=yt)\n",
    "save_trks('../validation.trks', lineages_t, Xt, yt)"
   ]
  },
  {
   "cell_type": "code",
   "execution_count": 10,
   "id": "c9b44f80",
   "metadata": {},
   "outputs": [
    {
     "name": "stdout",
     "output_type": "stream",
     "text": [
      "Dataset Statistics: \n",
      "Image data shape:  (440, 100, 530, 530, 1)\n",
      "Number of lineages (should equal batch size):  440\n",
      "Total number of unique tracks (cells)      -  988\n",
      "Total number of divisions                  -  0\n",
      "Average cell density (cells/100 sq pixels) -  0.007081572219165669\n",
      "Average number of frames per track         -  71\n",
      "Dataset Statistics: \n",
      "Image data shape:  (66, 100, 530, 530, 1)\n",
      "Number of lineages (should equal batch size):  66\n",
      "Total number of unique tracks (cells)      -  174\n",
      "Total number of divisions                  -  0\n",
      "Average cell density (cells/100 sq pixels) -  0.0004903071296805722\n",
      "Average number of frames per track         -  64\n"
     ]
    }
   ],
   "source": [
    "trks_stats('../train.trks')\n",
    "trks_stats('../validation.trks')"
   ]
  },
  {
   "cell_type": "code",
   "execution_count": null,
   "id": "4d2d49c3",
   "metadata": {},
   "outputs": [],
   "source": []
  },
  {
   "cell_type": "code",
   "execution_count": null,
   "id": "5a7ebfe2",
   "metadata": {},
   "outputs": [],
   "source": []
  },
  {
   "cell_type": "code",
   "execution_count": null,
   "id": "ce9a8c9f",
   "metadata": {},
   "outputs": [],
   "source": []
  }
 ],
 "metadata": {
  "environment": {
   "name": "tf2-gpu.2-3.m78",
   "type": "gcloud",
   "uri": "gcr.io/deeplearning-platform-release/tf2-gpu.2-3:m78"
  },
  "kernelspec": {
   "display_name": "Python [conda env:root] *",
   "language": "python",
   "name": "conda-root-py"
  },
  "language_info": {
   "codemirror_mode": {
    "name": "ipython",
    "version": 3
   },
   "file_extension": ".py",
   "mimetype": "text/x-python",
   "name": "python",
   "nbconvert_exporter": "python",
   "pygments_lexer": "ipython3",
   "version": "3.7.10"
  }
 },
 "nbformat": 4,
 "nbformat_minor": 5
}

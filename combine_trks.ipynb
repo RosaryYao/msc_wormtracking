{
 "cells": [
  {
   "cell_type": "code",
   "execution_count": 1,
   "id": "2f4689a2",
   "metadata": {},
   "outputs": [
    {
     "name": "stderr",
     "output_type": "stream",
     "text": [
      "/opt/conda/lib/python3.7/site-packages/tensorflow-2.5.0-py3.7-linux-x86_64.egg/tensorflow/python/keras/optimizer_v2/optimizer_v2.py:375: UserWarning: The `lr` argument is deprecated, use `learning_rate` instead.\n",
      "  \"The `lr` argument is deprecated, use `learning_rate` instead.\")\n"
     ]
    }
   ],
   "source": [
    "import os\n",
    "import datetime\n",
    "import errno\n",
    "\n",
    "import numpy as np\n",
    "\n",
    "import deepcell\n",
    "from deepcell.utils.tracking_utils import load_trks, save_trks, trks_stats"
   ]
  },
  {
   "cell_type": "code",
   "execution_count": 2,
   "id": "a5e47a2f",
   "metadata": {},
   "outputs": [],
   "source": [
    "# Get the three .trks and put them together\n",
    "trk_1 = load_trks('../22956814/22956814_seq.trks')\n",
    "trk_2 = load_trks('../22956819/22956819.trks')\n",
    "trk_3 = load_trks('../22956823/22956823.trks')"
   ]
  },
  {
   "cell_type": "code",
   "execution_count": 3,
   "id": "068fbcdc",
   "metadata": {},
   "outputs": [
    {
     "data": {
      "text/plain": [
       "(87, 100, 530, 530, 1)"
      ]
     },
     "execution_count": 3,
     "metadata": {},
     "output_type": "execute_result"
    }
   ],
   "source": [
    "Xs = np.concatenate((trk_1['X'], trk_2['X'], trk_3['X']), axis=0)\n",
    "Xs.shape"
   ]
  },
  {
   "cell_type": "code",
   "execution_count": 4,
   "id": "ff99dd28",
   "metadata": {},
   "outputs": [
    {
     "data": {
      "text/plain": [
       "(87, 100, 530, 530, 1)"
      ]
     },
     "execution_count": 4,
     "metadata": {},
     "output_type": "execute_result"
    }
   ],
   "source": [
    "ys = np.concatenate((trk_1['y'], trk_2['y'], trk_3['y']), axis=0)\n",
    "ys.shape"
   ]
  },
  {
   "cell_type": "code",
   "execution_count": 5,
   "id": "edf6176c",
   "metadata": {},
   "outputs": [
    {
     "data": {
      "text/plain": [
       "87"
      ]
     },
     "execution_count": 5,
     "metadata": {},
     "output_type": "execute_result"
    }
   ],
   "source": [
    "lineages_s = trk_1['lineages'] + trk_2['lineages'] + trk_3['lineages']\n",
    "len(lineages_s)"
   ]
  },
  {
   "cell_type": "code",
   "execution_count": 6,
   "id": "99376a1e",
   "metadata": {},
   "outputs": [],
   "source": [
    "save_trks(\"../trks_141923.trks\", lineages_s, Xs, ys)"
   ]
  },
  {
   "cell_type": "code",
   "execution_count": 6,
   "id": "a3b4cd0b",
   "metadata": {},
   "outputs": [
    {
     "data": {
      "text/plain": [
       "(435, 100, 530, 530, 1)"
      ]
     },
     "execution_count": 6,
     "metadata": {},
     "output_type": "execute_result"
    }
   ],
   "source": [
    "# with repeat as well\n",
    "\n",
    "Xs_2 = np.copy(Xs)\n",
    "Xs_3 = np.copy(Xs)\n",
    "Xs_4 = np.copy(Xs)\n",
    "Xs_5 = np.copy(Xs)\n",
    "\n",
    "Xss = np.concatenate((Xs, Xs_2, Xs_3, Xs_4, Xs_5), axis=0)\n",
    "Xss.shape"
   ]
  },
  {
   "cell_type": "code",
   "execution_count": 7,
   "id": "2a110508",
   "metadata": {},
   "outputs": [
    {
     "data": {
      "text/plain": [
       "(435, 100, 530, 530, 1)"
      ]
     },
     "execution_count": 7,
     "metadata": {},
     "output_type": "execute_result"
    }
   ],
   "source": [
    "ys_2 = np.copy(ys)\n",
    "ys_3 = np.copy(ys)\n",
    "ys_4 = np.copy(ys)\n",
    "ys_5 = np.copy(ys)\n",
    "\n",
    "yss = np.concatenate((ys, ys_2, ys_3, ys_4, ys_5), axis=0)\n",
    "yss.shape"
   ]
  },
  {
   "cell_type": "code",
   "execution_count": 8,
   "id": "9796ff4f",
   "metadata": {},
   "outputs": [
    {
     "data": {
      "text/plain": [
       "435"
      ]
     },
     "execution_count": 8,
     "metadata": {},
     "output_type": "execute_result"
    }
   ],
   "source": [
    "lineage_2 = list(lineages_s)\n",
    "lineage_3 = list(lineages_s)\n",
    "lineage_4 = list(lineages_s)\n",
    "lineage_5 = list(lineages_s)\n",
    "\n",
    "lineages_ss = lineages_s + lineage_2 + lineage_3 + lineage_4 + lineage_5\n",
    "len(lineages_ss)"
   ]
  },
  {
   "cell_type": "code",
   "execution_count": 10,
   "id": "fc28b492",
   "metadata": {},
   "outputs": [],
   "source": [
    "save_trks(\"../trks_141923_repeat.trks\", lineages_ss, Xss, yss)"
   ]
  },
  {
   "cell_type": "code",
   "execution_count": null,
   "id": "3922d945",
   "metadata": {},
   "outputs": [],
   "source": [
    "#trks_stats(\"../trks_141923_repeat.trks\")"
   ]
  },
  {
   "cell_type": "code",
   "execution_count": null,
   "id": "535838e0",
   "metadata": {},
   "outputs": [],
   "source": [
    "# Saving into .npz for training"
   ]
  },
  {
   "cell_type": "code",
   "execution_count": 9,
   "id": "bae77969",
   "metadata": {},
   "outputs": [],
   "source": [
    "np.savez('../trks_141923_repeat.npz', X=Xss, y=yss)"
   ]
  },
  {
   "cell_type": "code",
   "execution_count": 11,
   "id": "b4938693",
   "metadata": {},
   "outputs": [
    {
     "data": {
      "text/plain": [
       "['X', 'y']"
      ]
     },
     "execution_count": 11,
     "metadata": {},
     "output_type": "execute_result"
    }
   ],
   "source": [
    "# Check saved .npz\n",
    "\n",
    "npzfile = np.load('../trks_141923_repeat.npz')\n",
    "sorted(npzfile.files)"
   ]
  }
 ],
 "metadata": {
  "environment": {
   "name": "common-cu110.m76",
   "type": "gcloud",
   "uri": "gcr.io/deeplearning-platform-release/base-cu110:m76"
  },
  "kernelspec": {
   "display_name": "Python [conda env:root] *",
   "language": "python",
   "name": "conda-root-py"
  },
  "language_info": {
   "codemirror_mode": {
    "name": "ipython",
    "version": 3
   },
   "file_extension": ".py",
   "mimetype": "text/x-python",
   "name": "python",
   "nbconvert_exporter": "python",
   "pygments_lexer": "ipython3",
   "version": "3.7.10"
  }
 },
 "nbformat": 4,
 "nbformat_minor": 5
}

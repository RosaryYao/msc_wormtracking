{
 "cells": [
  {
   "cell_type": "code",
   "execution_count": 1,
   "id": "61ad65e3",
   "metadata": {},
   "outputs": [
    {
     "name": "stderr",
     "output_type": "stream",
     "text": [
      "/opt/conda/lib/python3.7/site-packages/tensorflow-2.5.0-py3.7-linux-x86_64.egg/tensorflow/python/keras/optimizer_v2/optimizer_v2.py:375: UserWarning: The `lr` argument is deprecated, use `learning_rate` instead.\n",
      "  \"The `lr` argument is deprecated, use `learning_rate` instead.\")\n"
     ]
    }
   ],
   "source": [
    "import os\n",
    "import datetime\n",
    "import errno\n",
    "\n",
    "import numpy as np\n",
    "\n",
    "import deepcell\n",
    "from deepcell.utils.tracking_utils import load_trks, save_trks, trks_stats"
   ]
  },
  {
   "cell_type": "code",
   "execution_count": 2,
   "id": "fd7319f7",
   "metadata": {},
   "outputs": [],
   "source": [
    "# Get the three .trks and put them together\n",
    "trk_1 = load_trks('../22956814/22956814_seq.trks')\n",
    "trk_2 = load_trks('../22956819/22956819.trks')\n",
    "trk_3 = load_trks('../22956823/22956823.trks')"
   ]
  },
  {
   "cell_type": "code",
   "execution_count": 3,
   "id": "72f0fd3c",
   "metadata": {},
   "outputs": [
    {
     "data": {
      "text/plain": [
       "(87, 100, 530, 530, 1)"
      ]
     },
     "execution_count": 3,
     "metadata": {},
     "output_type": "execute_result"
    }
   ],
   "source": [
    "Xs = np.concatenate((trk_1['X'], trk_2['X'], trk_3['X']), axis=0)\n",
    "Xs.shape"
   ]
  },
  {
   "cell_type": "code",
   "execution_count": 4,
   "id": "24994e6f",
   "metadata": {},
   "outputs": [
    {
     "data": {
      "text/plain": [
       "(87, 100, 530, 530, 1)"
      ]
     },
     "execution_count": 4,
     "metadata": {},
     "output_type": "execute_result"
    }
   ],
   "source": [
    "ys = np.concatenate((trk_1['y'], trk_2['y'], trk_3['y']), axis=0)\n",
    "ys.shape"
   ]
  },
  {
   "cell_type": "code",
   "execution_count": 5,
   "id": "d2feab32",
   "metadata": {},
   "outputs": [
    {
     "data": {
      "text/plain": [
       "87"
      ]
     },
     "execution_count": 5,
     "metadata": {},
     "output_type": "execute_result"
    }
   ],
   "source": [
    "lineages_s = trk_1['lineages'] + trk_2['lineages'] + trk_3['lineages']\n",
    "len(lineages_s)"
   ]
  },
  {
   "cell_type": "code",
   "execution_count": 6,
   "id": "74ebabed",
   "metadata": {},
   "outputs": [],
   "source": [
    "save_trks(\"../trks_141923.trks\", lineages_s, Xs, ys)"
   ]
  },
  {
   "cell_type": "code",
   "execution_count": 6,
   "id": "68c8cde4",
   "metadata": {},
   "outputs": [
    {
     "data": {
      "text/plain": [
       "(435, 100, 530, 530, 1)"
      ]
     },
     "execution_count": 6,
     "metadata": {},
     "output_type": "execute_result"
    }
   ],
   "source": [
    "# with repeat as well\n",
    "\n",
    "Xs_2 = np.copy(Xs)\n",
    "Xs_3 = np.copy(Xs)\n",
    "Xs_4 = np.copy(Xs)\n",
    "Xs_5 = np.copy(Xs)\n",
    "\n",
    "Xss = np.concatenate((Xs, Xs_2, Xs_3, Xs_4, Xs_5), axis=0)\n",
    "Xss.shape"
   ]
  },
  {
   "cell_type": "code",
   "execution_count": 7,
   "id": "ff73aa88",
   "metadata": {},
   "outputs": [
    {
     "data": {
      "text/plain": [
       "(435, 100, 530, 530, 1)"
      ]
     },
     "execution_count": 7,
     "metadata": {},
     "output_type": "execute_result"
    }
   ],
   "source": [
    "ys_2 = np.copy(ys)\n",
    "ys_3 = np.copy(ys)\n",
    "ys_4 = np.copy(ys)\n",
    "ys_5 = np.copy(ys)\n",
    "\n",
    "yss = np.concatenate((ys, ys_2, ys_3, ys_4, ys_5), axis=0)\n",
    "yss.shape"
   ]
  },
  {
   "cell_type": "code",
   "execution_count": 8,
   "id": "2f881da7",
   "metadata": {},
   "outputs": [
    {
     "data": {
      "text/plain": [
       "435"
      ]
     },
     "execution_count": 8,
     "metadata": {},
     "output_type": "execute_result"
    }
   ],
   "source": [
    "lineage_2 = list(lineages_s)\n",
    "lineage_3 = list(lineages_s)\n",
    "lineage_4 = list(lineages_s)\n",
    "lineage_5 = list(lineages_s)\n",
    "\n",
    "lineages_ss = lineages_s + lineage_2 + lineage_3 + lineage_4 + lineage_5\n",
    "len(lineages_ss)"
   ]
  },
  {
   "cell_type": "code",
   "execution_count": 10,
   "id": "07e261b8",
   "metadata": {},
   "outputs": [],
   "source": [
    "save_trks(\"../trks_141923_repeat.trks\", lineages_ss, Xss, yss)"
   ]
  },
  {
   "cell_type": "code",
   "execution_count": null,
   "id": "ddcff6b2",
   "metadata": {},
   "outputs": [],
   "source": [
    "#trks_stats(\"../trks_141923_repeat.trks\")"
   ]
  },
  {
   "cell_type": "code",
   "execution_count": null,
   "id": "3ccafcdc",
   "metadata": {},
   "outputs": [],
   "source": [
    "# Saving into .npz for training"
   ]
  },
  {
   "cell_type": "code",
   "execution_count": 9,
   "id": "7606f3fc",
   "metadata": {},
   "outputs": [],
   "source": [
    "np.savez('../trks_141923_repeat.npz', X=Xss, y=yss)"
   ]
  },
  {
   "cell_type": "code",
   "execution_count": 11,
   "id": "cbc7d427",
   "metadata": {},
   "outputs": [
    {
     "data": {
      "text/plain": [
       "['X', 'y']"
      ]
     },
     "execution_count": 11,
     "metadata": {},
     "output_type": "execute_result"
    }
   ],
   "source": [
    "# Check saved .npz\n",
    "\n",
    "npzfile = np.load('../trks_141923_repeat.npz')\n",
    "sorted(npzfile.files)"
   ]
  },
  {
   "cell_type": "code",
   "execution_count": null,
   "id": "cf236e5f",
   "metadata": {},
   "outputs": [],
   "source": []
  },
  {
   "cell_type": "code",
   "execution_count": 2,
   "id": "8e894f90",
   "metadata": {},
   "outputs": [],
   "source": [
    "# *_2 and *_3 combination\n",
    "\n",
    "\n",
    "\n",
    "trk_4 = load_trks('../6814_2/6814_2.trks')\n",
    "trk_5 = load_trks('../6819_2/6819_2.trks')\n",
    "trk_6 = load_trks('../6823_2/6823_2.trks')\n",
    "\n",
    "trk_7 = load_trks('../6814_3/6814_3.trks')\n",
    "trk_8 = load_trks('../6819_3/6819_3.trks')\n",
    "trk_9 = load_trks('../6823_3/6823_3.trks')  # For test!"
   ]
  },
  {
   "cell_type": "code",
   "execution_count": 3,
   "id": "f10ec6c6",
   "metadata": {},
   "outputs": [
    {
     "name": "stdout",
     "output_type": "stream",
     "text": [
      "(135, 100, 530, 530, 1)\n",
      "(135, 100, 530, 530, 1)\n"
     ]
    }
   ],
   "source": [
    "Xs = np.concatenate((trk_4['X'], trk_5['X'], trk_6['X'], trk_7['X'], trk_8['X']), axis=0)\n",
    "print(Xs.shape)\n",
    "\n",
    "ys = np.concatenate((trk_4['y'], trk_5['y'], trk_6['X'], trk_7['y'], trk_8['y']), axis=0)\n",
    "print(ys.shape)"
   ]
  },
  {
   "cell_type": "code",
   "execution_count": 4,
   "id": "ba4a4d98",
   "metadata": {},
   "outputs": [
    {
     "name": "stdout",
     "output_type": "stream",
     "text": [
      "float32\n",
      "float64\n"
     ]
    }
   ],
   "source": [
    "print(Xs.dtype)\n",
    "print(ys.dtype)"
   ]
  },
  {
   "cell_type": "code",
   "execution_count": 5,
   "id": "74098837",
   "metadata": {},
   "outputs": [],
   "source": [
    "Xs = Xs.astype(np.int32)\n",
    "ys = ys.astype(np.int32)"
   ]
  },
  {
   "cell_type": "code",
   "execution_count": 6,
   "id": "22883dcb",
   "metadata": {},
   "outputs": [
    {
     "name": "stdout",
     "output_type": "stream",
     "text": [
      "int32\n",
      "int32\n"
     ]
    }
   ],
   "source": [
    "print(Xs.dtype)\n",
    "print(ys.dtype)"
   ]
  },
  {
   "cell_type": "code",
   "execution_count": 7,
   "id": "00e4d75d",
   "metadata": {},
   "outputs": [
    {
     "data": {
      "text/plain": [
       "(675, 100, 530, 530, 1)"
      ]
     },
     "execution_count": 7,
     "metadata": {},
     "output_type": "execute_result"
    }
   ],
   "source": [
    "Xs_2 = np.copy(Xs)\n",
    "Xs_3 = np.copy(Xs)\n",
    "Xs_4 = np.copy(Xs)\n",
    "Xs_5 = np.copy(Xs)\n",
    "\n",
    "Xss = np.concatenate((Xs, Xs_2, Xs_3, Xs_4, Xs_5), axis=0)\n",
    "Xss.shape"
   ]
  },
  {
   "cell_type": "code",
   "execution_count": 8,
   "id": "c2ceb507",
   "metadata": {},
   "outputs": [
    {
     "data": {
      "text/plain": [
       "(675, 100, 530, 530, 1)"
      ]
     },
     "execution_count": 8,
     "metadata": {},
     "output_type": "execute_result"
    }
   ],
   "source": [
    "ys_2 = np.copy(ys)\n",
    "ys_3 = np.copy(ys)\n",
    "ys_4 = np.copy(ys)\n",
    "ys_5 = np.copy(ys)\n",
    "\n",
    "yss = np.concatenate((ys, ys_2, ys_3, ys_4, ys_5), axis=0)\n",
    "yss.shape"
   ]
  },
  {
   "cell_type": "code",
   "execution_count": 9,
   "id": "b58fdfaa",
   "metadata": {},
   "outputs": [],
   "source": [
    "np.savez('../exp_23_repeat_no6823_3.npz', X=Xss, y=yss)"
   ]
  },
  {
   "cell_type": "code",
   "execution_count": null,
   "id": "8f99f5d5",
   "metadata": {},
   "outputs": [],
   "source": [
    "# Do np.savez for 6823_3"
   ]
  },
  {
   "cell_type": "code",
   "execution_count": 10,
   "id": "1052039b",
   "metadata": {},
   "outputs": [],
   "source": [
    "Xs = trk_9['X'].astype(np.int32)\n",
    "ys = trk_9['y'].astype(np.int32)"
   ]
  },
  {
   "cell_type": "code",
   "execution_count": 11,
   "id": "c5dfe6b2",
   "metadata": {},
   "outputs": [],
   "source": [
    "Xs_2 = np.copy(Xs)\n",
    "Xs_3 = np.copy(Xs)\n",
    "\n",
    "ys_2 = np.copy(ys)\n",
    "ys_3 = np.copy(ys)\n",
    "\n",
    "Xss = np.concatenate((Xs, Xs_2, Xs_3), axis=0)\n",
    "yss = np.concatenate((ys, ys_2, ys_3), axis=0)\n",
    "\n",
    "np.savez('../exp_23_repeat_6823_3.npz')"
   ]
  },
  {
   "cell_type": "code",
   "execution_count": null,
   "id": "cb9f2bbb",
   "metadata": {},
   "outputs": [],
   "source": []
  },
  {
   "cell_type": "code",
   "execution_count": null,
   "id": "17085943",
   "metadata": {},
   "outputs": [],
   "source": []
  }
 ],
 "metadata": {
  "environment": {
   "name": "common-cu110.m76",
   "type": "gcloud",
   "uri": "gcr.io/deeplearning-platform-release/base-cu110:m76"
  },
  "kernelspec": {
   "display_name": "Python [conda env:root] *",
   "language": "python",
   "name": "conda-root-py"
  },
  "language_info": {
   "codemirror_mode": {
    "name": "ipython",
    "version": 3
   },
   "file_extension": ".py",
   "mimetype": "text/x-python",
   "name": "python",
   "nbconvert_exporter": "python",
   "pygments_lexer": "ipython3",
   "version": "3.7.10"
  }
 },
 "nbformat": 4,
 "nbformat_minor": 5
}

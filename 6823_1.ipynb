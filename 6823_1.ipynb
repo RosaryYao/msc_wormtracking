{
 "cells": [
  {
   "cell_type": "code",
   "execution_count": 1,
   "id": "fb0a1f03",
   "metadata": {},
   "outputs": [],
   "source": [
    "import numpy as np\n",
    "import h5py\n",
    "import matplotlib.pyplot as plt\n",
    "from PIL import Image, ImageDraw\n",
    "import numpy as np\n",
    "import sys\n",
    "import time\n",
    "import pandas as pd\n",
    "import cv2\n",
    "import os\n",
    "import imageio\n",
    "import matplotlib as mpl\n",
    "from matplotlib import cm\n",
    "from matplotlib.colors import ListedColormap, LinearSegmentedColormap\n",
    "from deepcell.utils.tracking_utils import trks_stats, save_trks\n",
    "\n",
    "import masks\n",
    "import gif\n",
    "import raw\n",
    "import lineage"
   ]
  },
  {
   "cell_type": "code",
   "execution_count": 2,
   "id": "9c9d7979",
   "metadata": {},
   "outputs": [],
   "source": [
    "#f_meta = h5py.File('../22956823/22956823_metadata.hdf5')\n",
    "#f_meta.keys()"
   ]
  },
  {
   "cell_type": "code",
   "execution_count": 3,
   "id": "88024807",
   "metadata": {},
   "outputs": [],
   "source": [
    "#pic = f_meta['full_data'][0]\n",
    "#plt.imshow(pic)"
   ]
  },
  {
   "cell_type": "code",
   "execution_count": 4,
   "id": "a902b40c",
   "metadata": {},
   "outputs": [],
   "source": [
    "#pic_s = pic[2340:2870, 140:670]\n",
    "#plt.imshow(pic_s)"
   ]
  },
  {
   "cell_type": "code",
   "execution_count": 5,
   "id": "09d34951",
   "metadata": {},
   "outputs": [],
   "source": [
    "#f_meta['fov_wells'][-1]"
   ]
  },
  {
   "cell_type": "code",
   "execution_count": 6,
   "id": "322ff911",
   "metadata": {},
   "outputs": [],
   "source": [
    "# Input file\n",
    "fN = h5py.File(\"../22956823/22956823_featuresN.hdf5\", \"r\")\n",
    "\n",
    "# Define dorsal and ventral coordinates\n",
    "coordinates = fN['coordinates']\n",
    "dorsal = coordinates['dorsal_contours']\n",
    "ventral = coordinates['ventral_contours']\n",
    "\n",
    "# trajectory_data and timeseries_data\n",
    "timeseries = fN['timeseries_data']"
   ]
  },
  {
   "cell_type": "code",
   "execution_count": 7,
   "id": "47507b85",
   "metadata": {},
   "outputs": [],
   "source": [
    "traj = pd.read_hdf(\"../22956823/22956823_featuresN.hdf5\", '/trajectories_data')"
   ]
  },
  {
   "cell_type": "code",
   "execution_count": 8,
   "id": "4a38ceea",
   "metadata": {},
   "outputs": [],
   "source": [
    "# Get wells - data from timeseries_data, at position [2]\n",
    "wells = ['A9', 'A10', 'A11', 'A12', 'B9', 'B10', 'B11', 'B12', 'C9', 'C10', 'C11', 'C12', 'D9', 'D10', 'D11', 'D12']\n",
    "#wells = [each.encode() for each in wells]\n",
    "\n",
    "well_dict = {}\n",
    "for each in wells:\n",
    "    well_dict[each] = []\n",
    "    \n",
    "#print('A1'.encode().decode())\n",
    "for i, each in enumerate(timeseries[:]):  # \"i\" == index\n",
    "    well = each[2].decode()\n",
    "    #well_dict[well] = []\n",
    "    if well in well_dict.keys():\n",
    "        well_dict[well].append(i)"
   ]
  },
  {
   "cell_type": "code",
   "execution_count": 9,
   "id": "169ec695",
   "metadata": {},
   "outputs": [],
   "source": [
    "# Well positions:\n",
    "\n",
    "d12 = [180, 710, 140, 670]\n",
    "d11 = [180, 710, 860, 1390]\n",
    "d10 = [180, 710, 1590, 2120]\n",
    "d9 = [180, 710, 2300, 2830]\n",
    "\n",
    "c12 = [900, 1430, 140, 670]\n",
    "c11 = [900, 1430, 860, 1390]\n",
    "c10 = [900, 1430, 1590, 2120]\n",
    "c9 = [900, 1430, 2300, 2830]\n",
    "\n",
    "b12 = [1620, 2150, 140, 670]\n",
    "b11 = [1620, 2150, 860, 1390]\n",
    "b10 = [1620, 2150, 1590, 2120]\n",
    "b9 = [1620, 2150, 2300, 2830]\n",
    "\n",
    "a12 = [2340, 2870, 140, 670]\n",
    "a11 = [2340, 2870, 860, 1390]\n",
    "a10 = [2340, 2870, 1590, 2120]\n",
    "a9 = [2340, 2870, 2300, 2830]"
   ]
  },
  {
   "cell_type": "code",
   "execution_count": null,
   "id": "e7ef8e54",
   "metadata": {},
   "outputs": [],
   "source": []
  },
  {
   "cell_type": "markdown",
   "id": "352d632e",
   "metadata": {},
   "source": [
    "# Masks"
   ]
  },
  {
   "cell_type": "code",
   "execution_count": 10,
   "id": "3a65b7e1",
   "metadata": {},
   "outputs": [
    {
     "data": {
      "text/plain": [
       "['A9',\n",
       " 'A10',\n",
       " 'A11',\n",
       " 'A12',\n",
       " 'B9',\n",
       " 'B10',\n",
       " 'B11',\n",
       " 'B12',\n",
       " 'C9',\n",
       " 'C10',\n",
       " 'C11',\n",
       " 'C12',\n",
       " 'D9',\n",
       " 'D10',\n",
       " 'D11',\n",
       " 'D12']"
      ]
     },
     "execution_count": 10,
     "metadata": {},
     "output_type": "execute_result"
    }
   ],
   "source": [
    "well_names = list(well_dict.keys())\n",
    "well_names"
   ]
  },
  {
   "cell_type": "code",
   "execution_count": 11,
   "id": "63fe2732",
   "metadata": {},
   "outputs": [],
   "source": [
    "### Finish making masks~\n",
    "\n",
    "#for well in well_names:\n",
    "#    masks.make_well_masks(well=well, traj=traj, dorsal=dorsal, ventral=ventral, well_dict=well_dict, down_sampling=6, file_dir=\"../22956823/\")"
   ]
  },
  {
   "cell_type": "markdown",
   "id": "ea206a76",
   "metadata": {},
   "source": [
    "# Make raw wells"
   ]
  },
  {
   "cell_type": "code",
   "execution_count": 12,
   "id": "2492a092",
   "metadata": {},
   "outputs": [
    {
     "data": {
      "text/plain": [
       "[[2340, 2870, 2300, 2830],\n",
       " [2340, 2870, 1590, 2120],\n",
       " [2340, 2870, 860, 1390],\n",
       " [2340, 2870, 140, 670],\n",
       " [1620, 2150, 2300, 2830],\n",
       " [1620, 2150, 1590, 2120],\n",
       " [1620, 2150, 860, 1390],\n",
       " [1620, 2150, 140, 670],\n",
       " [900, 1430, 2300, 2830],\n",
       " [900, 1430, 1590, 2120],\n",
       " [900, 1430, 860, 1390],\n",
       " [900, 1430, 140, 670],\n",
       " [180, 710, 2300, 2830],\n",
       " [180, 710, 1590, 2120],\n",
       " [180, 710, 860, 1390],\n",
       " [180, 710, 140, 670]]"
      ]
     },
     "execution_count": 12,
     "metadata": {},
     "output_type": "execute_result"
    }
   ],
   "source": [
    "wells = [d12,d11,d10,d9,c12,c11,c10,c9,b12,b11,b10,b9,a12,a11,a10,a9]\n",
    "wells = wells[::-1]\n",
    "wells"
   ]
  },
  {
   "cell_type": "code",
   "execution_count": 13,
   "id": "f6b42cba",
   "metadata": {},
   "outputs": [
    {
     "data": {
      "text/plain": [
       "['A9',\n",
       " 'A10',\n",
       " 'A11',\n",
       " 'A12',\n",
       " 'B9',\n",
       " 'B10',\n",
       " 'B11',\n",
       " 'B12',\n",
       " 'C9',\n",
       " 'C10',\n",
       " 'C11',\n",
       " 'C12',\n",
       " 'D9',\n",
       " 'D10',\n",
       " 'D11',\n",
       " 'D12']"
      ]
     },
     "execution_count": 13,
     "metadata": {},
     "output_type": "execute_result"
    }
   ],
   "source": [
    "well_names"
   ]
  },
  {
   "cell_type": "code",
   "execution_count": 15,
   "id": "da57c6e2",
   "metadata": {},
   "outputs": [
    {
     "name": "stdout",
     "output_type": "stream",
     "text": [
      "-------- A9 --------\n",
      "-------- A10 --------\n",
      "-------- A11 --------\n",
      "-------- A12 --------\n",
      "-------- B9 --------\n",
      "-------- B10 --------\n",
      "-------- B11 --------\n",
      "-------- B12 --------\n",
      "-------- C9 --------\n",
      "-------- C10 --------\n",
      "-------- C11 --------\n",
      "-------- C12 --------\n",
      "-------- D9 --------\n",
      "-------- D10 --------\n",
      "-------- D11 --------\n",
      "-------- D12 --------\n"
     ]
    }
   ],
   "source": [
    "for i, well_name in enumerate(well_names):\n",
    "    output = \"../22956823/raw_wells/%s_raw.npy\" % well_name\n",
    "    raw.get_raw_well(wells[i], well_name=well_name, video_path=\"../22956823/22956823.mp4\", filename=output, frame_start=0, frame_end=9001, down_sampling=1) "
   ]
  },
  {
   "cell_type": "code",
   "execution_count": 16,
   "id": "b6cee453",
   "metadata": {},
   "outputs": [
    {
     "name": "stdout",
     "output_type": "stream",
     "text": [
      "(100, 530, 530, 1)\n",
      "(100, 530, 530, 1)\n",
      "(100, 530, 530, 1)\n",
      "(100, 530, 530, 1)\n",
      "(100, 530, 530, 1)\n",
      "(100, 530, 530, 1)\n",
      "(100, 530, 530, 1)\n",
      "(100, 530, 530, 1)\n",
      "(100, 530, 530, 1)\n",
      "(100, 530, 530, 1)\n",
      "(100, 530, 530, 1)\n",
      "(100, 530, 530, 1)\n",
      "(100, 530, 530, 1)\n",
      "(100, 530, 530, 1)\n",
      "(100, 530, 530, 1)\n",
      "(100, 530, 530, 1)\n",
      "(100, 530, 530, 1)\n",
      "(100, 530, 530, 1)\n",
      "(100, 530, 530, 1)\n",
      "(100, 530, 530, 1)\n",
      "(100, 530, 530, 1)\n",
      "(100, 530, 530, 1)\n",
      "(100, 530, 530, 1)\n",
      "(100, 530, 530, 1)\n",
      "(100, 530, 530, 1)\n",
      "(100, 530, 530, 1)\n",
      "(100, 530, 530, 1)\n",
      "(100, 530, 530, 1)\n",
      "(100, 530, 530, 1)\n",
      "(100, 530, 530, 1)\n",
      "(100, 530, 530, 1)\n",
      "(100, 530, 530, 1)\n",
      "(100, 530, 530, 1)\n",
      "(100, 530, 530, 1)\n",
      "(100, 530, 530, 1)\n",
      "(100, 530, 530, 1)\n",
      "(100, 530, 530, 1)\n",
      "(100, 530, 530, 1)\n",
      "(100, 530, 530, 1)\n",
      "(100, 530, 530, 1)\n",
      "(100, 530, 530, 1)\n",
      "(100, 530, 530, 1)\n",
      "(100, 530, 530, 1)\n",
      "(100, 530, 530, 1)\n",
      "(100, 530, 530, 1)\n",
      "(100, 530, 530, 1)\n",
      "(100, 530, 530, 1)\n",
      "(100, 530, 530, 1)\n",
      "(100, 530, 530, 1)\n",
      "(100, 530, 530, 1)\n",
      "(100, 530, 530, 1)\n",
      "(100, 530, 530, 1)\n",
      "(100, 530, 530, 1)\n",
      "(100, 530, 530, 1)\n",
      "(100, 530, 530, 1)\n",
      "(100, 530, 530, 1)\n",
      "(100, 530, 530, 1)\n",
      "(100, 530, 530, 1)\n",
      "(100, 530, 530, 1)\n",
      "(100, 530, 530, 1)\n",
      "(100, 530, 530, 1)\n",
      "(100, 530, 530, 1)\n",
      "(100, 530, 530, 1)\n",
      "(100, 530, 530, 1)\n",
      "(100, 530, 530, 1)\n",
      "(100, 530, 530, 1)\n",
      "(100, 530, 530, 1)\n",
      "(100, 530, 530, 1)\n",
      "(100, 530, 530, 1)\n",
      "(100, 530, 530, 1)\n",
      "(100, 530, 530, 1)\n",
      "(100, 530, 530, 1)\n",
      "(100, 530, 530, 1)\n",
      "(100, 530, 530, 1)\n",
      "(100, 530, 530, 1)\n",
      "(100, 530, 530, 1)\n",
      "(100, 530, 530, 1)\n",
      "(100, 530, 530, 1)\n",
      "(100, 530, 530, 1)\n",
      "(100, 530, 530, 1)\n",
      "(100, 530, 530, 1)\n",
      "(100, 530, 530, 1)\n",
      "(100, 530, 530, 1)\n",
      "(100, 530, 530, 1)\n",
      "(100, 530, 530, 1)\n",
      "(100, 530, 530, 1)\n",
      "(100, 530, 530, 1)\n",
      "(100, 530, 530, 1)\n",
      "(100, 530, 530, 1)\n",
      "(100, 530, 530, 1)\n"
     ]
    }
   ],
   "source": [
    "for well_name in well_names:\n",
    "    raw_video_path = '../22956823/raw_wells/%s_raw.npy' % well_name\n",
    "    txt = '../22956823/%s_not_empty.txt' % well_name\n",
    "    raw.make_raw_videos(raw_video_path=raw_video_path, mask_frame_info_fn=txt, well_name=well_name, output_dir='../22956823')"
   ]
  },
  {
   "cell_type": "code",
   "execution_count": 20,
   "id": "dc9f8490",
   "metadata": {},
   "outputs": [
    {
     "name": "stdout",
     "output_type": "stream",
     "text": [
      "Processing raw video.\n",
      "unique_worm_ids:  [7]\n",
      "sequential ids:  [1]\n"
     ]
    },
    {
     "data": {
      "image/png": "[encoded data removed]",
      "text/plain": [
       "<Figure size 432x288 with 1 Axes>"
      ]
     },
     "metadata": {
      "needs_background": "light"
     },
     "output_type": "display_data"
    }
   ],
   "source": [
    "gif.plot_gif(np.load('../22956823/A10_raw_1.npy'), '../22956823/gif/A10_raw_1.gif', raw=True)\n",
    "gif.plot_gif(np.load('../22956823/A10_mask_1.npy'), '../22956823/gif/A10_mask_1.gif')"
   ]
  },
  {
   "cell_type": "markdown",
   "id": "65cdade6",
   "metadata": {},
   "source": [
    "# Make lineage"
   ]
  },
  {
   "cell_type": "code",
   "execution_count": 22,
   "id": "7ed04f97",
   "metadata": {},
   "outputs": [],
   "source": [
    "from lineage import make_lineage\n",
    "\n",
    "a9_1 = make_lineage(traj, well_dict, 'A9', \"22956823\", \"../22956823/A9_mask_1.npy\", 1)\n",
    "a9_2 = make_lineage(traj, well_dict, 'A9', \"22956823\", \"../22956823/A9_mask_2.npy\", 2)\n",
    "a9_3 = make_lineage(traj, well_dict, 'A9', \"22956823\", \"../22956823/A9_mask_3.npy\", 3)\n",
    "a9_4 = make_lineage(traj, well_dict, 'A9', \"22956823\", \"../22956823/A9_mask_4.npy\", 4)\n",
    "a9_5 = make_lineage(traj, well_dict, 'A9', \"22956823\", \"../22956823/A9_mask_5.npy\", 5)\n",
    "a9_6 = make_lineage(traj, well_dict, 'A9', \"22956823\", \"../22956823/A9_mask_6.npy\", 6)\n",
    "a9_7 = make_lineage(traj, well_dict, 'A9', \"22956823\", \"../22956823/A9_mask_7.npy\", 7)\n",
    "a9_8 = make_lineage(traj, well_dict, 'A9', \"22956823\", \"../22956823/A9_mask_8.npy\", 8)\n",
    "a9_9 = make_lineage(traj, well_dict, 'A9', \"22956823\", \"../22956823/A9_mask_9.npy\", 9)\n",
    "a9_10 = make_lineage(traj, well_dict, 'A9', \"22956823\", \"../22956823/A9_mask_10.npy\", 10)\n",
    "a9_11 = make_lineage(traj, well_dict, 'A9', \"22956823\", \"../22956823/A9_mask_11.npy\", 11)\n",
    "a9_12 = make_lineage(traj, well_dict, 'A9', \"22956823\", \"../22956823/A9_mask_12.npy\", 12)\n",
    "a9_13 = make_lineage(traj, well_dict, 'A9', \"22956823\", \"../22956823/A9_mask_13.npy\", 13)\n",
    "a9_14 = make_lineage(traj, well_dict, 'A9', \"22956823\", \"../22956823/A9_mask_14.npy\", 14)\n",
    "a9_15 = make_lineage(traj, well_dict, 'A9', \"22956823\", \"../22956823/A9_mask_15.npy\", 15)\n",
    "a9_16 = make_lineage(traj, well_dict, 'A9', \"22956823\", \"../22956823/A9_mask_16.npy\", 16)\n",
    "a9_17 = make_lineage(traj, well_dict, 'A9', \"22956823\", \"../22956823/A9_mask_17.npy\", 17)\n",
    "a9_18 = make_lineage(traj, well_dict, 'A9', \"22956823\", \"../22956823/A9_mask_18.npy\", 18)\n",
    "a9_19 = make_lineage(traj, well_dict, 'A9', \"22956823\", \"../22956823/A9_mask_19.npy\", 19)\n",
    "a9_20 = make_lineage(traj, well_dict, 'A9', \"22956823\", \"../22956823/A9_mask_20.npy\", 20)\n",
    "a9_21 = make_lineage(traj, well_dict, 'A9', \"22956823\", \"../22956823/A9_mask_21.npy\", 21)\n",
    "a9_22 = make_lineage(traj, well_dict, 'A9', \"22956823\", \"../22956823/A9_mask_22.npy\", 22)\n",
    "a10_1 = make_lineage(traj, well_dict, 'A10', \"22956823\", \"../22956823/A10_mask_1.npy\", 1)\n",
    "a10_2 = make_lineage(traj, well_dict, 'A10', \"22956823\", \"../22956823/A10_mask_2.npy\", 2)\n",
    "a11_1 = make_lineage(traj, well_dict, 'A11', \"22956823\", \"../22956823/A11_mask_1.npy\", 1)\n",
    "a11_2 = make_lineage(traj, well_dict, 'A11', \"22956823\", \"../22956823/A11_mask_2.npy\", 2)\n",
    "a12_1 = make_lineage(traj, well_dict, 'A12', \"22956823\", \"../22956823/A12_mask_1.npy\", 1)\n",
    "a12_2 = make_lineage(traj, well_dict, 'A12', \"22956823\", \"../22956823/A12_mask_2.npy\", 2)\n",
    "\n",
    "b9_1 = make_lineage(traj, well_dict, 'B9', \"22956823\", \"../22956823/B9_mask_1.npy\", 1)\n",
    "b9_2 = make_lineage(traj, well_dict, 'B9', \"22956823\", \"../22956823/B9_mask_2.npy\", 2)\n",
    "b9_3 = make_lineage(traj, well_dict, 'B9', \"22956823\", \"../22956823/B9_mask_3.npy\", 3)\n",
    "b9_4 = make_lineage(traj, well_dict, 'B9', \"22956823\", \"../22956823/B9_mask_4.npy\", 4)\n",
    "b9_5 = make_lineage(traj, well_dict, 'B9', \"22956823\", \"../22956823/B9_mask_5.npy\", 5)\n",
    "b9_6 = make_lineage(traj, well_dict, 'B9', \"22956823\", \"../22956823/B9_mask_6.npy\", 6)\n",
    "b9_7 = make_lineage(traj, well_dict, 'B9', \"22956823\", \"../22956823/B9_mask_7.npy\", 7)\n",
    "b9_8 = make_lineage(traj, well_dict, 'B9', \"22956823\", \"../22956823/B9_mask_8.npy\", 8)\n",
    "b9_9 = make_lineage(traj, well_dict, 'B9', \"22956823\", \"../22956823/B9_mask_9.npy\", 9)\n",
    "b9_10 = make_lineage(traj, well_dict, 'B9', \"22956823\", \"../22956823/B9_mask_10.npy\", 10)\n",
    "b9_11 = make_lineage(traj, well_dict, 'B9', \"22956823\", \"../22956823/B9_mask_11.npy\", 11)\n",
    "b9_12 = make_lineage(traj, well_dict, 'B9', \"22956823\", \"../22956823/B9_mask_11.npy\", 12)\n",
    "b10_1 = make_lineage(traj, well_dict, 'B10', \"22956823\", \"../22956823/B10_mask_1.npy\", 1)\n",
    "b10_2 = make_lineage(traj, well_dict, 'B10', \"22956823\", \"../22956823/B10_mask_2.npy\", 2)\n",
    "b10_3 = make_lineage(traj, well_dict, 'B10', \"22956823\", \"../22956823/B10_mask_3.npy\", 3)\n",
    "b10_4 = make_lineage(traj, well_dict, 'B10', \"22956823\", \"../22956823/B10_mask_4.npy\", 4)\n",
    "b11_1 = make_lineage(traj, well_dict, 'B11', \"22956823\", \"../22956823/B11_mask_1.npy\", 1)\n",
    "b11_2 = make_lineage(traj, well_dict, 'B11', \"22956823\", \"../22956823/B11_mask_2.npy\", 2)\n",
    "b11_3 = make_lineage(traj, well_dict, 'B11', \"22956823\", \"../22956823/B11_mask_3.npy\", 3)\n",
    "b12_1 = make_lineage(traj, well_dict, 'B12', \"22956823\", \"../22956823/B12_mask_1.npy\", 1)\n",
    "b12_2 = make_lineage(traj, well_dict, 'B12', \"22956823\", \"../22956823/B12_mask_2.npy\", 2)\n",
    "b12_3 = make_lineage(traj, well_dict, 'B12', \"22956823\", \"../22956823/B12_mask_3.npy\", 3)\n",
    "\n",
    "c9_1 = make_lineage(traj, well_dict, 'C9', \"22956823\", \"../22956823/C9_mask_1.npy\", 1)\n",
    "c9_2 = make_lineage(traj, well_dict, 'C9', \"22956823\", \"../22956823/C9_mask_2.npy\", 2)\n",
    "c9_3 = make_lineage(traj, well_dict, 'C9', \"22956823\", \"../22956823/C9_mask_3.npy\", 3)\n",
    "c9_4 = make_lineage(traj, well_dict, 'C9', \"22956823\", \"../22956823/C9_mask_4.npy\", 4)\n",
    "c9_5 = make_lineage(traj, well_dict, 'C9', \"22956823\", \"../22956823/C9_mask_5.npy\", 5)\n",
    "c9_6 = make_lineage(traj, well_dict, 'C9', \"22956823\", \"../22956823/C9_mask_6.npy\", 6)\n",
    "c10_1 = make_lineage(traj, well_dict, 'C10', \"22956823\", \"../22956823/C10_mask_1.npy\", 1)\n",
    "c10_2 = make_lineage(traj, well_dict, 'C10', \"22956823\", \"../22956823/C10_mask_2.npy\", 2)\n",
    "c11_1 = make_lineage(traj, well_dict, 'C11', \"22956823\", \"../22956823/C11_mask_1.npy\", 1)\n",
    "c11_2 = make_lineage(traj, well_dict, 'C11', \"22956823\", \"../22956823/C11_mask_2.npy\", 2)\n",
    "c11_3 = make_lineage(traj, well_dict, 'C11', \"22956823\", \"../22956823/C11_mask_3.npy\", 3)\n",
    "c11_4 = make_lineage(traj, well_dict, 'C11', \"22956823\", \"../22956823/C11_mask_4.npy\", 4)\n",
    "c11_5 = make_lineage(traj, well_dict, 'C11', \"22956823\", \"../22956823/C11_mask_5.npy\", 5)\n",
    "c11_6 = make_lineage(traj, well_dict, 'C11', \"22956823\", \"../22956823/C11_mask_6.npy\", 6)\n",
    "c11_7 = make_lineage(traj, well_dict, 'C11', \"22956823\", \"../22956823/C11_mask_7.npy\", 7)\n",
    "c12_1 = make_lineage(traj, well_dict, 'C12', \"22956823\", \"../22956823/C12_mask_1.npy\", 1)\n",
    "c12_2 = make_lineage(traj, well_dict, 'C12', \"22956823\", \"../22956823/C12_mask_2.npy\", 2)\n",
    "\n",
    "d9_1 = make_lineage(traj, well_dict, 'D9', \"22956823\", \"../22956823/D9_mask_1.npy\", 1)\n",
    "d9_2 = make_lineage(traj, well_dict, 'D9', \"22956823\", \"../22956823/D9_mask_2.npy\", 2)\n",
    "d9_3 = make_lineage(traj, well_dict, 'D9', \"22956823\", \"../22956823/D9_mask_3.npy\", 3)\n",
    "d9_4 = make_lineage(traj, well_dict, 'D9', \"22956823\", \"../22956823/D9_mask_4.npy\", 4)\n",
    "d9_5 = make_lineage(traj, well_dict, 'D9', \"22956823\", \"../22956823/D9_mask_5.npy\", 5)\n",
    "d9_6 = make_lineage(traj, well_dict, 'D9', \"22956823\", \"../22956823/D9_mask_6.npy\", 6)\n",
    "\n",
    "d10_1 = make_lineage(traj, well_dict, 'D10', \"22956823\", \"../22956823/D10_mask_1.npy\", 1)\n",
    "d10_2 = make_lineage(traj, well_dict, 'D10', \"22956823\", \"../22956823/D10_mask_2.npy\", 2)\n",
    "d10_3 = make_lineage(traj, well_dict, 'D10', \"22956823\", \"../22956823/D10_mask_3.npy\", 3)\n",
    "d10_4 = make_lineage(traj, well_dict, 'D10', \"22956823\", \"../22956823/D10_mask_4.npy\", 4)\n",
    "d10_5 = make_lineage(traj, well_dict, 'D10', \"22956823\", \"../22956823/D10_mask_5.npy\", 5)\n",
    "d10_6 = make_lineage(traj, well_dict, 'D10', \"22956823\", \"../22956823/D10_mask_8.npy\", 6)\n",
    "d10_7 = make_lineage(traj, well_dict, 'D10', \"22956823\", \"../22956823/D10_mask_7.npy\", 7)\n",
    "d10_8 = make_lineage(traj, well_dict, 'D10', \"22956823\", \"../22956823/D10_mask_8.npy\", 8)\n",
    "\n",
    "d11_1 = make_lineage(traj, well_dict, 'D11', \"22956823\", \"../22956823/D11_mask_1.npy\", 1)\n",
    "d11_2 = make_lineage(traj, well_dict, 'D11', \"22956823\", \"../22956823/D11_mask_2.npy\", 2)\n",
    "d11_3 = make_lineage(traj, well_dict, 'D11', \"22956823\", \"../22956823/D11_mask_3.npy\", 3)\n",
    "d11_4 = make_lineage(traj, well_dict, 'D11', \"22956823\", \"../22956823/D11_mask_4.npy\", 4)\n",
    "d11_5 = make_lineage(traj, well_dict, 'D11', \"22956823\", \"../22956823/D11_mask_5.npy\", 5)\n",
    "d11_6 = make_lineage(traj, well_dict, 'D11', \"22956823\", \"../22956823/D11_mask_6.npy\", 6)\n",
    "d11_7 = make_lineage(traj, well_dict, 'D11', \"22956823\", \"../22956823/D11_mask_7.npy\", 7)\n",
    "\n",
    "d12_1 = make_lineage(traj, well_dict, 'D12', \"22956823\", \"../22956823/D12_mask_1.npy\", 1)\n",
    "d12_2 = make_lineage(traj, well_dict, 'D12', \"22956823\", \"../22956823/D12_mask_2.npy\", 2)"
   ]
  },
  {
   "cell_type": "code",
   "execution_count": 23,
   "id": "42dfdaf9",
   "metadata": {},
   "outputs": [],
   "source": [
    "masks_fn = [\n",
    "    \"../22956823/A9_mask_1.npy\",\n",
    "    \"../22956823/A9_mask_2.npy\",\n",
    "    \"../22956823/A9_mask_3.npy\",\n",
    "    \"../22956823/A9_mask_4.npy\",\n",
    "    \"../22956823/A9_mask_5.npy\",\n",
    "    \"../22956823/A9_mask_6.npy\",\n",
    "    \"../22956823/A9_mask_7.npy\",\n",
    "    \"../22956823/A9_mask_8.npy\",\n",
    "    \"../22956823/A9_mask_9.npy\",\n",
    "    \"../22956823/A9_mask_10.npy\",\n",
    "    \"../22956823/A9_mask_11.npy\",\n",
    "    \"../22956823/A9_mask_12.npy\",\n",
    "    \"../22956823/A9_mask_13.npy\",\n",
    "    \"../22956823/A9_mask_14.npy\",\n",
    "    \"../22956823/A9_mask_15.npy\",\n",
    "    \"../22956823/A9_mask_16.npy\",\n",
    "    \"../22956823/A9_mask_17.npy\",\n",
    "    \"../22956823/A9_mask_18.npy\",\n",
    "    \"../22956823/A9_mask_19.npy\",\n",
    "    \"../22956823/A9_mask_20.npy\",\n",
    "    \"../22956823/A9_mask_21.npy\",\n",
    "    \"../22956823/A9_mask_22.npy\",\n",
    "    \"../22956823/A10_mask_1.npy\",\n",
    "    \"../22956823/A10_mask_2.npy\",\n",
    "    \"../22956823/A11_mask_1.npy\",\n",
    "    \"../22956823/A11_mask_2.npy\",\n",
    "    \"../22956823/A12_mask_1.npy\",\n",
    "    \"../22956823/A12_mask_2.npy\",\n",
    "\n",
    "    \"../22956823/B9_mask_1.npy\",\n",
    "    \"../22956823/B9_mask_2.npy\",\n",
    "    \"../22956823/B9_mask_3.npy\",\n",
    "    \"../22956823/B9_mask_4.npy\",\n",
    "    \"../22956823/B9_mask_5.npy\",\n",
    "    \"../22956823/B9_mask_6.npy\",\n",
    "    \"../22956823/B9_mask_7.npy\",\n",
    "    \"../22956823/B9_mask_8.npy\",\n",
    "    \"../22956823/B9_mask_9.npy\",\n",
    "    \"../22956823/B9_mask_10.npy\",\n",
    "    \"../22956823/B9_mask_11.npy\",\n",
    "    \"../22956823/B9_mask_11.npy\",\n",
    "    \"../22956823/B10_mask_1.npy\",\n",
    "    \"../22956823/B10_mask_2.npy\",\n",
    "    \"../22956823/B10_mask_3.npy\",\n",
    "    \"../22956823/B10_mask_4.npy\",\n",
    "    \"../22956823/B11_mask_1.npy\",\n",
    "    \"../22956823/B11_mask_2.npy\",\n",
    "    \"../22956823/B11_mask_3.npy\",\n",
    "    \"../22956823/B12_mask_1.npy\",\n",
    "    \"../22956823/B12_mask_2.npy\",\n",
    "    \"../22956823/B12_mask_3.npy\",\n",
    "\n",
    "    \"../22956823/C9_mask_1.npy\",\n",
    "    \"../22956823/C9_mask_2.npy\",\n",
    "    \"../22956823/C9_mask_3.npy\",\n",
    "    \"../22956823/C9_mask_4.npy\",\n",
    "    \"../22956823/C9_mask_5.npy\",\n",
    "    \"../22956823/C9_mask_6.npy\",\n",
    "    \"../22956823/C10_mask_1.npy\",\n",
    "    \"../22956823/C10_mask_2.npy\",\n",
    "    \"../22956823/C11_mask_1.npy\",\n",
    "    \"../22956823/C11_mask_2.npy\",\n",
    "    \"../22956823/C11_mask_3.npy\",\n",
    "    \"../22956823/C11_mask_4.npy\",\n",
    "    \"../22956823/C11_mask_5.npy\",\n",
    "    \"../22956823/C11_mask_6.npy\",\n",
    "    \"../22956823/C11_mask_7.npy\",\n",
    "    \"../22956823/C12_mask_1.npy\",\n",
    "    \"../22956823/C12_mask_2.npy\",\n",
    "\n",
    "    \"../22956823/D9_mask_1.npy\",\n",
    "    \"../22956823/D9_mask_2.npy\",\n",
    "    \"../22956823/D9_mask_3.npy\",\n",
    "    \"../22956823/D9_mask_4.npy\",\n",
    "    \"../22956823/D9_mask_5.npy\",\n",
    "    \"../22956823/D9_mask_6.npy\",\n",
    "\n",
    "    \"../22956823/D10_mask_1.npy\",\n",
    "    \"../22956823/D10_mask_2.npy\",\n",
    "    \"../22956823/D10_mask_3.npy\",\n",
    "    \"../22956823/D10_mask_4.npy\",\n",
    "    \"../22956823/D10_mask_5.npy\",\n",
    "    \"../22956823/D10_mask_8.npy\",\n",
    "    \"../22956823/D10_mask_7.npy\",\n",
    "    \"../22956823/D10_mask_8.npy\",\n",
    "\n",
    "    \"../22956823/D11_mask_1.npy\",\n",
    "    \"../22956823/D11_mask_2.npy\",\n",
    "    \"../22956823/D11_mask_3.npy\",\n",
    "    \"../22956823/D11_mask_4.npy\",\n",
    "    \"../22956823/D11_mask_5.npy\",\n",
    "    \"../22956823/D11_mask_6.npy\",\n",
    "    \"../22956823/D11_mask_7.npy\",\n",
    "\n",
    "    \"../22956823/D12_mask_1.npy\",\n",
    "    \"../22956823/D12_mask_2.npy\",\n",
    "]"
   ]
  },
  {
   "cell_type": "code",
   "execution_count": 24,
   "id": "a415f083",
   "metadata": {},
   "outputs": [
    {
     "data": {
      "text/plain": [
       "90"
      ]
     },
     "execution_count": 24,
     "metadata": {},
     "output_type": "execute_result"
    }
   ],
   "source": [
    "len(masks_fn)"
   ]
  },
  {
   "cell_type": "code",
   "execution_count": 25,
   "id": "c2ffb050",
   "metadata": {},
   "outputs": [],
   "source": [
    "raw_fn = [\n",
    "    \"../22956823/A9_raw_1.npy\",\n",
    "    \"../22956823/A9_raw_2.npy\",\n",
    "    \"../22956823/A9_raw_3.npy\",\n",
    "    \"../22956823/A9_raw_4.npy\",\n",
    "    \"../22956823/A9_raw_5.npy\",\n",
    "    \"../22956823/A9_raw_6.npy\",\n",
    "    \"../22956823/A9_raw_7.npy\",\n",
    "    \"../22956823/A9_raw_8.npy\",\n",
    "    \"../22956823/A9_raw_9.npy\",\n",
    "    \"../22956823/A9_raw_10.npy\",\n",
    "    \"../22956823/A9_raw_11.npy\",\n",
    "    \"../22956823/A9_raw_12.npy\",\n",
    "    \"../22956823/A9_raw_13.npy\",\n",
    "    \"../22956823/A9_raw_14.npy\",\n",
    "    \"../22956823/A9_raw_15.npy\",\n",
    "    \"../22956823/A9_raw_16.npy\",\n",
    "    \"../22956823/A9_raw_17.npy\",\n",
    "    \"../22956823/A9_raw_18.npy\",\n",
    "    \"../22956823/A9_raw_19.npy\",\n",
    "    \"../22956823/A9_raw_20.npy\",\n",
    "    \"../22956823/A9_raw_21.npy\",\n",
    "    \"../22956823/A9_raw_22.npy\",\n",
    "    \"../22956823/A10_raw_1.npy\",\n",
    "    \"../22956823/A10_raw_2.npy\",\n",
    "    \"../22956823/A11_raw_1.npy\",\n",
    "    \"../22956823/A11_raw_2.npy\",\n",
    "    \"../22956823/A12_raw_1.npy\",\n",
    "    \"../22956823/A12_raw_2.npy\",\n",
    "\n",
    "    \"../22956823/B9_raw_1.npy\",\n",
    "    \"../22956823/B9_raw_2.npy\",\n",
    "    \"../22956823/B9_raw_3.npy\",\n",
    "    \"../22956823/B9_raw_4.npy\",\n",
    "    \"../22956823/B9_raw_5.npy\",\n",
    "    \"../22956823/B9_raw_6.npy\",\n",
    "    \"../22956823/B9_raw_7.npy\",\n",
    "    \"../22956823/B9_raw_8.npy\",\n",
    "    \"../22956823/B9_raw_9.npy\",\n",
    "    \"../22956823/B9_raw_10.npy\",\n",
    "    \"../22956823/B9_raw_11.npy\",\n",
    "    \"../22956823/B9_raw_11.npy\",\n",
    "    \"../22956823/B10_raw_1.npy\",\n",
    "    \"../22956823/B10_raw_2.npy\",\n",
    "    \"../22956823/B10_raw_3.npy\",\n",
    "    \"../22956823/B10_raw_4.npy\",\n",
    "    \"../22956823/B11_raw_1.npy\",\n",
    "    \"../22956823/B11_raw_2.npy\",\n",
    "    \"../22956823/B11_raw_3.npy\",\n",
    "    \"../22956823/B12_raw_1.npy\",\n",
    "    \"../22956823/B12_raw_2.npy\",\n",
    "    \"../22956823/B12_raw_3.npy\",\n",
    "\n",
    "    \"../22956823/C9_raw_1.npy\",\n",
    "    \"../22956823/C9_raw_2.npy\",\n",
    "    \"../22956823/C9_raw_3.npy\",\n",
    "    \"../22956823/C9_raw_4.npy\",\n",
    "    \"../22956823/C9_raw_5.npy\",\n",
    "    \"../22956823/C9_raw_6.npy\",\n",
    "    \"../22956823/C10_raw_1.npy\",\n",
    "    \"../22956823/C10_raw_2.npy\",\n",
    "    \"../22956823/C11_raw_1.npy\",\n",
    "    \"../22956823/C11_raw_2.npy\",\n",
    "    \"../22956823/C11_raw_3.npy\",\n",
    "    \"../22956823/C11_raw_4.npy\",\n",
    "    \"../22956823/C11_raw_5.npy\",\n",
    "    \"../22956823/C11_raw_6.npy\",\n",
    "    \"../22956823/C11_raw_7.npy\",\n",
    "    \"../22956823/C12_raw_1.npy\",\n",
    "    \"../22956823/C12_raw_2.npy\",\n",
    "\n",
    "    \"../22956823/D9_raw_1.npy\",\n",
    "    \"../22956823/D9_raw_2.npy\",\n",
    "    \"../22956823/D9_raw_3.npy\",\n",
    "    \"../22956823/D9_raw_4.npy\",\n",
    "    \"../22956823/D9_raw_5.npy\",\n",
    "    \"../22956823/D9_raw_6.npy\",\n",
    "\n",
    "    \"../22956823/D10_raw_1.npy\",\n",
    "    \"../22956823/D10_raw_2.npy\",\n",
    "    \"../22956823/D10_raw_3.npy\",\n",
    "    \"../22956823/D10_raw_4.npy\",\n",
    "    \"../22956823/D10_raw_5.npy\",\n",
    "    \"../22956823/D10_raw_8.npy\",\n",
    "    \"../22956823/D10_raw_7.npy\",\n",
    "    \"../22956823/D10_raw_8.npy\",\n",
    "\n",
    "    \"../22956823/D11_raw_1.npy\",\n",
    "    \"../22956823/D11_raw_2.npy\",\n",
    "    \"../22956823/D11_raw_3.npy\",\n",
    "    \"../22956823/D11_raw_4.npy\",\n",
    "    \"../22956823/D11_raw_5.npy\",\n",
    "    \"../22956823/D11_raw_6.npy\",\n",
    "    \"../22956823/D11_raw_7.npy\",\n",
    "\n",
    "    \"../22956823/D12_raw_1.npy\",\n",
    "    \"../22956823/D12_raw_2.npy\",\n",
    "]"
   ]
  },
  {
   "cell_type": "code",
   "execution_count": 26,
   "id": "8caddeca",
   "metadata": {},
   "outputs": [
    {
     "data": {
      "text/plain": [
       "90"
      ]
     },
     "execution_count": 26,
     "metadata": {},
     "output_type": "execute_result"
    }
   ],
   "source": [
    "len(raw_fn)"
   ]
  },
  {
   "cell_type": "code",
   "execution_count": 27,
   "id": "8723a9a4",
   "metadata": {},
   "outputs": [],
   "source": [
    "lineages = [\n",
    "    a9_1,\n",
    "    a9_2,\n",
    "    a9_3,\n",
    "    a9_4,\n",
    "    a9_5,\n",
    "    a9_6,\n",
    "    a9_7,\n",
    "    a9_8,\n",
    "    a9_9,\n",
    "    a9_10,\n",
    "    a9_11,\n",
    "    a9_12,\n",
    "    a9_13,\n",
    "    a9_14,\n",
    "    a9_15,\n",
    "    a9_16,\n",
    "    a9_17,\n",
    "    a9_18,\n",
    "    a9_19,\n",
    "    a9_20,\n",
    "    a9_21,\n",
    "    a9_22,\n",
    "    a10_1,\n",
    "    a10_2,\n",
    "    a11_1,\n",
    "    a11_2,\n",
    "    a12_1,\n",
    "    a12_2,\n",
    "\n",
    "    b9_1,\n",
    "    b9_2,\n",
    "    b9_3,\n",
    "    b9_4,\n",
    "    b9_5,\n",
    "    b9_6,\n",
    "    b9_7,\n",
    "    b9_8,\n",
    "    b9_9,\n",
    "    b9_10,\n",
    "    b9_11,\n",
    "    b9_12,\n",
    "    b10_1,\n",
    "    b10_2,\n",
    "    b10_3,\n",
    "    b10_4,\n",
    "    b11_1,\n",
    "    b11_2,\n",
    "    b11_3,\n",
    "    b12_1,\n",
    "    b12_2,\n",
    "    b12_3,\n",
    "\n",
    "    c9_1,\n",
    "    c9_2,\n",
    "    c9_3,\n",
    "    c9_4,\n",
    "    c9_5,\n",
    "    c9_6,\n",
    "    c10_1,\n",
    "    c10_2,\n",
    "    c11_1,\n",
    "    c11_2,\n",
    "    c11_3,\n",
    "    c11_4,\n",
    "    c11_5,\n",
    "    c11_6,\n",
    "    c11_7,\n",
    "    c12_1,\n",
    "    c12_2,\n",
    "\n",
    "    d9_1,\n",
    "    d9_2,\n",
    "    d9_3,\n",
    "    d9_4,\n",
    "    d9_5,\n",
    "    d9_6,\n",
    "\n",
    "    d10_1,\n",
    "    d10_2,\n",
    "    d10_3,\n",
    "    d10_4,\n",
    "    d10_5,\n",
    "    d10_6,\n",
    "    d10_7,\n",
    "    d10_8,\n",
    "\n",
    "    d11_1,\n",
    "    d11_2,\n",
    "    d11_3,\n",
    "    d11_4,\n",
    "    d11_5,\n",
    "    d11_6,\n",
    "    d11_7,\n",
    "\n",
    "    d12_1,\n",
    "    d12_2,\n",
    "]"
   ]
  },
  {
   "cell_type": "code",
   "execution_count": 28,
   "id": "9b847984",
   "metadata": {},
   "outputs": [
    {
     "data": {
      "text/plain": [
       "90"
      ]
     },
     "execution_count": 28,
     "metadata": {},
     "output_type": "execute_result"
    }
   ],
   "source": [
    "len(lineages)"
   ]
  },
  {
   "cell_type": "code",
   "execution_count": 29,
   "id": "e5714f76",
   "metadata": {},
   "outputs": [
    {
     "name": "stdout",
     "output_type": "stream",
     "text": [
      "35\n",
      "35\n",
      "35\n"
     ]
    }
   ],
   "source": [
    "y = []\n",
    "y_indices = []\n",
    "\n",
    "for i, mask in enumerate(masks_fn):\n",
    "    mask_array = np.load(mask)\n",
    "    if mask_array.shape[0] == 100:\n",
    "        y.append(mask_array)\n",
    "        y_indices.append(i)\n",
    "\n",
    "X = []\n",
    "\n",
    "for i in y_indices:\n",
    "    raw_array = np.load(raw_fn[i])\n",
    "    X.append(raw_array)\n",
    "    \n",
    "lineages_true = []\n",
    "\n",
    "for i in y_indices:\n",
    "    lineages_true.append(lineages[i])\n",
    "\n",
    "print(len(y))\n",
    "print(len(X))\n",
    "print(len(lineages_true))"
   ]
  },
  {
   "cell_type": "code",
   "execution_count": 30,
   "id": "5d17badc",
   "metadata": {},
   "outputs": [],
   "source": [
    "from deepcell.utils.tracking_utils import trks_stats, save_trks\n",
    "\n",
    "save_trks(\"../22956823/22956823.trks\", lineages_true, X, y)"
   ]
  },
  {
   "cell_type": "code",
   "execution_count": 31,
   "id": "159cc2eb",
   "metadata": {},
   "outputs": [
    {
     "name": "stdout",
     "output_type": "stream",
     "text": [
      "Dataset Statistics: \n",
      "Image data shape:  (35, 100, 530, 530, 1)\n",
      "Number of lineages (should equal batch size):  35\n",
      "Total number of unique tracks (cells)      -  105\n",
      "Total number of divisions                  -  0\n",
      "Average cell density (cells/100 sq pixels) -  0.0005318618725525099\n",
      "Average number of frames per track         -  71\n"
     ]
    }
   ],
   "source": [
    "trks_stats(\"../22956823/22956823.trks\")"
   ]
  }
 ],
 "metadata": {
  "environment": {
   "name": "tf2-gpu.2-3.m78",
   "type": "gcloud",
   "uri": "gcr.io/deeplearning-platform-release/tf2-gpu.2-3:m78"
  },
  "kernelspec": {
   "display_name": "Python [conda env:root] *",
   "language": "python",
   "name": "conda-root-py"
  },
  "language_info": {
   "codemirror_mode": {
    "name": "ipython",
    "version": 3
   },
   "file_extension": ".py",
   "mimetype": "text/x-python",
   "name": "python",
   "nbconvert_exporter": "python",
   "pygments_lexer": "ipython3",
   "version": "3.7.10"
  }
 },
 "nbformat": 4,
 "nbformat_minor": 5
}

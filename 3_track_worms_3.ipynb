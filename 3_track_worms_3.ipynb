{
 "cells": [
  {
   "cell_type": "code",
   "execution_count": 11,
   "id": "0950e7af",
   "metadata": {},
   "outputs": [],
   "source": [
    "import os\n",
    "import datetime\n",
    "import errno\n",
    "\n",
    "import numpy as np\n",
    "\n",
    "import deepcell\n",
    "from deepcell.utils.tracking_utils import load_trks, trks_stats\n",
    "from deepcell.utils.misc_utils import sorted_nicely\n",
    "from deepcell.utils.tracking_utils import load_trks\n",
    "\n",
    "import numpy as np\n",
    "from skimage.measure import label\n",
    "from skimage import morphology\n",
    "import matplotlib.pyplot as plt"
   ]
  },
  {
   "cell_type": "markdown",
   "id": "0e47f25e",
   "metadata": {},
   "source": [
    "## FGBG model"
   ]
  },
  {
   "cell_type": "code",
   "execution_count": null,
   "id": "78068562",
   "metadata": {},
   "outputs": [],
   "source": []
  },
  {
   "cell_type": "markdown",
   "id": "8fddf302",
   "metadata": {},
   "source": [
    "## Pixel-wise model"
   ]
  },
  {
   "cell_type": "code",
   "execution_count": null,
   "id": "89cd4abb",
   "metadata": {},
   "outputs": [],
   "source": []
  },
  {
   "cell_type": "markdown",
   "id": "d2667b77",
   "metadata": {},
   "source": [
    "## GNN tracking model"
   ]
  },
  {
   "cell_type": "code",
   "execution_count": null,
   "id": "fd550752",
   "metadata": {},
   "outputs": [],
   "source": [
    "##### Try Well C3"
   ]
  },
  {
   "cell_type": "code",
   "execution_count": 2,
   "id": "ac10491d",
   "metadata": {},
   "outputs": [],
   "source": [
    "ROOT_DIR = '../track_train/attempt_2'  # TODO: Change this! Usually a mounted volume\n",
    "\n",
    "MODEL_DIR = os.path.abspath(os.path.join(ROOT_DIR, 'models'))\n",
    "LOG_DIR = os.path.abspath(os.path.join(ROOT_DIR, 'logs'))\n",
    "#DATA_DIR = os.path.expanduser(os.path.join('~', '.keras', 'datasets'))\n",
    "OUTPUT_DIR = os.path.abspath(os.path.join(ROOT_DIR, 'nuc_tracking'))"
   ]
  },
  {
   "cell_type": "code",
   "execution_count": 3,
   "id": "18252354",
   "metadata": {},
   "outputs": [
    {
     "name": "stderr",
     "output_type": "stream",
     "text": [
      "2021-08-26 15:31:43.495029: I tensorflow/core/platform/cpu_feature_guard.cc:142] This TensorFlow binary is optimized with oneAPI Deep Neural Network Library (oneDNN)to use the following CPU instructions in performance-critical operations:  AVX512F\n",
      "To enable them in other operations, rebuild TensorFlow with the appropriate compiler flags.\n",
      "2021-08-26 15:31:43.521032: I tensorflow/core/platform/profile_utils/cpu_utils.cc:104] CPU Frequency: 2000170000 Hz\n",
      "2021-08-26 15:31:43.525773: I tensorflow/compiler/xla/service/service.cc:168] XLA service 0x55c8e67fc9b0 initialized for platform Host (this does not guarantee that XLA will be used). Devices:\n",
      "2021-08-26 15:31:43.525797: I tensorflow/compiler/xla/service/service.cc:176]   StreamExecutor device (0): Host, Default Version\n",
      "2021-08-26 15:31:43.528088: I tensorflow/core/common_runtime/process_util.cc:146] Creating new thread pool with default inter op setting: 2. Tune using inter_op_parallelism_threads for best performance.\n",
      "2021-08-26 15:31:44.347911: W tensorflow/python/util/util.cc:348] Sets are not currently considered sequences, but this may change in the future, so consider avoiding using them.\n"
     ]
    }
   ],
   "source": [
    "from deepcell.model_zoo.tracking import GNNTrackingModel\n",
    "\n",
    "tm = GNNTrackingModel()"
   ]
  },
  {
   "cell_type": "code",
   "execution_count": 4,
   "id": "36e6f5cc",
   "metadata": {},
   "outputs": [
    {
     "data": {
      "text/plain": [
       "<tensorflow.python.training.tracking.util.CheckpointLoadStatus at 0x7fdb70572250>"
      ]
     },
     "execution_count": 4,
     "metadata": {},
     "output_type": "execute_result"
    }
   ],
   "source": [
    "inf_path = os.path.join(MODEL_DIR, 'TrackingModelInf')\n",
    "ne_path = os.path.join(MODEL_DIR, 'TrackingModelNE')\n",
    "\n",
    "tm.inference_model.load_weights(inf_path)\n",
    "tm.neighborhood_encoder.load_weights(ne_path)"
   ]
  },
  {
   "cell_type": "code",
   "execution_count": 12,
   "id": "512c9a4e",
   "metadata": {},
   "outputs": [],
   "source": [
    "# Choose and load a dataset to track using the trained model\n",
    "\n",
    "raw_images = np.load(\"../22956814/C3_raw_1.npy\")\n",
    "labeled_movie = np.load(\"../22956814/C3_seg_1.npy\")"
   ]
  },
  {
   "cell_type": "code",
   "execution_count": 6,
   "id": "78aee99e",
   "metadata": {},
   "outputs": [],
   "source": [
    "from deepcell_tracking import CellTracker\n",
    "\n",
    "cell_tracker = CellTracker(\n",
    "    movie=raw_images,\n",
    "    annotation=labeled_movie,\n",
    "    track_length=8,\n",
    "    neighborhood_encoder=tm.neighborhood_encoder,\n",
    "    tracking_model=tm.inference_model)"
   ]
  },
  {
   "cell_type": "code",
   "execution_count": 7,
   "id": "bbac0c1f",
   "metadata": {},
   "outputs": [
    {
     "name": "stdout",
     "output_type": "stream",
     "text": [
      "CPU times: user 12min 40s, sys: 16min 32s, total: 29min 13s\n",
      "Wall time: 20.9 s\n"
     ]
    }
   ],
   "source": [
    "%%time\n",
    "\n",
    "cell_tracker.track_cells()"
   ]
  },
  {
   "cell_type": "code",
   "execution_count": 8,
   "id": "db6ac21b",
   "metadata": {},
   "outputs": [
    {
     "data": {
      "text/plain": [
       "(100, 530, 530, 1)"
      ]
     },
     "execution_count": 8,
     "metadata": {},
     "output_type": "execute_result"
    }
   ],
   "source": [
    "cell_tracker.y_tracked.shape"
   ]
  },
  {
   "cell_type": "code",
   "execution_count": 9,
   "id": "25e4e92e",
   "metadata": {},
   "outputs": [],
   "source": [
    "track = cell_tracker.y_tracked"
   ]
  },
  {
   "cell_type": "code",
   "execution_count": 10,
   "id": "dd075554",
   "metadata": {},
   "outputs": [
    {
     "name": "stdout",
     "output_type": "stream",
     "text": [
      "[0 1 2]\n"
     ]
    },
    {
     "data": {
      "text/plain": [
       "<matplotlib.image.AxesImage at 0x7fdb6045e850>"
      ]
     },
     "execution_count": 10,
     "metadata": {},
     "output_type": "execute_result"
    },
    {
     "data": {
      "image/png": "[encoded data removed]",
      "text/plain": [
       "<Figure size 432x288 with 1 Axes>"
      ]
     },
     "metadata": {
      "needs_background": "light"
     },
     "output_type": "display_data"
    }
   ],
   "source": [
    "print(np.unique(track[1]))\n",
    "plt.imshow(track[1])"
   ]
  },
  {
   "cell_type": "code",
   "execution_count": 55,
   "id": "c6b215ee",
   "metadata": {},
   "outputs": [
    {
     "name": "stdout",
     "output_type": "stream",
     "text": [
      "unique_worm_ids:  [1, 2]\n",
      "sequential ids:  [1, 2]\n"
     ]
    },
    {
     "data": {
      "image/png": "[encoded data removed]",
      "text/plain": [
       "<Figure size 432x288 with 1 Axes>"
      ]
     },
     "metadata": {
      "needs_background": "light"
     },
     "output_type": "display_data"
    }
   ],
   "source": [
    "import gif\n",
    "\n",
    "gif.plot_gif(track, '../22956814/gif/C3_track_1.gif')"
   ]
  },
  {
   "cell_type": "code",
   "execution_count": 56,
   "id": "77937941",
   "metadata": {},
   "outputs": [],
   "source": [
    "# save the tracked file\n",
    "\n",
    "np.save(\"../22956814/C3_track_1.npy\", track)"
   ]
  },
  {
   "cell_type": "code",
   "execution_count": 58,
   "id": "656e08a9",
   "metadata": {},
   "outputs": [
    {
     "name": "stdout",
     "output_type": "stream",
     "text": [
      "unique_worm_ids:  [1, 2, 3]\n",
      "sequential ids:  [1, 2, 3]\n"
     ]
    },
    {
     "data": {
      "image/png": "[encoded data removed]",
      "text/plain": [
       "<Figure size 432x288 with 1 Axes>"
      ]
     },
     "metadata": {
      "needs_background": "light"
     },
     "output_type": "display_data"
    }
   ],
   "source": [
    "gif.plot_gif(np.load(\"../22956814/C3_seg_1.npy\"), \"../22956814/gif/C3_seg_1.gif\")"
   ]
  }
 ],
 "metadata": {
  "environment": {
   "name": "tf2-gpu.2-3.m78",
   "type": "gcloud",
   "uri": "gcr.io/deeplearning-platform-release/tf2-gpu.2-3:m78"
  },
  "kernelspec": {
   "display_name": "Python [conda env:root] *",
   "language": "python",
   "name": "conda-root-py"
  },
  "language_info": {
   "codemirror_mode": {
    "name": "ipython",
    "version": 3
   },
   "file_extension": ".py",
   "mimetype": "text/x-python",
   "name": "python",
   "nbconvert_exporter": "python",
   "pygments_lexer": "ipython3",
   "version": "3.7.10"
  }
 },
 "nbformat": 4,
 "nbformat_minor": 5
}

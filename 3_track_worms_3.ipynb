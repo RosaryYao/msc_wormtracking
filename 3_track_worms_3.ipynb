{
 "cells": [
  {
   "cell_type": "code",
   "execution_count": 1,
   "id": "ee39b190",
   "metadata": {},
   "outputs": [],
   "source": [
    "import os\n",
    "import datetime\n",
    "import errno\n",
    "\n",
    "import numpy as np\n",
    "\n",
    "import deepcell\n",
    "from deepcell.utils.tracking_utils import load_trks, trks_stats\n",
    "from deepcell.utils.misc_utils import sorted_nicely\n",
    "from deepcell.utils.tracking_utils import load_trks\n",
    "\n",
    "import numpy as np\n",
    "from skimage.measure import label\n",
    "from skimage import morphology\n",
    "import matplotlib.pyplot as plt"
   ]
  },
  {
   "cell_type": "code",
   "execution_count": 2,
   "id": "c9d0bf16",
   "metadata": {},
   "outputs": [],
   "source": [
    "from deepcell.utils.data_utils import get_data\n",
    "from tensorflow.keras.utils import get_file\n",
    "\n",
    "def load_data(path, mode, test_size=0.2, seed=0):\n",
    "    \"\"\"Loads dataset.\n",
    "    Args:\n",
    "         test_size (float): fraction of data to reserve as test data\n",
    "        seed (int): the seed for randomly shuffling the dataset\n",
    "    Returns:\n",
    "           tuple: (x_train, y_train), (x_test, y_test).\n",
    "    \"\"\"\n",
    "    basepath = os.path.expanduser(os.path.join('~', '.keras', 'datasets'))\n",
    "    prefix = path.split(os.path.sep)[:-1]\n",
    "    data_dir = os.path.join(basepath, *prefix) if prefix else basepath\n",
    "    if not os.path.exists(data_dir):\n",
    "        os.makedirs(data_dir)\n",
    "    elif not os.path.isdir(data_dir):\n",
    "        raise IOError('{} exists but is not a directory'.format(data_dir))\n",
    "\n",
    "    train_dict, test_dict = get_data(\n",
    "        path,\n",
    "        mode=mode,\n",
    "        test_size=test_size,\n",
    "        seed=seed)\n",
    "    x_train, y_train = train_dict['X'], train_dict['y']\n",
    "    x_test, y_test = test_dict['X'], test_dict['y']\n",
    "    return (x_train, y_train), (x_test, y_test)"
   ]
  },
  {
   "cell_type": "markdown",
   "id": "c7dcca0d",
   "metadata": {},
   "source": [
    "## FGBG model"
   ]
  },
  {
   "cell_type": "code",
   "execution_count": 3,
   "id": "b25aaf54",
   "metadata": {},
   "outputs": [
    {
     "name": "stderr",
     "output_type": "stream",
     "text": [
      "2021-08-27 13:18:33.695682: W tensorflow/python/util/util.cc:348] Sets are not currently considered sequences, but this may change in the future, so consider avoiding using them.\n",
      "2021-08-27 13:18:33.699896: I tensorflow/core/platform/cpu_feature_guard.cc:142] This TensorFlow binary is optimized with oneAPI Deep Neural Network Library (oneDNN)to use the following CPU instructions in performance-critical operations:  AVX512F\n",
      "To enable them in other operations, rebuild TensorFlow with the appropriate compiler flags.\n",
      "2021-08-27 13:18:33.724100: I tensorflow/core/platform/profile_utils/cpu_utils.cc:104] CPU Frequency: 2000170000 Hz\n",
      "2021-08-27 13:18:33.729764: I tensorflow/compiler/xla/service/service.cc:168] XLA service 0x557040f319d0 initialized for platform Host (this does not guarantee that XLA will be used). Devices:\n",
      "2021-08-27 13:18:33.729787: I tensorflow/compiler/xla/service/service.cc:176]   StreamExecutor device (0): Host, Default Version\n",
      "2021-08-27 13:18:33.731511: I tensorflow/core/common_runtime/process_util.cc:146] Creating new thread pool with default inter op setting: 2. Tune using inter_op_parallelism_threads for best performance.\n"
     ]
    }
   ],
   "source": [
    "norm_method = 'std'  # data normalization\n",
    "receptive_field = 61  # should be adjusted for the scale of the data  ## 61\n",
    "n_skips = 1  # number of skip-connections (only for FC training)\n",
    "\n",
    "# pixelwise transform settings\n",
    "dilation_radius = 1  # change dilation radius for edge dilation\n",
    "separate_edge_classes = True  # break edges into cell-background edge, cell-cell edge\n",
    "pixelwise_kwargs = {\n",
    "    'dilation_radius': dilation_radius,\n",
    "    'separate_edge_classes': separate_edge_classes,\n",
    "}\n",
    "\n",
    "input_shape=(530, 530, 1)\n",
    "\n",
    "from deepcell import model_zoo\n",
    "\n",
    "fgbg_model = model_zoo.bn_feature_net_skip_2D(\n",
    "    n_features=2,  # segmentation mask (is_cell, is_not_cell)\n",
    "    receptive_field=receptive_field,\n",
    "    norm_method=norm_method,\n",
    "    n_skips=n_skips,\n",
    "    n_conv_filters=32,\n",
    "    n_dense_filters=128,\n",
    "    input_shape=input_shape,\n",
    "    last_only=False)"
   ]
  },
  {
   "cell_type": "code",
   "execution_count": 4,
   "id": "de331101",
   "metadata": {},
   "outputs": [],
   "source": [
    "fgbg_model.load_weights(\"../seg_training/attempt_1/models/test/conv_fgbg_model.h5\")"
   ]
  },
  {
   "cell_type": "markdown",
   "id": "65dcb854",
   "metadata": {},
   "source": [
    "## Pixel-wise model"
   ]
  },
  {
   "cell_type": "code",
   "execution_count": 5,
   "id": "c6894453",
   "metadata": {},
   "outputs": [],
   "source": [
    "pixelwise_model = model_zoo.bn_feature_net_skip_2D(\n",
    "    fgbg_model=fgbg_model,\n",
    "    n_features=4 if separate_edge_classes else 3,\n",
    "    receptive_field=receptive_field,\n",
    "    norm_method=norm_method,\n",
    "    n_skips=n_skips,\n",
    "    n_conv_filters=32,\n",
    "    n_dense_filters=128,\n",
    "    last_only=False,\n",
    "    input_shape=input_shape)"
   ]
  },
  {
   "cell_type": "code",
   "execution_count": 6,
   "id": "1cd37b54",
   "metadata": {},
   "outputs": [],
   "source": [
    "pixelwise_model.load_weights(\"../seg_training/attempt_1/models/test/conv_edgeseg_model.h5\")"
   ]
  },
  {
   "cell_type": "code",
   "execution_count": null,
   "id": "6c2b01df",
   "metadata": {},
   "outputs": [],
   "source": []
  },
  {
   "cell_type": "code",
   "execution_count": null,
   "id": "256e24af",
   "metadata": {},
   "outputs": [],
   "source": [
    "# Segmentation starts"
   ]
  },
  {
   "cell_type": "code",
   "execution_count": 52,
   "id": "8646dfb4",
   "metadata": {},
   "outputs": [
    {
     "data": {
      "text/plain": [
       "(100, 530, 530, 1)"
      ]
     },
     "execution_count": 52,
     "metadata": {},
     "output_type": "execute_result"
    }
   ],
   "source": [
    "x = np.load(\"../22956819/A6_raw_4.npy\")\n",
    "x.shape"
   ]
  },
  {
   "cell_type": "code",
   "execution_count": 53,
   "id": "e3b57e67",
   "metadata": {},
   "outputs": [],
   "source": [
    "images = pixelwise_model.predict(x)[-1]\n",
    "images_fgbg = fgbg_model.predict(x)[-1]"
   ]
  },
  {
   "cell_type": "code",
   "execution_count": 54,
   "id": "d9fbaac1",
   "metadata": {},
   "outputs": [],
   "source": [
    "threshold = 0.8\n",
    "\n",
    "fg_thresh = images_fgbg[..., 1] > threshold\n",
    "fg_thresh = np.expand_dims(fg_thresh, axis=-1)\n",
    "\n",
    "images_post_fgbg = images * fg_thresh"
   ]
  },
  {
   "cell_type": "code",
   "execution_count": 55,
   "id": "62347c88",
   "metadata": {},
   "outputs": [
    {
     "name": "stderr",
     "output_type": "stream",
     "text": [
      "/opt/conda/lib/python3.7/site-packages/ipykernel_launcher.py:8: UserWarning: Only one label was provided to `remove_small_objects`. Did you mean to use a boolean array?\n",
      "  \n"
     ]
    },
    {
     "name": "stdout",
     "output_type": "stream",
     "text": [
      "labeled_images shape: (100, 530, 530, 1)\n"
     ]
    }
   ],
   "source": [
    "image_list = []\n",
    "\n",
    "labeled_images = []\n",
    "for i in range(images_post_fgbg.shape[0]):\n",
    "    interior = images_post_fgbg[i, ..., 2] > .5\n",
    "    labeled_image = label(interior)\n",
    "    labeled_image = morphology.remove_small_objects(\n",
    "        labeled_image, min_size=130, connectivity=1)  ## min_size=50\n",
    "    labeled_images.append(labeled_image)\n",
    "labeled_images = np.array(labeled_images)\n",
    "labeled_images = np.expand_dims(labeled_images, axis=-1) \n",
    "    \n",
    "image_list.append(labeled_images)\n",
    "\n",
    "print('labeled_images shape:', labeled_images.shape)"
   ]
  },
  {
   "cell_type": "code",
   "execution_count": 56,
   "id": "7cd5177f",
   "metadata": {},
   "outputs": [],
   "source": [
    "# Store the segmented .npy\n",
    "\n",
    "np.save('../22956819/A6_seg_4.npy', labeled_images)"
   ]
  },
  {
   "cell_type": "code",
   "execution_count": 57,
   "id": "23e32912",
   "metadata": {},
   "outputs": [
    {
     "name": "stdout",
     "output_type": "stream",
     "text": [
      "unique_worm_ids:  [1, 2, 3]\n",
      "sequential ids:  [1, 2, 3]\n"
     ]
    },
    {
     "data": {
      "image/png": "[encoded data removed]",
      "text/plain": [
       "<Figure size 432x288 with 1 Axes>"
      ]
     },
     "metadata": {
      "needs_background": "light"
     },
     "output_type": "display_data"
    }
   ],
   "source": [
    "import gif \n",
    "\n",
    "gif.plot_gif(labeled_images, '../22956819/gif/A6_seg_4.gif')"
   ]
  },
  {
   "cell_type": "markdown",
   "id": "310ec1ac",
   "metadata": {},
   "source": [
    "## GNN tracking model"
   ]
  },
  {
   "cell_type": "code",
   "execution_count": 58,
   "id": "108b5136",
   "metadata": {},
   "outputs": [],
   "source": [
    "##### Try Well C3"
   ]
  },
  {
   "cell_type": "code",
   "execution_count": 59,
   "id": "a779c99a",
   "metadata": {},
   "outputs": [],
   "source": [
    "ROOT_DIR = '../track_train/attempt_4'  # TODO: Change this! Usually a mounted volume\n",
    "\n",
    "MODEL_DIR = os.path.abspath(os.path.join(ROOT_DIR, 'models'))\n",
    "LOG_DIR = os.path.abspath(os.path.join(ROOT_DIR, 'logs'))\n",
    "#DATA_DIR = os.path.expanduser(os.path.join('~', '.keras', 'datasets'))\n",
    "OUTPUT_DIR = os.path.abspath(os.path.join(ROOT_DIR, 'nuc_tracking'))"
   ]
  },
  {
   "cell_type": "code",
   "execution_count": 60,
   "id": "ecd29475",
   "metadata": {},
   "outputs": [],
   "source": [
    "from deepcell.model_zoo.tracking import GNNTrackingModel\n",
    "\n",
    "tm = GNNTrackingModel(max_cells=20, n_layers=1)"
   ]
  },
  {
   "cell_type": "code",
   "execution_count": 61,
   "id": "3bf8597f",
   "metadata": {},
   "outputs": [
    {
     "data": {
      "text/plain": [
       "<tensorflow.python.training.tracking.util.CheckpointLoadStatus at 0x7f64f0447090>"
      ]
     },
     "execution_count": 61,
     "metadata": {},
     "output_type": "execute_result"
    }
   ],
   "source": [
    "inf_path = os.path.join(MODEL_DIR, 'TrackingModelInf')\n",
    "ne_path = os.path.join(MODEL_DIR, 'TrackingModelNE')\n",
    "\n",
    "tm.inference_model.load_weights(inf_path)\n",
    "tm.neighborhood_encoder.load_weights(ne_path)"
   ]
  },
  {
   "cell_type": "code",
   "execution_count": 62,
   "id": "72359347",
   "metadata": {},
   "outputs": [],
   "source": [
    "# Choose and load a dataset to track using the trained model\n",
    "\n",
    "raw_images = np.load(\"../22956819/A6_raw_4.npy\")\n",
    "labeled_movie = np.load(\"../22956819/A6_seg_4.npy\")"
   ]
  },
  {
   "cell_type": "code",
   "execution_count": 63,
   "id": "c0c8c5bc",
   "metadata": {},
   "outputs": [],
   "source": [
    "from deepcell_tracking import CellTracker\n",
    "\n",
    "cell_tracker = CellTracker(\n",
    "    movie=raw_images,\n",
    "    annotation=labeled_movie,\n",
    "    track_length=8,\n",
    "    neighborhood_encoder=tm.neighborhood_encoder,\n",
    "    tracking_model=tm.inference_model)"
   ]
  },
  {
   "cell_type": "code",
   "execution_count": 64,
   "id": "185c8d6f",
   "metadata": {},
   "outputs": [
    {
     "name": "stdout",
     "output_type": "stream",
     "text": [
      "CPU times: user 12min 5s, sys: 15min 49s, total: 27min 55s\n",
      "Wall time: 22.1 s\n"
     ]
    }
   ],
   "source": [
    "%%time\n",
    "\n",
    "cell_tracker.track_cells()"
   ]
  },
  {
   "cell_type": "code",
   "execution_count": 65,
   "id": "2a819dde",
   "metadata": {},
   "outputs": [
    {
     "data": {
      "text/plain": [
       "(100, 530, 530, 1)"
      ]
     },
     "execution_count": 65,
     "metadata": {},
     "output_type": "execute_result"
    }
   ],
   "source": [
    "cell_tracker.y_tracked.shape"
   ]
  },
  {
   "cell_type": "code",
   "execution_count": 66,
   "id": "c9a360ed",
   "metadata": {},
   "outputs": [],
   "source": [
    "track = cell_tracker.y_tracked"
   ]
  },
  {
   "cell_type": "code",
   "execution_count": 67,
   "id": "80d4862e",
   "metadata": {},
   "outputs": [
    {
     "name": "stdout",
     "output_type": "stream",
     "text": [
      "[0 1]\n"
     ]
    },
    {
     "data": {
      "text/plain": [
       "<matplotlib.image.AxesImage at 0x7f63f85e1190>"
      ]
     },
     "execution_count": 67,
     "metadata": {},
     "output_type": "execute_result"
    },
    {
     "data": {
      "image/png": "[encoded data removed]",
      "text/plain": [
       "<Figure size 432x288 with 1 Axes>"
      ]
     },
     "metadata": {
      "needs_background": "light"
     },
     "output_type": "display_data"
    }
   ],
   "source": [
    "print(np.unique(track[1]))\n",
    "plt.imshow(track[0])"
   ]
  },
  {
   "cell_type": "code",
   "execution_count": 68,
   "id": "cf984621",
   "metadata": {},
   "outputs": [
    {
     "name": "stdout",
     "output_type": "stream",
     "text": [
      "unique_worm_ids:  [1, 2]\n",
      "sequential ids:  [1, 2]\n"
     ]
    },
    {
     "data": {
      "image/png": "[encoded data removed]",
      "text/plain": [
       "<Figure size 432x288 with 1 Axes>"
      ]
     },
     "metadata": {
      "needs_background": "light"
     },
     "output_type": "display_data"
    }
   ],
   "source": [
    "import gif\n",
    "\n",
    "gif.plot_gif(track, '../22956819/gif/A6_track_4.gif')"
   ]
  },
  {
   "cell_type": "code",
   "execution_count": 69,
   "id": "b65268a0",
   "metadata": {},
   "outputs": [],
   "source": [
    "np.save(\"../22956819/A6_track_4.npy\", track)"
   ]
  }
 ],
 "metadata": {
  "environment": {
   "name": "tf2-gpu.2-3.m78",
   "type": "gcloud",
   "uri": "gcr.io/deeplearning-platform-release/tf2-gpu.2-3:m78"
  },
  "kernelspec": {
   "display_name": "Python [conda env:root] *",
   "language": "python",
   "name": "conda-root-py"
  },
  "language_info": {
   "codemirror_mode": {
    "name": "ipython",
    "version": 3
   },
   "file_extension": ".py",
   "mimetype": "text/x-python",
   "name": "python",
   "nbconvert_exporter": "python",
   "pygments_lexer": "ipython3",
   "version": "3.7.10"
  }
 },
 "nbformat": 4,
 "nbformat_minor": 5
}

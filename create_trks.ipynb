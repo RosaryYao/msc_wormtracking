{
 "cells": [
  {
   "cell_type": "code",
   "execution_count": 62,
   "id": "2e1e9595",
   "metadata": {},
   "outputs": [],
   "source": [
    "import h5py\n",
    "import matplotlib.pyplot as plt\n",
    "from PIL import Image, ImageDraw\n",
    "import numpy as np\n",
    "import sys\n",
    "import time\n",
    "import pandas as pd\n",
    "import cv2\n",
    "import os\n",
    "import imageio\n",
    "import matplotlib as mpl\n",
    "from matplotlib import cm\n",
    "from matplotlib.colors import ListedColormap, LinearSegmentedColormap\n",
    "import shutil\n",
    "\n",
    "from deepcell.utils.tracking_utils import load_trks"
   ]
  },
  {
   "cell_type": "markdown",
   "id": "c7ca7ef0",
   "metadata": {},
   "source": [
    "# Make mask .npy"
   ]
  },
  {
   "cell_type": "markdown",
   "id": "10e2bf0f",
   "metadata": {},
   "source": [
    "### Functions"
   ]
  },
  {
   "cell_type": "code",
   "execution_count": 54,
   "id": "fbde1e50",
   "metadata": {},
   "outputs": [],
   "source": [
    "# Function - make dorsal ventral coordinates ==> d_x, d_y, v_x, v_y\n",
    "\n",
    "def make_dorsal_ventral_coor(dorsal, ventral, skeleton_id):\n",
    "    d_x = []\n",
    "    d_y = []\n",
    "    v_x = []\n",
    "    v_y = []\n",
    "\n",
    "    for each in dorsal[skeleton_id][:]:\n",
    "        d_x.append(each[0]/12.4)\n",
    "        d_y.append(each[1]/12.4)\n",
    "\n",
    "    for each in ventral[skeleton_id][:]:\n",
    "        v_x.append(each[0]/12.4)\n",
    "        v_y.append(each[1]/12.4)\n",
    "    \n",
    "    return d_x, d_y, v_x, v_y"
   ]
  },
  {
   "cell_type": "code",
   "execution_count": 55,
   "id": "9a84fbc6",
   "metadata": {},
   "outputs": [],
   "source": [
    "def make_mask(d_x, d_y, v_x, v_y, well, worm_index):\n",
    "    polygon = []\n",
    "\n",
    "    x_i = 0\n",
    "    while x_i < len(d_x):\n",
    "        polygon.append(d_x[x_i])\n",
    "        polygon.append(d_y[x_i])\n",
    "        x_i += 1\n",
    "\n",
    "    y_i = len(v_x)-1\n",
    "    while y_i >= 0:\n",
    "        polygon.append(v_x[y_i])\n",
    "        polygon.append(v_y[y_i])\n",
    "        y_i -= 1\n",
    "\n",
    "    width = 3600\n",
    "    height = 3036\n",
    "\n",
    "    img = Image.new('L', (width, height), 0)\n",
    "    ImageDraw.Draw(img).polygon(polygon, outline=worm_index, fill=worm_index)\n",
    "    \n",
    "    # Define well coordinates\n",
    "    if well == 'D4':\n",
    "        mask = np.array(img)[180:710, 160:690]  \n",
    "    elif well == 'D3':\n",
    "        mask = np.array(img)[180:710, 880:1410]  \n",
    "    elif well == 'D2':\n",
    "        mask = np.array(img)[180:710, 1600:2130]\n",
    "    elif well == 'D1':\n",
    "        mask = np.array(img)[180:710, 2320:2850]\n",
    "    elif well == 'C4':\n",
    "        mask = np.array(img)[895:1425, 160:690]\n",
    "    elif well == 'C3':\n",
    "        mask = np.array(img)[895:1425, 880:1410]\n",
    "    elif well == 'C2':\n",
    "        mask = np.array(img)[895:1425, 1600:2130]\n",
    "    elif well == 'C1':\n",
    "        mask = np.array(img)[895:1425, 2320:2850]\n",
    "    elif well == 'B4':\n",
    "        mask = np.array(img)[1620:2150, 160:690] \n",
    "    elif well == 'B3':\n",
    "        mask = np.array(img)[1620:2150, 880:1410] \n",
    "    elif well == 'B2':\n",
    "        mask = np.array(img)[1620:2150, 1600:2130] \n",
    "    elif well == 'B1':\n",
    "        mask = np.array(img)[1620:2150, 2320:2850] \n",
    "    elif well == 'A4':\n",
    "        mask = np.array(img)[2340:2870, 180:710]\n",
    "    elif well == 'A3':\n",
    "        mask = np.array(img)[2340:2870, 880:1410]\n",
    "    elif well == 'A2':\n",
    "        mask = np.array(img)[2340:2870, 1600:2130]\n",
    "    elif well == 'A1':\n",
    "        mask = np.array(img)[2340:2870, 2320:2850] \n",
    "        \n",
    "    mask_cp = np.copy(mask)\n",
    "    mask_cp = mask_cp.astype(np.uint16)\n",
    "    if worm_index != 255:\n",
    "        mask_cp[mask_cp >= 255] = worm_index\n",
    "        \n",
    "    return mask_cp"
   ]
  },
  {
   "cell_type": "code",
   "execution_count": 100,
   "id": "338030f8",
   "metadata": {},
   "outputs": [],
   "source": [
    "# function - create 9002*530*530 mask for each well\n",
    "\n",
    "def make_well_mask(well='A4', dorsal=dorsal, ventral=ventral, well_dict=well_dict, filename=False, down_sampling=1, frame_start=0, frame_end=9001):  \n",
    "    pd = traj.loc[well_dict[well], :]  # So here it is the position_index, not skel_id\n",
    "    list_stack = []\n",
    "    start_time = time.time()\n",
    "    array_2d = np.zeros(shape=(530, 530), dtype=np.int16)\n",
    "    \n",
    "    print(\"--------------------%s------------------------\" % well)\n",
    "\n",
    "    ## Second, do frame by frame\n",
    "    frame_index = frame_start\n",
    "    while frame_index <= frame_end:  \n",
    "        array_2d = np.zeros(shape=(530, 530), dtype=np.int16)\n",
    "        skel_id_inframe = list(pd[pd[\"frame_number\"] == frame_index]['skeleton_id'])\n",
    "        worm_id_inframe = list(pd[pd[\"frame_number\"] == frame_index]['worm_index_joined'])\n",
    "\n",
    "        for i, skel_id in enumerate(skel_id_inframe):\n",
    "            worm_index = worm_id_inframe[i]\n",
    "            dx, dy, vx, vy = make_dorsal_ventral_coor(dorsal, ventral, skel_id)\n",
    "            mask = make_mask(dx, dy, vx, vy, well, worm_index)\n",
    "            array_2d = array_2d + mask\n",
    "\n",
    "        list_stack.append(array_2d)\n",
    "\n",
    "        if frame_index == frame_start:\n",
    "            print(\"Starts at: \", frame_index)\n",
    "        \n",
    "        if frame_index%200 == 0:\n",
    "            print(\"Finish frame_index: \", frame_index)\n",
    "            print(\"--- %s seconds ---\" % (time.time() - start_time))\n",
    "\n",
    "        if frame_index == frame_end:\n",
    "            print(\"Finish!\")\n",
    "            print(\"--- %s seconds ---\" % (time.time() - start_time))\n",
    "\n",
    "        frame_index += 1\n",
    "    print(\"length of list_stack: \", len(list_stack))\n",
    "    stacked_array = np.stack(list_stack, axis=0)\n",
    "    stacked_array = stacked_array[:,:,:, np.newaxis]\n",
    "    \n",
    "    if filename:\n",
    "        output_filename = filename\n",
    "    else:\n",
    "        output_filename = \"worm_data/22956814/mask_%s.npy\" % well\n",
    "    \n",
    "    if down_sampling != 1:\n",
    "        stacked_array = stacked_array[frame_start:(frame_end+1):down_sampling, :, :, :]\n",
    "    \n",
    "    np.save(output_filename, stacked_array)\n",
    "    \n",
    "    return stacked_array"
   ]
  },
  {
   "cell_type": "markdown",
   "id": "ad9ef171",
   "metadata": {},
   "source": [
    "### Create variables"
   ]
  },
  {
   "cell_type": "code",
   "execution_count": 4,
   "id": "0165bcd6",
   "metadata": {},
   "outputs": [],
   "source": [
    "# Input file\n",
    "fN = h5py.File(\"../22956814_featuresN.hdf5\")\n",
    "\n",
    "# Define dorsal and ventral coordinates\n",
    "coordinates = fN['coordinates']\n",
    "dorsal = coordinates['dorsal_contours']\n",
    "ventral = coordinates['ventral_contours']\n",
    "\n",
    "# trajectory_data and timeseries_data\n",
    "traj = pd.read_hdf(\"../22956814_featuresN.hdf5\", '/trajectories_data')\n",
    "timeseries = fN['timeseries_data']"
   ]
  },
  {
   "cell_type": "code",
   "execution_count": 5,
   "id": "9262d31d",
   "metadata": {},
   "outputs": [],
   "source": [
    "# Get wells - data from timeseries_data, at position [2]\n",
    "\n",
    "wells = ['A1', 'A2', 'A3', 'A4', 'B1', 'B2', 'B3', 'B4', 'C1', 'C2', 'C3', 'C4', 'D1', 'D2', 'D3', 'D4']\n",
    "#wells = [each.encode() for each in wells]\n",
    "\n",
    "well_dict = {}\n",
    "for each in wells:\n",
    "    well_dict[each] = []\n",
    "    \n",
    "#print('A1'.encode().decode())\n",
    "for i, each in enumerate(timeseries[:]):  # \"i\" == index\n",
    "    well = each[2].decode()\n",
    "    if well in well_dict.keys():\n",
    "        well_dict[well].append(i)"
   ]
  },
  {
   "cell_type": "markdown",
   "id": "1934e0fa",
   "metadata": {},
   "source": [
    "### Create mask .npy"
   ]
  },
  {
   "cell_type": "code",
   "execution_count": 74,
   "id": "32cda140",
   "metadata": {},
   "outputs": [],
   "source": [
    "import random\n",
    "\n",
    "frame_starts = [random.randint(0, 8401) for x in range(5)]"
   ]
  },
  {
   "cell_type": "code",
   "execution_count": 105,
   "id": "87c14977",
   "metadata": {},
   "outputs": [
    {
     "name": "stdout",
     "output_type": "stream",
     "text": [
      "--------------------A1------------------------\n",
      "Starts at:  0\n",
      "Finish frame_index:  0\n",
      "--- 0.017968177795410156 seconds ---\n",
      "Finish frame_index:  200\n",
      "--- 2.8046185970306396 seconds ---\n",
      "Finish frame_index:  400\n",
      "--- 5.4634013175964355 seconds ---\n",
      "Finish!\n",
      "--- 8.242723941802979 seconds ---\n",
      "length of list_stack:  600\n"
     ]
    }
   ],
   "source": [
    "frame_start = 0\n",
    "down_sampling = 6\n",
    "frame_end = frame_start+100*down_sampling-1\n",
    "\n",
    "a1_m1 = make_well_mask('A1', down_sampling=down_sampling, frame_start=frame_start, frame_end=frame_end, filename='../22956814/a1_mask_1.npy')"
   ]
  },
  {
   "cell_type": "code",
   "execution_count": 106,
   "id": "df0b61ec",
   "metadata": {},
   "outputs": [
    {
     "data": {
      "text/plain": [
       "(100, 530, 530, 1)"
      ]
     },
     "execution_count": 106,
     "metadata": {},
     "output_type": "execute_result"
    }
   ],
   "source": [
    "a1_m1.shape"
   ]
  },
  {
   "cell_type": "code",
   "execution_count": 67,
   "id": "87dc86d0",
   "metadata": {},
   "outputs": [],
   "source": [
    "# Check gif\n",
    "\n",
    "def plot_gif(np_array, output_fn):\n",
    "    mpl.rcParams['image.interpolation'] = 'none'  # Prevent mpl smoothes the edges\n",
    "    os.mkdir(\"pic_temporary\")  # To temporarily store the files\n",
    "\n",
    "    #spring = cm.get_cmap('spring', 256)\n",
    "    #newcolors = spring(np.linspace(0, 256, 256))\n",
    "    #black = np.array([0/256, 0/256, 0/256, 1])\n",
    "    #newcolors[:1, :] = black\n",
    "    #newcmp = ListedColormap(newcolors)\n",
    "\n",
    "    pic_list = []\n",
    "    flag = 0\n",
    "\n",
    "    for i in range(np_array.shape[0]):\n",
    "        #plt.imshow(np_array[i], cmap=newcmp)\n",
    "        mask = np_array[i]\n",
    "        mask = np.where(mask==0, -1, mask) \n",
    "        #print(np.unique(mask_1))\n",
    "\n",
    "        value = -1\n",
    "        masked_array = np.ma.masked_where(mask == value, mask)\n",
    "\n",
    "        #cmap = mpl.cm.get_cmap(\"spring\")\n",
    "        cmap = mpl.cm.get_cmap(\"spring\").copy()\n",
    "        cmap.set_bad(color='black')\n",
    "        \n",
    "        plt.imshow(masked_array, cmap=cmap)\n",
    "        \n",
    "        fn = 'pic_temporary/%d.jpg' % flag\n",
    "        plt.savefig(fn)\n",
    "        pic_list.append(fn)\n",
    "        flag += 1\n",
    "    \n",
    "    with imageio.get_writer(output_fn, mode='I') as writer:\n",
    "        for filename in pic_list:\n",
    "            image = imageio.imread(filename)\n",
    "            writer.append_data(image)\n",
    "    \n",
    "    # Remove the temporary file\n",
    "    shutil.rmtree(\"pic_temporary\")\n",
    "    \n",
    "    #return pic_list"
   ]
  },
  {
   "cell_type": "code",
   "execution_count": null,
   "id": "3b860aa0",
   "metadata": {},
   "outputs": [],
   "source": [
    "plot_gif(m_a1_0_600, \"../22956814/mask_a1_0_600.gif\")"
   ]
  },
  {
   "cell_type": "markdown",
   "id": "e990760a",
   "metadata": {},
   "source": [
    "# Make raw video npy"
   ]
  },
  {
   "cell_type": "markdown",
   "id": "cf2aa3cc",
   "metadata": {},
   "source": [
    "### Functions"
   ]
  },
  {
   "cell_type": "code",
   "execution_count": null,
   "id": "4b513fb5",
   "metadata": {},
   "outputs": [],
   "source": [
    "def get_raw_well(well, well_name='A4', filename=False, down_sampling=False, frame_start=0, frame_end=9001, down_sampling=1, filename=False):    \n",
    "    print(well_name)\n",
    "    frames = []\n",
    "    \n",
    "    ymin = well[0]\n",
    "    ymax = well[1]\n",
    "    xmin = well[2]\n",
    "    xmax = well[3]\n",
    "\n",
    "    path = \"000000.mp4\"\n",
    "    cap = cv2.VideoCapture(path)\n",
    "    ret = True\n",
    "    while ret:\n",
    "        ret, img = cap.read() # read one frame from the 'capture' object; img is (H, W, C)\n",
    "        if ret:\n",
    "            frames.append(img[ymin:ymax, xmin:xmax, :])\n",
    "    \n",
    "    stacked = np.stack(frames, axis=0)\n",
    "    stacked = stacked.astype(dtype='float32')\n",
    "    stacked_mean = np.mean(stacked, axis=3)[:,:,:,None]\n",
    "    \n",
    "    if frame_start != 0 or frame_end != 9001 or down_sampling != 1:\n",
    "        stacked_mean = stacked_mean[frame_start:(frame_end+1):down_sampling, :, :, :]\n",
    "    \n",
    "    if filename:\n",
    "        output_fn = filename\n",
    "    else:\n",
    "        output_fn = 'well_A/raw_%s.npy' % well_name\n",
    "        \n",
    "    np.save(output_fn, stacked_mean)\n",
    "    \n",
    "    return stacked_mean"
   ]
  },
  {
   "cell_type": "markdown",
   "id": "9b49fc2b",
   "metadata": {},
   "source": [
    "### Define well regions"
   ]
  },
  {
   "cell_type": "code",
   "execution_count": null,
   "id": "32096d8b",
   "metadata": {},
   "outputs": [],
   "source": [
    "# get well by well, and store\n",
    "d4 = [180, 710, 160, 690]\n",
    "d3 = [180, 710, 880, 1410]\n",
    "d2 = [180, 710, 1600, 2130]\n",
    "d1 = [180, 710, 2320, 2850]\n",
    "\n",
    "c4 = [895, 1425, 160, 690]\n",
    "c3 = [895, 1425, 880, 1410]\n",
    "c2 = [895, 1425, 1600, 2130]\n",
    "c1 = [895, 1425, 2320, 2850]\n",
    "\n",
    "b4 = [1620, 2150, 160, 690]\n",
    "b3 = [1620, 2150, 880, 1410]\n",
    "b2 = [1620, 2150, 1600, 2130]\n",
    "b1 = [1620, 2150, 2320, 2850]\n",
    "\n",
    "a4 = [2340, 2870, 160, 690]\n",
    "a3 = [2340, 2870, 880, 1410]\n",
    "a2 = [2340, 2870, 1600, 2130]\n",
    "a1 = [2340, 2870, 2320, 2850]"
   ]
  },
  {
   "cell_type": "code",
   "execution_count": null,
   "id": "64017699",
   "metadata": {},
   "outputs": [],
   "source": [
    "get_raw_well(a1, \"A1\", small=True, down_sampling=False, frame_start=0, frame_end=599, down_sampling=6, filename=\"22956814/A1_raw_0_599.npy\")\n",
    "#get_raw_well(a1, \"A1\", small=True, down_sampling=False, frame_start=600, frame_end=1199, down_sampling=6, filename=\"22956814/A1_raw_600_1199.npy\")\n",
    "#get_raw_well(a1, \"A1\", small=True, down_sampling=False, frame_start=1200, frame_end=1799, down_sampling=6, filename=\"22956814/A1_raw_1200_1799.npy\")\n",
    "#get_raw_well(a1, \"A1\", small=True, down_sampling=False, frame_start=1800, frame_end=2399, down_sampling=6, filename=\"22956814/A1_raw_1800_2399.npy\")\n",
    "#get_raw_well(a1, \"A1\", small=True, down_sampling=False, frame_start=2400, frame_end=2999, down_sampling=6, filename=\"22956814/A1_raw_2400_2999.npy\")"
   ]
  },
  {
   "cell_type": "markdown",
   "id": "c8b56f85",
   "metadata": {},
   "source": [
    "### Create raw .npy files"
   ]
  },
  {
   "cell_type": "markdown",
   "id": "ab69a5d8",
   "metadata": {},
   "source": [
    "# Make lineages dict"
   ]
  },
  {
   "cell_type": "code",
   "execution_count": 48,
   "id": "8f958e41",
   "metadata": {},
   "outputs": [],
   "source": [
    "def make_lineages(well, frame_start=0, frame_end=9002):  # TODO: check the unique worm ids within the frame_start and frame_end\n",
    "    pd= traj.loc[well_dict[well], :]\n",
    "    worm_ids = pd['worm_index_joined']\n",
    "    unique_worm_ids = list(np.unique(worm_ids))  \n",
    "    \n",
    "    lineages = {}\n",
    "        \n",
    "    for worm in unique_worm_ids:\n",
    "        worm_pd = pd.loc[pd['worm_index_joined'] == worm]\n",
    "        worm_pd_trim = worm_pd[worm_pd['frame_number'].between(frame_start, frame_end)]\n",
    "        \n",
    "        if worm_pd_trim.empty == False:  # So only adds in the worm in the frames    \n",
    "            lineages[int(worm)] = {}\n",
    "            \n",
    "            nested_dict = {}\n",
    "            nested_dict['label'] = int(worm)\n",
    "            \n",
    "            frame_list = []\n",
    "            for frame in worm_pd_trim['frame_number']:  # TODO: edit here\n",
    "                frame_list.append(int(frame))\n",
    "            nested_dict['frames'] = frame_list\n",
    "\n",
    "            nested_dict['daughters'] = []\n",
    "            nested_dict['capped'] = False\n",
    "            nested_dict['frame-div'] = None\n",
    "            nested_dict['parent'] = None\n",
    "\n",
    "            lineages[worm] = nested_dict\n",
    "        \n",
    "    return lineages"
   ]
  }
 ],
 "metadata": {
  "environment": {
   "name": "common-cu110.m76",
   "type": "gcloud",
   "uri": "gcr.io/deeplearning-platform-release/base-cu110:m76"
  },
  "kernelspec": {
   "display_name": "Python [conda env:root] *",
   "language": "python",
   "name": "conda-root-py"
  },
  "language_info": {
   "codemirror_mode": {
    "name": "ipython",
    "version": 3
   },
   "file_extension": ".py",
   "mimetype": "text/x-python",
   "name": "python",
   "nbconvert_exporter": "python",
   "pygments_lexer": "ipython3",
   "version": "3.7.10"
  }
 },
 "nbformat": 4,
 "nbformat_minor": 5
}

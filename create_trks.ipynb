{
 "cells": [
  {
   "cell_type": "code",
   "execution_count": 1,
   "id": "f1312d4a",
   "metadata": {},
   "outputs": [
    {
     "name": "stderr",
     "output_type": "stream",
     "text": [
      "/opt/conda/lib/python3.7/site-packages/tensorflow-2.5.0-py3.7-linux-x86_64.egg/tensorflow/python/keras/optimizer_v2/optimizer_v2.py:375: UserWarning: The `lr` argument is deprecated, use `learning_rate` instead.\n",
      "  \"The `lr` argument is deprecated, use `learning_rate` instead.\")\n"
     ]
    }
   ],
   "source": [
    "import h5py\n",
    "import matplotlib.pyplot as plt\n",
    "from PIL import Image, ImageDraw\n",
    "import numpy as np\n",
    "import sys\n",
    "import time\n",
    "import pandas as pd\n",
    "import cv2\n",
    "import os\n",
    "import imageio\n",
    "import matplotlib as mpl\n",
    "from matplotlib import cm\n",
    "from matplotlib.colors import ListedColormap, LinearSegmentedColormap\n",
    "import shutil\n",
    "import random\n",
    "\n",
    "from deepcell.utils.tracking_utils import load_trks"
   ]
  },
  {
   "cell_type": "markdown",
   "id": "88e07f31",
   "metadata": {},
   "source": [
    "# Make mask .npy"
   ]
  },
  {
   "cell_type": "markdown",
   "id": "816dd7c6",
   "metadata": {},
   "source": [
    "### Functions"
   ]
  },
  {
   "cell_type": "code",
   "execution_count": 4,
   "id": "fcc09630",
   "metadata": {},
   "outputs": [],
   "source": [
    "# Function - make dorsal ventral coordinates ==> d_x, d_y, v_x, v_y\n",
    "\n",
    "def make_dorsal_ventral_coor(dorsal, ventral, skeleton_id):\n",
    "    d_x = []\n",
    "    d_y = []\n",
    "    v_x = []\n",
    "    v_y = []\n",
    "\n",
    "    for each in dorsal[skeleton_id][:]:\n",
    "        d_x.append(each[0]/12.4)\n",
    "        d_y.append(each[1]/12.4)\n",
    "\n",
    "    for each in ventral[skeleton_id][:]:\n",
    "        v_x.append(each[0]/12.4)\n",
    "        v_y.append(each[1]/12.4)\n",
    "    \n",
    "    return d_x, d_y, v_x, v_y"
   ]
  },
  {
   "cell_type": "code",
   "execution_count": 6,
   "id": "6a2406ac",
   "metadata": {},
   "outputs": [],
   "source": [
    "def make_mask(d_x, d_y, v_x, v_y, well, worm_index):\n",
    "    polygon = []\n",
    "\n",
    "    x_i = 0\n",
    "    while x_i < len(d_x):\n",
    "        polygon.append(d_x[x_i])\n",
    "        polygon.append(d_y[x_i])\n",
    "        x_i += 1\n",
    "\n",
    "    y_i = len(v_x)-1\n",
    "    while y_i >= 0:\n",
    "        polygon.append(v_x[y_i])\n",
    "        polygon.append(v_y[y_i])\n",
    "        y_i -= 1\n",
    "\n",
    "    width = 3600\n",
    "    height = 3036\n",
    "\n",
    "    img = Image.new('L', (width, height), 0)\n",
    "    ImageDraw.Draw(img).polygon(polygon, outline=worm_index, fill=worm_index)\n",
    "    \n",
    "    # Define well coordinates\n",
    "    if well == 'D4':\n",
    "        mask = np.array(img)[180:710, 160:690]  \n",
    "    elif well == 'D3':\n",
    "        mask = np.array(img)[180:710, 880:1410]  \n",
    "    elif well == 'D2':\n",
    "        mask = np.array(img)[180:710, 1600:2130]\n",
    "    elif well == 'D1':\n",
    "        mask = np.array(img)[180:710, 2320:2850]\n",
    "    elif well == 'C4':\n",
    "        mask = np.array(img)[895:1425, 160:690]\n",
    "    elif well == 'C3':\n",
    "        mask = np.array(img)[895:1425, 880:1410]\n",
    "    elif well == 'C2':\n",
    "        mask = np.array(img)[895:1425, 1600:2130]\n",
    "    elif well == 'C1':\n",
    "        mask = np.array(img)[895:1425, 2320:2850]\n",
    "    elif well == 'B4':\n",
    "        mask = np.array(img)[1620:2150, 160:690] \n",
    "    elif well == 'B3':\n",
    "        mask = np.array(img)[1620:2150, 880:1410] \n",
    "    elif well == 'B2':\n",
    "        mask = np.array(img)[1620:2150, 1600:2130] \n",
    "    elif well == 'B1':\n",
    "        mask = np.array(img)[1620:2150, 2320:2850] \n",
    "    elif well == 'A4':\n",
    "        mask = np.array(img)[2340:2870, 180:710]\n",
    "    elif well == 'A3':\n",
    "        mask = np.array(img)[2340:2870, 880:1410]\n",
    "    elif well == 'A2':\n",
    "        mask = np.array(img)[2340:2870, 1600:2130]\n",
    "    elif well == 'A1':\n",
    "        mask = np.array(img)[2340:2870, 2320:2850] \n",
    "        \n",
    "    mask_cp = np.copy(mask)\n",
    "    mask_cp = mask_cp.astype(np.uint16)\n",
    "    if worm_index != 255:\n",
    "        mask_cp[mask_cp >= 255] = worm_index\n",
    "        \n",
    "    return mask_cp"
   ]
  },
  {
   "cell_type": "code",
   "execution_count": 7,
   "id": "65c5b271",
   "metadata": {},
   "outputs": [],
   "source": [
    "# function - create 9002*530*530 mask for each well\n",
    "\n",
    "def make_well_mask(well='A4', dorsal=dorsal, ventral=ventral, well_dict=well_dict, filename=False, down_sampling=1, frame_start=0, frame_end=9001):  \n",
    "    pd = traj.loc[well_dict[well], :]  # So here it is the position_index, not skel_id\n",
    "    list_stack = []\n",
    "    start_time = time.time()\n",
    "    array_2d = np.zeros(shape=(530, 530), dtype=np.int16)\n",
    "    \n",
    "    print(\"--------------------%s------------------------\" % well)\n",
    "\n",
    "    ## Second, do frame by frame\n",
    "    frame_index = frame_start\n",
    "    while frame_index <= frame_end:  \n",
    "        array_2d = np.zeros(shape=(530, 530), dtype=np.int16)\n",
    "        skel_id_inframe = list(pd[pd[\"frame_number\"] == frame_index]['skeleton_id'])\n",
    "        worm_id_inframe = list(pd[pd[\"frame_number\"] == frame_index]['worm_index_joined'])\n",
    "\n",
    "        for i, skel_id in enumerate(skel_id_inframe):\n",
    "            worm_index = worm_id_inframe[i]\n",
    "            dx, dy, vx, vy = make_dorsal_ventral_coor(dorsal, ventral, skel_id)\n",
    "            mask = make_mask(dx, dy, vx, vy, well, worm_index)\n",
    "            array_2d = array_2d + mask\n",
    "\n",
    "        list_stack.append(array_2d)\n",
    "\n",
    "        if frame_index == frame_start:\n",
    "            print(\"Starts at: \", frame_index)\n",
    "        \n",
    "        if frame_index%200 == 0:\n",
    "            print(\"Finish frame_index: \", frame_index)\n",
    "            print(\"--- %s seconds ---\" % (time.time() - start_time))\n",
    "\n",
    "        if frame_index == frame_end:\n",
    "            print(\"Finish!\")\n",
    "            print(\"--- %s seconds ---\" % (time.time() - start_time))\n",
    "\n",
    "        frame_index += 1\n",
    "    print(\"length of list_stack: \", len(list_stack))\n",
    "    stacked_array = np.stack(list_stack, axis=0)\n",
    "    stacked_array = stacked_array[:,:,:, np.newaxis]\n",
    "    \n",
    "    if filename:\n",
    "        output_filename = filename\n",
    "    else:\n",
    "        output_filename = \"worm_data/22956814/mask_%s.npy\" % well\n",
    "    \n",
    "    if down_sampling != 1:\n",
    "        stacked_array = stacked_array[frame_start:(frame_end+1):down_sampling, :, :, :]\n",
    "    \n",
    "    np.save(output_filename, stacked_array)\n",
    "    \n",
    "    return stacked_array"
   ]
  },
  {
   "cell_type": "markdown",
   "id": "c9b4aac2",
   "metadata": {},
   "source": [
    "### Create variables"
   ]
  },
  {
   "cell_type": "code",
   "execution_count": 2,
   "id": "263e96d2",
   "metadata": {},
   "outputs": [],
   "source": [
    "# Input file\n",
    "fN = h5py.File(\"../22956814_featuresN.hdf5\")\n",
    "\n",
    "# Define dorsal and ventral coordinates\n",
    "coordinates = fN['coordinates']\n",
    "dorsal = coordinates['dorsal_contours']\n",
    "ventral = coordinates['ventral_contours']\n",
    "\n",
    "# trajectory_data and timeseries_data\n",
    "traj = pd.read_hdf(\"../22956814_featuresN.hdf5\", '/trajectories_data')\n",
    "timeseries = fN['timeseries_data']"
   ]
  },
  {
   "cell_type": "code",
   "execution_count": 3,
   "id": "b4d876b3",
   "metadata": {},
   "outputs": [],
   "source": [
    "# Get wells - data from timeseries_data, at position [2]\n",
    "\n",
    "wells = ['A1', 'A2', 'A3', 'A4', 'B1', 'B2', 'B3', 'B4', 'C1', 'C2', 'C3', 'C4', 'D1', 'D2', 'D3', 'D4']\n",
    "#wells = [each.encode() for each in wells]\n",
    "\n",
    "well_dict = {}\n",
    "for each in wells:\n",
    "    well_dict[each] = []\n",
    "    \n",
    "#print('A1'.encode().decode())\n",
    "for i, each in enumerate(timeseries[:]):  # \"i\" == index\n",
    "    well = each[2].decode()\n",
    "    if well in well_dict.keys():\n",
    "        well_dict[well].append(i)"
   ]
  },
  {
   "cell_type": "markdown",
   "id": "3059c863",
   "metadata": {},
   "source": [
    "### Create mask .npy"
   ]
  },
  {
   "cell_type": "markdown",
   "id": "71a324f8",
   "metadata": {},
   "source": [
    "##### Well A1"
   ]
  },
  {
   "cell_type": "code",
   "execution_count": 9,
   "id": "87326d1b",
   "metadata": {},
   "outputs": [],
   "source": [
    "import random"
   ]
  },
  {
   "cell_type": "code",
   "execution_count": 30,
   "id": "80e093f3",
   "metadata": {},
   "outputs": [],
   "source": [
    "pd= traj.loc[well_dict['A1'], :]\n",
    "worm_ids = pd['worm_index_joined']\n",
    "unique_worm_ids = list(np.unique(worm_ids))  "
   ]
  },
  {
   "cell_type": "code",
   "execution_count": 39,
   "id": "7fd3d377",
   "metadata": {},
   "outputs": [
    {
     "data": {
      "text/plain": [
       "[9, 1533, 1783, 1787, 1792, 1799, 1845, 4500, 5980]"
      ]
     },
     "execution_count": 39,
     "metadata": {},
     "output_type": "execute_result"
    }
   ],
   "source": [
    "unique_worm_ids"
   ]
  },
  {
   "cell_type": "code",
   "execution_count": 68,
   "id": "ee1105e1",
   "metadata": {},
   "outputs": [],
   "source": [
    "# Find the first frame for the above worm to appear:\n",
    "frame_starts_a1 = []\n",
    "for worm in unique_worm_ids:\n",
    "    frame_starts_a1.append(list(pd[pd['worm_index_joined'] == worm]['frame_number'])[0])"
   ]
  },
  {
   "cell_type": "code",
   "execution_count": 69,
   "id": "1d829569",
   "metadata": {},
   "outputs": [
    {
     "data": {
      "text/plain": [
       "[0, 2275, 2650, 2651, 2659, 2669, 2715, 6700, 8950]"
      ]
     },
     "execution_count": 69,
     "metadata": {},
     "output_type": "execute_result"
    }
   ],
   "source": [
    "frame_starts_a1"
   ]
  },
  {
   "cell_type": "code",
   "execution_count": 70,
   "id": "c1fd2523",
   "metadata": {},
   "outputs": [
    {
     "name": "stdout",
     "output_type": "stream",
     "text": [
      "[6, 6, 6, 4, 7, 10, 7, 1, 5]\n"
     ]
    }
   ],
   "source": [
    "# Also create 5 random.randint between 1,10 for down_sampling:\n",
    "\n",
    "random_down_sampling = [random.randint(1, 10) for x in range(len(unique_worm_ids))]\n",
    "print(random_down_sampling)"
   ]
  },
  {
   "cell_type": "code",
   "execution_count": 71,
   "id": "0a0bde39",
   "metadata": {},
   "outputs": [
    {
     "name": "stdout",
     "output_type": "stream",
     "text": [
      "--------------------A1------------------------\n",
      "Starts at:  0\n",
      "Finish frame_index:  0\n",
      "--- 0.015425443649291992 seconds ---\n",
      "Finish frame_index:  200\n",
      "--- 2.755995035171509 seconds ---\n",
      "Finish frame_index:  400\n",
      "--- 5.312572717666626 seconds ---\n",
      "Finish!\n",
      "--- 7.86336088180542 seconds ---\n",
      "length of list_stack:  600\n"
     ]
    }
   ],
   "source": [
    "# [0]\n",
    "\n",
    "down_sampling = random_down_sampling[0]\n",
    "frame_start = frame_starts_a1[0]\n",
    "frame_end = frame_start + 100*down_sampling -1\n",
    "\n",
    "a1_m1 = make_well_mask('A1', down_sampling=down_sampling, frame_start=frame_start, frame_end=frame_end, filename='../22956814/a1_mask_1.npy')"
   ]
  },
  {
   "cell_type": "code",
   "execution_count": 72,
   "id": "d9b673bf",
   "metadata": {},
   "outputs": [
    {
     "data": {
      "text/plain": [
       "array([0, 9], dtype=int32)"
      ]
     },
     "execution_count": 72,
     "metadata": {},
     "output_type": "execute_result"
    }
   ],
   "source": [
    "np.unique(a1_m1)  # check unique!! "
   ]
  },
  {
   "cell_type": "code",
   "execution_count": 92,
   "id": "2324ff4a",
   "metadata": {},
   "outputs": [
    {
     "name": "stdout",
     "output_type": "stream",
     "text": [
      "--------------------A1------------------------\n",
      "Starts at:  6700\n",
      "Finish!\n",
      "--- 1.652681589126587 seconds ---\n",
      "length of list_stack:  100\n"
     ]
    }
   ],
   "source": [
    "# [1] fails...\n",
    "# [2] fails...\n",
    "# [3] fails...\n",
    "# [4] fails...\n",
    "# [5] fails...\n",
    "# [6] fails...\n",
    "# [7] good !! (the last)\n",
    "\n",
    "down_sampling = random_down_sampling[7]\n",
    "frame_start = frame_starts_a1[7]\n",
    "frame_end = frame_start + 100*down_sampling -1\n",
    "\n",
    "a1_m2 = make_well_mask('A1', down_sampling=down_sampling, frame_start=frame_start, frame_end=frame_end, filename='../22956814/a1_mask_2.npy')"
   ]
  },
  {
   "cell_type": "code",
   "execution_count": 93,
   "id": "0594c9ab",
   "metadata": {},
   "outputs": [
    {
     "data": {
      "text/plain": [
       "array([   0, 4500], dtype=int32)"
      ]
     },
     "execution_count": 93,
     "metadata": {},
     "output_type": "execute_result"
    }
   ],
   "source": [
    "np.unique(a1_m2)  # check unique!! "
   ]
  },
  {
   "cell_type": "code",
   "execution_count": null,
   "id": "7d471312",
   "metadata": {},
   "outputs": [],
   "source": [
    "a1_full = make_well_mask('A1', down_sampling=100, frame_start=0, frame_end=9002, filename='../22956814/a1_mask.npy')"
   ]
  },
  {
   "cell_type": "code",
   "execution_count": 107,
   "id": "a82c6472",
   "metadata": {},
   "outputs": [],
   "source": [
    "# Note down the positions\n",
    "with open(\"../22956814/a1_not_empty.txt\", \"w\") as f:\n",
    "    f.write(str(0) + ',' + str(599) + ',' + str(6) + '\\n')\n",
    "    f.write(str(6700) + ',' + str(6799) + ',' + str(1))"
   ]
  },
  {
   "cell_type": "code",
   "execution_count": null,
   "id": "c811388c",
   "metadata": {},
   "outputs": [],
   "source": []
  },
  {
   "cell_type": "markdown",
   "id": "8774b77d",
   "metadata": {},
   "source": [
    "#### Well A2"
   ]
  },
  {
   "cell_type": "code",
   "execution_count": 95,
   "id": "f9ec225e",
   "metadata": {},
   "outputs": [
    {
     "name": "stdout",
     "output_type": "stream",
     "text": [
      "[7, 8, 223, 344, 354, 412, 545, 572, 577, 650, 703, 707, 716, 1241, 1278, 1338, 1351, 1361, 1367, 1406, 1730, 1768, 2121, 2678, 3127, 3150, 3164, 3189, 3224, 3342, 3346, 3364, 3676, 3979, 5325, 5550, 5696, 5792]\n",
      "[0, 0, 300, 510, 525, 615, 850, 890, 896, 1000, 1078, 1088, 1107, 1875, 1925, 2000, 2019, 2029, 2046, 2076, 2575, 2625, 3150, 4000, 4750, 4772, 4800, 4825, 4875, 5068, 5073, 5100, 5575, 6000, 7950, 8250, 8475, 8625]\n",
      "[7, 10, 4, 7, 8, 1, 1, 6, 6, 5, 5, 9, 9, 9, 8, 3, 2, 1, 10, 5, 4, 6, 7, 5, 3, 8, 3, 3, 4, 10, 6, 7, 2, 1, 2, 4, 3, 1]\n"
     ]
    }
   ],
   "source": [
    "pd= traj.loc[well_dict['A2'], :]\n",
    "worm_ids = pd['worm_index_joined']\n",
    "unique_worm_ids = list(np.unique(worm_ids)) \n",
    "print(unique_worm_ids)\n",
    "\n",
    "# Find the first frame for the above worm to appear:\n",
    "frame_starts_a2 = []\n",
    "for worm in unique_worm_ids:\n",
    "    frame_starts_a2.append(list(pd[pd['worm_index_joined'] == worm]['frame_number'])[0])\n",
    "print(frame_starts_a2)\n",
    "\n",
    "# Also create random.randint between 1,10 for down_sampling:\n",
    "random_down_sampling_a2 = [random.randint(1, 10) for x in range(len(unique_worm_ids))]\n",
    "print(random_down_sampling_a2)"
   ]
  },
  {
   "cell_type": "code",
   "execution_count": null,
   "id": "3fe11806",
   "metadata": {},
   "outputs": [],
   "source": [
    "a2_not_empty = []\n",
    "rename_flag = 1\n",
    "\n",
    "for i, start in enumerate(frame_starts_a2):\n",
    "    frame_start = start\n",
    "    down_sampling = random_down_sampling_a2[i]\n",
    "    frame_end = start + 100*down_sampling - 1\n",
    "    fn = '../22956814/a2_mask_%d.npy' % (i+1)  # '+1' to avoid rewriting the next file!!!!\n",
    "    \n",
    "    a2_array = make_well_mask('A2', down_sampling=down_sampling, frame_start=frame_start, frame_end=frame_end, filename=fn)\n",
    "    if a2_array.size == 0:\n",
    "        os.remove(fn)\n",
    "    else:\n",
    "        start_end_sampling = [frame_start, frame_end, down_sampling]  # For sampling raw video\n",
    "        a2_not_empty.append(start_end_sampling)\n",
    "        os.rename(fn, '../22956814/a2_mask_%d.npy' % rename_flag)  # Rename the file so that 1,2....n\n",
    "        rename_flag += 1\n",
    "        "
   ]
  },
  {
   "cell_type": "code",
   "execution_count": 103,
   "id": "5587ebaf",
   "metadata": {},
   "outputs": [],
   "source": [
    "# IMPORTANT!!! Don't forget to store the not_empty_list as a .txt!!!!!!!\n",
    "\n",
    "with open('../22956814/a2_not_empty.txt', 'w') as f:\n",
    "    for each in a2_not_empty[0:-1]:\n",
    "        f.write(str(each[0]) + ',' + str(each[1]) + ',' + str(each[2]) + '\\n')\n",
    "    f.write(str(a2_not_empty[-1][0]) + ',' + str(a2_not_empty[-1][1]) + ',' + str(a2_not_empty[-1][2]))"
   ]
  },
  {
   "cell_type": "code",
   "execution_count": null,
   "id": "5523ed76",
   "metadata": {},
   "outputs": [],
   "source": []
  },
  {
   "cell_type": "markdown",
   "id": "248b0cac",
   "metadata": {},
   "source": [
    "#### Well A3"
   ]
  },
  {
   "cell_type": "code",
   "execution_count": 109,
   "id": "f241b5a6",
   "metadata": {},
   "outputs": [
    {
     "name": "stdout",
     "output_type": "stream",
     "text": [
      "[5, 127, 243, 251, 289, 474, 507, 575, 636, 1052, 1143, 1145, 1189, 1199, 1205, 1277, 1419, 1445, 1458, 1532, 1739, 3324, 3556, 3575, 4522, 4534, 4553, 4732, 4736, 4742, 4773, 5876, 5881]\n",
      "[0, 150, 331, 357, 425, 725, 775, 893, 981, 1604, 1744, 1750, 1794, 1811, 1815, 1925, 2102, 2143, 2164, 2275, 2585, 5050, 5400, 5425, 6725, 6744, 6756, 7050, 7058, 7075, 7118, 8777, 8795]\n",
      "[10, 5, 7, 8, 9, 7, 9, 8, 5, 2, 10, 1, 7, 8, 3, 4, 6, 6, 7, 6, 1, 4, 7, 3, 6, 7, 1, 6, 3, 2, 8, 5, 3]\n"
     ]
    }
   ],
   "source": [
    "pd= traj.loc[well_dict['A3'], :]\n",
    "worm_ids = pd['worm_index_joined']\n",
    "unique_worm_ids = list(np.unique(worm_ids)) \n",
    "print(unique_worm_ids)\n",
    "\n",
    "# Find the first frame for the above worm to appear:\n",
    "frame_starts_a3 = []\n",
    "for worm in unique_worm_ids:\n",
    "    frame_starts_a3.append(list(pd[pd['worm_index_joined'] == worm]['frame_number'])[0])\n",
    "print(frame_starts_a3)\n",
    "\n",
    "# Also create random.randint between 1,10 for down_sampling:\n",
    "random_down_sampling_a3 = [random.randint(1, 10) for x in range(len(unique_worm_ids))]\n",
    "print(random_down_sampling_a3)"
   ]
  },
  {
   "cell_type": "code",
   "execution_count": null,
   "id": "30e633c0",
   "metadata": {},
   "outputs": [],
   "source": [
    "a3_not_empty = []\n",
    "rename_flag = 1\n",
    "\n",
    "for i, start in enumerate(frame_starts_a3):\n",
    "    frame_start = start\n",
    "    down_sampling = random_down_sampling_a3[i]\n",
    "    frame_end = start + 100*down_sampling - 1\n",
    "    fn = '../22956814/a3_mask_%d.npy' % (i+1)  # '+1' to avoid rewriting the next file!!!!\n",
    "    \n",
    "    a3_array = make_well_mask('A3', down_sampling=down_sampling, frame_start=frame_start, frame_end=frame_end, filename=fn)\n",
    "    if a3_array.size == 0:\n",
    "        os.remove(fn)\n",
    "    else:\n",
    "        start_end_sampling = [frame_start, frame_end, down_sampling]  # For sampling raw video\n",
    "        a3_not_empty.append(start_end_sampling)\n",
    "        os.rename(fn, '../22956814/a3_mask_%d.npy' % rename_flag)  # Rename the file so that 1,2....n\n",
    "        rename_flag += 1\n",
    "        "
   ]
  },
  {
   "cell_type": "code",
   "execution_count": 111,
   "id": "0f8e7c69",
   "metadata": {},
   "outputs": [],
   "source": [
    "# IMPORTANT!!! Don't forget to store the not_empty_list as a .txt!!!!!!!\n",
    "\n",
    "with open('../22956814/a3_not_empty.txt', 'w') as f:\n",
    "    for each in a3_not_empty[0:-1]:\n",
    "        f.write(str(each[0]) + ',' + str(each[1]) + ',' + str(each[2]) + '\\n')\n",
    "    f.write(str(a3_not_empty[-1][0]) + ',' + str(a3_not_empty[-1][1]) + ',' + str(a3_not_empty[-1][2]))"
   ]
  },
  {
   "cell_type": "markdown",
   "id": "6d7ca588",
   "metadata": {},
   "source": [
    "#### Well A4"
   ]
  },
  {
   "cell_type": "code",
   "execution_count": 112,
   "id": "82f459b9",
   "metadata": {},
   "outputs": [
    {
     "name": "stdout",
     "output_type": "stream",
     "text": [
      "[3, 60, 79, 94, 258, 398, 764, 1571, 3325]\n",
      "[0, 1, 43, 75, 375, 600, 1200, 2325, 5050]\n",
      "[5, 4, 7, 7, 3, 4, 8, 9, 1]\n"
     ]
    }
   ],
   "source": [
    "pd= traj.loc[well_dict['A4'], :]\n",
    "worm_ids = pd['worm_index_joined']\n",
    "unique_worm_ids = list(np.unique(worm_ids)) \n",
    "print(unique_worm_ids)\n",
    "\n",
    "# Find the first frame for the above worm to appear:\n",
    "frame_starts_a4 = []\n",
    "for worm in unique_worm_ids:\n",
    "    frame_starts_a4.append(list(pd[pd['worm_index_joined'] == worm]['frame_number'])[0])\n",
    "print(frame_starts_a4)\n",
    "\n",
    "# Also create random.randint between 1,10 for down_sampling:\n",
    "random_down_sampling_a4 = [random.randint(1, 10) for x in range(len(unique_worm_ids))]\n",
    "print(random_down_sampling_a4)"
   ]
  },
  {
   "cell_type": "code",
   "execution_count": null,
   "id": "0ab7f8e4",
   "metadata": {},
   "outputs": [],
   "source": [
    "a4_not_empty = []\n",
    "rename_flag = 1\n",
    "\n",
    "for i, start in enumerate(frame_starts_a4):\n",
    "    frame_start = start\n",
    "    down_sampling = random_down_sampling_a4[i]\n",
    "    frame_end = start + 100*down_sampling - 1\n",
    "    fn = '../22956814/a4_mask_%d.npy' % (i+1)  # '+1' to avoid rewriting the next file!!!!\n",
    "    \n",
    "    a4_array = make_well_mask('A4', down_sampling=down_sampling, frame_start=frame_start, frame_end=frame_end, filename=fn)\n",
    "    if a4_array.size == 0:\n",
    "        os.remove(fn)\n",
    "    else:\n",
    "        start_end_sampling = [frame_start, frame_end, down_sampling]  # For sampling raw video\n",
    "        a4_not_empty.append(start_end_sampling)\n",
    "        os.rename(fn, '../22956814/a4_mask_%d.npy' % rename_flag)  # Rename the file so that 1,2....n\n",
    "        rename_flag += 1\n",
    "        "
   ]
  },
  {
   "cell_type": "code",
   "execution_count": 114,
   "id": "6563becb",
   "metadata": {},
   "outputs": [],
   "source": [
    "# IMPORTANT!!! Don't forget to store the not_empty_list as a .txt!!!!!!!\n",
    "\n",
    "with open('../22956814/a4_not_empty.txt', 'w') as f:\n",
    "    for each in a4_not_empty[0:-1]:\n",
    "        f.write(str(each[0]) + ',' + str(each[1]) + ',' + str(each[2]) + '\\n')\n",
    "    f.write(str(a4_not_empty[-1][0]) + ',' + str(a4_not_empty[-1][1]) + ',' + str(a4_not_empty[-1][2]))"
   ]
  },
  {
   "cell_type": "markdown",
   "id": "86951d4b",
   "metadata": {},
   "source": [
    "### Arrange above into a function"
   ]
  },
  {
   "cell_type": "code",
   "execution_count": 15,
   "id": "1689722d",
   "metadata": {},
   "outputs": [],
   "source": [
    "### Arrange above into a function\n",
    "\n",
    "def make_well_masks(well, file_dir=\"../22956814/\"):\n",
    "    pd= traj.loc[well_dict[well], :]\n",
    "    worm_ids = pd['worm_index_joined']\n",
    "    unique_worm_ids = list(np.unique(worm_ids)) \n",
    "\n",
    "    # Find the first frame for the above worm to appear:\n",
    "    frame_starts = []\n",
    "    for worm in unique_worm_ids:\n",
    "        frame_starts.append(list(pd[pd['worm_index_joined'] == worm]['frame_number'])[0])\n",
    "\n",
    "    # Also create random.randint between 1,10 for down_sampling:\n",
    "    random_down_sampling = [random.randint(1, 10) for x in range(len(unique_worm_ids))]\n",
    "    \n",
    "    not_empty = []\n",
    "    rename_flag = 1\n",
    "\n",
    "    for i, start in enumerate(frame_starts):\n",
    "        frame_start = start\n",
    "        down_sampling = random_down_sampling[i]\n",
    "        frame_end = start + 100*down_sampling - 1\n",
    "        fn = file_dir + str(well) + (\"_mask_%d.npy\" % (i+1))\n",
    "        #fn = '../22956814/a4_mask_%d.npy' % (i+1)  # '+1' to avoid rewriting the next file!!!!\n",
    "\n",
    "        mask_array = make_well_mask(well, down_sampling=down_sampling, frame_start=frame_start, frame_end=frame_end, filename=fn)\n",
    "        if mask_array.size == 0:\n",
    "            os.remove(fn)\n",
    "        else:\n",
    "            start_end_sampling = [frame_start, frame_end, down_sampling]  # For sampling raw video\n",
    "            not_empty.append(start_end_sampling)\n",
    "            os.rename(fn, file_dir+str(well)+(\"_mask_%d.npy\" % rename_flag))  # Rename the file so that 1,2....n\n",
    "            rename_flag += 1\n",
    "\n",
    "    txt_fn = file_dir+str(well)+\"_not_empty.txt\"\n",
    "    with open(txt_fn, 'w') as f:\n",
    "        for each in not_empty[0:-1]:\n",
    "            f.write(str(each[0]) + ',' + str(each[1]) + ',' + str(each[2]) + '\\n')\n",
    "        f.write(str(not_empty[-1][0]) + ',' + str(not_empty[-1][1]) + ',' + str(not_empty[-1][2]))"
   ]
  },
  {
   "cell_type": "code",
   "execution_count": null,
   "id": "1468e5e1",
   "metadata": {},
   "outputs": [],
   "source": [
    "make_well_masks('B1') # Works!"
   ]
  },
  {
   "cell_type": "code",
   "execution_count": null,
   "id": "6f32fe53",
   "metadata": {},
   "outputs": [],
   "source": [
    "for well in ['B2', 'B3', 'B4', 'C1', 'C2', 'C3', 'C4', 'D1', 'D2', 'D3', 'D4']:\n",
    "    make_well_masks(well)"
   ]
  },
  {
   "cell_type": "code",
   "execution_count": null,
   "id": "d715b85d",
   "metadata": {},
   "outputs": [],
   "source": []
  },
  {
   "cell_type": "markdown",
   "id": "b47b8aa0",
   "metadata": {},
   "source": [
    "### Check gif"
   ]
  },
  {
   "cell_type": "code",
   "execution_count": 12,
   "id": "708a0143",
   "metadata": {},
   "outputs": [],
   "source": [
    "# Check gif\n",
    "\n",
    "def plot_gif(np_array, output_fn):\n",
    "    mpl.rcParams['image.interpolation'] = 'none'  # Prevent mpl smoothes the edges\n",
    "    os.mkdir(\"pic_temporary\")  # To temporarily store the files\n",
    "\n",
    "    #spring = cm.get_cmap('spring', 256)\n",
    "    #newcolors = spring(np.linspace(0, 256, 256))\n",
    "    #black = np.array([0/256, 0/256, 0/256, 1])\n",
    "    #newcolors[:1, :] = black\n",
    "    #newcmp = ListedColormap(newcolors)\n",
    "\n",
    "    pic_list = []\n",
    "    flag = 0\n",
    "\n",
    "    for i in range(np_array.shape[0]):\n",
    "        #plt.imshow(np_array[i], cmap=newcmp)\n",
    "        mask = np_array[i]\n",
    "        mask = np.where(mask==0, -1, mask) \n",
    "        #print(np.unique(mask_1))\n",
    "\n",
    "        value = -1\n",
    "        masked_array = np.ma.masked_where(mask == value, mask)\n",
    "\n",
    "        #cmap = mpl.cm.get_cmap(\"spring\")\n",
    "        cmap = mpl.cm.get_cmap(\"spring\").copy()\n",
    "        cmap.set_bad(color='black')\n",
    "        \n",
    "        plt.imshow(masked_array, cmap=cmap)\n",
    "        \n",
    "        fn = 'pic_temporary/%d.jpg' % flag\n",
    "        plt.savefig(fn)\n",
    "        pic_list.append(fn)\n",
    "        flag += 1\n",
    "    \n",
    "    with imageio.get_writer(output_fn, mode='I') as writer:\n",
    "        for filename in pic_list:\n",
    "            image = imageio.imread(filename)\n",
    "            writer.append_data(image)\n",
    "    \n",
    "    # Remove the temporary file\n",
    "    shutil.rmtree(\"pic_temporary\")\n",
    "    \n",
    "    #return pic_list"
   ]
  },
  {
   "cell_type": "code",
   "execution_count": 94,
   "id": "02817964",
   "metadata": {},
   "outputs": [
    {
     "data": {
      "image/png": "[encoded data removed]",
      "text/plain": [
       "<Figure size 432x288 with 1 Axes>"
      ]
     },
     "metadata": {
      "needs_background": "light"
     },
     "output_type": "display_data"
    }
   ],
   "source": [
    "#plot_gif(a1_full, \"../22956814/mask_a1.gif\")\n",
    "plot_gif(a1_m2, \"../22956814/mask_a1_m2.gif\")\n",
    "#plot_gif(d3_m1, \"../22956814/mask_d3_m1.gif\")"
   ]
  },
  {
   "cell_type": "markdown",
   "id": "4f609a7d",
   "metadata": {},
   "source": [
    "# Make raw video npy"
   ]
  },
  {
   "cell_type": "markdown",
   "id": "c57f5918",
   "metadata": {},
   "source": [
    "### Functions"
   ]
  },
  {
   "cell_type": "code",
   "execution_count": null,
   "id": "851ea56b",
   "metadata": {},
   "outputs": [],
   "source": [
    "def get_raw_well(well, well_name='A4', filename=False, frame_start=0, frame_end=9001, down_sampling=1):    \n",
    "    print(well_name)\n",
    "    frames = []\n",
    "    \n",
    "    ymin = well[0]\n",
    "    ymax = well[1]\n",
    "    xmin = well[2]\n",
    "    xmax = well[3]\n",
    "\n",
    "    path = \"../000000.mp4\"\n",
    "    cap = cv2.VideoCapture(path)\n",
    "    ret = True\n",
    "    while ret:\n",
    "        ret, img = cap.read() # read one frame from the 'capture' object; img is (H, W, C)\n",
    "        if ret:\n",
    "            frames.append(img[ymin:ymax, xmin:xmax, :])\n",
    "    \n",
    "    stacked = np.stack(frames, axis=0)\n",
    "    stacked = stacked.astype(dtype='float32')\n",
    "    stacked_mean = np.mean(stacked, axis=3)[:,:,:,None]\n",
    "    \n",
    "    if frame_start != 0 or frame_end != 9001 or down_sampling != 1:\n",
    "        stacked_mean = stacked_mean[frame_start:(frame_end+1):down_sampling, :, :, :]\n",
    "    \n",
    "    if filename:\n",
    "        output_fn = filename\n",
    "    else:\n",
    "        output_fn = 'well_A/raw_%s.npy' % well_name\n",
    "        \n",
    "    np.save(output_fn, stacked_mean)\n",
    "    \n",
    "    return stacked_mean"
   ]
  },
  {
   "cell_type": "markdown",
   "id": "30e95ed9",
   "metadata": {},
   "source": [
    "### Define well regions"
   ]
  },
  {
   "cell_type": "code",
   "execution_count": null,
   "id": "f951b8b5",
   "metadata": {},
   "outputs": [],
   "source": [
    "# get well by well, and store\n",
    "d4 = [180, 710, 160, 690]\n",
    "d3 = [180, 710, 880, 1410]\n",
    "d2 = [180, 710, 1600, 2130]\n",
    "d1 = [180, 710, 2320, 2850]\n",
    "\n",
    "c4 = [895, 1425, 160, 690]\n",
    "c3 = [895, 1425, 880, 1410]\n",
    "c2 = [895, 1425, 1600, 2130]\n",
    "c1 = [895, 1425, 2320, 2850]\n",
    "\n",
    "b4 = [1620, 2150, 160, 690]\n",
    "b3 = [1620, 2150, 880, 1410]\n",
    "b2 = [1620, 2150, 1600, 2130]\n",
    "b1 = [1620, 2150, 2320, 2850]\n",
    "\n",
    "a4 = [2340, 2870, 160, 690]\n",
    "a3 = [2340, 2870, 880, 1410]\n",
    "a2 = [2340, 2870, 1600, 2130]\n",
    "a1 = [2340, 2870, 2320, 2850]"
   ]
  },
  {
   "cell_type": "code",
   "execution_count": null,
   "id": "19b8dd21",
   "metadata": {},
   "outputs": [
    {
     "name": "stdout",
     "output_type": "stream",
     "text": [
      "A1\n"
     ]
    }
   ],
   "source": [
    "with open(\"../22956814/a1_not_empty.txt\", \"r\") as f:\n",
    "    start_end_samplings = f.read().splitlines()  # Cool!! \n",
    "    for i, each in enumerate(start_end_samplings):\n",
    "        frame_start, frame_end, down_sampling = each.split(\",\")\n",
    "        fn = \"../22956814/a1_raw_%d.npy\" % (i+1)\n",
    "        get_raw_well(a1, \"A1\", frame_start=frame_start, frame_end=frame_end, down_sampling=down_sampling, filename=fn)"
   ]
  },
  {
   "cell_type": "code",
   "execution_count": null,
   "id": "4b2aa175",
   "metadata": {},
   "outputs": [],
   "source": []
  },
  {
   "cell_type": "code",
   "execution_count": null,
   "id": "a1e4af59",
   "metadata": {},
   "outputs": [],
   "source": []
  },
  {
   "cell_type": "markdown",
   "id": "55ace81d",
   "metadata": {},
   "source": [
    "### Create raw .npy files"
   ]
  },
  {
   "cell_type": "markdown",
   "id": "0e205f42",
   "metadata": {},
   "source": [
    "# Make lineages dict"
   ]
  },
  {
   "cell_type": "code",
   "execution_count": 48,
   "id": "b42cfe32",
   "metadata": {},
   "outputs": [],
   "source": [
    "def make_lineages(well, frame_start=0, frame_end=9002):  # TODO: check the unique worm ids within the frame_start and frame_end\n",
    "    pd= traj.loc[well_dict[well], :]\n",
    "    worm_ids = pd['worm_index_joined']\n",
    "    unique_worm_ids = list(np.unique(worm_ids))  \n",
    "    \n",
    "    lineages = {}\n",
    "        \n",
    "    for worm in unique_worm_ids:\n",
    "        worm_pd = pd.loc[pd['worm_index_joined'] == worm]\n",
    "        worm_pd_trim = worm_pd[worm_pd['frame_number'].between(frame_start, frame_end)]\n",
    "        \n",
    "        if worm_pd_trim.empty == False:  # So only adds in the worm in the frames    \n",
    "            lineages[int(worm)] = {}\n",
    "            \n",
    "            nested_dict = {}\n",
    "            nested_dict['label'] = int(worm)\n",
    "            \n",
    "            frame_list = []\n",
    "            for frame in worm_pd_trim['frame_number']:  # TODO: edit here\n",
    "                frame_list.append(int(frame))\n",
    "            nested_dict['frames'] = frame_list\n",
    "\n",
    "            nested_dict['daughters'] = []\n",
    "            nested_dict['capped'] = False\n",
    "            nested_dict['frame-div'] = None\n",
    "            nested_dict['parent'] = None\n",
    "\n",
    "            lineages[worm] = nested_dict\n",
    "        \n",
    "    return lineages"
   ]
  }
 ],
 "metadata": {
  "environment": {
   "name": "common-cu110.m76",
   "type": "gcloud",
   "uri": "gcr.io/deeplearning-platform-release/base-cu110:m76"
  },
  "kernelspec": {
   "display_name": "Python [conda env:root] *",
   "language": "python",
   "name": "conda-root-py"
  },
  "language_info": {
   "codemirror_mode": {
    "name": "ipython",
    "version": 3
   },
   "file_extension": ".py",
   "mimetype": "text/x-python",
   "name": "python",
   "nbconvert_exporter": "python",
   "pygments_lexer": "ipython3",
   "version": "3.7.10"
  }
 },
 "nbformat": 4,
 "nbformat_minor": 5
}
